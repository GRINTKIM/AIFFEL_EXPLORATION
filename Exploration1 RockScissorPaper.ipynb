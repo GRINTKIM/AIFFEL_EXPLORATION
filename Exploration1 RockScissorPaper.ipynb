{
 "cells": [
  {
   "cell_type": "markdown",
   "id": "fd545b16",
   "metadata": {},
   "source": [
    "가위바위보 분류기\n",
    "\n",
    "먼저 가위바위보 분류기를 만드는데 필요한 라이브러리를 불러옵니다.\n",
    "\n"
   ]
  },
  {
   "cell_type": "code",
   "execution_count": 1,
   "id": "7c2876cd",
   "metadata": {},
   "outputs": [
    {
     "name": "stdout",
     "output_type": "stream",
     "text": [
      "PIL 라이브러리 import 완료!\n"
     ]
    }
   ],
   "source": [
    "from PIL import Image\n",
    "import glob\n",
    "import tensorflow as tf\n",
    "from tensorflow import keras\n",
    "\n",
    "import numpy as np\n",
    "import matplotlib.pyplot as plt\n",
    "import os\n",
    "\n",
    "print(\"PIL 라이브러리 import 완료!\")"
   ]
  },
  {
   "cell_type": "markdown",
   "id": "8ecd1195",
   "metadata": {},
   "source": [
    "\n",
    "224x224의 원본이미지 파일의 크기를 28x28으로 바꾸어주고 저장합니다.\n",
    "\n",
    "이미지가 저장된 디렉토리의 위치를 정확하게 입력해야 이미지를 불러옵니다.\n",
    "\n"
   ]
  },
  {
   "cell_type": "code",
   "execution_count": 2,
   "id": "1fe3b6ca",
   "metadata": {},
   "outputs": [
    {
     "name": "stdout",
     "output_type": "stream",
     "text": [
      "3507  images to be resized.\n",
      "3507  images resized.\n",
      "가위 이미지 resize 완료!\n",
      "3612  images to be resized.\n",
      "3612  images resized.\n",
      "바위 이미지 resize 완료\n",
      "3542  images to be resized.\n",
      "3542  images resized.\n",
      "보 이미지 resize 완료\n"
     ]
    }
   ],
   "source": [
    "def resize_images(img_path):\n",
    "\timages=glob.glob(img_path + \"/*.jpg\")  \n",
    "    \n",
    "\tprint(len(images), \" images to be resized.\")\n",
    "\n",
    "    # 파일마다 모두 28x28 사이즈로 바꾸어 저장합니다.\n",
    "\ttarget_size=(28,28)\n",
    "\tfor img in images:\n",
    "\t\told_img=Image.open(img)\n",
    "\t\tnew_img=old_img.resize(target_size,Image.ANTIALIAS)\n",
    "\t\tnew_img.save(img, \"JPEG\")\n",
    "    \n",
    "\tprint(len(images), \" images resized.\")\n",
    "\t\n",
    "# 가위 이미지가 저장된 디렉토리 아래의 모든 jpg 파일을 읽어들여서\n",
    "image_dir_path = os.getenv(\"HOME\") + \"/aiffel/rock_scissor_paper/scissor/scissor\"\n",
    "resize_images(image_dir_path)\n",
    "\n",
    "print(\"가위 이미지 resize 완료!\")\n",
    "\n",
    "image_dir_path = os.getenv(\"HOME\") + \"/aiffel/rock_scissor_paper/rock/rock\"\n",
    "resize_images(image_dir_path)\n",
    "\n",
    "print(\"바위 이미지 resize 완료\")\n",
    "\n",
    "image_dir_path = os.getenv(\"HOME\") + \"/aiffel/rock_scissor_paper/paper/paper\"\n",
    "resize_images(image_dir_path)\n",
    "\n",
    "print(\"보 이미지 resize 완료\")"
   ]
  },
  {
   "cell_type": "markdown",
   "id": "ae1dbf2d",
   "metadata": {},
   "source": [
    "\n",
    "resize를 마친 이미지와 라벨(가위: 0, 바위: 1, 보: 2) 데이터(정답 데이터)를 담을 행렬을 생성합니다.\n",
    "\n",
    "이미지의 개수는 총 10661개이므로 number_of_data=10661으로 입력합니다.\n",
    "\n",
    "resize를 28x28으로 했기 때문에 img_size=28, 이미지가 흑백이 아닌 컬러이기에 color=3입니다.\n",
    "\n",
    "또한, 이미지 resize를 할 때처럼 이미지의 디렉토리 위치를 확인해줍니다.\n",
    "\n",
    "이후 .shape를 통해서 train data가 잘 담겼는지 확인합니다.\n",
    "\n"
   ]
  },
  {
   "cell_type": "markdown",
   "id": "04311cf8",
   "metadata": {},
   "source": [
    "\n"
   ]
  },
  {
   "cell_type": "code",
   "execution_count": 3,
   "id": "1c82abcc",
   "metadata": {
    "scrolled": true
   },
   "outputs": [
    {
     "name": "stdout",
     "output_type": "stream",
     "text": [
      "학습데이터(x_train)의 이미지 개수는 10661 입니다.\n",
      "x_train shape: (10661, 28, 28, 3)\n",
      "y_train shape: (10661,)\n"
     ]
    }
   ],
   "source": [
    "import numpy as np\n",
    "\n",
    "def load_data(img_path, number_of_data=10661):  # 가위바위보 이미지 개수 총합에 주의하세요.\n",
    "    # 가위 : 0, 바위 : 1, 보 : 2\n",
    "    img_size=28\n",
    "    color=3\n",
    "    #이미지 데이터와 라벨(가위 : 0, 바위 : 1, 보 : 2) 데이터를 담을 행렬(matrix) 영역을 생성합니다.\n",
    "    imgs=np.zeros(number_of_data*img_size*img_size*color,dtype=np.int32).reshape(number_of_data,img_size,img_size,color)\n",
    "    labels=np.zeros(number_of_data,dtype=np.int32)\n",
    "\n",
    "    idx=0\n",
    "    for file in glob.iglob(img_path+'/scissor/scissor/*.jpg'):\n",
    "        img = np.array(Image.open(file),dtype=np.int32)\n",
    "        imgs[idx,:,:,:]=img    # 데이터 영역에 이미지 행렬을 복사\n",
    "        labels[idx]=0   # 가위 : 0\n",
    "        idx=idx+1\n",
    "\n",
    "    for file in glob.iglob(img_path+'/rock/rock/*.jpg'):\n",
    "        img = np.array(Image.open(file),dtype=np.int32)\n",
    "        imgs[idx,:,:,:]=img    # 데이터 영역에 이미지 행렬을 복사\n",
    "        labels[idx]=1   # 바위 : 1\n",
    "        idx=idx+1  \n",
    "    \n",
    "    for file in glob.iglob(img_path+'/paper/paper/*.jpg'):\n",
    "        img = np.array(Image.open(file),dtype=np.int32)\n",
    "        imgs[idx,:,:,:]=img    # 데이터 영역에 이미지 행렬을 복사\n",
    "        labels[idx]=2   # 보 : 2\n",
    "        idx=idx+1\n",
    "        \n",
    "    print(\"학습데이터(x_train)의 이미지 개수는\", idx,\"입니다.\")\n",
    "    return imgs, labels\n",
    "\n",
    "image_dir_path = os.getenv(\"HOME\") + \"/aiffel/rock_scissor_paper\"\n",
    "(x_train, y_train)=load_data(image_dir_path)\n",
    "x_train_norm = x_train/255.0   # 입력은 0~1 사이의 값으로 정규화\n",
    "\n",
    "print(\"x_train shape: {}\".format(x_train.shape))\n",
    "print(\"y_train shape: {}\".format(y_train.shape))\n"
   ]
  },
  {
   "cell_type": "markdown",
   "id": "3ddf3200",
   "metadata": {},
   "source": [
    "\n",
    "train data를 불러와서 한 번 확인해봅니다.\n",
    "\n",
    "저는 무작위로 x_train에 7을 넣어서 확인했습니다.\n",
    "\n"
   ]
  },
  {
   "cell_type": "code",
   "execution_count": 4,
   "id": "96d4fcf0",
   "metadata": {},
   "outputs": [
    {
     "name": "stdout",
     "output_type": "stream",
     "text": [
      "라벨:  0\n"
     ]
    },
    {
     "data": {
      "image/png": "[encoded data removed]",
      "text/plain": [
       "<Figure size 432x288 with 1 Axes>"
      ]
     },
     "metadata": {
      "needs_background": "light"
     },
     "output_type": "display_data"
    }
   ],
   "source": [
    "plt.imshow(x_train[7])\n",
    "print('라벨: ', y_train[0])"
   ]
  },
  {
   "cell_type": "markdown",
   "id": "afcf4070",
   "metadata": {},
   "source": [
    "\n",
    "train data가 잘 담긴 것을 확인했으니, 딥러닝 네트워크를 설계합니다.\n",
    "\n",
    "keras 라이브러리를 통해서 만들어줍니다.\n",
    "\n",
    "28x28 사이즈의 컬러 이미지이기 때문에 input_shape=(28,28,3)으로 입력합니다.\n",
    "\n",
    "가위바위보 이미지 분류의 결과는 가위, 바위, 보 3가지이기 때문에 최종 분류기의 클래스 수를 3으로 입력합니다.\n",
    "\n"
   ]
  },
  {
   "cell_type": "code",
   "execution_count": 5,
   "id": "85aad951",
   "metadata": {
    "scrolled": true
   },
   "outputs": [
    {
     "name": "stdout",
     "output_type": "stream",
     "text": [
      "Model에 추가된 Layer 개수:  7\n",
      "Model: \"sequential\"\n",
      "_________________________________________________________________\n",
      "Layer (type)                 Output Shape              Param #   \n",
      "=================================================================\n",
      "conv2d (Conv2D)              (None, 26, 26, 32)        896       \n",
      "_________________________________________________________________\n",
      "max_pooling2d (MaxPooling2D) (None, 13, 13, 32)        0         \n",
      "_________________________________________________________________\n",
      "conv2d_1 (Conv2D)            (None, 11, 11, 64)        18496     \n",
      "_________________________________________________________________\n",
      "max_pooling2d_1 (MaxPooling2 (None, 5, 5, 64)          0         \n",
      "_________________________________________________________________\n",
      "flatten (Flatten)            (None, 1600)              0         \n",
      "_________________________________________________________________\n",
      "dense (Dense)                (None, 16)                25616     \n",
      "_________________________________________________________________\n",
      "dense_1 (Dense)              (None, 3)                 51        \n",
      "=================================================================\n",
      "Total params: 45,059\n",
      "Trainable params: 45,059\n",
      "Non-trainable params: 0\n",
      "_________________________________________________________________\n"
     ]
    }
   ],
   "source": [
    "model=keras.models.Sequential()\n",
    "model.add(keras.layers.Conv2D(32, (3,3), activation='relu', input_shape=(28,28,3)))\n",
    "model.add(keras.layers.MaxPool2D(2,2))\n",
    "model.add(keras.layers.Conv2D(64, (3,3), activation='relu'))\n",
    "model.add(keras.layers.MaxPooling2D((2,2)))\n",
    "model.add(keras.layers.Flatten())\n",
    "model.add(keras.layers.Dense(16, activation='relu'))\n",
    "model.add(keras.layers.Dense(3, activation='softmax'))\n",
    "\n",
    "print('Model에 추가된 Layer 개수: ', len(model.layers))\n",
    "\n",
    "model.summary()"
   ]
  },
  {
   "cell_type": "markdown",
   "id": "2bfe16ea",
   "metadata": {},
   "source": [
    "\n",
    "딥러닝 네트워크를 설계한 다음에는 딥러닝 네트워크를 학습시킵니다.\n",
    "\n",
    "epoch는 10661개의 데이터를 학습시키는 반복 학습시키는 수를 말합니다.\n",
    "\n",
    "인식 정확도를 높이기 위해서 저는 20번 반복 학습시켰습니다.\n",
    "\n"
   ]
  },
  {
   "cell_type": "code",
   "execution_count": 6,
   "id": "1d7a8778",
   "metadata": {
    "scrolled": true
   },
   "outputs": [
    {
     "name": "stdout",
     "output_type": "stream",
     "text": [
      "Epoch 1/20\n",
      "334/334 [==============================] - 4s 3ms/step - loss: 2.7846 - accuracy: 0.4819\n",
      "Epoch 2/20\n",
      "334/334 [==============================] - 1s 3ms/step - loss: 0.6917 - accuracy: 0.6623\n",
      "Epoch 3/20\n",
      "334/334 [==============================] - 1s 3ms/step - loss: 0.5260 - accuracy: 0.7398\n",
      "Epoch 4/20\n",
      "334/334 [==============================] - 1s 3ms/step - loss: 0.4465 - accuracy: 0.7800\n",
      "Epoch 5/20\n",
      "334/334 [==============================] - 1s 3ms/step - loss: 0.3811 - accuracy: 0.8207\n",
      "Epoch 6/20\n",
      "334/334 [==============================] - 1s 3ms/step - loss: 0.3128 - accuracy: 0.8555\n",
      "Epoch 7/20\n",
      "334/334 [==============================] - 1s 3ms/step - loss: 0.2535 - accuracy: 0.8847\n",
      "Epoch 8/20\n",
      "334/334 [==============================] - 1s 3ms/step - loss: 0.2138 - accuracy: 0.9130\n",
      "Epoch 9/20\n",
      "334/334 [==============================] - 1s 3ms/step - loss: 0.1670 - accuracy: 0.9330\n",
      "Epoch 10/20\n",
      "334/334 [==============================] - 1s 3ms/step - loss: 0.1401 - accuracy: 0.9431\n",
      "Epoch 11/20\n",
      "334/334 [==============================] - 1s 3ms/step - loss: 0.1275 - accuracy: 0.9496\n",
      "Epoch 12/20\n",
      "334/334 [==============================] - 1s 3ms/step - loss: 0.1011 - accuracy: 0.9603\n",
      "Epoch 13/20\n",
      "334/334 [==============================] - 1s 3ms/step - loss: 0.1117 - accuracy: 0.9576\n",
      "Epoch 14/20\n",
      "334/334 [==============================] - 1s 3ms/step - loss: 0.1083 - accuracy: 0.9596\n",
      "Epoch 15/20\n",
      "334/334 [==============================] - 1s 3ms/step - loss: 0.1109 - accuracy: 0.9589\n",
      "Epoch 16/20\n",
      "334/334 [==============================] - 1s 3ms/step - loss: 0.0801 - accuracy: 0.9715\n",
      "Epoch 17/20\n",
      "334/334 [==============================] - 1s 3ms/step - loss: 0.1364 - accuracy: 0.9480\n",
      "Epoch 18/20\n",
      "334/334 [==============================] - 1s 3ms/step - loss: 0.0655 - accuracy: 0.9744\n",
      "Epoch 19/20\n",
      "334/334 [==============================] - 1s 3ms/step - loss: 0.0675 - accuracy: 0.9761\n",
      "Epoch 20/20\n",
      "334/334 [==============================] - 1s 3ms/step - loss: 0.0457 - accuracy: 0.9826\n"
     ]
    },
    {
     "data": {
      "text/plain": [
       "<keras.callbacks.History at 0x7f89881f81f0>"
      ]
     },
     "execution_count": 6,
     "metadata": {},
     "output_type": "execute_result"
    }
   ],
   "source": [
    "model.compile(optimizer='adam',\n",
    "             loss='sparse_categorical_crossentropy',\n",
    "             metrics=['accuracy'])\n",
    "\n",
    "model.fit(x_train, y_train, epochs=20)"
   ]
  },
  {
   "cell_type": "markdown",
   "id": "e5cab3c3",
   "metadata": {},
   "source": [
    "\n",
    "이제 test data를 통해서 위의 가위바위보 분류기가 잘 만들어졌는지, 분류의 정확도는 얼마나 되는지를 확인해봅니다.\n",
    "\n",
    "train data를 불러올 때와 같이 test data의 이미지를 28x28으로 resize한 이후 저장합니다.\n",
    "\n",
    "또한 이미지가 저장된 디렉토리의 위치를 정확하게 입력해야 합니다.\n",
    "\n"
   ]
  },
  {
   "cell_type": "code",
   "execution_count": 7,
   "id": "27bab0ea",
   "metadata": {},
   "outputs": [
    {
     "name": "stdout",
     "output_type": "stream",
     "text": [
      "900  images to be resized.\n",
      "900  images resized.\n",
      "가위 이미지 resize 완료!\n",
      "900  images to be resized.\n",
      "900  images resized.\n",
      "바위 이미지 resize 완료\n",
      "900  images to be resized.\n",
      "900  images resized.\n",
      "보 이미지 resize 완료\n"
     ]
    }
   ],
   "source": [
    "def resize_images(img_path):\n",
    "\timages=glob.glob(img_path + \"/*.jpg\")  \n",
    "    \n",
    "\tprint(len(images), \" images to be resized.\")\n",
    "\n",
    "    # 파일마다 모두 28x28 사이즈로 바꾸어 저장합니다.\n",
    "\ttarget_size=(28,28)\n",
    "\tfor img in images:\n",
    "\t\told_img=Image.open(img)\n",
    "\t\tnew_img=old_img.resize(target_size,Image.ANTIALIAS)\n",
    "\t\tnew_img.save(img, \"JPEG\")\n",
    "    \n",
    "\tprint(len(images), \" images resized.\")\n",
    "\t\n",
    "# 가위 이미지가 저장된 디렉토리 아래의 모든 jpg 파일을 읽어들여서\n",
    "image_dir_path = os.getenv(\"HOME\") + \"/aiffel/rock_scissor_paper/test/scissor\"\n",
    "resize_images(image_dir_path)\n",
    "\n",
    "print(\"가위 이미지 resize 완료!\")\n",
    "\n",
    "image_dir_path = os.getenv(\"HOME\") + \"/aiffel/rock_scissor_paper/test/rock\"\n",
    "resize_images(image_dir_path)\n",
    "\n",
    "print(\"바위 이미지 resize 완료\")\n",
    "\n",
    "image_dir_path = os.getenv(\"HOME\") + \"/aiffel/rock_scissor_paper/test/paper\"\n",
    "resize_images(image_dir_path)\n",
    "\n",
    "print(\"보 이미지 resize 완료\")"
   ]
  },
  {
   "cell_type": "markdown",
   "id": "4e605e78",
   "metadata": {},
   "source": [
    "\n",
    "가위 900개, 바위 900개, 보 900개의 이미지를 resize 했습니다.\n",
    "\n",
    "train data를 담는 행렬을 만들때 처럼, 총 2700개의 이미지이기에 number_of_data=2700으로 입력합니다.\n",
    "\n",
    "이미지의 사이즈가 28x28이고 컬러 이미지이기에 img_size=28, color=3 입니다.\n",
    "\n",
    "\n"
   ]
  },
  {
   "cell_type": "code",
   "execution_count": 8,
   "id": "f76ff846",
   "metadata": {},
   "outputs": [
    {
     "name": "stdout",
     "output_type": "stream",
     "text": [
      "학습데이터(x_test)의 이미지 개수는 2700 입니다.\n",
      "x_test shape: (2700, 28, 28, 3)\n",
      "y_test shape: (2700,)\n"
     ]
    }
   ],
   "source": [
    "def load_data(img_path, number_of_data=2700):  # 가위바위보 이미지 개수 총합에 주의하세요.\n",
    "    # 가위 : 0, 바위 : 1, 보 : 2\n",
    "    img_size=28\n",
    "    color=3\n",
    "    #이미지 데이터와 라벨(가위 : 0, 바위 : 1, 보 : 2) 데이터를 담을 행렬(matrix) 영역을 생성합니다.\n",
    "    imgs=np.zeros(number_of_data*img_size*img_size*color,dtype=np.int32).reshape(number_of_data,img_size,img_size,color)\n",
    "    labels=np.zeros(number_of_data,dtype=np.int32)\n",
    "\n",
    "    idx=0\n",
    "    for file in glob.iglob(img_path+'/scissor/*.jpg'):\n",
    "        img = np.array(Image.open(file),dtype=np.int32)\n",
    "        imgs[idx,:,:,:]=img    # 데이터 영역에 이미지 행렬을 복사\n",
    "        labels[idx]=0   # 가위 : 0\n",
    "        idx=idx+1\n",
    "\n",
    "    for file in glob.iglob(img_path+'/rock/*.jpg'):\n",
    "        img = np.array(Image.open(file),dtype=np.int32)\n",
    "        imgs[idx,:,:,:]=img    # 데이터 영역에 이미지 행렬을 복사\n",
    "        labels[idx]=1   # 바위 : 1\n",
    "        idx=idx+1  \n",
    "    \n",
    "    for file in glob.iglob(img_path+'/paper/*.jpg'):\n",
    "        img = np.array(Image.open(file),dtype=np.int32)\n",
    "        imgs[idx,:,:,:]=img    # 데이터 영역에 이미지 행렬을 복사\n",
    "        labels[idx]=2   # 보 : 2\n",
    "        idx=idx+1\n",
    "        \n",
    "    print(\"학습데이터(x_test)의 이미지 개수는\", idx,\"입니다.\")\n",
    "    return imgs, labels\n",
    "\n",
    "image_dir_path = os.getenv(\"HOME\") + \"/aiffel/rock_scissor_paper/test\"\n",
    "(x_test, y_test)=load_data(image_dir_path)\n",
    "x_test_norm = x_test/255.0   # 입력은 0~1 사이의 값으로 정규화\n",
    "\n",
    "print(\"x_test shape: {}\".format(x_test.shape))\n",
    "print(\"y_test shape: {}\".format(y_test.shape))\n",
    "\n"
   ]
  },
  {
   "cell_type": "markdown",
   "id": "1dffc8f6",
   "metadata": {},
   "source": [
    "\n",
    "이제 test data가 담긴 것을 확인했습니다.\n",
    "\n",
    "가위바위보 분류기가 잘 작동하는 지를 확인하기 위해서 test data의 정확도를 확인해봅니다.\n",
    "\n",
    "정확도는 아래 보는 것처럼 0.6448 가 나왔습니다.\n",
    "\n"
   ]
  },
  {
   "cell_type": "code",
   "execution_count": 9,
   "id": "2e19e89f",
   "metadata": {
    "scrolled": true
   },
   "outputs": [
    {
     "name": "stdout",
     "output_type": "stream",
     "text": [
      "85/85 - 0s - loss: 3.8374 - accuracy: 0.6448\n",
      "test_loss: 3.8373818397521973 \n",
      "test_accuracy: 0.6448147892951965\n"
     ]
    }
   ],
   "source": [
    "test_loss, test_accuracy = model.evaluate(x_test,y_test, verbose=2)\n",
    "print(\"test_loss: {} \".format(test_loss))\n",
    "print(\"test_accuracy: {}\".format(test_accuracy))"
   ]
  },
  {
   "cell_type": "markdown",
   "id": "cfe13f58",
   "metadata": {},
   "source": [
    "\n",
    "\n",
    "\n",
    "회고\n",
    "\n",
    "\n",
    "처음으로 진행하는 Exploration의 프로젝트는 생각보다 쉽지 않았다.\n",
    "\n",
    "대부분의 코드가 앞선 예제에서 주어져 있었고 조금만 수정하면 되어 다행이었지만, 데이터셋을 구하고 하는 점이 까다로웠다.\n",
    "\n",
    "\n",
    "1차 시도\n",
    "\n",
    "\n",
    "처음에 train data를 내 손으로 찍은 가위 100장, 바위 100장 보 100장 총 300장 훈련시켰다.\n",
    "\n",
    "데이터의 수가 적으니 epoch가 3~4가 넘어가니 정확도가 1이 넘어갔고 오버피팅이 일어났다.\n",
    "\n",
    "test data는 아이펠에서 제공한 300개의 데이터를 사용했다.\n",
    "\n",
    "train data의 개수가 적고 오버피팅이 일어나서 그런지 test의 정확도는 0.3333이 계속 나왔다.\n",
    "\n",
    "\n",
    "\n",
    "\n",
    "2차 시도\n",
    "\n",
    "\n",
    "train data의 개수가 적으면 test의 정확도가 낮게 나온다고 생각해서 train data를 가위, 바위, 보 각 5000개, 총 15000개로 늘렸다.\n",
    "\n",
    "여기서 train data는 전부 다 내 손 사진이었다.\n",
    "\n",
    "train data의 수가 50배 정도 늘었지만, test data의 정확도는 0.4xx 정도로 그다지 높아지지 않았다.\n",
    "\n",
    "그 이유는 train data가 모두 내 손으로 찍어서 다양성이 부족했고, 15000개의 train data의 개수에 비해서 test data는 100개로 적었다.\n",
    "\n",
    "대부분 train data와 test data의 비율은 8:2, 7:3 정도인데 나의 경우 9.9:0.1 정도였다.\n",
    "\n",
    "train data와 test data의 다양성이 부족하고 비율도 맞지 않은 점이 문제이기에 수정해야만 했다.\n",
    "\n",
    "\n",
    "\n",
    "3차 시도\n",
    "\n",
    "\n",
    "train data를 15000장의 내 사진이 아니라 내 손 사진에 다른 사람들의 사진을 더해서 다양하게 만들어줬다.\n",
    "\n",
    "이렇게 train data를 다양화시키니 오버피팅이 발생하지 않았다.\n",
    "\n",
    "test data도 아이펠에서 제공한 사진에 더해서 2700개로 다양화시켰다.\n",
    "\n",
    "이렇게 바꾸니 train data와 test data의 비율이 7.5:2.5 정도였고 적절한 비율이었다.\n",
    "\n",
    "test data의 정확도가 0.5xx 정도가 나왔다.\n",
    "\n",
    "조금 더 정확도를 높이기 위해서 딥러닝 네트워크 설계의 Conv2D의 수를 높이고 epoch의 횟수를 높여줬다.\n",
    "\n",
    "그러니 test data가 0.6448로 3분의 2 정도는 식별할 수 있는 수준이 되었다.\n",
    "\n",
    "\n",
    "\n",
    "\n",
    "저는 이렇게 3번 정도 데이터셋을 수정하며 가위바위보 분류기의 정확도를 높였습니다.\n",
    "\n",
    "당연한 이야기이겠으나 이번 프로젝트를 통해서 train data와 test data의 다양성 및 개수의 중요함도 알게 되었고, \n",
    "\n",
    "데이터를 구하는 것 자체도 어렵다는 점을 몸소 체험하게 되었습니다.\n",
    "\n",
    "다행인 점은 데이터를 수정하며 정확도가 높아지니 뿌듯하고 기분도 좋았다는 것입니다.\n",
    "\n",
    "그래도 쉽지 않네요....\n",
    "\n",
    "\n"
   ]
  }
 ],
 "metadata": {
  "kernelspec": {
   "display_name": "Python 3 (ipykernel)",
   "language": "python",
   "name": "python3"
  },
  "language_info": {
   "codemirror_mode": {
    "name": "ipython",
    "version": 3
   },
   "file_extension": ".py",
   "mimetype": "text/x-python",
   "name": "python",
   "nbconvert_exporter": "python",
   "pygments_lexer": "ipython3",
   "version": "3.9.7"
  }
 },
 "nbformat": 4,
 "nbformat_minor": 5
}
