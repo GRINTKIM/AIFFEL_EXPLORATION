{
 "cells": [
  {
   "cell_type": "markdown",
   "id": "53bc939c",
   "metadata": {},
   "source": [
    "# 뉴스기사 요약해보기\n",
    "\n",
    "### 필요한 라이브러리 불러오기\n",
    "### NLTK 패키지에서 불용어 사전을 다운로드"
   ]
  },
  {
   "cell_type": "code",
   "execution_count": 1,
   "id": "393d9099",
   "metadata": {
    "scrolled": true
   },
   "outputs": [
    {
     "name": "stderr",
     "output_type": "stream",
     "text": [
      "[nltk_data] Downloading package stopwords to /aiffel/nltk_data...\n",
      "[nltk_data]   Package stopwords is already up-to-date!\n"
     ]
    }
   ],
   "source": [
    "import nltk\n",
    "nltk.download('stopwords')\n",
    "\n",
    "import numpy as np\n",
    "import pandas as pd\n",
    "import os\n",
    "import re\n",
    "import matplotlib.pyplot as plt\n",
    "from nltk.corpus import stopwords\n",
    "from bs4 import BeautifulSoup \n",
    "from tensorflow.keras.preprocessing.text import Tokenizer \n",
    "from tensorflow.keras.preprocessing.sequence import pad_sequences\n",
    "import urllib.request\n",
    "import warnings\n",
    "warnings.filterwarnings(\"ignore\", category=UserWarning, module='bs4')\n",
    "import urllib.request\n"
   ]
  },
  {
   "cell_type": "markdown",
   "id": "3effe495",
   "metadata": {},
   "source": [
    "### 전체 샘플수 확인"
   ]
  },
  {
   "cell_type": "code",
   "execution_count": 2,
   "id": "737e0fff",
   "metadata": {
    "scrolled": true
   },
   "outputs": [
    {
     "name": "stdout",
     "output_type": "stream",
     "text": [
      "전체 샘플수 : 98401\n"
     ]
    }
   ],
   "source": [
    "urllib.request.urlretrieve(\"https://raw.githubusercontent.com/sunnysai12345/News_Summary/master/news_summary_more.csv\", filename=\"news_summary_more.csv\")\n",
    "data = pd.read_csv('news_summary_more.csv', encoding='iso-8859-1')\n",
    "\n",
    "print('전체 샘플수 :', (len(data)))"
   ]
  },
  {
   "cell_type": "markdown",
   "id": "5d5f0cee",
   "metadata": {},
   "source": [
    "#### 샘플 중 10개를 확인"
   ]
  },
  {
   "cell_type": "code",
   "execution_count": 3,
   "id": "00477f55",
   "metadata": {
    "scrolled": false
   },
   "outputs": [
    {
     "data": {
      "text/html": [
       "<div>\n",
       "<style scoped>\n",
       "    .dataframe tbody tr th:only-of-type {\n",
       "        vertical-align: middle;\n",
       "    }\n",
       "\n",
       "    .dataframe tbody tr th {\n",
       "        vertical-align: top;\n",
       "    }\n",
       "\n",
       "    .dataframe thead th {\n",
       "        text-align: right;\n",
       "    }\n",
       "</style>\n",
       "<table border=\"1\" class=\"dataframe\">\n",
       "  <thead>\n",
       "    <tr style=\"text-align: right;\">\n",
       "      <th></th>\n",
       "      <th>headlines</th>\n",
       "      <th>text</th>\n",
       "    </tr>\n",
       "  </thead>\n",
       "  <tbody>\n",
       "    <tr>\n",
       "      <th>20490</th>\n",
       "      <td>Lucknow people skip Bakrid sacrifice, cut goat...</td>\n",
       "      <td>Some people in Lucknow celebrated Bakrid on We...</td>\n",
       "    </tr>\n",
       "    <tr>\n",
       "      <th>69015</th>\n",
       "      <td>Pakistan now 'Terroristan', land of pure terro...</td>\n",
       "      <td>India at the United Nations General Assembly s...</td>\n",
       "    </tr>\n",
       "    <tr>\n",
       "      <th>29995</th>\n",
       "      <td>Never dropped myself from playing XI: Ex-DD ca...</td>\n",
       "      <td>Ex-DD captain Gautam Gambhir, who just played ...</td>\n",
       "    </tr>\n",
       "    <tr>\n",
       "      <th>34371</th>\n",
       "      <td>S Korea halts propaganda broadcasts at border ...</td>\n",
       "      <td>Ahead of the first inter-Korean summit in a de...</td>\n",
       "    </tr>\n",
       "    <tr>\n",
       "      <th>28051</th>\n",
       "      <td>I never think about what I should've done diff...</td>\n",
       "      <td>Actress Kajol, who has completed 26 years in B...</td>\n",
       "    </tr>\n",
       "    <tr>\n",
       "      <th>14770</th>\n",
       "      <td>Delisting every video of Utsav: AIB on alleged...</td>\n",
       "      <td>Following allegations against comedian and You...</td>\n",
       "    </tr>\n",
       "    <tr>\n",
       "      <th>56949</th>\n",
       "      <td>Russia to build Egypt's first nuclear power plant</td>\n",
       "      <td>Russia and Egypt signed a deal on Monday to bu...</td>\n",
       "    </tr>\n",
       "    <tr>\n",
       "      <th>92636</th>\n",
       "      <td>UN finds 17 new mass graves in Congo</td>\n",
       "      <td>United Nations investigators on Wednesday foun...</td>\n",
       "    </tr>\n",
       "    <tr>\n",
       "      <th>84968</th>\n",
       "      <td>Petrol price cut by Ã¢ÂÂ¹1.12 per litre as da...</td>\n",
       "      <td>Oil companies on Thursday reduced the petrol p...</td>\n",
       "    </tr>\n",
       "    <tr>\n",
       "      <th>60589</th>\n",
       "      <td>Mass graves from Indonesia's anti-communist pu...</td>\n",
       "      <td>As many as 16 mass graves from Indonesia's mas...</td>\n",
       "    </tr>\n",
       "  </tbody>\n",
       "</table>\n",
       "</div>"
      ],
      "text/plain": [
       "                                               headlines  \\\n",
       "20490  Lucknow people skip Bakrid sacrifice, cut goat...   \n",
       "69015  Pakistan now 'Terroristan', land of pure terro...   \n",
       "29995  Never dropped myself from playing XI: Ex-DD ca...   \n",
       "34371  S Korea halts propaganda broadcasts at border ...   \n",
       "28051  I never think about what I should've done diff...   \n",
       "14770  Delisting every video of Utsav: AIB on alleged...   \n",
       "56949  Russia to build Egypt's first nuclear power plant   \n",
       "92636               UN finds 17 new mass graves in Congo   \n",
       "84968  Petrol price cut by Ã¢ÂÂ¹1.12 per litre as da...   \n",
       "60589  Mass graves from Indonesia's anti-communist pu...   \n",
       "\n",
       "                                                    text  \n",
       "20490  Some people in Lucknow celebrated Bakrid on We...  \n",
       "69015  India at the United Nations General Assembly s...  \n",
       "29995  Ex-DD captain Gautam Gambhir, who just played ...  \n",
       "34371  Ahead of the first inter-Korean summit in a de...  \n",
       "28051  Actress Kajol, who has completed 26 years in B...  \n",
       "14770  Following allegations against comedian and You...  \n",
       "56949  Russia and Egypt signed a deal on Monday to bu...  \n",
       "92636  United Nations investigators on Wednesday foun...  \n",
       "84968  Oil companies on Thursday reduced the petrol p...  \n",
       "60589  As many as 16 mass graves from Indonesia's mas...  "
      ]
     },
     "execution_count": 3,
     "metadata": {},
     "output_type": "execute_result"
    }
   ],
   "source": [
    "data.sample(10)"
   ]
  },
  {
   "cell_type": "markdown",
   "id": "723b1373",
   "metadata": {},
   "source": [
    "### text만 훈련에 사용하기에 text만 저장하고 출력"
   ]
  },
  {
   "cell_type": "code",
   "execution_count": 4,
   "id": "3ce356cf",
   "metadata": {},
   "outputs": [
    {
     "data": {
      "text/html": [
       "<div>\n",
       "<style scoped>\n",
       "    .dataframe tbody tr th:only-of-type {\n",
       "        vertical-align: middle;\n",
       "    }\n",
       "\n",
       "    .dataframe tbody tr th {\n",
       "        vertical-align: top;\n",
       "    }\n",
       "\n",
       "    .dataframe thead th {\n",
       "        text-align: right;\n",
       "    }\n",
       "</style>\n",
       "<table border=\"1\" class=\"dataframe\">\n",
       "  <thead>\n",
       "    <tr style=\"text-align: right;\">\n",
       "      <th></th>\n",
       "      <th>text</th>\n",
       "      <th>headlines</th>\n",
       "    </tr>\n",
       "  </thead>\n",
       "  <tbody>\n",
       "    <tr>\n",
       "      <th>2247</th>\n",
       "      <td>Diet Sabya has clarified it deleted the post c...</td>\n",
       "      <td>Didn't delete post on Anamika under celebrity ...</td>\n",
       "    </tr>\n",
       "    <tr>\n",
       "      <th>86074</th>\n",
       "      <td>The US Navy on Tuesday said that it has conduc...</td>\n",
       "      <td>US warship strikes Islamic State from eastern ...</td>\n",
       "    </tr>\n",
       "    <tr>\n",
       "      <th>11263</th>\n",
       "      <td>Shillong is set to host the third edition of t...</td>\n",
       "      <td>Shillong to host Cherry Blossom Festival this ...</td>\n",
       "    </tr>\n",
       "    <tr>\n",
       "      <th>74096</th>\n",
       "      <td>Though the metro commuters have the right to d...</td>\n",
       "      <td>Metro commuter has no right to free drinking w...</td>\n",
       "    </tr>\n",
       "    <tr>\n",
       "      <th>48284</th>\n",
       "      <td>An emergency exit door of a Nigerian airline's...</td>\n",
       "      <td>Airline blames fliers as emergency door falls ...</td>\n",
       "    </tr>\n",
       "    <tr>\n",
       "      <th>13406</th>\n",
       "      <td>Singer Bryan Adams, who completed his India to...</td>\n",
       "      <td>Never seen it before: Bryan on his shadow made...</td>\n",
       "    </tr>\n",
       "    <tr>\n",
       "      <th>8175</th>\n",
       "      <td>Six-time world champion Mary Kom was seen sing...</td>\n",
       "      <td>Mary Kom sings Lata Mangeshkar's classic 'Ajee...</td>\n",
       "    </tr>\n",
       "    <tr>\n",
       "      <th>6702</th>\n",
       "      <td>Fly ash, a by-product of coal, can be effectiv...</td>\n",
       "      <td>NTPC aims maximal utilisation of fly ash produ...</td>\n",
       "    </tr>\n",
       "    <tr>\n",
       "      <th>42548</th>\n",
       "      <td>The government has informed that fraud-hit PNB...</td>\n",
       "      <td>Fraud-hit PNB issued over 41,000 LoUs since 20...</td>\n",
       "    </tr>\n",
       "    <tr>\n",
       "      <th>59846</th>\n",
       "      <td>A journalist has tweeted that he was served an...</td>\n",
       "      <td>Man served apple &amp; pear after asking for in-fl...</td>\n",
       "    </tr>\n",
       "    <tr>\n",
       "      <th>41645</th>\n",
       "      <td>Airbnb China will start disclosing host and gu...</td>\n",
       "      <td>Airbnb China to share host, guest info with go...</td>\n",
       "    </tr>\n",
       "    <tr>\n",
       "      <th>2122</th>\n",
       "      <td>Kanaka Durga, one of the two women who entered...</td>\n",
       "      <td>1st woman to enter Sabarimala beaten by mother...</td>\n",
       "    </tr>\n",
       "    <tr>\n",
       "      <th>4691</th>\n",
       "      <td>A 21-year-old woman on Monday night delivered ...</td>\n",
       "      <td>21-yr-old delivers baby on railway platform in...</td>\n",
       "    </tr>\n",
       "    <tr>\n",
       "      <th>44886</th>\n",
       "      <td>BJP President Amit Shah on Wednesday said that...</td>\n",
       "      <td>Workers destroying statues will face action fr...</td>\n",
       "    </tr>\n",
       "    <tr>\n",
       "      <th>93767</th>\n",
       "      <td>The largest tree hug consists of 4,620 people ...</td>\n",
       "      <td>4,620 Indians hold record for world's largest ...</td>\n",
       "    </tr>\n",
       "  </tbody>\n",
       "</table>\n",
       "</div>"
      ],
      "text/plain": [
       "                                                    text  \\\n",
       "2247   Diet Sabya has clarified it deleted the post c...   \n",
       "86074  The US Navy on Tuesday said that it has conduc...   \n",
       "11263  Shillong is set to host the third edition of t...   \n",
       "74096  Though the metro commuters have the right to d...   \n",
       "48284  An emergency exit door of a Nigerian airline's...   \n",
       "13406  Singer Bryan Adams, who completed his India to...   \n",
       "8175   Six-time world champion Mary Kom was seen sing...   \n",
       "6702   Fly ash, a by-product of coal, can be effectiv...   \n",
       "42548  The government has informed that fraud-hit PNB...   \n",
       "59846  A journalist has tweeted that he was served an...   \n",
       "41645  Airbnb China will start disclosing host and gu...   \n",
       "2122   Kanaka Durga, one of the two women who entered...   \n",
       "4691   A 21-year-old woman on Monday night delivered ...   \n",
       "44886  BJP President Amit Shah on Wednesday said that...   \n",
       "93767  The largest tree hug consists of 4,620 people ...   \n",
       "\n",
       "                                               headlines  \n",
       "2247   Didn't delete post on Anamika under celebrity ...  \n",
       "86074  US warship strikes Islamic State from eastern ...  \n",
       "11263  Shillong to host Cherry Blossom Festival this ...  \n",
       "74096  Metro commuter has no right to free drinking w...  \n",
       "48284  Airline blames fliers as emergency door falls ...  \n",
       "13406  Never seen it before: Bryan on his shadow made...  \n",
       "8175   Mary Kom sings Lata Mangeshkar's classic 'Ajee...  \n",
       "6702   NTPC aims maximal utilisation of fly ash produ...  \n",
       "42548  Fraud-hit PNB issued over 41,000 LoUs since 20...  \n",
       "59846  Man served apple & pear after asking for in-fl...  \n",
       "41645  Airbnb China to share host, guest info with go...  \n",
       "2122   1st woman to enter Sabarimala beaten by mother...  \n",
       "4691   21-yr-old delivers baby on railway platform in...  \n",
       "44886  Workers destroying statues will face action fr...  \n",
       "93767  4,620 Indians hold record for world's largest ...  "
      ]
     },
     "execution_count": 4,
     "metadata": {},
     "output_type": "execute_result"
    }
   ],
   "source": [
    "data = data[['text','headlines']]\n",
    "data.head()\n",
    "\n",
    "#랜덤한 15개 샘플 출력\n",
    "data.sample(15)"
   ]
  },
  {
   "cell_type": "markdown",
   "id": "45f140c1",
   "metadata": {},
   "source": [
    "#### 중복되지 않는 샘플의 수를 확인"
   ]
  },
  {
   "cell_type": "code",
   "execution_count": 5,
   "id": "9695f3ea",
   "metadata": {
    "scrolled": true
   },
   "outputs": [
    {
     "name": "stdout",
     "output_type": "stream",
     "text": [
      "text 열에서 중복을 배제한 유일한 샘플의 수 : 98360\n",
      "headlines 열에서 중복을 배제한 유일한 샘플의 수 : 98280\n"
     ]
    }
   ],
   "source": [
    "print('text 열에서 중복을 배제한 유일한 샘플의 수 :', data['text'].nunique())\n",
    "print('headlines 열에서 중복을 배제한 유일한 샘플의 수 :', data['headlines'].nunique())"
   ]
  },
  {
   "cell_type": "markdown",
   "id": "d0d11cf6",
   "metadata": {},
   "source": [
    "#### 중복이 존재함을 알 수 있기에 중복되는 샘플을 제거"
   ]
  },
  {
   "cell_type": "code",
   "execution_count": 6,
   "id": "91b74a5d",
   "metadata": {},
   "outputs": [
    {
     "name": "stdout",
     "output_type": "stream",
     "text": [
      "전체 샘플수 : 98360\n"
     ]
    }
   ],
   "source": [
    "# inplace=True 를 설정하면 DataFrame 타입 값을 return 하지 않고 data 내부를 직접적으로 바꿉니다\n",
    "data.drop_duplicates(subset = ['text'], inplace=True)\n",
    "print('전체 샘플수 :', (len(data)))"
   ]
  },
  {
   "cell_type": "markdown",
   "id": "9552bda5",
   "metadata": {},
   "source": [
    "#### 데이터 프레임에 null 값이 있는지 확인"
   ]
  },
  {
   "cell_type": "code",
   "execution_count": 7,
   "id": "ec7a17af",
   "metadata": {
    "scrolled": false
   },
   "outputs": [
    {
     "name": "stdout",
     "output_type": "stream",
     "text": [
      "text         0\n",
      "headlines    0\n",
      "dtype: int64\n"
     ]
    }
   ],
   "source": [
    "print(data.isnull().sum())"
   ]
  },
  {
   "cell_type": "markdown",
   "id": "2429dfe1",
   "metadata": {},
   "source": [
    "### 텍스트 정규화 사전 구성"
   ]
  },
  {
   "cell_type": "code",
   "execution_count": 8,
   "id": "118b4213",
   "metadata": {},
   "outputs": [
    {
     "name": "stdout",
     "output_type": "stream",
     "text": [
      "정규화 사전의 수:  120\n"
     ]
    }
   ],
   "source": [
    "contractions = {\"ain't\": \"is not\", \"aren't\": \"are not\",\"can't\": \"cannot\", \"'cause\": \"because\", \"could've\": \"could have\", \"couldn't\": \"could not\",\n",
    "                           \"didn't\": \"did not\",  \"doesn't\": \"does not\", \"don't\": \"do not\", \"hadn't\": \"had not\", \"hasn't\": \"has not\", \"haven't\": \"have not\",\n",
    "                           \"he'd\": \"he would\",\"he'll\": \"he will\", \"he's\": \"he is\", \"how'd\": \"how did\", \"how'd'y\": \"how do you\", \"how'll\": \"how will\", \"how's\": \"how is\",\n",
    "                           \"I'd\": \"I would\", \"I'd've\": \"I would have\", \"I'll\": \"I will\", \"I'll've\": \"I will have\",\"I'm\": \"I am\", \"I've\": \"I have\", \"i'd\": \"i would\",\n",
    "                           \"i'd've\": \"i would have\", \"i'll\": \"i will\",  \"i'll've\": \"i will have\",\"i'm\": \"i am\", \"i've\": \"i have\", \"isn't\": \"is not\", \"it'd\": \"it would\",\n",
    "                           \"it'd've\": \"it would have\", \"it'll\": \"it will\", \"it'll've\": \"it will have\",\"it's\": \"it is\", \"let's\": \"let us\", \"ma'am\": \"madam\",\n",
    "                           \"mayn't\": \"may not\", \"might've\": \"might have\",\"mightn't\": \"might not\",\"mightn't've\": \"might not have\", \"must've\": \"must have\",\n",
    "                           \"mustn't\": \"must not\", \"mustn't've\": \"must not have\", \"needn't\": \"need not\", \"needn't've\": \"need not have\",\"o'clock\": \"of the clock\",\n",
    "                           \"oughtn't\": \"ought not\", \"oughtn't've\": \"ought not have\", \"shan't\": \"shall not\", \"sha'n't\": \"shall not\", \"shan't've\": \"shall not have\",\n",
    "                           \"she'd\": \"she would\", \"she'd've\": \"she would have\", \"she'll\": \"she will\", \"she'll've\": \"she will have\", \"she's\": \"she is\",\n",
    "                           \"should've\": \"should have\", \"shouldn't\": \"should not\", \"shouldn't've\": \"should not have\", \"so've\": \"so have\",\"so's\": \"so as\",\n",
    "                           \"this's\": \"this is\",\"that'd\": \"that would\", \"that'd've\": \"that would have\", \"that's\": \"that is\", \"there'd\": \"there would\",\n",
    "                           \"there'd've\": \"there would have\", \"there's\": \"there is\", \"here's\": \"here is\",\"they'd\": \"they would\", \"they'd've\": \"they would have\",\n",
    "                           \"they'll\": \"they will\", \"they'll've\": \"they will have\", \"they're\": \"they are\", \"they've\": \"they have\", \"to've\": \"to have\",\n",
    "                           \"wasn't\": \"was not\", \"we'd\": \"we would\", \"we'd've\": \"we would have\", \"we'll\": \"we will\", \"we'll've\": \"we will have\", \"we're\": \"we are\",\n",
    "                           \"we've\": \"we have\", \"weren't\": \"were not\", \"what'll\": \"what will\", \"what'll've\": \"what will have\", \"what're\": \"what are\",\n",
    "                           \"what's\": \"what is\", \"what've\": \"what have\", \"when's\": \"when is\", \"when've\": \"when have\", \"where'd\": \"where did\", \"where's\": \"where is\",\n",
    "                           \"where've\": \"where have\", \"who'll\": \"who will\", \"who'll've\": \"who will have\", \"who's\": \"who is\", \"who've\": \"who have\",\n",
    "                           \"why's\": \"why is\", \"why've\": \"why have\", \"will've\": \"will have\", \"won't\": \"will not\", \"won't've\": \"will not have\",\n",
    "                           \"would've\": \"would have\", \"wouldn't\": \"would not\", \"wouldn't've\": \"would not have\", \"y'all\": \"you all\",\n",
    "                           \"y'all'd\": \"you all would\",\"y'all'd've\": \"you all would have\",\"y'all're\": \"you all are\",\"y'all've\": \"you all have\",\n",
    "                           \"you'd\": \"you would\", \"you'd've\": \"you would have\", \"you'll\": \"you will\", \"you'll've\": \"you will have\",\n",
    "                           \"you're\": \"you are\", \"you've\": \"you have\"}\n",
    "\n",
    "print(\"정규화 사전의 수: \", len(contractions))"
   ]
  },
  {
   "cell_type": "markdown",
   "id": "f300fc36",
   "metadata": {},
   "source": [
    "### 불용어 제거"
   ]
  },
  {
   "cell_type": "code",
   "execution_count": 9,
   "id": "af6d7837",
   "metadata": {
    "scrolled": false
   },
   "outputs": [
    {
     "name": "stdout",
     "output_type": "stream",
     "text": [
      "불용어 개수 : 179\n",
      "['i', 'me', 'my', 'myself', 'we', 'our', 'ours', 'ourselves', 'you', \"you're\", \"you've\", \"you'll\", \"you'd\", 'your', 'yours', 'yourself', 'yourselves', 'he', 'him', 'his', 'himself', 'she', \"she's\", 'her', 'hers', 'herself', 'it', \"it's\", 'its', 'itself', 'they', 'them', 'their', 'theirs', 'themselves', 'what', 'which', 'who', 'whom', 'this', 'that', \"that'll\", 'these', 'those', 'am', 'is', 'are', 'was', 'were', 'be', 'been', 'being', 'have', 'has', 'had', 'having', 'do', 'does', 'did', 'doing', 'a', 'an', 'the', 'and', 'but', 'if', 'or', 'because', 'as', 'until', 'while', 'of', 'at', 'by', 'for', 'with', 'about', 'against', 'between', 'into', 'through', 'during', 'before', 'after', 'above', 'below', 'to', 'from', 'up', 'down', 'in', 'out', 'on', 'off', 'over', 'under', 'again', 'further', 'then', 'once', 'here', 'there', 'when', 'where', 'why', 'how', 'all', 'any', 'both', 'each', 'few', 'more', 'most', 'other', 'some', 'such', 'no', 'nor', 'not', 'only', 'own', 'same', 'so', 'than', 'too', 'very', 's', 't', 'can', 'will', 'just', 'don', \"don't\", 'should', \"should've\", 'now', 'd', 'll', 'm', 'o', 're', 've', 'y', 'ain', 'aren', \"aren't\", 'couldn', \"couldn't\", 'didn', \"didn't\", 'doesn', \"doesn't\", 'hadn', \"hadn't\", 'hasn', \"hasn't\", 'haven', \"haven't\", 'isn', \"isn't\", 'ma', 'mightn', \"mightn't\", 'mustn', \"mustn't\", 'needn', \"needn't\", 'shan', \"shan't\", 'shouldn', \"shouldn't\", 'wasn', \"wasn't\", 'weren', \"weren't\", 'won', \"won't\", 'wouldn', \"wouldn't\"]\n"
     ]
    }
   ],
   "source": [
    "print('불용어 개수 :', len(stopwords.words('english') ))\n",
    "print(stopwords.words('english'))"
   ]
  },
  {
   "cell_type": "markdown",
   "id": "36cc725c",
   "metadata": {},
   "source": [
    "### 데이터 전처리 함수 만들기\n",
    "#### 불용어 제거(text)\n",
    "#### 불용어 미제거(headlines)"
   ]
  },
  {
   "cell_type": "code",
   "execution_count": 10,
   "id": "d200ca9f",
   "metadata": {},
   "outputs": [],
   "source": [
    "# 데이터 전처리 함수\n",
    "def preprocess_sentence(sentence, remove_stopwords=True):\n",
    "    sentence = sentence.lower() # 텍스트 소문자화\n",
    "    sentence = BeautifulSoup(sentence, \"lxml\").text # <br />, <a href = ...> 등의 html 태그 제거\n",
    "    sentence = re.sub(r'\\([^)]*\\)', '', sentence) # 괄호로 닫힌 문자열 (...) 제거 Ex) my husband (and myself!) for => my husband for\n",
    "    sentence = re.sub('\"','', sentence) # 쌍따옴표 \" 제거\n",
    "    sentence = ' '.join([contractions[t] if t in contractions else t for t in sentence.split(\" \")]) # 약어 정규화\n",
    "    sentence = re.sub(r\"'s\\b\",\"\", sentence) # 소유격 제거. Ex) roland's -> roland\n",
    "    sentence = re.sub(\"[^a-zA-Z]\", \" \", sentence) # 영어 외 문자(숫자, 특수문자 등) 공백으로 변환\n",
    "    sentence = re.sub('[m]{2,}', 'mm', sentence) # m이 3개 이상이면 2개로 변경. Ex) ummmmmmm yeah -> umm yeah\n",
    "    \n",
    "    # 불용어 제거 (Text)\n",
    "    if remove_stopwords:\n",
    "        tokens = ' '.join(word for word in sentence.split() if not word in stopwords.words('english') if len(word) > 1)\n",
    "    # 불용어 미제거 (headlines)\n",
    "    else:\n",
    "        tokens = ' '.join(word for word in sentence.split() if len(word) > 1)\n",
    "    return tokens"
   ]
  },
  {
   "cell_type": "markdown",
   "id": "59460e45",
   "metadata": {},
   "source": [
    "#### 임의의 text를 만들어 놓은 전처리 함수로 전처리 테스트"
   ]
  },
  {
   "cell_type": "code",
   "execution_count": 11,
   "id": "265e73c0",
   "metadata": {},
   "outputs": [
    {
     "name": "stdout",
     "output_type": "stream",
     "text": [
      "text:  everything bought great infact ordered twice third ordered wasfor mother father\n",
      "headlines: great way to start the day\n"
     ]
    }
   ],
   "source": [
    "temp_text = 'Everything I bought was great, infact I ordered twice and the third ordered was<br />for my mother and father.'\n",
    "temp_headlines = 'Great way to start (or finish) the day!!!'\n",
    "\n",
    "print(\"text: \", preprocess_sentence(temp_text))\n",
    "print(\"headlines:\", preprocess_sentence(temp_headlines, False))  # 불용어를 제거하지 않습니다."
   ]
  },
  {
   "cell_type": "markdown",
   "id": "255fb9da",
   "metadata": {},
   "source": [
    "### text를 전처리 후, 상위 5개 출력"
   ]
  },
  {
   "cell_type": "code",
   "execution_count": 12,
   "id": "15fac80f",
   "metadata": {
    "scrolled": true
   },
   "outputs": [
    {
     "name": "stdout",
     "output_type": "stream",
     "text": [
      "text 전처리 후 결과:  ['saurav kant alumnus upgrad iiit pg program machine learning artificial intelligence sr systems engineer infosys almost years work experience program upgrad degree career support helped transition data scientist tech mahindra salary hike upgrad online power learning powered lakh careers', 'kunal shah credit card bill payment platform cred gave users chance win free food swiggy one year pranav kaushik delhi techie bagged reward spending cred coins users get one cred coin per rupee bill paid used avail rewards brands like ixigo bookmyshow ubereats cult fit', 'new zealand defeated india wickets fourth odi hamilton thursday win first match five match odi series india lost international match rohit sharma captaincy consecutive victories dating back march match witnessed india getting seventh lowest total odi cricket history', 'aegon life iterm insurance plan customers enjoy tax benefits premiums paid save taxes plan provides life cover age years also customers options insure critical illnesses disability accidental death benefit rider life cover age years', 'speaking sexual harassment allegations rajkumar hirani sonam kapoor said known hirani many years true metoo movement get derailed metoo movement always believe woman case need reserve judgment added hirani accused assistant worked sanju']\n"
     ]
    }
   ],
   "source": [
    "clean_text = []\n",
    "# 전체 text 데이터에 대한 전처리 : 10분 이상 시간이 걸릴 수 있습니다. \n",
    "for s in data['text']:\n",
    "    clean_text.append(preprocess_sentence(s))\n",
    "\n",
    "# 전처리 후 출력\n",
    "print(\"text 전처리 후 결과: \", clean_text[:5])"
   ]
  },
  {
   "cell_type": "markdown",
   "id": "be475a7f",
   "metadata": {},
   "source": [
    "### headlines를 전처리 후, 상위 5개 출력"
   ]
  },
  {
   "cell_type": "code",
   "execution_count": 13,
   "id": "0b155084",
   "metadata": {},
   "outputs": [
    {
     "name": "stdout",
     "output_type": "stream",
     "text": [
      "headlines 전처리 후 결과:  ['upgrad learner switches to career in ml al with salary hike', 'delhi techie wins free food from swiggy for one year on cred', 'new zealand end rohit sharma led india match winning streak', 'aegon life iterm insurance plan helps customers save tax', 'have known hirani for yrs what if metoo claims are not true sonam']\n"
     ]
    }
   ],
   "source": [
    "clean_headlines = []\n",
    "# 전체 headlines 데이터에 대한 전처리 : 5분 이상 시간이 걸릴 수 있습니다. \n",
    "for s in data['headlines']:\n",
    "    clean_headlines.append(preprocess_sentence(s, False))\n",
    "\n",
    "print(\"headlines 전처리 후 결과: \", clean_headlines[:5])"
   ]
  },
  {
   "cell_type": "markdown",
   "id": "0b2753b8",
   "metadata": {},
   "source": [
    "#### 빈 값을 가진 샘플이 있으면, Null 값으로 대체"
   ]
  },
  {
   "cell_type": "code",
   "execution_count": 14,
   "id": "38a90555",
   "metadata": {},
   "outputs": [
    {
     "name": "stdout",
     "output_type": "stream",
     "text": [
      "=3\n"
     ]
    }
   ],
   "source": [
    "data['text'] = clean_text\n",
    "data['headlines'] = clean_headlines\n",
    "\n",
    "# 빈 값을 Null 값으로 변환\n",
    "data.replace('', np.nan, inplace=True)\n",
    "print('=3')"
   ]
  },
  {
   "cell_type": "markdown",
   "id": "ee9a9dea",
   "metadata": {},
   "source": [
    "#### null 값이 생겼는지 확인"
   ]
  },
  {
   "cell_type": "code",
   "execution_count": 15,
   "id": "b038b1f6",
   "metadata": {
    "scrolled": true
   },
   "outputs": [
    {
     "data": {
      "text/plain": [
       "text         0\n",
       "headlines    0\n",
       "dtype: int64"
      ]
     },
     "execution_count": 15,
     "metadata": {},
     "output_type": "execute_result"
    }
   ],
   "source": [
    "data.isnull().sum()"
   ]
  },
  {
   "cell_type": "code",
   "execution_count": 16,
   "id": "0bed14bb",
   "metadata": {},
   "outputs": [
    {
     "name": "stdout",
     "output_type": "stream",
     "text": [
      "전체 샘플수 : 98360\n"
     ]
    }
   ],
   "source": [
    "data.dropna(axis=0, inplace=True)\n",
    "print('전체 샘플수 :', (len(data)))"
   ]
  },
  {
   "cell_type": "markdown",
   "id": "40a13b05",
   "metadata": {},
   "source": [
    "### text의 최소 길이, 최대 길이, 평균 길이를 구하고 시각화"
   ]
  },
  {
   "cell_type": "code",
   "execution_count": 17,
   "id": "56d53230",
   "metadata": {
    "scrolled": true
   },
   "outputs": [
    {
     "name": "stdout",
     "output_type": "stream",
     "text": [
      "텍스트의 최소 길이 : 1\n",
      "텍스트의 최대 길이 : 60\n",
      "텍스트의 평균 길이 : 35.09968483123221\n",
      "요약의 최소 길이 : 1\n",
      "요약의 최대 길이 : 16\n",
      "요약의 평균 길이 : 9.299532330215534\n"
     ]
    },
    {
     "data": {
      "image/png": "[encoded data removed]",
      "text/plain": [
       "<Figure size 432x288 with 2 Axes>"
      ]
     },
     "metadata": {
      "needs_background": "light"
     },
     "output_type": "display_data"
    },
    {
     "data": {
      "image/png": "[encoded data removed]",
      "text/plain": [
       "<Figure size 432x288 with 1 Axes>"
      ]
     },
     "metadata": {
      "needs_background": "light"
     },
     "output_type": "display_data"
    },
    {
     "data": {
      "image/png": "[encoded data removed]",
      "text/plain": [
       "<Figure size 432x288 with 1 Axes>"
      ]
     },
     "metadata": {
      "needs_background": "light"
     },
     "output_type": "display_data"
    }
   ],
   "source": [
    "# 길이 분포 출력\n",
    "import matplotlib.pyplot as plt\n",
    "\n",
    "text_len = [len(s.split()) for s in data['text']]\n",
    "headlines_len = [len(s.split()) for s in data['headlines']]\n",
    "\n",
    "print('텍스트의 최소 길이 : {}'.format(np.min(text_len)))\n",
    "print('텍스트의 최대 길이 : {}'.format(np.max(text_len)))\n",
    "print('텍스트의 평균 길이 : {}'.format(np.mean(text_len)))\n",
    "print('요약의 최소 길이 : {}'.format(np.min(headlines_len)))\n",
    "print('요약의 최대 길이 : {}'.format(np.max(headlines_len)))\n",
    "print('요약의 평균 길이 : {}'.format(np.mean(headlines_len)))\n",
    "\n",
    "plt.subplot(1,2,1)\n",
    "plt.boxplot(text_len)\n",
    "plt.title('text')\n",
    "plt.subplot(1,2,2)\n",
    "plt.boxplot(headlines_len)\n",
    "plt.title('headlines')\n",
    "plt.tight_layout()\n",
    "plt.show()\n",
    "\n",
    "plt.title('text')\n",
    "plt.hist(text_len, bins = 40)\n",
    "plt.xlabel('length of samples')\n",
    "plt.ylabel('number of samples')\n",
    "plt.show()\n",
    "\n",
    "plt.title('headlines')\n",
    "plt.hist(headlines_len, bins = 40)\n",
    "plt.xlabel('length of samples')\n",
    "plt.ylabel('number of samples')\n",
    "plt.show()"
   ]
  },
  {
   "cell_type": "markdown",
   "id": "959ed05f",
   "metadata": {},
   "source": [
    "### text의 최대 길이를 정의"
   ]
  },
  {
   "cell_type": "code",
   "execution_count": 18,
   "id": "e8603841",
   "metadata": {},
   "outputs": [],
   "source": [
    "text_max_len = 50\n",
    "headlines_max_len = 8"
   ]
  },
  {
   "cell_type": "markdown",
   "id": "4bcc96fc",
   "metadata": {},
   "source": [
    "### 훈련 데이터와 샘플의 길이를 입력하면, 데이터의 몇 %가 해당하는지 계산하는 함수"
   ]
  },
  {
   "cell_type": "code",
   "execution_count": 19,
   "id": "6941f6ec",
   "metadata": {},
   "outputs": [],
   "source": [
    "def below_threshold_len(max_len, nested_list):\n",
    "  cnt = 0\n",
    "  for s in nested_list:\n",
    "    if(len(s.split()) <= max_len):\n",
    "        cnt = cnt + 1\n",
    "  print('전체 샘플 중 길이가 %s 이하인 샘플의 비율: %s'%(max_len, (cnt / len(nested_list))))"
   ]
  },
  {
   "cell_type": "markdown",
   "id": "a9074a4c",
   "metadata": {},
   "source": [
    "#### 함수에 텍스트를 적용"
   ]
  },
  {
   "cell_type": "code",
   "execution_count": 20,
   "id": "5fedb61d",
   "metadata": {
    "scrolled": true
   },
   "outputs": [
    {
     "name": "stdout",
     "output_type": "stream",
     "text": [
      "전체 샘플 중 길이가 50 이하인 샘플의 비율: 0.9998576657177715\n",
      "전체 샘플 중 길이가 8 이하인 샘플의 비율: 0.2755693371289142\n"
     ]
    }
   ],
   "source": [
    "below_threshold_len(text_max_len, data['text'])\n",
    "below_threshold_len(headlines_max_len,  data['headlines'])"
   ]
  },
  {
   "cell_type": "markdown",
   "id": "b7d5d1d1",
   "metadata": {},
   "source": [
    "### 정해진 길이보다 길면 제외하는 방법으로 데이터를 정제"
   ]
  },
  {
   "cell_type": "code",
   "execution_count": 21,
   "id": "b81013bb",
   "metadata": {},
   "outputs": [
    {
     "name": "stdout",
     "output_type": "stream",
     "text": [
      "전체 샘플수 : 27105\n"
     ]
    }
   ],
   "source": [
    "data = data[data['text'].apply(lambda x: len(x.split()) <= text_max_len)]\n",
    "data = data[data['headlines'].apply(lambda x: len(x.split()) <= headlines_max_len)]\n",
    "print('전체 샘플수 :', (len(data)))"
   ]
  },
  {
   "cell_type": "markdown",
   "id": "f1a141d5",
   "metadata": {},
   "source": [
    "### 시작 토큰과 종료 토큰 추가"
   ]
  },
  {
   "cell_type": "code",
   "execution_count": 22,
   "id": "118fef33",
   "metadata": {},
   "outputs": [
    {
     "data": {
      "text/html": [
       "<div>\n",
       "<style scoped>\n",
       "    .dataframe tbody tr th:only-of-type {\n",
       "        vertical-align: middle;\n",
       "    }\n",
       "\n",
       "    .dataframe tbody tr th {\n",
       "        vertical-align: top;\n",
       "    }\n",
       "\n",
       "    .dataframe thead th {\n",
       "        text-align: right;\n",
       "    }\n",
       "</style>\n",
       "<table border=\"1\" class=\"dataframe\">\n",
       "  <thead>\n",
       "    <tr style=\"text-align: right;\">\n",
       "      <th></th>\n",
       "      <th>text</th>\n",
       "      <th>headlines</th>\n",
       "      <th>decoder_input</th>\n",
       "      <th>decoder_target</th>\n",
       "    </tr>\n",
       "  </thead>\n",
       "  <tbody>\n",
       "    <tr>\n",
       "      <th>19</th>\n",
       "      <td>union minister dharmendra pradhan wednesday cl...</td>\n",
       "      <td>odisha cm patnaik controls mining mafia union ...</td>\n",
       "      <td>sostoken odisha cm patnaik controls mining maf...</td>\n",
       "      <td>odisha cm patnaik controls mining mafia union ...</td>\n",
       "    </tr>\n",
       "    <tr>\n",
       "      <th>21</th>\n",
       "      <td>indian space research organisation wednesday u...</td>\n",
       "      <td>isro unveils bengaluru centre for manned space...</td>\n",
       "      <td>sostoken isro unveils bengaluru centre for man...</td>\n",
       "      <td>isro unveils bengaluru centre for manned space...</td>\n",
       "    </tr>\n",
       "    <tr>\n",
       "      <th>22</th>\n",
       "      <td>least people killed others injured saudi arabi...</td>\n",
       "      <td>killed injured in saudi arabia floods</td>\n",
       "      <td>sostoken killed injured in saudi arabia floods</td>\n",
       "      <td>killed injured in saudi arabia floods eostoken</td>\n",
       "    </tr>\n",
       "    <tr>\n",
       "      <th>29</th>\n",
       "      <td>investigators searching lost plane carrying ar...</td>\n",
       "      <td>seat cushions from missing plane carrying foot...</td>\n",
       "      <td>sostoken seat cushions from missing plane carr...</td>\n",
       "      <td>seat cushions from missing plane carrying foot...</td>\n",
       "    </tr>\n",
       "    <tr>\n",
       "      <th>36</th>\n",
       "      <td>agustawestland chopper scam co accused rajiv s...</td>\n",
       "      <td>agustawestland scam accused rajiv saxena extra...</td>\n",
       "      <td>sostoken agustawestland scam accused rajiv sax...</td>\n",
       "      <td>agustawestland scam accused rajiv saxena extra...</td>\n",
       "    </tr>\n",
       "  </tbody>\n",
       "</table>\n",
       "</div>"
      ],
      "text/plain": [
       "                                                 text  \\\n",
       "19  union minister dharmendra pradhan wednesday cl...   \n",
       "21  indian space research organisation wednesday u...   \n",
       "22  least people killed others injured saudi arabi...   \n",
       "29  investigators searching lost plane carrying ar...   \n",
       "36  agustawestland chopper scam co accused rajiv s...   \n",
       "\n",
       "                                            headlines  \\\n",
       "19  odisha cm patnaik controls mining mafia union ...   \n",
       "21  isro unveils bengaluru centre for manned space...   \n",
       "22              killed injured in saudi arabia floods   \n",
       "29  seat cushions from missing plane carrying foot...   \n",
       "36  agustawestland scam accused rajiv saxena extra...   \n",
       "\n",
       "                                        decoder_input  \\\n",
       "19  sostoken odisha cm patnaik controls mining maf...   \n",
       "21  sostoken isro unveils bengaluru centre for man...   \n",
       "22     sostoken killed injured in saudi arabia floods   \n",
       "29  sostoken seat cushions from missing plane carr...   \n",
       "36  sostoken agustawestland scam accused rajiv sax...   \n",
       "\n",
       "                                       decoder_target  \n",
       "19  odisha cm patnaik controls mining mafia union ...  \n",
       "21  isro unveils bengaluru centre for manned space...  \n",
       "22     killed injured in saudi arabia floods eostoken  \n",
       "29  seat cushions from missing plane carrying foot...  \n",
       "36  agustawestland scam accused rajiv saxena extra...  "
      ]
     },
     "execution_count": 22,
     "metadata": {},
     "output_type": "execute_result"
    }
   ],
   "source": [
    "# 요약 데이터에는 시작 토큰과 종료 토큰을 추가한다.\n",
    "data['decoder_input'] = data['headlines'].apply(lambda x : 'sostoken '+ x)\n",
    "data['decoder_target'] = data['headlines'].apply(lambda x : x + ' eostoken')\n",
    "data.head()"
   ]
  },
  {
   "cell_type": "markdown",
   "id": "ee432c66",
   "metadata": {},
   "source": [
    "### 인코더 입력, 디코더 입력, 디코더 레이블을 Numpy 타입으로 저장"
   ]
  },
  {
   "cell_type": "code",
   "execution_count": 23,
   "id": "90736082",
   "metadata": {},
   "outputs": [],
   "source": [
    "encoder_input = np.array(data['text']) # 인코더의 입력\n",
    "decoder_input = np.array(data['decoder_input']) # 디코더의 입력\n",
    "decoder_target = np.array(data['decoder_target']) # 디코더의 레이블"
   ]
  },
  {
   "cell_type": "markdown",
   "id": "a453463f",
   "metadata": {},
   "source": [
    "### encoder_input의 크기와 형태가 같은 순서로 섞인 정수 시퀀스를 만들어 줌"
   ]
  },
  {
   "cell_type": "code",
   "execution_count": 24,
   "id": "7bba829e",
   "metadata": {},
   "outputs": [
    {
     "name": "stdout",
     "output_type": "stream",
     "text": [
      "[22388 18490 24391 ...  5600 16530  9972]\n"
     ]
    }
   ],
   "source": [
    "indices = np.arange(encoder_input.shape[0])\n",
    "np.random.shuffle(indices)\n",
    "print(indices)"
   ]
  },
  {
   "cell_type": "markdown",
   "id": "b3cc18e6",
   "metadata": {},
   "source": [
    "### 정수 시퀀스를 이용해서 데이터의 샘플 순서를 정의"
   ]
  },
  {
   "cell_type": "code",
   "execution_count": 25,
   "id": "ec18d0bc",
   "metadata": {},
   "outputs": [],
   "source": [
    "encoder_input = encoder_input[indices]\n",
    "decoder_input = decoder_input[indices]\n",
    "decoder_target = decoder_target[indices]"
   ]
  },
  {
   "cell_type": "markdown",
   "id": "9b346c0c",
   "metadata": {},
   "source": [
    "### 8:2로 train data와 test data 분리"
   ]
  },
  {
   "cell_type": "code",
   "execution_count": 26,
   "id": "8eebbd57",
   "metadata": {},
   "outputs": [
    {
     "name": "stdout",
     "output_type": "stream",
     "text": [
      "테스트 데이터의 수 : 5421\n"
     ]
    }
   ],
   "source": [
    "n_of_val = int(len(encoder_input)*0.2)\n",
    "print('테스트 데이터의 수 :', n_of_val)"
   ]
  },
  {
   "cell_type": "code",
   "execution_count": 27,
   "id": "0b002d33",
   "metadata": {},
   "outputs": [
    {
     "name": "stdout",
     "output_type": "stream",
     "text": [
      "훈련 데이터의 개수 : 21684\n",
      "훈련 레이블의 개수 : 21684\n",
      "테스트 데이터의 개수 : 5421\n",
      "테스트 레이블의 개수 : 5421\n"
     ]
    }
   ],
   "source": [
    "encoder_input_train = encoder_input[:-n_of_val]\n",
    "decoder_input_train = decoder_input[:-n_of_val]\n",
    "decoder_target_train = decoder_target[:-n_of_val]\n",
    "\n",
    "encoder_input_test = encoder_input[-n_of_val:]\n",
    "decoder_input_test = decoder_input[-n_of_val:]\n",
    "decoder_target_test = decoder_target[-n_of_val:]\n",
    "\n",
    "print('훈련 데이터의 개수 :', len(encoder_input_train))\n",
    "print('훈련 레이블의 개수 :', len(decoder_input_train))\n",
    "print('테스트 데이터의 개수 :', len(encoder_input_test))\n",
    "print('테스트 레이블의 개수 :', len(decoder_input_test))"
   ]
  },
  {
   "cell_type": "markdown",
   "id": "8b513f56",
   "metadata": {},
   "source": [
    "### 토크나이저 정의 및 입력된 데이터로 부터 단어 집합 생성"
   ]
  },
  {
   "cell_type": "code",
   "execution_count": 28,
   "id": "f4042555",
   "metadata": {},
   "outputs": [],
   "source": [
    "src_tokenizer = Tokenizer() # 토크나이저 정의\n",
    "src_tokenizer.fit_on_texts(encoder_input_train) # 입력된 데이터로부터 단어 집합 생성"
   ]
  },
  {
   "cell_type": "markdown",
   "id": "45dd6f2f",
   "metadata": {},
   "source": [
    "### 등장 빈도수가 낮은 단어를 확인"
   ]
  },
  {
   "cell_type": "code",
   "execution_count": 29,
   "id": "e171bd8b",
   "metadata": {},
   "outputs": [
    {
     "name": "stdout",
     "output_type": "stream",
     "text": [
      "단어 집합(vocabulary)의 크기 : 42447\n",
      "등장 빈도가 6번 이하인 희귀 단어의 수: 30689\n",
      "단어 집합에서 희귀 단어를 제외시킬 경우의 단어 집합의 크기 11758\n",
      "단어 집합에서 희귀 단어의 비율: 72.29957358588356\n",
      "전체 등장 빈도에서 희귀 단어 등장 빈도 비율: 8.24176907795003\n"
     ]
    }
   ],
   "source": [
    "threshold = 7\n",
    "total_cnt = len(src_tokenizer.word_index) # 단어의 수\n",
    "rare_cnt = 0 # 등장 빈도수가 threshold보다 작은 단어의 개수를 카운트\n",
    "total_freq = 0 # 훈련 데이터의 전체 단어 빈도수 총 합\n",
    "rare_freq = 0 # 등장 빈도수가 threshold보다 작은 단어의 등장 빈도수의 총 합\n",
    "\n",
    "# 단어와 빈도수의 쌍(pair)을 key와 value로 받는다.\n",
    "for key, value in src_tokenizer.word_counts.items():\n",
    "    total_freq = total_freq + value\n",
    "\n",
    "    # 단어의 등장 빈도수가 threshold보다 작으면\n",
    "    if(value < threshold):\n",
    "        rare_cnt = rare_cnt + 1\n",
    "        rare_freq = rare_freq + value\n",
    "\n",
    "print('단어 집합(vocabulary)의 크기 :', total_cnt)\n",
    "print('등장 빈도가 %s번 이하인 희귀 단어의 수: %s'%(threshold - 1, rare_cnt))\n",
    "print('단어 집합에서 희귀 단어를 제외시킬 경우의 단어 집합의 크기 %s'%(total_cnt - rare_cnt))\n",
    "print(\"단어 집합에서 희귀 단어의 비율:\", (rare_cnt / total_cnt)*100)\n",
    "print(\"전체 등장 빈도에서 희귀 단어 등장 빈도 비율:\", (rare_freq / total_freq)*100)"
   ]
  },
  {
   "cell_type": "markdown",
   "id": "ff734468",
   "metadata": {},
   "source": [
    "### 단어 집합의 크기를 11000으로 제한"
   ]
  },
  {
   "cell_type": "code",
   "execution_count": 30,
   "id": "518b32ad",
   "metadata": {
    "scrolled": true
   },
   "outputs": [],
   "source": [
    "src_vocab = 11000\n",
    "src_tokenizer = Tokenizer(num_words=src_vocab) # 단어 집합의 크기를 11,000으로 제한\n",
    "src_tokenizer.fit_on_texts(encoder_input_train) # 단어 집합 재생성"
   ]
  },
  {
   "cell_type": "markdown",
   "id": "ca3a4270",
   "metadata": {},
   "source": [
    "### 텍스트 시퀀스를 정수 시퀀스로 바꾸고 출력"
   ]
  },
  {
   "cell_type": "code",
   "execution_count": 31,
   "id": "c6e2dee6",
   "metadata": {},
   "outputs": [
    {
     "name": "stdout",
     "output_type": "stream",
     "text": [
      "[[9, 62, 134, 354, 339, 225, 2121, 3695, 5572, 3695, 154, 2212, 1150, 134, 3695, 1530, 48, 400, 2242, 1, 4068, 9, 4283, 1, 7, 339, 3695, 7784, 1530, 48, 2879, 400, 2242, 400, 953, 1088, 1691, 9270], [5, 16, 118, 46, 532, 5220, 2880, 5573, 427, 57, 19, 343, 159, 130, 33, 105, 5053, 810, 5, 494, 16, 5054, 1, 2400, 561, 3767, 3025, 365, 3389, 248, 3548, 1517, 6], [140, 14, 3206, 1629, 51, 53, 973, 5221, 4765, 1574, 3696, 3451, 154, 3, 451, 1036, 7, 8202, 231, 4766, 212, 5, 2557, 1, 2243, 8723, 1291, 5574, 1025, 803, 9271]]\n"
     ]
    }
   ],
   "source": [
    "# 텍스트 시퀀스를 정수 시퀀스로 변환\n",
    "encoder_input_train = src_tokenizer.texts_to_sequences(encoder_input_train) \n",
    "encoder_input_test = src_tokenizer.texts_to_sequences(encoder_input_test)\n",
    "\n",
    "# 잘 진행되었는지 샘플 출력\n",
    "print(encoder_input_train[:3])"
   ]
  },
  {
   "cell_type": "markdown",
   "id": "f454ae20",
   "metadata": {},
   "source": [
    "### 토크나이저를 통해 전체 단어 집합과 빈도수를 계산"
   ]
  },
  {
   "cell_type": "code",
   "execution_count": 32,
   "id": "965113a5",
   "metadata": {},
   "outputs": [],
   "source": [
    "tar_tokenizer = Tokenizer()\n",
    "tar_tokenizer.fit_on_texts(decoder_input_train)"
   ]
  },
  {
   "cell_type": "markdown",
   "id": "1a0e944e",
   "metadata": {},
   "source": [
    "### 빈도수가 6회 미만인 단어의 비중 확인"
   ]
  },
  {
   "cell_type": "code",
   "execution_count": 33,
   "id": "2cb21227",
   "metadata": {},
   "outputs": [
    {
     "name": "stdout",
     "output_type": "stream",
     "text": [
      "단어 집합(vocabulary)의 크기 : 18906\n",
      "등장 빈도가 5번 이하인 희귀 단어의 수: 14257\n",
      "단어 집합에서 희귀 단어를 제외시킬 경우의 단어 집합의 크기 4649\n",
      "단어 집합에서 희귀 단어의 비율: 75.40992277583835\n",
      "전체 등장 빈도에서 희귀 단어 등장 빈도 비율: 14.160564362543923\n"
     ]
    }
   ],
   "source": [
    "threshold = 6\n",
    "total_cnt = len(tar_tokenizer.word_index) # 단어의 수\n",
    "rare_cnt = 0 # 등장 빈도수가 threshold보다 작은 단어의 개수를 카운트\n",
    "total_freq = 0 # 훈련 데이터의 전체 단어 빈도수 총 합\n",
    "rare_freq = 0 # 등장 빈도수가 threshold보다 작은 단어의 등장 빈도수의 총 합\n",
    "\n",
    "# 단어와 빈도수의 쌍(pair)을 key와 value로 받는다.\n",
    "for key, value in tar_tokenizer.word_counts.items():\n",
    "    total_freq = total_freq + value\n",
    "\n",
    "    # 단어의 등장 빈도수가 threshold보다 작으면\n",
    "    if(value < threshold):\n",
    "        rare_cnt = rare_cnt + 1\n",
    "        rare_freq = rare_freq + value\n",
    "\n",
    "print('단어 집합(vocabulary)의 크기 :', total_cnt)\n",
    "print('등장 빈도가 %s번 이하인 희귀 단어의 수: %s'%(threshold - 1, rare_cnt))\n",
    "print('단어 집합에서 희귀 단어를 제외시킬 경우의 단어 집합의 크기 %s'%(total_cnt - rare_cnt))\n",
    "print(\"단어 집합에서 희귀 단어의 비율:\", (rare_cnt / total_cnt)*100)\n",
    "print(\"전체 등장 빈도에서 희귀 단어 등장 빈도 비율:\", (rare_freq / total_freq)*100)"
   ]
  },
  {
   "cell_type": "markdown",
   "id": "c2490357",
   "metadata": {},
   "source": [
    "### 단어 집합의 크기를 제한하고 텍스트 시퀀스를 정수 시퀀스로 변환"
   ]
  },
  {
   "cell_type": "code",
   "execution_count": 34,
   "id": "de6b1afb",
   "metadata": {},
   "outputs": [
    {
     "name": "stdout",
     "output_type": "stream",
     "text": [
      "input\n",
      "input  [[1, 43, 4, 772, 1933, 2778], [1, 21, 749, 245, 15, 715, 67], [1, 460, 6, 235, 3, 8, 1205], [1, 318, 119, 1069, 19, 421, 1315], [1, 1109, 79, 153]]\n",
      "target\n",
      "decoder  [[43, 4, 772, 1933, 2778, 2], [21, 749, 245, 15, 715, 67, 2], [460, 6, 235, 3, 8, 1205, 2], [318, 119, 1069, 19, 421, 1315, 2], [1109, 79, 153, 2]]\n"
     ]
    }
   ],
   "source": [
    "tar_vocab = 4000\n",
    "tar_tokenizer = Tokenizer(num_words=tar_vocab) \n",
    "tar_tokenizer.fit_on_texts(decoder_input_train)\n",
    "tar_tokenizer.fit_on_texts(decoder_target_train)\n",
    "\n",
    "# 텍스트 시퀀스를 정수 시퀀스로 변환\n",
    "decoder_input_train = tar_tokenizer.texts_to_sequences(decoder_input_train) \n",
    "decoder_target_train = tar_tokenizer.texts_to_sequences(decoder_target_train)\n",
    "decoder_input_test = tar_tokenizer.texts_to_sequences(decoder_input_test)\n",
    "decoder_target_test = tar_tokenizer.texts_to_sequences(decoder_target_test)\n",
    "\n",
    "# 잘 변환되었는지 확인\n",
    "print('input')\n",
    "print('input ',decoder_input_train[:5])\n",
    "print('target')\n",
    "print('decoder ',decoder_target_train[:5])"
   ]
  },
  {
   "cell_type": "markdown",
   "id": "20125e6d",
   "metadata": {},
   "source": [
    "### train data와 test data의 요약문 길이가 1인 인덱스를 drop_train과 drop_test라는 변수에 저장하고 삭제"
   ]
  },
  {
   "cell_type": "code",
   "execution_count": 35,
   "id": "8611cd3a",
   "metadata": {},
   "outputs": [
    {
     "name": "stdout",
     "output_type": "stream",
     "text": [
      "삭제할 훈련 데이터의 개수 : 2\n",
      "삭제할 테스트 데이터의 개수 : 1\n",
      "훈련 데이터의 개수 : 21682\n",
      "훈련 레이블의 개수 : 21682\n",
      "테스트 데이터의 개수 : 5420\n",
      "테스트 레이블의 개수 : 5420\n"
     ]
    }
   ],
   "source": [
    "drop_train = [index for index, sentence in enumerate(decoder_input_train) if len(sentence) == 1]\n",
    "drop_test = [index for index, sentence in enumerate(decoder_input_test) if len(sentence) == 1]\n",
    "\n",
    "print('삭제할 훈련 데이터의 개수 :', len(drop_train))\n",
    "print('삭제할 테스트 데이터의 개수 :', len(drop_test))\n",
    "\n",
    "encoder_input_train = [sentence for index, sentence in enumerate(encoder_input_train) if index not in drop_train]\n",
    "decoder_input_train = [sentence for index, sentence in enumerate(decoder_input_train) if index not in drop_train]\n",
    "decoder_target_train = [sentence for index, sentence in enumerate(decoder_target_train) if index not in drop_train]\n",
    "\n",
    "encoder_input_test = [sentence for index, sentence in enumerate(encoder_input_test) if index not in drop_test]\n",
    "decoder_input_test = [sentence for index, sentence in enumerate(decoder_input_test) if index not in drop_test]\n",
    "decoder_target_test = [sentence for index, sentence in enumerate(decoder_target_test) if index not in drop_test]\n",
    "\n",
    "print('훈련 데이터의 개수 :', len(encoder_input_train))\n",
    "print('훈련 레이블의 개수 :', len(decoder_input_train))\n",
    "print('테스트 데이터의 개수 :', len(encoder_input_test))\n",
    "print('테스트 레이블의 개수 :', len(decoder_input_test))"
   ]
  },
  {
   "cell_type": "markdown",
   "id": "996c0f12",
   "metadata": {},
   "source": [
    "### 패딩"
   ]
  },
  {
   "cell_type": "code",
   "execution_count": 36,
   "id": "5e234dd3",
   "metadata": {},
   "outputs": [],
   "source": [
    "encoder_input_train = pad_sequences(encoder_input_train, maxlen=text_max_len, padding='post')\n",
    "encoder_input_test = pad_sequences(encoder_input_test, maxlen=text_max_len, padding='post')\n",
    "decoder_input_train = pad_sequences(decoder_input_train, maxlen=headlines_max_len, padding='post')\n",
    "decoder_target_train = pad_sequences(decoder_target_train, maxlen=headlines_max_len, padding='post')\n",
    "decoder_input_test = pad_sequences(decoder_input_test, maxlen=headlines_max_len, padding='post')\n",
    "decoder_target_test = pad_sequences(decoder_target_test, maxlen=headlines_max_len, padding='post')"
   ]
  },
  {
   "cell_type": "markdown",
   "id": "cf182fdb",
   "metadata": {},
   "source": [
    "## 모델 설계\n",
    "### 인코더 설계"
   ]
  },
  {
   "cell_type": "code",
   "execution_count": 37,
   "id": "f4916094",
   "metadata": {},
   "outputs": [
    {
     "name": "stdout",
     "output_type": "stream",
     "text": [
      "WARNING:tensorflow:Layer lstm will not use cuDNN kernels since it doesn't meet the criteria. It will use a generic GPU kernel as fallback when running on GPU.\n",
      "WARNING:tensorflow:Layer lstm_1 will not use cuDNN kernels since it doesn't meet the criteria. It will use a generic GPU kernel as fallback when running on GPU.\n",
      "WARNING:tensorflow:Layer lstm_2 will not use cuDNN kernels since it doesn't meet the criteria. It will use a generic GPU kernel as fallback when running on GPU.\n"
     ]
    }
   ],
   "source": [
    "from tensorflow.keras.layers import Input, LSTM, Embedding, Dense, Concatenate, TimeDistributed\n",
    "from tensorflow.keras.models import Model\n",
    "from tensorflow.keras.callbacks import EarlyStopping, ModelCheckpoint\n",
    "\n",
    "\n",
    "# 인코더 설계 시작\n",
    "embedding_dim = 128\n",
    "hidden_size = 256\n",
    "\n",
    "# 인코더\n",
    "encoder_inputs = Input(shape=(text_max_len,))\n",
    "\n",
    "# 인코더의 임베딩 층\n",
    "enc_emb = Embedding(src_vocab, embedding_dim)(encoder_inputs)\n",
    "\n",
    "# 인코더의 LSTM 1\n",
    "encoder_lstm1 = LSTM(hidden_size, return_sequences=True, return_state=True ,dropout = 0.4, recurrent_dropout = 0.4)\n",
    "encoder_output1, state_h1, state_c1 = encoder_lstm1(enc_emb)\n",
    "\n",
    "# 인코더의 LSTM 2\n",
    "encoder_lstm2 = LSTM(hidden_size, return_sequences=True, return_state=True, dropout=0.4, recurrent_dropout=0.4)\n",
    "encoder_output2, state_h2, state_c2 = encoder_lstm2(encoder_output1)\n",
    "\n",
    "# 인코더의 LSTM 3\n",
    "encoder_lstm3 = LSTM(hidden_size, return_state=True, return_sequences=True, dropout=0.4, recurrent_dropout=0.4)\n",
    "encoder_outputs, state_h, state_c= encoder_lstm3(encoder_output2)"
   ]
  },
  {
   "cell_type": "markdown",
   "id": "fa6a7fdd",
   "metadata": {},
   "source": [
    "### 디코더 설계"
   ]
  },
  {
   "cell_type": "code",
   "execution_count": 38,
   "id": "18c44ee3",
   "metadata": {},
   "outputs": [
    {
     "name": "stdout",
     "output_type": "stream",
     "text": [
      "WARNING:tensorflow:Layer lstm_3 will not use cuDNN kernels since it doesn't meet the criteria. It will use a generic GPU kernel as fallback when running on GPU.\n"
     ]
    }
   ],
   "source": [
    "# 디코더 설계\n",
    "decoder_inputs = Input(shape=(None,))\n",
    "\n",
    "# 디코더의 임베딩 층\n",
    "dec_emb_layer = Embedding(tar_vocab, embedding_dim)\n",
    "dec_emb = dec_emb_layer(decoder_inputs)\n",
    "\n",
    "# 디코더의 LSTM\n",
    "decoder_lstm = LSTM(hidden_size, return_sequences=True, return_state=True, dropout=0.4, recurrent_dropout=0.2)\n",
    "decoder_outputs, _, _ = decoder_lstm(dec_emb, initial_state=[state_h, state_c])"
   ]
  },
  {
   "cell_type": "markdown",
   "id": "bb127fdd",
   "metadata": {},
   "source": [
    "### 디코더 출력층"
   ]
  },
  {
   "cell_type": "code",
   "execution_count": 39,
   "id": "d09987ef",
   "metadata": {},
   "outputs": [
    {
     "name": "stdout",
     "output_type": "stream",
     "text": [
      "WARNING:tensorflow:Layer lstm_4 will not use cuDNN kernels since it doesn't meet the criteria. It will use a generic GPU kernel as fallback when running on GPU.\n"
     ]
    }
   ],
   "source": [
    "# 디코더 설계\n",
    "decoder_inputs = Input(shape=(None,))\n",
    "\n",
    "# 디코더의 임베딩 층\n",
    "dec_emb_layer = Embedding(tar_vocab, embedding_dim)\n",
    "dec_emb = dec_emb_layer(decoder_inputs)\n",
    "\n",
    "# 디코더의 LSTM\n",
    "decoder_lstm = LSTM(hidden_size, return_sequences=True, return_state=True, dropout=0.4, recurrent_dropout=0.2)\n",
    "decoder_outputs, _, _ = decoder_lstm(dec_emb, initial_state=[state_h, state_c])"
   ]
  },
  {
   "cell_type": "markdown",
   "id": "cd61c91f",
   "metadata": {},
   "source": [
    "### 어텐션 메커니즘"
   ]
  },
  {
   "cell_type": "code",
   "execution_count": 40,
   "id": "be067eaa",
   "metadata": {},
   "outputs": [
    {
     "name": "stdout",
     "output_type": "stream",
     "text": [
      "Model: \"model\"\n",
      "__________________________________________________________________________________________________\n",
      "Layer (type)                    Output Shape         Param #     Connected to                     \n",
      "==================================================================================================\n",
      "input_1 (InputLayer)            [(None, 50)]         0                                            \n",
      "__________________________________________________________________________________________________\n",
      "embedding (Embedding)           (None, 50, 128)      1408000     input_1[0][0]                    \n",
      "__________________________________________________________________________________________________\n",
      "lstm (LSTM)                     [(None, 50, 256), (N 394240      embedding[0][0]                  \n",
      "__________________________________________________________________________________________________\n",
      "input_3 (InputLayer)            [(None, None)]       0                                            \n",
      "__________________________________________________________________________________________________\n",
      "lstm_1 (LSTM)                   [(None, 50, 256), (N 525312      lstm[0][0]                       \n",
      "__________________________________________________________________________________________________\n",
      "embedding_2 (Embedding)         (None, None, 128)    512000      input_3[0][0]                    \n",
      "__________________________________________________________________________________________________\n",
      "lstm_2 (LSTM)                   [(None, 50, 256), (N 525312      lstm_1[0][0]                     \n",
      "__________________________________________________________________________________________________\n",
      "lstm_4 (LSTM)                   [(None, None, 256),  394240      embedding_2[0][0]                \n",
      "                                                                 lstm_2[0][1]                     \n",
      "                                                                 lstm_2[0][2]                     \n",
      "__________________________________________________________________________________________________\n",
      "attention_layer (AdditiveAttent (None, None, 256)    256         lstm_4[0][0]                     \n",
      "                                                                 lstm_2[0][0]                     \n",
      "__________________________________________________________________________________________________\n",
      "concat_layer (Concatenate)      (None, None, 512)    0           lstm_4[0][0]                     \n",
      "                                                                 attention_layer[0][0]            \n",
      "__________________________________________________________________________________________________\n",
      "dense (Dense)                   (None, None, 4000)   2052000     concat_layer[0][0]               \n",
      "==================================================================================================\n",
      "Total params: 5,811,360\n",
      "Trainable params: 5,811,360\n",
      "Non-trainable params: 0\n",
      "__________________________________________________________________________________________________\n"
     ]
    }
   ],
   "source": [
    "from tensorflow.keras.layers import AdditiveAttention\n",
    "\n",
    "# 어텐션 층(어텐션 함수)\n",
    "attn_layer = AdditiveAttention(name='attention_layer')\n",
    "\n",
    "# 인코더와 디코더의 모든 time step의 hidden state를 어텐션 층에 전달하고 결과를 리턴\n",
    "attn_out = attn_layer([decoder_outputs, encoder_outputs])\n",
    "\n",
    "\n",
    "# 어텐션의 결과와 디코더의 hidden state들을 연결\n",
    "decoder_concat_input = Concatenate(axis=-1, name='concat_layer')([decoder_outputs, attn_out])\n",
    "\n",
    "# 디코더의 출력층\n",
    "decoder_softmax_layer = Dense(tar_vocab, activation='softmax')\n",
    "decoder_softmax_outputs = decoder_softmax_layer(decoder_concat_input)\n",
    "\n",
    "# 모델 정의\n",
    "model = Model([encoder_inputs, decoder_inputs], decoder_softmax_outputs)\n",
    "model.summary()"
   ]
  },
  {
   "cell_type": "markdown",
   "id": "ada3ace4",
   "metadata": {},
   "source": [
    "## 모델 훈련"
   ]
  },
  {
   "cell_type": "code",
   "execution_count": 41,
   "id": "d1ebb9cc",
   "metadata": {},
   "outputs": [
    {
     "name": "stdout",
     "output_type": "stream",
     "text": [
      "Epoch 1/50\n",
      "85/85 [==============================] - 63s 640ms/step - loss: 5.9833 - val_loss: 5.5990\n",
      "Epoch 2/50\n",
      "85/85 [==============================] - 53s 629ms/step - loss: 5.5465 - val_loss: 5.2756\n",
      "Epoch 3/50\n",
      "85/85 [==============================] - 54s 631ms/step - loss: 5.3204 - val_loss: 5.1569\n",
      "Epoch 4/50\n",
      "85/85 [==============================] - 54s 631ms/step - loss: 5.1629 - val_loss: 5.0361\n",
      "Epoch 5/50\n",
      "85/85 [==============================] - 53s 630ms/step - loss: 5.0148 - val_loss: 4.9283\n",
      "Epoch 6/50\n",
      "85/85 [==============================] - 54s 630ms/step - loss: 4.8767 - val_loss: 4.8429\n",
      "Epoch 7/50\n",
      "85/85 [==============================] - 53s 629ms/step - loss: 4.7227 - val_loss: 4.7103\n",
      "Epoch 8/50\n",
      "85/85 [==============================] - 54s 632ms/step - loss: 4.5742 - val_loss: 4.6236\n",
      "Epoch 9/50\n",
      "85/85 [==============================] - 54s 633ms/step - loss: 4.4277 - val_loss: 4.5430\n",
      "Epoch 10/50\n",
      "85/85 [==============================] - 54s 631ms/step - loss: 4.2940 - val_loss: 4.4618\n",
      "Epoch 11/50\n",
      "85/85 [==============================] - 53s 627ms/step - loss: 4.1651 - val_loss: 4.4073\n",
      "Epoch 12/50\n",
      "85/85 [==============================] - 53s 628ms/step - loss: 4.0436 - val_loss: 4.3701\n",
      "Epoch 13/50\n",
      "85/85 [==============================] - 54s 634ms/step - loss: 3.9347 - val_loss: 4.3164\n",
      "Epoch 14/50\n",
      "85/85 [==============================] - 54s 633ms/step - loss: 3.8252 - val_loss: 4.2833\n",
      "Epoch 15/50\n",
      "85/85 [==============================] - 54s 630ms/step - loss: 3.7258 - val_loss: 4.2476\n",
      "Epoch 16/50\n",
      "85/85 [==============================] - 53s 627ms/step - loss: 3.6325 - val_loss: 4.2285\n",
      "Epoch 17/50\n",
      "85/85 [==============================] - 53s 628ms/step - loss: 3.5377 - val_loss: 4.2161\n",
      "Epoch 18/50\n",
      "85/85 [==============================] - 54s 635ms/step - loss: 3.4505 - val_loss: 4.1983\n",
      "Epoch 19/50\n",
      "85/85 [==============================] - 54s 633ms/step - loss: 3.3630 - val_loss: 4.1771\n",
      "Epoch 20/50\n",
      "85/85 [==============================] - 54s 630ms/step - loss: 3.2816 - val_loss: 4.1652\n",
      "Epoch 21/50\n",
      "85/85 [==============================] - 54s 632ms/step - loss: 3.2030 - val_loss: 4.1651\n",
      "Epoch 22/50\n",
      "85/85 [==============================] - 53s 626ms/step - loss: 3.1289 - val_loss: 4.1687\n",
      "Epoch 23/50\n",
      "85/85 [==============================] - 53s 628ms/step - loss: 3.0515 - val_loss: 4.1609\n",
      "Epoch 24/50\n",
      "85/85 [==============================] - 53s 625ms/step - loss: 2.9807 - val_loss: 4.1595\n",
      "Epoch 25/50\n",
      "85/85 [==============================] - 53s 627ms/step - loss: 2.9148 - val_loss: 4.1617\n",
      "Epoch 26/50\n",
      "85/85 [==============================] - 53s 628ms/step - loss: 2.8449 - val_loss: 4.1656\n",
      "Epoch 00026: early stopping\n"
     ]
    }
   ],
   "source": [
    "model.compile(optimizer='rmsprop', loss='sparse_categorical_crossentropy')\n",
    "es = EarlyStopping(monitor='val_loss', patience=2, verbose=1)\n",
    "history = model.fit(x=[encoder_input_train, decoder_input_train], y=decoder_target_train, \\\n",
    "          validation_data=([encoder_input_test, decoder_input_test], decoder_target_test), \\\n",
    "          batch_size=256, callbacks=[es], epochs=50)"
   ]
  },
  {
   "cell_type": "markdown",
   "id": "7730104c",
   "metadata": {},
   "source": [
    "### train data loss & validation data loss 시각화"
   ]
  },
  {
   "cell_type": "code",
   "execution_count": 42,
   "id": "16140a6b",
   "metadata": {
    "scrolled": true
   },
   "outputs": [
    {
     "data": {
      "image/png": "[encoded data removed]",
      "text/plain": [
       "<Figure size 432x288 with 1 Axes>"
      ]
     },
     "metadata": {
      "needs_background": "light"
     },
     "output_type": "display_data"
    }
   ],
   "source": [
    "plt.plot(history.history['loss'], label='train')\n",
    "plt.plot(history.history['val_loss'], label='test')\n",
    "plt.legend()\n",
    "plt.show()"
   ]
  },
  {
   "cell_type": "markdown",
   "id": "24953346",
   "metadata": {},
   "source": [
    "## 인퍼런스 모델 구현\n",
    "### 사전 3개 준비"
   ]
  },
  {
   "cell_type": "code",
   "execution_count": 43,
   "id": "f37d8675",
   "metadata": {},
   "outputs": [],
   "source": [
    "src_index_to_word = src_tokenizer.index_word # 원문 단어 집합에서 정수 -> 단어를 얻음\n",
    "tar_word_to_index = tar_tokenizer.word_index # 요약 단어 집합에서 단어 -> 정수를 얻음\n",
    "tar_index_to_word = tar_tokenizer.index_word # 요약 단어 집합에서 정수 -> 단어를 얻음"
   ]
  },
  {
   "cell_type": "markdown",
   "id": "a74eebeb",
   "metadata": {},
   "source": [
    "### 인퍼런스를 위한 모델 설계\n",
    "### 인코더 설계"
   ]
  },
  {
   "cell_type": "code",
   "execution_count": 44,
   "id": "a1cfc754",
   "metadata": {},
   "outputs": [],
   "source": [
    "# 인코더 설계\n",
    "encoder_model = Model(inputs=encoder_inputs, outputs=[encoder_outputs, state_h, state_c])\n",
    "\n",
    "# 이전 시점의 상태들을 저장하는 텐서\n",
    "decoder_state_input_h = Input(shape=(hidden_size,))\n",
    "decoder_state_input_c = Input(shape=(hidden_size,))\n",
    "\n",
    "dec_emb2 = dec_emb_layer(decoder_inputs)\n",
    "\n",
    "# 문장의 다음 단어를 예측하기 위해서 초기 상태(initial_state)를 이전 시점의 상태로 사용. 이는 뒤의 함수 decode_sequence()에 구현\n",
    "# 훈련 과정에서와 달리 LSTM의 리턴하는 은닉 상태와 셀 상태인 state_h와 state_c를 버리지 않음.\n",
    "decoder_outputs2, state_h2, state_c2 = decoder_lstm(dec_emb2, initial_state=[decoder_state_input_h, decoder_state_input_c])"
   ]
  },
  {
   "cell_type": "markdown",
   "id": "fd6bbd6a",
   "metadata": {},
   "source": [
    "### 어텐션 메커니즘을 사용하는 출력층 설계"
   ]
  },
  {
   "cell_type": "code",
   "execution_count": 45,
   "id": "01066cab",
   "metadata": {},
   "outputs": [],
   "source": [
    "# 어텐션 함수\n",
    "decoder_hidden_state_input = Input(shape=(text_max_len, hidden_size))\n",
    "attn_out_inf = attn_layer([decoder_outputs2, decoder_hidden_state_input])\n",
    "decoder_inf_concat = Concatenate(axis=-1, name='concat')([decoder_outputs2, attn_out_inf])\n",
    "\n",
    "# 디코더의 출력층\n",
    "decoder_outputs2 = decoder_softmax_layer(decoder_inf_concat) \n",
    "\n",
    "# 최종 디코더 모델\n",
    "decoder_model = Model(\n",
    "    [decoder_inputs] + [decoder_hidden_state_input,decoder_state_input_h, decoder_state_input_c],\n",
    "    [decoder_outputs2] + [state_h2, state_c2])"
   ]
  },
  {
   "cell_type": "markdown",
   "id": "0581a361",
   "metadata": {},
   "source": [
    "### 단어 시퀀스를 완성하는 함수"
   ]
  },
  {
   "cell_type": "code",
   "execution_count": 46,
   "id": "182bdae6",
   "metadata": {},
   "outputs": [],
   "source": [
    "def decode_sequence(input_seq):\n",
    "    # 입력으로부터 인코더의 상태를 얻음\n",
    "    e_out, e_h, e_c = encoder_model.predict(input_seq)\n",
    "\n",
    "     # <SOS>에 해당하는 토큰 생성\n",
    "    target_seq = np.zeros((1,1))\n",
    "    target_seq[0, 0] = tar_word_to_index['sostoken']\n",
    "\n",
    "    stop_condition = False\n",
    "    decoded_sentence = ''\n",
    "    while not stop_condition: # stop_condition이 True가 될 때까지 루프 반복\n",
    "\n",
    "        output_tokens, h, c = decoder_model.predict([target_seq] + [e_out, e_h, e_c])\n",
    "        sampled_token_index = np.argmax(output_tokens[0, -1, :])\n",
    "        sampled_token = tar_index_to_word[sampled_token_index]\n",
    "\n",
    "        if (sampled_token!='eostoken'):\n",
    "            decoded_sentence += ' '+sampled_token\n",
    "\n",
    "        #  <eos>에 도달하거나 최대 길이를 넘으면 중단.\n",
    "        if (sampled_token == 'eostoken'  or len(decoded_sentence.split()) >= (headlines_max_len-1)):\n",
    "            stop_condition = True\n",
    "\n",
    "        # 길이가 1인 타겟 시퀀스를 업데이트\n",
    "        target_seq = np.zeros((1,1))\n",
    "        target_seq[0, 0] = sampled_token_index\n",
    "\n",
    "        # 상태를 업데이트 합니다.\n",
    "        e_h, e_c = h, c\n",
    "\n",
    "    return decoded_sentence"
   ]
  },
  {
   "cell_type": "markdown",
   "id": "93940591",
   "metadata": {},
   "source": [
    "## 모델 테스트"
   ]
  },
  {
   "cell_type": "markdown",
   "id": "052fdfce",
   "metadata": {},
   "source": [
    "### 정수 시퀀스를 텍스트 시퀀스로 변환하는 함수"
   ]
  },
  {
   "cell_type": "code",
   "execution_count": 47,
   "id": "0b2e2e8d",
   "metadata": {},
   "outputs": [],
   "source": [
    "# 원문의 정수 시퀀스를 텍스트 시퀀스로 변환\n",
    "def seq2text(input_seq):\n",
    "    temp=''\n",
    "    for i in input_seq:\n",
    "        if (i!=0):\n",
    "            temp = temp + src_index_to_word[i]+' '\n",
    "    return temp\n",
    "\n",
    "# 요약문의 정수 시퀀스를 텍스트 시퀀스로 변환\n",
    "def seq2headlines(input_seq):\n",
    "    temp=''\n",
    "    for i in input_seq:\n",
    "        if ((i!=0 and i!=tar_word_to_index['sostoken']) and i!=tar_word_to_index['eostoken']):\n",
    "            temp = temp + tar_index_to_word[i] + ' '\n",
    "    return temp"
   ]
  },
  {
   "cell_type": "markdown",
   "id": "808e5cad",
   "metadata": {},
   "source": [
    "### test data의 샘플을 실제 요약과 예측 요약을 비교"
   ]
  },
  {
   "cell_type": "code",
   "execution_count": 48,
   "id": "ffc14d0d",
   "metadata": {
    "scrolled": true
   },
   "outputs": [
    {
     "name": "stdout",
     "output_type": "stream",
     "text": [
      "원문 : white house press secretary sean wished people india happy th anniversary independence daily press briefing friday response query pm narendra modi us president donald trump upcoming meeting began answer independence wish went discuss agenda meeting \n",
      "실제 요약 : us secy wishes india th independence anniversary \n",
      "예측 요약 :  un praises canadian president joins trump\n",
      "\n",
      "\n",
      "원문 : pakistan punjab province restored security mumbai terror attack mastermind hafiz saeed month supreme court ordered withdraw officials said saeed security restored threats life saeed repeatedly slammed pakistani government us pressure amid crackdown organisations charities \n",
      "실제 요약 : pak mumbai attack mastermind hafiz saeed security \n",
      "예측 요약 :  pakistan rejects pakistan hafiz saeed\n",
      "\n",
      "\n",
      "원문 : items set get financial year starts tomorrow include cars motorcycles silver gold vegetables cigarettes electronic items become expensive include mobile phones television sets smart watches meanwhile items become cheaper include solar panels accessories used making surgical help deaf \n",
      "실제 요약 : what becomes expensive what gets from \n",
      "예측 요약 :  mcdonald starts for fingerprint\n",
      "\n",
      "\n",
      "원문 : computer virus friday night halted production factories apple iphone chipmaker taiwan manufacturing sole maker iphone main processor said several factories restart till least sunday first time virus ever brought facility \n",
      "실제 요약 : computer virus halts iphone chipmaker \n",
      "예측 요약 :  apple launches iphone for\n",
      "\n",
      "\n",
      "원문 : twenty year old manushi chhillar haryana representing india miss world manushi worked towards spreading awareness menstrual hygiene india part project beauty purpose non profit organisation associated miss world among top five beauty purpose category beauty pageant \n",
      "실제 요약 : who is india at miss world \n",
      "예측 요약 :  miss world oldest miss miss\n",
      "\n",
      "\n",
      "원문 : former finance minister senior congress leader chidambaram saturday said interactions jammu kashmir led believe people talked actually sought autonomy argued larger powers need given people certain areas state jammu kashmir \n",
      "실제 요약 : people seek chidambaram \n",
      "예측 요약 :  chidambaram has not chidambaram chidambaram\n",
      "\n",
      "\n",
      "원문 : wework platform creators provides global network companies grow together teams size find designed space private offices meeting rooms employees guests wework much four walls providing community amenities events technology space experience \n",
      "실제 요약 : offers co working space for companies \n",
      "예측 요약 :  google launches its first service in\n",
      "\n",
      "\n",
      "원문 : researchers used data video game players creating brain neurons six types appeared novel matching could found literature said researchers project pairs machine learning trace paths hence identifying new patterns \n",
      "실제 요약 : study with lakh discovers new \n",
      "예측 요약 :  scientists identify new of\n",
      "\n",
      "\n",
      "원문 : bollywood star shah rukh khan co owner caribbean premier league franchise knight riders danced alongside cheerleaders end first innings jamaica match shah rukh also featured anthem video side knight riders team anthem sung team captain dwayne bravo \n",
      "실제 요약 : srk with in premier league \n",
      "예측 요약 :  kapil sharma to get odi\n",
      "\n",
      "\n",
      "원문 : veteran journalist editor singh international editor year award role opposing emergency former pm indira gandhi passed away aged monday censorship imposed emergency period singh editor published issue appears censorship front page \n",
      "실제 요약 : veteran journalist singh passes away at \n",
      "예측 요약 :  metoo movement metoo casting\n",
      "\n",
      "\n",
      "원문 : mumbai based online fashion marketplace raised crore follow series funding silicon valley venture capital fund funding extension series round march raised similar amount venture catalysts founded startup sources products including clothing shoes bags directly nearby outlets \n",
      "실제 요약 : mumbai fashion portal gets crore from \n",
      "예측 요약 :  mumbai based startup raises crore\n",
      "\n",
      "\n",
      "원문 : israeli housing minister reportedly said time syrian president bashar al assad us claimed evidence syrian authorities burning bodies hide mass killings government minister added assad actions syria amount nothing less hundreds thousands killed \n",
      "실제 요약 : time to syrian president israeli minister \n",
      "예측 요약 :  iran blames against of iran\n",
      "\n",
      "\n",
      "원문 : congress chief rahul gandhi wednesday tweeted sardar patel statue unity inaugurated institutions helped build smashed destruction india institutions nothing short treason added statue unity built gujarat world tallest statue metres \n",
      "실제 요약 : that patel built being rahul \n",
      "예측 요약 :  rahul gandhi to be gandhi\n",
      "\n",
      "\n",
      "원문 : augmented reality startup announced raised undisclosed amount funding indian cricketer yuvraj singh backed ventures join board brand ambassador startup sports wing founded uses ar vr technology offer users mixed reality experiences \n",
      "실제 요약 : yuvraj singh backs startup \n",
      "예측 요약 :  co founder backs startup raises million\n",
      "\n",
      "\n",
      "원문 : three children intellectual disabilities reunited families aadhaar enrolment drive bengaluru found children already registered unique identification authority india biometric data rejected due data available uidai helped trace parents \n",
      "실제 요약 : aadhaar missing children with families \n",
      "예측 요약 :  delhi government to allow for\n",
      "\n",
      "\n",
      "원문 : prime minister narendra modi sunday launched ayushman bharat pradhan mantri jan jharkhand ranchi scheme offers annual cover lakh economically weaker sections society world largest public health insurance scheme benefit crore people across country \n",
      "실제 요약 : pm modi launches world largest govt healthcare scheme \n",
      "예측 요약 :  pm modi inaugurates pm modi\n",
      "\n",
      "\n",
      "원문 : lead afghanistan maiden test india next week said better spinners india tough time us easy either team added new frontier sure said \n",
      "실제 요약 : we have better than india afghanistan captain \n",
      "예측 요약 :  india and of the world\n",
      "\n",
      "\n",
      "원문 : us end residency programme immigrants deportation july homeland security department said former president barack obama administration granted protected status earthquake department said conditions improved significantly giving immigrants months return home \n",
      "실제 요약 : us to end status for immigrants \n",
      "예측 요약 :  russia mulls presidential lama\n",
      "\n",
      "\n",
      "원문 : sushant singh rajput launching initiative provide free education underprivileged children talking said team working group schools children take merit test pass provided free education year added process encourage kids study \n",
      "실제 요약 : sushant to provide free education to kids \n",
      "예측 요약 :  launches first engineers for\n",
      "\n",
      "\n",
      "원문 : many people died separate incidents ten cases drowning first monsoon weekend maharashtra five people including family four drowned beach two thane drowned accidentally walked water three others electrocuted separate incidents saturday \n",
      "실제 요약 : people killed during first monsoon in maharashtra \n",
      "예측 요약 :  dead as bridge in uttar pradesh\n",
      "\n",
      "\n",
      "원문 : senior telangana rashtra samithi leader khan sunday denied chances forming alliance bjp telangana believe keeping promises stick friends khan added comes telangana bjp chief laxman said bjp support drops aimim \n",
      "실제 요약 : no of with bjp leader \n",
      "예측 요약 :  bjp expels victory from pakistan\n",
      "\n",
      "\n",
      "원문 : fmcg major hindustan unilever posted year year increase net profit crore first quarter fy compared crore period last fiscal revenue operations increased crore revenue company home care segment includes brands like rose crore \n",
      "실제 요약 : hindustan unilever profit surges to crore \n",
      "예측 요약 :  hindustan unilever profit rises to crore\n",
      "\n",
      "\n",
      "원문 : technology giant apple transparency report revealed rise us national security requests year company stated received national security requests affecting accounts apple also revealed provided data non civil cases revealed previous reports \n",
      "실제 요약 : rise in us national security in apple \n",
      "예측 요약 :  apple to have apple\n",
      "\n",
      "\n",
      "원문 : trainer aircraft crashed agriculture field near village telangana reddy district aircraft belonged city based rajiv gandhi aviation academy per preliminary information aircraft crashed due technical problem deputy commissioner police said pilot safe added \n",
      "실제 요약 : aircraft crashes in telangana pilot escapes \n",
      "예측 요약 :  plane crashes in nepal plane crash\n",
      "\n",
      "\n",
      "원문 : model reality tv star kendall jenner shared pictures instagram seen posing nude hands chest black white pictures part shoot photographer social media users commented kendall feet pictures user wrote look feet \n",
      "실제 요약 : kendall jenner nude for photoshoot \n",
      "예측 요약 :  instagram shares picture of instagram photo\n",
      "\n",
      "\n",
      "원문 : apple newly launched iphone edge edge display face recognition wireless charging technology available russia italy cost uk priced \n",
      "실제 요약 : how much will iphone cost in other countries \n",
      "예측 요약 :  apple unveils iphone that\n",
      "\n",
      "\n",
      "원문 : two thieves bihar stole electric poles worth lakh sunday arrested police recorded incident informed poles kept roadside electricity department thieves reportedly tried taking poles punjab sell police using footage trace mastermind behind \n",
      "실제 요약 : thieves arrested for stealing electric in bihar \n",
      "예측 요약 :  delhi police fines delhi airport for crore\n",
      "\n",
      "\n",
      "원문 : swiss food drink company tuesday said closed deal market us coffee giant starbucks products around world outside company coffee shops billion deal gives rights sell starbucks products starbucks employees us europe join deal \n",
      "실제 요약 : closes billion deal to market starbucks products \n",
      "예측 요약 :  global attack to buy report\n",
      "\n",
      "\n",
      "원문 : north korea threatened us submarine michigan currently deployed south korean waters takes provocative action north korea state controlled news website warned michigan meet end turn underwater ghost comes us president donald trump said happy north korea another nuclear test \n",
      "실제 요약 : korea threatens to us nuclear submarine \n",
      "예측 요약 :  korea jong korea for korea denuclearisation\n",
      "\n",
      "\n",
      "원문 : actor hrithik roshan look upcoming biopic super unveiled hrithik seen portraying anand kumar credited starting educational initiative bihar prepare financially challenged students iit entrance examination directed vikas bahl super scheduled release january \n",
      "실제 요약 : hrithik look from super unveiled \n",
      "예측 요약 :  salman khan jacqueline jacqueline\n",
      "\n",
      "\n",
      "원문 : ride hailing aggregator ola announced acquired foodpanda india business parent company delivery hero exchange undisclosed amount equity stock ola also invest million food ordering delivery startup part deal founding partner ola appointed interim ceo acquired business \n",
      "실제 요약 : ola acquires foodpanda india business to invest mn \n",
      "예측 요약 :  zomato acquires talks to raise million\n",
      "\n",
      "\n",
      "원문 : five people arrested spanish police officers pulled two cars following short chase found carrying kg suspects claimed collecting journey personal consumption meanwhile authorities later notified gone missing nearby town \n",
      "실제 요약 : police find kg of in suspects cars \n",
      "예측 요약 :  man arrested for in gurugram\n",
      "\n",
      "\n",
      "원문 : us based boeing retained position world largest seventh year row delivering record aircraft overall company saw net orders valued billion boeing followed european rival airbus delivered aircraft last year \n",
      "실제 요약 : world largest for th straight year \n",
      "예측 요약 :  world largest becomes world largest\n",
      "\n",
      "\n",
      "원문 : many people painted like clay figures moved like streets germany protest failure combat climate change upcoming summit calling world make point resistance old new authorities protesters said \n",
      "실제 요약 : in pictures protest summit in germany \n",
      "예측 요약 :  why do the name of\n",
      "\n",
      "\n",
      "원문 : late actress sridevi honoured contribution indian cinema titan lewis film honours held part cannes film festival filmmaker subhash received award behalf family janhvi khushi live forever thanks body work said sridevi husband boney kapoor statement \n",
      "실제 요약 : sridevi honoured at cannes film festival \n",
      "예측 요약 :  sridevi to star in film film report\n",
      "\n",
      "\n",
      "원문 : new zealand selected first transgender athlete commonwealth games naming weightlifter squad games australia year old previously competed male represent country women kg category earlier became new zealand first transgender athlete win international weightlifting title \n",
      "실제 요약 : names transgender in commonwealth games squad \n",
      "예측 요약 :  india first ever test test\n",
      "\n",
      "\n",
      "원문 : vendor tuesday inaugurated newly constructed foot overbridge mumbai elphinstone road station tribute people died stampede bridge commissioned stampede constructed army railway protection force posted bridge initially manage crowd reports said \n",
      "실제 요약 : mumbai station bridge where stampede killed inaugurated \n",
      "예측 요약 :  mumbai railway station to get\n",
      "\n",
      "\n",
      "원문 : barcelona defender partner singer house barcelona reportedly robbed robbers reportedly entered house stormy night parents asleep german city time colombian lebanese singer performing concert \n",
      "실제 요약 : and barcelona house robbed \n",
      "예측 요약 :  mayweather to be auctioned for\n",
      "\n",
      "\n",
      "원문 : senior official border guards bangladesh claimed cattle smuggled india bangladesh economy formally requested bsf stop official added cattle come india dairy farmers go take care issue raised bsf border coordination conference \n",
      "실제 요약 : cattle from india economy bangladesh army \n",
      "예측 요약 :  china to troops to combat\n",
      "\n",
      "\n",
      "원문 : bollywood actor worked prior acting career jobs included working photo lab process photographs assistant director choreographer actor turned wednesday made bollywood debut movie mere \n",
      "실제 요약 : as before acting career \n",
      "예측 요약 :  actor passes away aged\n",
      "\n",
      "\n",
      "원문 : man suspected carried five explosions across us city month killed wednesday team approached police said year old white man killed explosive device inside vehicle serial bombings claimed lives two people \n",
      "실제 요약 : suspect himself up confirm police \n",
      "예측 요약 :  man killed in shooting at us\n",
      "\n",
      "\n",
      "원문 : unveiled new sp concept made world premiere alongside showcase global models sp concept front mask design unique tiger nose kick retail sales india second half next year \n",
      "실제 요약 : unveils concept suv for indian market \n",
      "예측 요약 :  man creates his that\n",
      "\n",
      "\n",
      "원문 : based study ordered puerto rico governor us territory tuesday raised official death toll hurricane maria study found deaths could attributed directly indirectly maria time struck september mid february year \n",
      "실제 요약 : increases hurricane death toll from to \n",
      "예측 요약 :  us to buy carbon for crore\n",
      "\n",
      "\n",
      "원문 : united states president donald trump address global entrepreneurship summit tuesday evening make statement importance encouraging women entrepreneurship meanwhile daughter adviser ivanka trump present summit inaugural hyderabad alongside pm narendra modi \n",
      "실제 요약 : donald trump to attend through \n",
      "예측 요약 :  trump calls trump for\n",
      "\n",
      "\n",
      "원문 : economic survey revealed five states tamil nadu maharashtra gujarat karnataka telangana accounted india exports first time survey found states export performance standard living strongly also noted india internal trade goods services accounted estimated gdp \n",
      "실제 요약 : states account for of india economic survey \n",
      "예측 요약 :  india records in india in\n",
      "\n",
      "\n",
      "원문 : defence minister nirmala sitharaman external affairs minister sushma swaraj lady ministers attended eight member shanghai cooperation organisation defence foreign ministers meetings week meeting attended male counterparts countries including pakistan china photographs show standing among eight male officials \n",
      "실제 요약 : sitharaman swaraj only women ministers at nation meet \n",
      "예측 요약 :  pm modi extends independence for pm\n",
      "\n",
      "\n",
      "원문 : bjp leader sushil modi tuesday said proof bihar deputy cm tejashwi yadav acquired least benami properties growing moustache beard comes yadav earlier denied corruption charges claiming even moustache alleged land hotels deals took place \n",
      "실제 요약 : tejashwi owned assets after growing bjp \n",
      "예측 요약 :  lalu prasad in donations against jaya\n",
      "\n",
      "\n",
      "원문 : former athlete singh appointed goodwill ambassador physical activity south east asia region support singh expect promote scale physical activity region able arrest reverse senior official said \n",
      "실제 요약 : singh appointed who is ambassador \n",
      "예측 요약 :  was banned from icc\n",
      "\n",
      "\n",
      "원문 : started weighing passengers find accurate determine aircraft weight balance currently uses european aviation safety agency estimates said flyers season due extra clothes adding also considerable difference hand luggage weight business travellers \n",
      "실제 요약 : starts passengers before flights \n",
      "예측 요약 :  volkswagen unveils lakh for\n",
      "\n",
      "\n",
      "원문 : per reports actor salman khan rumoured girlfriend make bollywood debut upcoming film dabangg according sources replace lead actress sonakshi sinha director arbaaz khan interesting role earlier salman revealed film prequel showing pandey becomes pandey \n",
      "실제 요약 : salman rumoured girlfriend part of report \n",
      "예측 요약 :  salman khan to release in film reports\n",
      "\n",
      "\n"
     ]
    }
   ],
   "source": [
    "for i in range(50, 100):\n",
    "    print(\"원문 :\", seq2text(encoder_input_test[i]))\n",
    "    print(\"실제 요약 :\", seq2headlines(decoder_input_test[i]))\n",
    "    print(\"예측 요약 :\", decode_sequence(encoder_input_test[i].reshape(1, text_max_len)))\n",
    "    print(\"\\n\")"
   ]
  },
  {
   "cell_type": "markdown",
   "id": "354bb8f3",
   "metadata": {},
   "source": [
    "## 추출적 요약"
   ]
  },
  {
   "cell_type": "code",
   "execution_count": 49,
   "id": "1054021f",
   "metadata": {},
   "outputs": [],
   "source": [
    "import requests\n",
    "from summa.summarizer import summarize"
   ]
  },
  {
   "cell_type": "code",
   "execution_count": 55,
   "id": "f64df85b",
   "metadata": {},
   "outputs": [
    {
     "data": {
      "text/plain": [
       "['saurav kant alumnus upgrad iiit pg program machine learning artificial intelligence sr systems engineer infosys almost years work experience program upgrad degree career support helped transition data scientist tech mahindra salary hike upgrad online power learning powered lakh careers',\n",
       " 'kunal shah credit card bill payment platform cred gave users chance win free food swiggy one year pranav kaushik delhi techie bagged reward spending cred coins users get one cred coin per rupee bill paid used avail rewards brands like ixigo bookmyshow ubereats cult fit',\n",
       " 'new zealand defeated india wickets fourth odi hamilton thursday win first match five match odi series india lost international match rohit sharma captaincy consecutive victories dating back march match witnessed india getting seventh lowest total odi cricket history',\n",
       " 'aegon life iterm insurance plan customers enjoy tax benefits premiums paid save taxes plan provides life cover age years also customers options insure critical illnesses disability accidental death benefit rider life cover age years',\n",
       " 'speaking sexual harassment allegations rajkumar hirani sonam kapoor said known hirani many years true metoo movement get derailed metoo movement always believe woman case need reserve judgment added hirani accused assistant worked sanju',\n",
       " 'pakistani singer rahat fateh ali khan denied receiving notice enforcement directorate allegedly smuggling foreign currency india would better authorities would served notice first publicised reads press release issued behalf rahat statement called allegation bizarre',\n",
       " 'india recorded lowest odi total new zealand getting runs overs fourth odi hamilton thursday seven india batsmen dismissed single digit scores number ten batsman yuzvendra chahal top scored india previous lowest odi total new zealand',\n",
       " 'weeks ex cbi director alok verma told department personnel training consider retired home ministry asked join work last day fixed tenure director thursday ministry directed immediately join dg fire services post transferred removal cbi chief',\n",
       " 'andhra pradesh cm chandrababu naidu said met us president bill clinton addressed mr clinton sir modi junior politics addressed sir times satisfy ego hope justice state added',\n",
       " 'congress candidate shafia zubair ramgarh assembly seat rajasthan defeating bjp sukhwant singh margin votes bypoll victory congress taken total seats member assembly election ramgarh seat delayed due death sitting mla bsp candidate laxman singh',\n",
       " 'two minor cousins uttar pradesh gorakhpur allegedly repeatedly burnt tongs forced eat human excreta family friends two boys school cousins revealed ordeal police child welfare committee brought back gorakhpur nepal fled escape torture',\n",
       " 'isha ghosh year old member bharat scouts guides imparting physical mental training schoolchildren jharkhand several decades chaibasa based ghosh reportedly walks seven kilometres daily spends eight hours conducting physical training apart climbing yoga sessions says one something society till one last breath',\n",
       " 'urging saints seers kumbh mela quit smoking yoga guru ramdev said follow ram krishna never smoked life making take pledge quit tobacco collected chillum several sadhus said deposit chillums display museum build',\n",
       " 'former stripper regional sales director pharmaceutical company sunrise lee gave doctor lap dance nightclub persuade prescribe addictive fentanyl spray company sales representative told us court said saw lee sitting doctor lap kind bouncing around lee accused bribing doctors',\n",
       " 'reliance industries chairman mukesh ambani daughter isha ambani got married last month said cried bidaai felt peer pressure everyone crying especially parents emotional everyone around would cry time added emotional affair everyone family said isha',\n",
       " 'louis vuitton owner lvmh makes high end beverages like mo chandon champagne hennessy cognac said stockpiling four months worth wine spirits uk preparation brexit ready worst case scenario difficulties deliveries french luxury giant said uk scheduled leave eu march',\n",
       " 'filmmaker karan johar actress tabu turned showstoppers gaurav gupta opening night lakm fashion week summer resort johar wore red sequinned jacket black pants tabu walked ramp grey embellished gown fashion show began january continue till february',\n",
       " 'jibe congress president rahul gandhi pm narendra modi wednesday said bail go jail pm modi added bail associates facing charges know convicted one day pm claimed would waged war corruption common household',\n",
       " 'days threatened step post congress mlas continue crossing line karnataka chief minister hd kumaraswamy accused taking potshots asked many days tolerate stuff kumaraswamy made statements congress mla demanded siddaramaiah made cm said power ephemeral',\n",
       " 'union minister dharmendra pradhan wednesday claimed illegal mining mafia odisha operates control cm naveen patnaik state congress chief niranjan patnaik added time come people odisha put full stop activities time come us ask explanation corrupt government',\n",
       " 'claiming dearth ideas among opposition parties prime minister narendra modi wednesday said opposition talks modi whole day suspect even dream pm modi addressing new india youth conclave surat added opposition parties one agenda modi',\n",
       " 'indian space research organisation wednesday unveiled human space flight centre bengaluru crore manned space mission gaganyaan scheduled isro said centre responsible development engineering systems crew survival space crew selection training also pursue activities sustained human space flight missions isro added',\n",
       " 'least people killed others injured saudi arabia week due flooding heavy rain emergency services rescued people flooded areas half tabuk heavy rains hit mainly western northwestern parts saudi arabia near border jordan',\n",
       " 'reliance industries chairman mukesh ambani daughter isha ambani featured cover february edition vogue india dressed white shirt dress black ruffled skirt australian designer toni maticevski accessorising look misho ring cover story isha spoken work life marriage',\n",
       " 'indian oil corporation wednesday said looking annual deal buy us crude seeks broaden oil purchasing options comes amid uncertainties iran imports us november granted six month waiver india sanctions iran restricted country monthly intake iranian oil barrels per day',\n",
       " 'former windies fast bowler curtly ambrose dismissed seven australian batsmen within span balls giving away one run test match january ambrose spell helped team bowl australia first innings one point ambrose ended first innings figures',\n",
       " 'london zoo offering people name cockroach exes valentine day quite require revenge another way make feel better getting back ex zoo said statement names appear zoo roach board february',\n",
       " 'stand captain rohit sharma become th indian cricketer play odis achieving feat taking field new zealand fourth odi hamilton thursday year old made odi debut june ireland belfast rohit scored runs first odis average',\n",
       " 'batsman shubman gill become th cricketer represent india odi cricket achieving feat new zealand fourth odi hamilton thursday year old received maiden odi cap former captain ms dhoni notably shubman named player world cup new zealand last year',\n",
       " 'investigators searching lost plane carrying argentine forward emiliano sala found two seat cushions french coast likely belonged aircraft investigators said launch underwater seabed search aircraft wreckage cardiff city footballer travelling france nantes wales cardiff plane disappeared english channel january',\n",
       " 'italian third division football side lucchese head coach giancarlo favarin banned five months headbutting alessandria assistant coach gaetano mancino brawl following teams draw sunday mancino caught balance knocked ground headbutt earlier match favarin told player break opponent legs',\n",
       " 'cyclists taking part national track cycling championship jaipur opted sleep floor inside stadium instead hotels expensive cycles organisers booked hotels provision cyclists keep bikes inside national gold medallist said cycles cost lakh damaged become non repairable',\n",
       " 'silvia grecco year old brazilian mother narrates local football team palmeiras matches live year old blind autistic son nickollas stands describe details player wearing short sleeves colour football boots hair colour everything see feel tell even need curse referee grecco said recent match',\n",
       " 'techcrunch report claimed india largest bank sbi secured passwordless server overnight alerted allowed anyone access phone numbers bank balances transactions millions customers mumbai based server containing two months data sbi quick sms call based system used request basic information accounts techcrunch revealed',\n",
       " 'rahul gandhi replied goa cm manohar parrikar letter accused congress president using visit ailing man political gains immense pressure pm meeting needs demonstrate loyalty attacking gandhi wrote letter parrikar clarified discuss rafale deal rahul',\n",
       " 'twenty seven year old mohammed mahuwala arrested indore wednesday allegedly cheating commerce giant amazon nearly lakh mahuwala member gang ordered costly gadgets amazon used get refund amount paid saying parcel empty reality devices taken parcel sold local shopkeepers said police',\n",
       " 'agustawestland chopper scam co accused rajiv saxena extradited india uae wednesday evading enforcement directorate summons claiming suffering leukaemia moved anti money laundering court anticipatory bail december stating never summoned dubai address saxena lawyers alleged illegally extradited',\n",
       " 'afghan president ashraf ghani said keys war pakistan islamabad quetta rawalpindi accusing country providing safe havens militants including belonging taliban ghani added key peace afghanistan comments came amid talks us taliban end year war afghanistan',\n",
       " 'singapore based insurance agent jailed two years five months threatening harm clients unless paid bitcoins year old set email account signed messages lord voldemort fictional character harry potter series ye lin myint targeted people including cancelled insurance policies',\n",
       " 'gabrielle reilly year old us woman created earrings apple airpods put sale online absolutely refuse lose made earrings explained earrings took hour make debuted video twitter since garnered three million views',\n",
       " 'ex icici bank ceo chanda kochhar said utterly disappointed hurt shocked bank decision terminate kochhar said served icici years utmost honesty integrity ultimately truth prevail adding given copy independent probe report kochhar said none icici credit decisions unilateral',\n",
       " 'swedish multinational fast fashion brand hennes mauritz ab hired christopher wylie whistleblower exposed facebook cambridge analytica data scandal wylie focus help get better insights customers products markets support work sustainable ethical artificial intelligence spokesperson said wylie former employee cambridge analytica',\n",
       " 'micro blogging platform twitter testing new feature android put news top user timeline update making easier people see news stories followers discussing product manager walter gurzynski said feature comes alongside prompt saying catch happened away',\n",
       " 'samsung started mass producing one terabyte embedded universal flash storage technology use next generation mobile applications claims industry first eufs company added new eufs let smartphones store minute videos shot uhd format sized previous gb version samsung said',\n",
       " 'prime minister narendra modi wednesday said people negative mindset questioning government floating pro poor schemes added negative mindset people raising doubts schemes building toilets providing free gas connections poor said negative mentality laced vested interest still exists country',\n",
       " 'union minister anantkumar hegde took dig congress president rahul gandhi calling hybrid specimen clue religion father muslim mother christian son supposed brahmin even possible said added hybrid specimen cannot found laboratory world',\n",
       " 'several parts us set experience record low temperatures polar vortex hit upper midwest million people expected experience freezing temperatures week temperatures throughout upper midwest expected least zero government offices schools closed several areas',\n",
       " 'police wednesday registered cases persons including woman leader hindu mahasabha aligarh firing effigy mahatma gandhi air pistol incident took place house naurangabad locality city senior superintendent police said video event went viral social media added',\n",
       " 'railway police rescued woman travelling train chennai got leg stuck inside commode toilet caught inside commode hole struggled remove leg following failed attempts shouted help reports said railway police used cutter pry open commode freed leg',\n",
       " 'us tuesday began returning asylum seekers mexico sending back migrant central american nation called move response illegal migration crisis faced migrant protection protocols policy us return certain migrants cross country illegally back mexico asylum requests processed',\n",
       " 'former finance minister yashwant sinha tuesday demanded probe alleged diversion loans worth crore dewan housing finance agencies including regulators government failed track nefarious deals said comes media report tuesday accused dhfl controlling shareholders diverting funds shell companies buy assets',\n",
       " 'us based boeing wednesday reported annual sales worth billion first time planemaker sales crossed billion mark year history company said expects deliver commercial aircraft boeing retained position world largest planemaker seventh straight year delivering aircraft',\n",
       " 'text',\n",
       " 'oneplus emerged india best selling premium smartphone brand per report counterpoint captured market share premium segment oneplus emerged highest selling premium smartphone followed oneplus',\n",
       " 'filmmaker pooja bhatt talking presentation women films said never look female body even naked vulgar manner audience say women films bold sensual never ever vulgar added pooja said censor board heart mind',\n",
       " 'actress mishti featured manikarnika queen jhansi said film co director kangana ranaut made false promises cast kangana said want dates characters look jumbled trying best give everybody prominent space screen watching movie scope characters mishti added',\n",
       " 'high powered committee led pm narendra modi select next cbi director meet february congress leader mallikarjun kharge said panel consisting kharge chief justice india ranjan gogoi met january meeting ended inconclusively kharge cited lack details list ips officers',\n",
       " 'nevada state athletic commission banned mma fighters conor mcgregor khabib nurmagomedov six months nine months respectively roles mass brawl occurred fight ufc last october mcgregor khabib fined respectively brawl occurred nurmagomedov confronted mcgregor teammate',\n",
       " 'pakistan captain sarfaraz ahmed banned four matches racist remarks took apparent dig critics sharing video child reciting log hai na poem twitter pyaar karna hai khud se kar dushmani karne ke liye log hai na poem read world sarfaraz wrote',\n",
       " 'banned cricketer sreesanth told supreme court initially confessed delhi police alleged involvement ipl spot fixing scandal escape continuous police torture sreesanth said bookie tried dragging spot fixing fall citing sreesanth informing bcci fixing approach apex court said sreesanth conduct good',\n",
       " 'finance ministry wednesday said government present interim budget february clarification came amid speculations full budget may presented session government recently assigned piyush goyal temporary additional charge finance corporate affairs ministries absence arun jaitley us treatment',\n",
       " 'us president donald trump wednesday called country top intelligence chiefs naive wrong iran added perhaps go back school trump claimed iran testing rockets calling country source potential danger conflict top us intelligence officials tuesday said iran currently taking steps towards building nuclear weapons',\n",
       " 'senior priest vatican handled cases sexual abuse quit accused sexual abuse former nun accused priest claimed innocent said would consider taking legal action vatican said statement church investigation case underway',\n",
       " 'year old writer turned job offer claiming bullied point tears two hour interview uk company ceo olivia bland added brutal interview brought back painful memories abusive relationship sorry anyone hurt never intent web applications ceo craig dean replied',\n",
       " 'noida police arrested sector station charge manoj pant three journalists allegedly extorting money call centre owner removing name fir four caught taking bribe money lakh police said pant lead investigator paytm extortion case involving founder vijay shekhar sharma secretary sonia dhawan',\n",
       " 'airtel wednesday said qatar sovereign wealth fund qatar investment authority invest million primary equity issuance airtel africa india second largest telecom operator africa unit recently raised billion six investors airtel africa holding company airtel operations african countries preparing initial public offering',\n",
       " 'actor shreyas talpade said golmaal filmmaker rohit shetty still working script fifth instalment golmaal film franchise telling us day cracked story done scripting take call actor added series features shreyas along ajay devgn arshad warsi tusshar kapoor',\n",
       " 'year old man named terry sanderson sued avengers actress gwyneth paltrow allegedly crashing skiing seeking million damages lawsuit states actress got skied away knocking man leaving broken ribs incident reportedly took place utah us',\n",
       " 'yami gautam felicitated border security force amritsar performance uri surgical strike bsf first line defence country gives pride met yami said film also stars vicky kaushal based indian army surgical strike operation took place',\n",
       " 'social media giant facebook hired privacy critic nate cardozo formerly top legal counsel us privacy watchdog eff privacy policy manager whatsapp cardozo called facebook faceless corporation whose business model depends user confusion indifference privacy october facebook also hired attorney robyn greene privacy policy manager',\n",
       " 'apple ceo tim cook said company plans lower iphones prices markets currencies weakened us dollar past year decided go back commensurate local prices year ago cook added price cuts hopes increasing sales reportedly occurring second time years',\n",
       " 'scientists australia flinders university testing wetsuit prototype could protect wearer shark attack suit made synthetic material similar material used bulletproof vests could help reduce blood loss shark attack majority fatalities shark bites due blood loss shock blood loss scientist said',\n",
       " 'bjp national secretary rahul sinha wednesday asked party workers west bengal come armed sticks pm narendra modi rally state february statement came day clashes broke following bjp chief amit shah wb rally sinha added tmc indulged violence afraid bjp strength',\n",
       " 'bjp president amit shah wednesday took dig opposition parties saying mahagathbandhan opposition bua bhatija bhai behen added bjp meant badhta bharat banta bharat said opposition government cannot take country ahead modiji provide mazboot government',\n",
       " 'german automaker volkswagen group retained car industry top spot global sales beating japanese rival toyota volkswagen sales including man scania heavy trucks buses rose million company said toyota came second around million deliveries including affiliated brands daihatsu hino',\n",
       " 'ousted nissan chairman carlos ghosn said arrest alleged financial misconduct led plot treason japanese carmaker executives opposed deeper integration renault mitsubishi ghosn added discussed integration plans nissan ceo september month arrest said would flee granted bail',\n",
       " 'government cut customs duty import parts components electric vehicles previous central board indirect taxes customs said disassembled parts attract duty whereas levied pre assembled packs however fully built electric vehicles continue attract import duty',\n",
       " 'government officials wednesday said swine flu outbreak killed people year rajasthan colder weather worsened seasonal outbreak virus country officials added rajasthan recorded third swine flu deaths india jodhpur worst affected area state officials said',\n",
       " 'north korea unlikely completely give nuclear weapons production capabilities director us national intelligence daniel coats said north korean leaders view nuclear arms critical regime survival added statements come despite north korea agreement us singapore summit last year denuclearise korean peninsula',\n",
       " 'jet airways wednesday denied directed ge capital aviation services ground aircraft due non payment dues airline said process delivering three aircraft lessors due expiry lease terms three aircraft temporarily grounded carry engine normalisation exercise added',\n",
       " 'retired justice srikrishna enquiry panel found ex ceo chanda kochhar violated icici bank code conduct bank said treat kochhar exit termination take back bonuses paid april march cbi recently filed case kochhar husband videocon md icici videocon loan case',\n",
       " 'ex india cricketer jacob martin shifted general ward icu ventilator nearly month following road accident wherein severely injured lungs martin wife khyati mentioned chances jacob hospital two months bcci csk various cricketers provided financial assistance martin treatment',\n",
       " 'sri lanka rounder thisara perera written sri lanka cricket ceo ashley de silva asking board intervene odi captain lasith malinga wife tanya targeted facebook tanya accused perera meeting country sports minister secure place team become laughing stock whole country one person personal vendetta perera wrote',\n",
       " 'goa cm ex defence minister manohar parrikar written letter congress president rahul gandhi claim parrikar told nothing new rafale deal parrikar wrote kindly use visit ailing person feed political opportunism five minute meeting discuss anything rafale added',\n",
       " 'prime minister narendra modi stopped speech inauguration new terminal building surat airport observing cameraman fainted pm modi asked officers urgently arrange ambulance cameraman good pm paying attention surroundings speech cameraman later said hospital',\n",
       " 'couple got divorced minutes wedding ceremony got gujarat gondal disagreement broke relatives sides started throwing dishes lunch advocates representing sides arrived marriage hall got couple divorced within minutes couple even reportedly returned gifts exchanged ceremony',\n",
       " 'gujarat education minister bhupendrasinh chudasma written congratulatory message yoga ashram run rape convict asaram organisation observing february matru pitru pujan divas congress termed letter unfortunate saying shows nexus bjp godman chudasma clarified done sent best wishes',\n",
       " 'venezuelan president nicol maduro claimed american counterpart donald trump ordered colombian government colombian mafia kill something happens trump colombian president iv rquez bear responsibility added us blamed maduro economic crisis venezuela recognised opposition leader juan guaid interim president',\n",
       " 'eight asian billionaires aged bloomberg billionaires index world richest people combined net worth billion richest among hong kong li ka shing net worth billion india year old pallonji mistry controls tata sons shapoorji pallonji group worth billion',\n",
       " 'tamil nadu food safety officials wednesday raided seized kgs banned plastic items hotel saravana bhavan chennai vadapalani officials began surprise check branch state government banned single use plastics january said banned items handed offices city corporation',\n",
       " 'actress shamita shetty verbally abused driver slapped incident road rage mumbai tuesday per reports incident reportedly took place motorist accompanied two friends rammed vehicle shamita car men allegedly manhandled threatened shamita driver stepped inspect damage',\n",
       " 'actress vaani kapoor said trolling become norm social media adding one got trolled social media everybody pull person bother let bother vaani added said social media offers platform people enjoy belittling everybody',\n",
       " 'actress sushmita sen took instagram share joke subject marriage whoever invented marriage creepy hell like love much gonna get government involved leave sushmita post read insult beauty marriage instagram user commented post',\n",
       " 'television actor karanvir bohra flew russia tuesday attend film festival detained moscow due passport damage contemplating deport back india actor wrote twitter indian embassy russia capital responded tweet said looking issue',\n",
       " 'speaking winning awards films shah rukh khan said get award award loss sometimes prestige award increases receive actor jokingly added shah rukh said extremely ambitious fair manner',\n",
       " 'actress patralekhaa make debut kannada film industry action comedy film kannadaka definitely say kind role portrayed screen far makes special actress said statement shooting film reportedly begin april',\n",
       " 'gmail tuesday faced global outage also affected india wherein certain users complained faced error message trying sign accounts error message read requested url found server know google responded saying problem gmail resolved apologise inconvenience',\n",
       " 'shiv sena chief uddhav thackeray asked bjp decide alliance sena within days said bjp make concrete proposal alliance thackeray added bjp agrees sena terms conditions party agree alliance sena free fight independently said',\n",
       " 'bjp president amit shah wednesday took dig opposition proposed grand alliance saying mahagathbandhan comes power opposition leader prime minister every day week added country go holiday sunday said opposition thinking leading country leader',\n",
       " 'prime minister narendra modi wednesday said government demonetisation decision made houses affordable aspiring youth added decisions like demonetisation rera put check black money used parked real estate sector said udan scheme boosted development country aviation sector']"
      ]
     },
     "execution_count": 55,
     "metadata": {},
     "output_type": "execute_result"
    }
   ],
   "source": [
    "clean_text[:100]"
   ]
  },
  {
   "cell_type": "code",
   "execution_count": 78,
   "id": "58666e46",
   "metadata": {
    "scrolled": true
   },
   "outputs": [],
   "source": [
    "Str_clean_text = \". \".join(clean_text)"
   ]
  },
  {
   "cell_type": "code",
   "execution_count": 79,
   "id": "04d259a4",
   "metadata": {
    "scrolled": false
   },
   "outputs": [
    {
     "data": {
      "text/plain": [
       "'saurav kant alumnus upgrad iiit pg program machine learning artificial intelligence sr systems engineer infosys almost years work experience program upgrad degree career support helped transition data scientist tech mahindra salary hike upgrad online power learning powered lakh careers. kunal shah credit card bill payment platform cred gave users chance win free food swiggy one year pranav kaushik delhi techie bagged reward spending cred coins users get one cred coin per rupee bill paid used avail rewards brands like ixigo bookmyshow ubereats cult fit. new zealand defeated india wickets fourth odi hamilton thursday win first match five match odi series india lost international match rohit sharma captaincy consecutive victories dating back march match witnessed india getting seventh lowest total odi cricket history. aegon life iterm insurance plan customers enjoy tax benefits premiums paid save taxes plan provides life cover age years also customers options insure critical illnesses dis'"
      ]
     },
     "execution_count": 79,
     "metadata": {},
     "output_type": "execute_result"
    }
   ],
   "source": [
    "Str_clean_text[:1000]"
   ]
  },
  {
   "cell_type": "markdown",
   "id": "350c12c0",
   "metadata": {},
   "source": [
    "### summarize 사용"
   ]
  },
  {
   "cell_type": "code",
   "execution_count": 75,
   "id": "7b7906da",
   "metadata": {
    "scrolled": true
   },
   "outputs": [
    {
     "name": "stdout",
     "output_type": "stream",
     "text": [
      "headlines:\n"
     ]
    },
    {
     "ename": "KeyboardInterrupt",
     "evalue": "",
     "output_type": "error",
     "traceback": [
      "\u001b[0;31m---------------------------------------------------------------------------\u001b[0m",
      "\u001b[0;31mKeyboardInterrupt\u001b[0m                         Traceback (most recent call last)",
      "\u001b[0;32m/tmp/ipykernel_2831/3525639671.py\u001b[0m in \u001b[0;36m<module>\u001b[0;34m\u001b[0m\n\u001b[1;32m      1\u001b[0m \u001b[0mprint\u001b[0m\u001b[0;34m(\u001b[0m\u001b[0;34m'headlines:'\u001b[0m\u001b[0;34m)\u001b[0m\u001b[0;34m\u001b[0m\u001b[0;34m\u001b[0m\u001b[0m\n\u001b[0;32m----> 2\u001b[0;31m \u001b[0mprint\u001b[0m\u001b[0;34m(\u001b[0m\u001b[0msummarize\u001b[0m\u001b[0;34m(\u001b[0m\u001b[0mStr_clean_text\u001b[0m\u001b[0;34m,\u001b[0m \u001b[0mratio\u001b[0m\u001b[0;34m=\u001b[0m\u001b[0;36m0.005\u001b[0m\u001b[0;34m)\u001b[0m\u001b[0;34m)\u001b[0m\u001b[0;34m\u001b[0m\u001b[0;34m\u001b[0m\u001b[0m\n\u001b[0m",
      "\u001b[0;32m/opt/conda/lib/python3.9/site-packages/summa/summarizer.py\u001b[0m in \u001b[0;36msummarize\u001b[0;34m(text, ratio, words, language, split, scores, additional_stopwords)\u001b[0m\n\u001b[1;32m    119\u001b[0m     \u001b[0;31m# Creates the graph and calculates the similarity coefficient for every pair of nodes.\u001b[0m\u001b[0;34m\u001b[0m\u001b[0;34m\u001b[0m\u001b[0m\n\u001b[1;32m    120\u001b[0m     \u001b[0mgraph\u001b[0m \u001b[0;34m=\u001b[0m \u001b[0m_build_graph\u001b[0m\u001b[0;34m(\u001b[0m\u001b[0;34m[\u001b[0m\u001b[0msentence\u001b[0m\u001b[0;34m.\u001b[0m\u001b[0mtoken\u001b[0m \u001b[0;32mfor\u001b[0m \u001b[0msentence\u001b[0m \u001b[0;32min\u001b[0m \u001b[0msentences\u001b[0m\u001b[0;34m]\u001b[0m\u001b[0;34m)\u001b[0m\u001b[0;34m\u001b[0m\u001b[0;34m\u001b[0m\u001b[0m\n\u001b[0;32m--> 121\u001b[0;31m     \u001b[0m_set_graph_edge_weights\u001b[0m\u001b[0;34m(\u001b[0m\u001b[0mgraph\u001b[0m\u001b[0;34m)\u001b[0m\u001b[0;34m\u001b[0m\u001b[0;34m\u001b[0m\u001b[0m\n\u001b[0m\u001b[1;32m    122\u001b[0m \u001b[0;34m\u001b[0m\u001b[0m\n\u001b[1;32m    123\u001b[0m     \u001b[0;31m# Remove all nodes with all edges weights equal to zero.\u001b[0m\u001b[0;34m\u001b[0m\u001b[0;34m\u001b[0m\u001b[0m\n",
      "\u001b[0;32m/opt/conda/lib/python3.9/site-packages/summa/summarizer.py\u001b[0m in \u001b[0;36m_set_graph_edge_weights\u001b[0;34m(graph)\u001b[0m\n\u001b[1;32m     15\u001b[0m                 \u001b[0msimilarity\u001b[0m \u001b[0;34m=\u001b[0m \u001b[0m_get_similarity\u001b[0m\u001b[0;34m(\u001b[0m\u001b[0msentence_1\u001b[0m\u001b[0;34m,\u001b[0m \u001b[0msentence_2\u001b[0m\u001b[0;34m)\u001b[0m\u001b[0;34m\u001b[0m\u001b[0;34m\u001b[0m\u001b[0m\n\u001b[1;32m     16\u001b[0m                 \u001b[0;32mif\u001b[0m \u001b[0msimilarity\u001b[0m \u001b[0;34m!=\u001b[0m \u001b[0;36m0\u001b[0m\u001b[0;34m:\u001b[0m\u001b[0;34m\u001b[0m\u001b[0;34m\u001b[0m\u001b[0m\n\u001b[0;32m---> 17\u001b[0;31m                     \u001b[0mgraph\u001b[0m\u001b[0;34m.\u001b[0m\u001b[0madd_edge\u001b[0m\u001b[0;34m(\u001b[0m\u001b[0medge\u001b[0m\u001b[0;34m,\u001b[0m \u001b[0msimilarity\u001b[0m\u001b[0;34m)\u001b[0m\u001b[0;34m\u001b[0m\u001b[0;34m\u001b[0m\u001b[0m\n\u001b[0m\u001b[1;32m     18\u001b[0m \u001b[0;34m\u001b[0m\u001b[0m\n\u001b[1;32m     19\u001b[0m     \u001b[0;31m# Handles the case in which all similarities are zero.\u001b[0m\u001b[0;34m\u001b[0m\u001b[0;34m\u001b[0m\u001b[0m\n",
      "\u001b[0;32m/opt/conda/lib/python3.9/site-packages/summa/graph.py\u001b[0m in \u001b[0;36madd_edge\u001b[0;34m(self, edge, wt, label, attrs)\u001b[0m\n\u001b[1;32m    168\u001b[0m     \u001b[0;32mdef\u001b[0m \u001b[0madd_edge\u001b[0m\u001b[0;34m(\u001b[0m\u001b[0mself\u001b[0m\u001b[0;34m,\u001b[0m \u001b[0medge\u001b[0m\u001b[0;34m,\u001b[0m \u001b[0mwt\u001b[0m\u001b[0;34m=\u001b[0m\u001b[0;36m1\u001b[0m\u001b[0;34m,\u001b[0m \u001b[0mlabel\u001b[0m\u001b[0;34m=\u001b[0m\u001b[0;34m''\u001b[0m\u001b[0;34m,\u001b[0m \u001b[0mattrs\u001b[0m\u001b[0;34m=\u001b[0m\u001b[0;34m[\u001b[0m\u001b[0;34m]\u001b[0m\u001b[0;34m)\u001b[0m\u001b[0;34m:\u001b[0m\u001b[0;34m\u001b[0m\u001b[0;34m\u001b[0m\u001b[0m\n\u001b[1;32m    169\u001b[0m         \u001b[0mu\u001b[0m\u001b[0;34m,\u001b[0m \u001b[0mv\u001b[0m \u001b[0;34m=\u001b[0m \u001b[0medge\u001b[0m\u001b[0;34m\u001b[0m\u001b[0;34m\u001b[0m\u001b[0m\n\u001b[0;32m--> 170\u001b[0;31m         \u001b[0;32mif\u001b[0m \u001b[0;34m(\u001b[0m\u001b[0mv\u001b[0m \u001b[0;32mnot\u001b[0m \u001b[0;32min\u001b[0m \u001b[0mself\u001b[0m\u001b[0;34m.\u001b[0m\u001b[0mnode_neighbors\u001b[0m\u001b[0;34m[\u001b[0m\u001b[0mu\u001b[0m\u001b[0;34m]\u001b[0m \u001b[0;32mand\u001b[0m \u001b[0mu\u001b[0m \u001b[0;32mnot\u001b[0m \u001b[0;32min\u001b[0m \u001b[0mself\u001b[0m\u001b[0;34m.\u001b[0m\u001b[0mnode_neighbors\u001b[0m\u001b[0;34m[\u001b[0m\u001b[0mv\u001b[0m\u001b[0;34m]\u001b[0m\u001b[0;34m)\u001b[0m\u001b[0;34m:\u001b[0m\u001b[0;34m\u001b[0m\u001b[0;34m\u001b[0m\u001b[0m\n\u001b[0m\u001b[1;32m    171\u001b[0m             \u001b[0mself\u001b[0m\u001b[0;34m.\u001b[0m\u001b[0mnode_neighbors\u001b[0m\u001b[0;34m[\u001b[0m\u001b[0mu\u001b[0m\u001b[0;34m]\u001b[0m\u001b[0;34m.\u001b[0m\u001b[0mappend\u001b[0m\u001b[0;34m(\u001b[0m\u001b[0mv\u001b[0m\u001b[0;34m)\u001b[0m\u001b[0;34m\u001b[0m\u001b[0;34m\u001b[0m\u001b[0m\n\u001b[1;32m    172\u001b[0m             \u001b[0;32mif\u001b[0m \u001b[0;34m(\u001b[0m\u001b[0mu\u001b[0m \u001b[0;34m!=\u001b[0m \u001b[0mv\u001b[0m\u001b[0;34m)\u001b[0m\u001b[0;34m:\u001b[0m\u001b[0;34m\u001b[0m\u001b[0;34m\u001b[0m\u001b[0m\n",
      "\u001b[0;31mKeyboardInterrupt\u001b[0m: "
     ]
    }
   ],
   "source": [
    "print('headlines:')\n",
    "print(summarize(Str_clean_text, ratio=0.005))"
   ]
  },
  {
   "cell_type": "code",
   "execution_count": 63,
   "id": "b5f6e003",
   "metadata": {},
   "outputs": [
    {
     "name": "stdout",
     "output_type": "stream",
     "text": [
      "headlines:\n",
      "[]\n"
     ]
    }
   ],
   "source": [
    "print('headlines:')\n",
    "print(summarize(Str_clean_text, ratio=0.005, split=True))"
   ]
  },
  {
   "cell_type": "code",
   "execution_count": 64,
   "id": "4d221f48",
   "metadata": {},
   "outputs": [
    {
     "name": "stdout",
     "output_type": "stream",
     "text": [
      "headlines:\n",
      "\n"
     ]
    }
   ],
   "source": [
    "print('headlines:')\n",
    "print(summarize(Str_clean_text, words=50))"
   ]
  },
  {
   "cell_type": "markdown",
   "id": "1db11078",
   "metadata": {},
   "source": [
    "# 회고\n",
    "\n"
   ]
  },
  {
   "cell_type": "code",
   "execution_count": 65,
   "id": "c3651c2f",
   "metadata": {},
   "outputs": [
    {
     "data": {
      "text/plain": [
       "list"
      ]
     },
     "execution_count": 65,
     "metadata": {},
     "output_type": "execute_result"
    }
   ],
   "source": [
    "type(clean_text)"
   ]
  },
  {
   "cell_type": "code",
   "execution_count": 74,
   "id": "d821d0cf",
   "metadata": {},
   "outputs": [
    {
     "data": {
      "text/plain": [
       "str"
      ]
     },
     "execution_count": 74,
     "metadata": {},
     "output_type": "execute_result"
    }
   ],
   "source": [
    "type(Str_clean_text)"
   ]
  }
 ],
 "metadata": {
  "kernelspec": {
   "display_name": "Python 3 (ipykernel)",
   "language": "python",
   "name": "python3"
  },
  "language_info": {
   "codemirror_mode": {
    "name": "ipython",
    "version": 3
   },
   "file_extension": ".py",
   "mimetype": "text/x-python",
   "name": "python",
   "nbconvert_exporter": "python",
   "pygments_lexer": "ipython3",
   "version": "3.9.7"
  }
 },
 "nbformat": 4,
 "nbformat_minor": 5
}
