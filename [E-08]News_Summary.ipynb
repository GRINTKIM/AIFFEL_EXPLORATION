{
 "cells": [
  {
   "cell_type": "markdown",
   "id": "f4b52897",
   "metadata": {},
   "source": [
    "# 뉴스기사 요약해보기\n",
    "\n",
    "### 필요한 라이브러리 불러오기\n",
    "### NLTK 패키지에서 불용어 사전을 다운로드"
   ]
  },
  {
   "cell_type": "code",
   "execution_count": 1,
   "id": "636ca734",
   "metadata": {
    "scrolled": true
   },
   "outputs": [
    {
     "name": "stderr",
     "output_type": "stream",
     "text": [
      "[nltk_data] Downloading package stopwords to /aiffel/nltk_data...\n",
      "[nltk_data]   Package stopwords is already up-to-date!\n"
     ]
    }
   ],
   "source": [
    "import nltk\n",
    "nltk.download('stopwords')\n",
    "\n",
    "import numpy as np\n",
    "import pandas as pd\n",
    "import os\n",
    "import re\n",
    "import matplotlib.pyplot as plt\n",
    "from nltk.corpus import stopwords\n",
    "from bs4 import BeautifulSoup \n",
    "from tensorflow.keras.preprocessing.text import Tokenizer \n",
    "from tensorflow.keras.preprocessing.sequence import pad_sequences\n",
    "import urllib.request\n",
    "import warnings\n",
    "warnings.filterwarnings(\"ignore\", category=UserWarning, module='bs4')\n",
    "import urllib.request\n"
   ]
  },
  {
   "cell_type": "markdown",
   "id": "2dab3bc3",
   "metadata": {},
   "source": [
    "### 전체 샘플수 확인"
   ]
  },
  {
   "cell_type": "code",
   "execution_count": 2,
   "id": "3b551e4c",
   "metadata": {
    "scrolled": true
   },
   "outputs": [
    {
     "name": "stdout",
     "output_type": "stream",
     "text": [
      "전체 샘플수 : 98401\n"
     ]
    }
   ],
   "source": [
    "urllib.request.urlretrieve(\"https://raw.githubusercontent.com/sunnysai12345/News_headlines/master/news_headlines_more.csv\", filename=\"news_headlines_more.csv\")\n",
    "data = pd.read_csv('news_headlines_more.csv', encoding='iso-8859-1')\n",
    "\n",
    "print('전체 샘플수 :', (len(data)))"
   ]
  },
  {
   "cell_type": "markdown",
   "id": "0e374418",
   "metadata": {},
   "source": [
    "#### 샘플 중 10개를 확인"
   ]
  },
  {
   "cell_type": "code",
   "execution_count": 3,
   "id": "f00c72ca",
   "metadata": {
    "scrolled": false
   },
   "outputs": [
    {
     "data": {
      "text/html": [
       "<div>\n",
       "<style scoped>\n",
       "    .dataframe tbody tr th:only-of-type {\n",
       "        vertical-align: middle;\n",
       "    }\n",
       "\n",
       "    .dataframe tbody tr th {\n",
       "        vertical-align: top;\n",
       "    }\n",
       "\n",
       "    .dataframe thead th {\n",
       "        text-align: right;\n",
       "    }\n",
       "</style>\n",
       "<table border=\"1\" class=\"dataframe\">\n",
       "  <thead>\n",
       "    <tr style=\"text-align: right;\">\n",
       "      <th></th>\n",
       "      <th>headlines</th>\n",
       "      <th>text</th>\n",
       "    </tr>\n",
       "  </thead>\n",
       "  <tbody>\n",
       "    <tr>\n",
       "      <th>3851</th>\n",
       "      <td>RBI allows restructuring of small business loa...</td>\n",
       "      <td>The Reserve Bank of India (RBI) has allowed on...</td>\n",
       "    </tr>\n",
       "    <tr>\n",
       "      <th>10724</th>\n",
       "      <td>Faraday Future employees start fundraiser afte...</td>\n",
       "      <td>Cash-strapped Faraday Future's employees have ...</td>\n",
       "    </tr>\n",
       "    <tr>\n",
       "      <th>6190</th>\n",
       "      <td>Knew allying with BJP was suicidal, yet staked...</td>\n",
       "      <td>PDP chief Mehbooba Mufti on Friday stated, \"De...</td>\n",
       "    </tr>\n",
       "    <tr>\n",
       "      <th>725</th>\n",
       "      <td>Gambhir, Chhetri among 9 sports personalities ...</td>\n",
       "      <td>As many as nine sports personalities have been...</td>\n",
       "    </tr>\n",
       "    <tr>\n",
       "      <th>80549</th>\n",
       "      <td>Govt receives 90 applications for RBI Deputy G...</td>\n",
       "      <td>The Finance Ministry has received around 90 ap...</td>\n",
       "    </tr>\n",
       "    <tr>\n",
       "      <th>57859</th>\n",
       "      <td>Service activity hits 3-month low in November ...</td>\n",
       "      <td>The services sector in India slipped into the ...</td>\n",
       "    </tr>\n",
       "    <tr>\n",
       "      <th>59796</th>\n",
       "      <td>Kangana gets injured while shooting stunt for ...</td>\n",
       "      <td>Kangana Ranaut suffered a leg injury while sho...</td>\n",
       "    </tr>\n",
       "    <tr>\n",
       "      <th>41346</th>\n",
       "      <td>Rahul Gandhi's Twitter profile is on steroids:...</td>\n",
       "      <td>Slamming Congress President Rahul Gandhi, BJP ...</td>\n",
       "    </tr>\n",
       "    <tr>\n",
       "      <th>85887</th>\n",
       "      <td>Railways acts upon 3,000 complaints on Twitter...</td>\n",
       "      <td>Ministry of Railways' Twitter handle @RailMinI...</td>\n",
       "    </tr>\n",
       "    <tr>\n",
       "      <th>3360</th>\n",
       "      <td>People of Odisha want leadership change: Dharm...</td>\n",
       "      <td>Taking a dig at Naveen Patnaik-led Odisha gove...</td>\n",
       "    </tr>\n",
       "  </tbody>\n",
       "</table>\n",
       "</div>"
      ],
      "text/plain": [
       "                                               headlines  \\\n",
       "3851   RBI allows restructuring of small business loa...   \n",
       "10724  Faraday Future employees start fundraiser afte...   \n",
       "6190   Knew allying with BJP was suicidal, yet staked...   \n",
       "725    Gambhir, Chhetri among 9 sports personalities ...   \n",
       "80549  Govt receives 90 applications for RBI Deputy G...   \n",
       "57859  Service activity hits 3-month low in November ...   \n",
       "59796  Kangana gets injured while shooting stunt for ...   \n",
       "41346  Rahul Gandhi's Twitter profile is on steroids:...   \n",
       "85887  Railways acts upon 3,000 complaints on Twitter...   \n",
       "3360   People of Odisha want leadership change: Dharm...   \n",
       "\n",
       "                                                    text  \n",
       "3851   The Reserve Bank of India (RBI) has allowed on...  \n",
       "10724  Cash-strapped Faraday Future's employees have ...  \n",
       "6190   PDP chief Mehbooba Mufti on Friday stated, \"De...  \n",
       "725    As many as nine sports personalities have been...  \n",
       "80549  The Finance Ministry has received around 90 ap...  \n",
       "57859  The services sector in India slipped into the ...  \n",
       "59796  Kangana Ranaut suffered a leg injury while sho...  \n",
       "41346  Slamming Congress President Rahul Gandhi, BJP ...  \n",
       "85887  Ministry of Railways' Twitter handle @RailMinI...  \n",
       "3360   Taking a dig at Naveen Patnaik-led Odisha gove...  "
      ]
     },
     "execution_count": 3,
     "metadata": {},
     "output_type": "execute_result"
    }
   ],
   "source": [
    "data.sample(10)"
   ]
  },
  {
   "cell_type": "markdown",
   "id": "fcc7b9f9",
   "metadata": {},
   "source": [
    "### text만 훈련에 사용하기에 text만 저장하고 출력"
   ]
  },
  {
   "cell_type": "code",
   "execution_count": 4,
   "id": "9ab07242",
   "metadata": {},
   "outputs": [
    {
     "data": {
      "text/html": [
       "<div>\n",
       "<style scoped>\n",
       "    .dataframe tbody tr th:only-of-type {\n",
       "        vertical-align: middle;\n",
       "    }\n",
       "\n",
       "    .dataframe tbody tr th {\n",
       "        vertical-align: top;\n",
       "    }\n",
       "\n",
       "    .dataframe thead th {\n",
       "        text-align: right;\n",
       "    }\n",
       "</style>\n",
       "<table border=\"1\" class=\"dataframe\">\n",
       "  <thead>\n",
       "    <tr style=\"text-align: right;\">\n",
       "      <th></th>\n",
       "      <th>text</th>\n",
       "      <th>headlines</th>\n",
       "    </tr>\n",
       "  </thead>\n",
       "  <tbody>\n",
       "    <tr>\n",
       "      <th>63633</th>\n",
       "      <td>Indian opener Rohit Sharma and captain Virat K...</td>\n",
       "      <td>Kohli, Sharma score tons, become 2017's top 2 ...</td>\n",
       "    </tr>\n",
       "    <tr>\n",
       "      <th>67219</th>\n",
       "      <td>The Chairman of the US Joint Chiefs of Staff, ...</td>\n",
       "      <td>Pak's ISI has links to terrorist groups: Top U...</td>\n",
       "    </tr>\n",
       "    <tr>\n",
       "      <th>64649</th>\n",
       "      <td>The Delhi Police has decided to convert the RT...</td>\n",
       "      <td>Delhi Police to recycle 2.2 tonnes of RTI appl...</td>\n",
       "    </tr>\n",
       "    <tr>\n",
       "      <th>5922</th>\n",
       "      <td>Ranveer Singh was named Best Actor for 'Padmaa...</td>\n",
       "      <td>Ranveer, Alia win best acting awards at Star S...</td>\n",
       "    </tr>\n",
       "    <tr>\n",
       "      <th>68442</th>\n",
       "      <td>ISIS has challenged Britain's Prince Harry to ...</td>\n",
       "      <td>ISIS challenges UK's Prince Harry to a fight</td>\n",
       "    </tr>\n",
       "    <tr>\n",
       "      <th>82875</th>\n",
       "      <td>The upper house of Ireland's Parliament on Wed...</td>\n",
       "      <td>Ireland's Parliament bans onshore fracking</td>\n",
       "    </tr>\n",
       "    <tr>\n",
       "      <th>54275</th>\n",
       "      <td>Speaking on a television chat show, actor Zac ...</td>\n",
       "      <td>Almost died on a cycling trip with Hugh Jackma...</td>\n",
       "    </tr>\n",
       "    <tr>\n",
       "      <th>30214</th>\n",
       "      <td>During a 2004 interview, then Congress Preside...</td>\n",
       "      <td>Came to India as I was in love with Rajiv: Son...</td>\n",
       "    </tr>\n",
       "    <tr>\n",
       "      <th>49992</th>\n",
       "      <td>American cosmetics company Revlon's CEO Fabian...</td>\n",
       "      <td>Revlon CEO Fabian Garcia steps down after less...</td>\n",
       "    </tr>\n",
       "    <tr>\n",
       "      <th>57284</th>\n",
       "      <td>Swiss researchers have demonstrated an imaging...</td>\n",
       "      <td>Scientists use electric currents to detect cancer</td>\n",
       "    </tr>\n",
       "    <tr>\n",
       "      <th>21727</th>\n",
       "      <td>Shiv Sena chief Uddhav Thackeray has slammed t...</td>\n",
       "      <td>Earlier media kept watch on govt, now govt wat...</td>\n",
       "    </tr>\n",
       "    <tr>\n",
       "      <th>47158</th>\n",
       "      <td>Production house Nadiadwala Grandson Entertain...</td>\n",
       "      <td>Tiger to star in 'Baaghi 3', actress yet to be...</td>\n",
       "    </tr>\n",
       "    <tr>\n",
       "      <th>2068</th>\n",
       "      <td>US President Donald Trump's daughter and senio...</td>\n",
       "      <td>Ivanka Trump to help pick new World Bank chief...</td>\n",
       "    </tr>\n",
       "    <tr>\n",
       "      <th>53764</th>\n",
       "      <td>Ex-UK PM Margaret Thatcher declined to hold at...</td>\n",
       "      <td>Thatcher called 'too many' meetings with Rajiv...</td>\n",
       "    </tr>\n",
       "    <tr>\n",
       "      <th>69004</th>\n",
       "      <td>An exhibition in London in 2018 will reunite t...</td>\n",
       "      <td>Picasso's 1932 works to be shown together 1st ...</td>\n",
       "    </tr>\n",
       "  </tbody>\n",
       "</table>\n",
       "</div>"
      ],
      "text/plain": [
       "                                                    text  \\\n",
       "63633  Indian opener Rohit Sharma and captain Virat K...   \n",
       "67219  The Chairman of the US Joint Chiefs of Staff, ...   \n",
       "64649  The Delhi Police has decided to convert the RT...   \n",
       "5922   Ranveer Singh was named Best Actor for 'Padmaa...   \n",
       "68442  ISIS has challenged Britain's Prince Harry to ...   \n",
       "82875  The upper house of Ireland's Parliament on Wed...   \n",
       "54275  Speaking on a television chat show, actor Zac ...   \n",
       "30214  During a 2004 interview, then Congress Preside...   \n",
       "49992  American cosmetics company Revlon's CEO Fabian...   \n",
       "57284  Swiss researchers have demonstrated an imaging...   \n",
       "21727  Shiv Sena chief Uddhav Thackeray has slammed t...   \n",
       "47158  Production house Nadiadwala Grandson Entertain...   \n",
       "2068   US President Donald Trump's daughter and senio...   \n",
       "53764  Ex-UK PM Margaret Thatcher declined to hold at...   \n",
       "69004  An exhibition in London in 2018 will reunite t...   \n",
       "\n",
       "                                               headlines  \n",
       "63633  Kohli, Sharma score tons, become 2017's top 2 ...  \n",
       "67219  Pak's ISI has links to terrorist groups: Top U...  \n",
       "64649  Delhi Police to recycle 2.2 tonnes of RTI appl...  \n",
       "5922   Ranveer, Alia win best acting awards at Star S...  \n",
       "68442       ISIS challenges UK's Prince Harry to a fight  \n",
       "82875         Ireland's Parliament bans onshore fracking  \n",
       "54275  Almost died on a cycling trip with Hugh Jackma...  \n",
       "30214  Came to India as I was in love with Rajiv: Son...  \n",
       "49992  Revlon CEO Fabian Garcia steps down after less...  \n",
       "57284  Scientists use electric currents to detect cancer  \n",
       "21727  Earlier media kept watch on govt, now govt wat...  \n",
       "47158  Tiger to star in 'Baaghi 3', actress yet to be...  \n",
       "2068   Ivanka Trump to help pick new World Bank chief...  \n",
       "53764  Thatcher called 'too many' meetings with Rajiv...  \n",
       "69004  Picasso's 1932 works to be shown together 1st ...  "
      ]
     },
     "execution_count": 4,
     "metadata": {},
     "output_type": "execute_result"
    }
   ],
   "source": [
    "data = data[['text','headlines']]\n",
    "data.head()\n",
    "\n",
    "#랜덤한 15개 샘플 출력\n",
    "data.sample(15)"
   ]
  },
  {
   "cell_type": "markdown",
   "id": "222f240a",
   "metadata": {},
   "source": [
    "#### 중복되지 않는 샘플의 수를 확인"
   ]
  },
  {
   "cell_type": "code",
   "execution_count": 5,
   "id": "162424d1",
   "metadata": {
    "scrolled": true
   },
   "outputs": [
    {
     "name": "stdout",
     "output_type": "stream",
     "text": [
      "text 열에서 중복을 배제한 유일한 샘플의 수 : 98360\n",
      "headlines 열에서 중복을 배제한 유일한 샘플의 수 : 98280\n"
     ]
    }
   ],
   "source": [
    "print('text 열에서 중복을 배제한 유일한 샘플의 수 :', data['text'].nunique())\n",
    "print('headlines 열에서 중복을 배제한 유일한 샘플의 수 :', data['headlines'].nunique())"
   ]
  },
  {
   "cell_type": "markdown",
   "id": "65a4e213",
   "metadata": {},
   "source": [
    "#### 중복이 존재함을 알 수 있기에 중복되는 샘플을 제거"
   ]
  },
  {
   "cell_type": "code",
   "execution_count": 6,
   "id": "d0a18596",
   "metadata": {},
   "outputs": [
    {
     "name": "stdout",
     "output_type": "stream",
     "text": [
      "전체 샘플수 : 98360\n"
     ]
    }
   ],
   "source": [
    "# inplace=True 를 설정하면 DataFrame 타입 값을 return 하지 않고 data 내부를 직접적으로 바꿉니다\n",
    "data.drop_duplicates(subset = ['text'], inplace=True)\n",
    "print('전체 샘플수 :', (len(data)))"
   ]
  },
  {
   "cell_type": "markdown",
   "id": "e380cc67",
   "metadata": {},
   "source": [
    "#### 데이터 프레임에 null 값이 있는지 확인"
   ]
  },
  {
   "cell_type": "code",
   "execution_count": 7,
   "id": "f79158cd",
   "metadata": {
    "scrolled": false
   },
   "outputs": [
    {
     "name": "stdout",
     "output_type": "stream",
     "text": [
      "text         0\n",
      "headlines    0\n",
      "dtype: int64\n"
     ]
    }
   ],
   "source": [
    "print(data.isnull().sum())"
   ]
  },
  {
   "cell_type": "markdown",
   "id": "94c4963f",
   "metadata": {},
   "source": [
    "### 텍스트 정규화 사전 구성"
   ]
  },
  {
   "cell_type": "code",
   "execution_count": 8,
   "id": "792aeaf8",
   "metadata": {},
   "outputs": [
    {
     "name": "stdout",
     "output_type": "stream",
     "text": [
      "정규화 사전의 수:  120\n"
     ]
    }
   ],
   "source": [
    "contractions = {\"ain't\": \"is not\", \"aren't\": \"are not\",\"can't\": \"cannot\", \"'cause\": \"because\", \"could've\": \"could have\", \"couldn't\": \"could not\",\n",
    "                           \"didn't\": \"did not\",  \"doesn't\": \"does not\", \"don't\": \"do not\", \"hadn't\": \"had not\", \"hasn't\": \"has not\", \"haven't\": \"have not\",\n",
    "                           \"he'd\": \"he would\",\"he'll\": \"he will\", \"he's\": \"he is\", \"how'd\": \"how did\", \"how'd'y\": \"how do you\", \"how'll\": \"how will\", \"how's\": \"how is\",\n",
    "                           \"I'd\": \"I would\", \"I'd've\": \"I would have\", \"I'll\": \"I will\", \"I'll've\": \"I will have\",\"I'm\": \"I am\", \"I've\": \"I have\", \"i'd\": \"i would\",\n",
    "                           \"i'd've\": \"i would have\", \"i'll\": \"i will\",  \"i'll've\": \"i will have\",\"i'm\": \"i am\", \"i've\": \"i have\", \"isn't\": \"is not\", \"it'd\": \"it would\",\n",
    "                           \"it'd've\": \"it would have\", \"it'll\": \"it will\", \"it'll've\": \"it will have\",\"it's\": \"it is\", \"let's\": \"let us\", \"ma'am\": \"madam\",\n",
    "                           \"mayn't\": \"may not\", \"might've\": \"might have\",\"mightn't\": \"might not\",\"mightn't've\": \"might not have\", \"must've\": \"must have\",\n",
    "                           \"mustn't\": \"must not\", \"mustn't've\": \"must not have\", \"needn't\": \"need not\", \"needn't've\": \"need not have\",\"o'clock\": \"of the clock\",\n",
    "                           \"oughtn't\": \"ought not\", \"oughtn't've\": \"ought not have\", \"shan't\": \"shall not\", \"sha'n't\": \"shall not\", \"shan't've\": \"shall not have\",\n",
    "                           \"she'd\": \"she would\", \"she'd've\": \"she would have\", \"she'll\": \"she will\", \"she'll've\": \"she will have\", \"she's\": \"she is\",\n",
    "                           \"should've\": \"should have\", \"shouldn't\": \"should not\", \"shouldn't've\": \"should not have\", \"so've\": \"so have\",\"so's\": \"so as\",\n",
    "                           \"this's\": \"this is\",\"that'd\": \"that would\", \"that'd've\": \"that would have\", \"that's\": \"that is\", \"there'd\": \"there would\",\n",
    "                           \"there'd've\": \"there would have\", \"there's\": \"there is\", \"here's\": \"here is\",\"they'd\": \"they would\", \"they'd've\": \"they would have\",\n",
    "                           \"they'll\": \"they will\", \"they'll've\": \"they will have\", \"they're\": \"they are\", \"they've\": \"they have\", \"to've\": \"to have\",\n",
    "                           \"wasn't\": \"was not\", \"we'd\": \"we would\", \"we'd've\": \"we would have\", \"we'll\": \"we will\", \"we'll've\": \"we will have\", \"we're\": \"we are\",\n",
    "                           \"we've\": \"we have\", \"weren't\": \"were not\", \"what'll\": \"what will\", \"what'll've\": \"what will have\", \"what're\": \"what are\",\n",
    "                           \"what's\": \"what is\", \"what've\": \"what have\", \"when's\": \"when is\", \"when've\": \"when have\", \"where'd\": \"where did\", \"where's\": \"where is\",\n",
    "                           \"where've\": \"where have\", \"who'll\": \"who will\", \"who'll've\": \"who will have\", \"who's\": \"who is\", \"who've\": \"who have\",\n",
    "                           \"why's\": \"why is\", \"why've\": \"why have\", \"will've\": \"will have\", \"won't\": \"will not\", \"won't've\": \"will not have\",\n",
    "                           \"would've\": \"would have\", \"wouldn't\": \"would not\", \"wouldn't've\": \"would not have\", \"y'all\": \"you all\",\n",
    "                           \"y'all'd\": \"you all would\",\"y'all'd've\": \"you all would have\",\"y'all're\": \"you all are\",\"y'all've\": \"you all have\",\n",
    "                           \"you'd\": \"you would\", \"you'd've\": \"you would have\", \"you'll\": \"you will\", \"you'll've\": \"you will have\",\n",
    "                           \"you're\": \"you are\", \"you've\": \"you have\"}\n",
    "\n",
    "print(\"정규화 사전의 수: \", len(contractions))"
   ]
  },
  {
   "cell_type": "markdown",
   "id": "966b87b7",
   "metadata": {},
   "source": [
    "### 불용어 제거"
   ]
  },
  {
   "cell_type": "code",
   "execution_count": 9,
   "id": "8eb8293c",
   "metadata": {
    "scrolled": false
   },
   "outputs": [
    {
     "name": "stdout",
     "output_type": "stream",
     "text": [
      "불용어 개수 : 179\n",
      "['i', 'me', 'my', 'myself', 'we', 'our', 'ours', 'ourselves', 'you', \"you're\", \"you've\", \"you'll\", \"you'd\", 'your', 'yours', 'yourself', 'yourselves', 'he', 'him', 'his', 'himself', 'she', \"she's\", 'her', 'hers', 'herself', 'it', \"it's\", 'its', 'itself', 'they', 'them', 'their', 'theirs', 'themselves', 'what', 'which', 'who', 'whom', 'this', 'that', \"that'll\", 'these', 'those', 'am', 'is', 'are', 'was', 'were', 'be', 'been', 'being', 'have', 'has', 'had', 'having', 'do', 'does', 'did', 'doing', 'a', 'an', 'the', 'and', 'but', 'if', 'or', 'because', 'as', 'until', 'while', 'of', 'at', 'by', 'for', 'with', 'about', 'against', 'between', 'into', 'through', 'during', 'before', 'after', 'above', 'below', 'to', 'from', 'up', 'down', 'in', 'out', 'on', 'off', 'over', 'under', 'again', 'further', 'then', 'once', 'here', 'there', 'when', 'where', 'why', 'how', 'all', 'any', 'both', 'each', 'few', 'more', 'most', 'other', 'some', 'such', 'no', 'nor', 'not', 'only', 'own', 'same', 'so', 'than', 'too', 'very', 's', 't', 'can', 'will', 'just', 'don', \"don't\", 'should', \"should've\", 'now', 'd', 'll', 'm', 'o', 're', 've', 'y', 'ain', 'aren', \"aren't\", 'couldn', \"couldn't\", 'didn', \"didn't\", 'doesn', \"doesn't\", 'hadn', \"hadn't\", 'hasn', \"hasn't\", 'haven', \"haven't\", 'isn', \"isn't\", 'ma', 'mightn', \"mightn't\", 'mustn', \"mustn't\", 'needn', \"needn't\", 'shan', \"shan't\", 'shouldn', \"shouldn't\", 'wasn', \"wasn't\", 'weren', \"weren't\", 'won', \"won't\", 'wouldn', \"wouldn't\"]\n"
     ]
    }
   ],
   "source": [
    "print('불용어 개수 :', len(stopwords.words('english') ))\n",
    "print(stopwords.words('english'))"
   ]
  },
  {
   "cell_type": "markdown",
   "id": "084b26c5",
   "metadata": {},
   "source": [
    "### 데이터 전처리 함수 만들기\n",
    "#### 불용어 제거(text)\n",
    "#### 불용어 미제거(headlines)"
   ]
  },
  {
   "cell_type": "code",
   "execution_count": 10,
   "id": "30844bca",
   "metadata": {},
   "outputs": [
    {
     "name": "stdout",
     "output_type": "stream",
     "text": [
      "=3\n"
     ]
    }
   ],
   "source": [
    "# 데이터 전처리 함수\n",
    "def preprocess_sentence(sentence, remove_stopwords=True):\n",
    "    sentence = sentence.lower() # 텍스트 소문자화\n",
    "    sentence = BeautifulSoup(sentence, \"lxml\").text # <br />, <a href = ...> 등의 html 태그 제거\n",
    "    sentence = re.sub(r'\\([^)]*\\)', '', sentence) # 괄호로 닫힌 문자열 (...) 제거 Ex) my husband (and myself!) for => my husband for\n",
    "    sentence = re.sub('\"','', sentence) # 쌍따옴표 \" 제거\n",
    "    sentence = ' '.join([contractions[t] if t in contractions else t for t in sentence.split(\" \")]) # 약어 정규화\n",
    "    sentence = re.sub(r\"'s\\b\",\"\", sentence) # 소유격 제거. Ex) roland's -> roland\n",
    "    sentence = re.sub(\"[^a-zA-Z]\", \" \", sentence) # 영어 외 문자(숫자, 특수문자 등) 공백으로 변환\n",
    "    sentence = re.sub('[m]{2,}', 'mm', sentence) # m이 3개 이상이면 2개로 변경. Ex) ummmmmmm yeah -> umm yeah\n",
    "    \n",
    "    # 불용어 제거 (Text)\n",
    "    if remove_stopwords:\n",
    "        tokens = ' '.join(word for word in sentence.split() if not word in stopwords.words('english') if len(word) > 1)\n",
    "    # 불용어 미제거 (headlines)\n",
    "    else:\n",
    "        tokens = ' '.join(word for word in sentence.split() if len(word) > 1)\n",
    "    return tokens\n",
    "print('=3')"
   ]
  },
  {
   "cell_type": "markdown",
   "id": "54f37bd3",
   "metadata": {},
   "source": [
    "#### 임의의 text를 만들어 놓은 전처리 함수로 전처리 테스트"
   ]
  },
  {
   "cell_type": "code",
   "execution_count": 11,
   "id": "7bc4ff20",
   "metadata": {},
   "outputs": [
    {
     "name": "stdout",
     "output_type": "stream",
     "text": [
      "text:  everything bought great infact ordered twice third ordered wasfor mother father\n",
      "headlines: great way to start the day\n"
     ]
    }
   ],
   "source": [
    "temp_text = 'Everything I bought was great, infact I ordered twice and the third ordered was<br />for my mother and father.'\n",
    "temp_headlines = 'Great way to start (or finish) the day!!!'\n",
    "\n",
    "print(\"text: \", preprocess_sentence(temp_text))\n",
    "print(\"headlines:\", preprocess_sentence(temp_headlines, False))  # 불용어를 제거하지 않습니다."
   ]
  },
  {
   "cell_type": "markdown",
   "id": "edbb1885",
   "metadata": {},
   "source": [
    "### text를 전처리 후, 상위 5개 출력"
   ]
  },
  {
   "cell_type": "code",
   "execution_count": 12,
   "id": "d15ec554",
   "metadata": {
    "scrolled": true
   },
   "outputs": [
    {
     "name": "stdout",
     "output_type": "stream",
     "text": [
      "text 전처리 후 결과:  ['saurav kant alumnus upgrad iiit pg program machine learning artificial intelligence sr systems engineer infosys almost years work experience program upgrad degree career support helped transition data scientist tech mahindra salary hike upgrad online power learning powered lakh careers', 'kunal shah credit card bill payment platform cred gave users chance win free food swiggy one year pranav kaushik delhi techie bagged reward spending cred coins users get one cred coin per rupee bill paid used avail rewards brands like ixigo bookmyshow ubereats cult fit', 'new zealand defeated india wickets fourth odi hamilton thursday win first match five match odi series india lost international match rohit sharma captaincy consecutive victories dating back march match witnessed india getting seventh lowest total odi cricket history', 'aegon life iterm insurance plan customers enjoy tax benefits premiums paid save taxes plan provides life cover age years also customers options insure critical illnesses disability accidental death benefit rider life cover age years', 'speaking sexual harassment allegations rajkumar hirani sonam kapoor said known hirani many years true metoo movement get derailed metoo movement always believe woman case need reserve judgment added hirani accused assistant worked sanju']\n"
     ]
    }
   ],
   "source": [
    "clean_text = []\n",
    "# 전체 text 데이터에 대한 전처리 : 10분 이상 시간이 걸릴 수 있습니다. \n",
    "for s in data['text']:\n",
    "    clean_text.append(preprocess_sentence(s))\n",
    "\n",
    "# 전처리 후 출력\n",
    "print(\"text 전처리 후 결과: \", clean_text[:5])"
   ]
  },
  {
   "cell_type": "markdown",
   "id": "7a7b3391",
   "metadata": {},
   "source": [
    "### headlines를 전처리 후, 상위 5개 출력"
   ]
  },
  {
   "cell_type": "code",
   "execution_count": 13,
   "id": "d1ab323a",
   "metadata": {},
   "outputs": [
    {
     "name": "stdout",
     "output_type": "stream",
     "text": [
      "headlines 전처리 후 결과:  ['upgrad learner switches to career in ml al with salary hike', 'delhi techie wins free food from swiggy for one year on cred', 'new zealand end rohit sharma led india match winning streak', 'aegon life iterm insurance plan helps customers save tax', 'have known hirani for yrs what if metoo claims are not true sonam']\n"
     ]
    }
   ],
   "source": [
    "clean_headlines = []\n",
    "# 전체 headlines 데이터에 대한 전처리 : 5분 이상 시간이 걸릴 수 있습니다. \n",
    "for s in data['headlines']:\n",
    "    clean_headlines.append(preprocess_sentence(s, False))\n",
    "\n",
    "print(\"headlines 전처리 후 결과: \", clean_headlines[:5])"
   ]
  },
  {
   "cell_type": "markdown",
   "id": "bb0c700e",
   "metadata": {},
   "source": [
    "#### 빈 값을 가진 샘플이 있으면, Null 값으로 대체"
   ]
  },
  {
   "cell_type": "code",
   "execution_count": 14,
   "id": "3c3f4d03",
   "metadata": {},
   "outputs": [
    {
     "name": "stdout",
     "output_type": "stream",
     "text": [
      "=3\n"
     ]
    }
   ],
   "source": [
    "data['text'] = clean_text\n",
    "data['headlines'] = clean_headlines\n",
    "\n",
    "# 빈 값을 Null 값으로 변환\n",
    "data.replace('', np.nan, inplace=True)\n",
    "print('=3')"
   ]
  },
  {
   "cell_type": "markdown",
   "id": "bb3f10c7",
   "metadata": {},
   "source": [
    "#### null 값이 생겼는지 확인"
   ]
  },
  {
   "cell_type": "code",
   "execution_count": 15,
   "id": "66277dd6",
   "metadata": {
    "scrolled": true
   },
   "outputs": [
    {
     "data": {
      "text/plain": [
       "text         0\n",
       "headlines    0\n",
       "dtype: int64"
      ]
     },
     "execution_count": 15,
     "metadata": {},
     "output_type": "execute_result"
    }
   ],
   "source": [
    "data.isnull().sum()"
   ]
  },
  {
   "cell_type": "code",
   "execution_count": 16,
   "id": "0060f694",
   "metadata": {},
   "outputs": [
    {
     "name": "stdout",
     "output_type": "stream",
     "text": [
      "전체 샘플수 : 98360\n"
     ]
    }
   ],
   "source": [
    "data.dropna(axis=0, inplace=True)\n",
    "print('전체 샘플수 :', (len(data)))"
   ]
  },
  {
   "cell_type": "markdown",
   "id": "8345d92d",
   "metadata": {},
   "source": [
    "### text의 최소 길이, 최대 길이, 평균 길이를 구하고 시각화"
   ]
  },
  {
   "cell_type": "code",
   "execution_count": 17,
   "id": "42bb5547",
   "metadata": {},
   "outputs": [
    {
     "name": "stdout",
     "output_type": "stream",
     "text": [
      "텍스트의 최소 길이 : 1\n",
      "텍스트의 최대 길이 : 60\n",
      "텍스트의 평균 길이 : 35.09968483123221\n",
      "요약의 최소 길이 : 1\n",
      "요약의 최대 길이 : 16\n",
      "요약의 평균 길이 : 9.299532330215534\n"
     ]
    },
    {
     "data": {
      "image/png": "[encoded data removed]",
      "text/plain": [
       "<Figure size 432x288 with 2 Axes>"
      ]
     },
     "metadata": {
      "needs_background": "light"
     },
     "output_type": "display_data"
    },
    {
     "data": {
      "image/png": "[encoded data removed]",
      "text/plain": [
       "<Figure size 432x288 with 1 Axes>"
      ]
     },
     "metadata": {
      "needs_background": "light"
     },
     "output_type": "display_data"
    },
    {
     "data": {
      "image/png": "[encoded data removed]",
      "text/plain": [
       "<Figure size 432x288 with 1 Axes>"
      ]
     },
     "metadata": {
      "needs_background": "light"
     },
     "output_type": "display_data"
    }
   ],
   "source": [
    "# 길이 분포 출력\n",
    "import matplotlib.pyplot as plt\n",
    "\n",
    "text_len = [len(s.split()) for s in data['text']]\n",
    "headlines_len = [len(s.split()) for s in data['headlines']]\n",
    "\n",
    "print('텍스트의 최소 길이 : {}'.format(np.min(text_len)))\n",
    "print('텍스트의 최대 길이 : {}'.format(np.max(text_len)))\n",
    "print('텍스트의 평균 길이 : {}'.format(np.mean(text_len)))\n",
    "print('요약의 최소 길이 : {}'.format(np.min(headlines_len)))\n",
    "print('요약의 최대 길이 : {}'.format(np.max(headlines_len)))\n",
    "print('요약의 평균 길이 : {}'.format(np.mean(headlines_len)))\n",
    "\n",
    "plt.subplot(1,2,1)\n",
    "plt.boxplot(text_len)\n",
    "plt.title('text')\n",
    "plt.subplot(1,2,2)\n",
    "plt.boxplot(headlines_len)\n",
    "plt.title('headlines')\n",
    "plt.tight_layout()\n",
    "plt.show()\n",
    "\n",
    "plt.title('text')\n",
    "plt.hist(text_len, bins = 40)\n",
    "plt.xlabel('length of samples')\n",
    "plt.ylabel('number of samples')\n",
    "plt.show()\n",
    "\n",
    "plt.title('headlines')\n",
    "plt.hist(headlines_len, bins = 40)\n",
    "plt.xlabel('length of samples')\n",
    "plt.ylabel('number of samples')\n",
    "plt.show()"
   ]
  },
  {
   "cell_type": "markdown",
   "id": "033f6862",
   "metadata": {},
   "source": [
    "### text의 최대 길이를 정의"
   ]
  },
  {
   "cell_type": "code",
   "execution_count": 18,
   "id": "a99a7ef4",
   "metadata": {},
   "outputs": [],
   "source": [
    "text_max_len = 50\n",
    "headlines_max_len = 8"
   ]
  },
  {
   "cell_type": "markdown",
   "id": "297e4395",
   "metadata": {},
   "source": [
    "### 훈련 데이터와 샘플의 길이를 입력하면, 데이터의 몇 %가 해당하는지 계산하는 함수"
   ]
  },
  {
   "cell_type": "code",
   "execution_count": 19,
   "id": "a7c463f3",
   "metadata": {},
   "outputs": [],
   "source": [
    "def below_threshold_len(max_len, nested_list):\n",
    "  cnt = 0\n",
    "  for s in nested_list:\n",
    "    if(len(s.split()) <= max_len):\n",
    "        cnt = cnt + 1\n",
    "  print('전체 샘플 중 길이가 %s 이하인 샘플의 비율: %s'%(max_len, (cnt / len(nested_list))))"
   ]
  },
  {
   "cell_type": "markdown",
   "id": "c478cdc9",
   "metadata": {},
   "source": [
    "#### 함수에 텍스트를 적용"
   ]
  },
  {
   "cell_type": "code",
   "execution_count": 20,
   "id": "e7f72151",
   "metadata": {
    "scrolled": true
   },
   "outputs": [
    {
     "name": "stdout",
     "output_type": "stream",
     "text": [
      "전체 샘플 중 길이가 50 이하인 샘플의 비율: 0.9998576657177715\n",
      "전체 샘플 중 길이가 8 이하인 샘플의 비율: 0.2755693371289142\n"
     ]
    }
   ],
   "source": [
    "below_threshold_len(text_max_len, data['text'])\n",
    "below_threshold_len(headlines_max_len,  data['headlines'])"
   ]
  },
  {
   "cell_type": "markdown",
   "id": "750a9d1d",
   "metadata": {},
   "source": [
    "### 정해진 길이보다 길면 제외하는 방법으로 데이터를 정제"
   ]
  },
  {
   "cell_type": "code",
   "execution_count": 21,
   "id": "309ce6b6",
   "metadata": {},
   "outputs": [
    {
     "name": "stdout",
     "output_type": "stream",
     "text": [
      "전체 샘플수 : 27105\n"
     ]
    }
   ],
   "source": [
    "data = data[data['text'].apply(lambda x: len(x.split()) <= text_max_len)]\n",
    "data = data[data['headlines'].apply(lambda x: len(x.split()) <= headlines_max_len)]\n",
    "print('전체 샘플수 :', (len(data)))"
   ]
  },
  {
   "cell_type": "markdown",
   "id": "3cd31860",
   "metadata": {},
   "source": [
    "### 시작 토큰과 종료 토큰 추가"
   ]
  },
  {
   "cell_type": "code",
   "execution_count": 22,
   "id": "5ddc6512",
   "metadata": {},
   "outputs": [
    {
     "data": {
      "text/html": [
       "<div>\n",
       "<style scoped>\n",
       "    .dataframe tbody tr th:only-of-type {\n",
       "        vertical-align: middle;\n",
       "    }\n",
       "\n",
       "    .dataframe tbody tr th {\n",
       "        vertical-align: top;\n",
       "    }\n",
       "\n",
       "    .dataframe thead th {\n",
       "        text-align: right;\n",
       "    }\n",
       "</style>\n",
       "<table border=\"1\" class=\"dataframe\">\n",
       "  <thead>\n",
       "    <tr style=\"text-align: right;\">\n",
       "      <th></th>\n",
       "      <th>text</th>\n",
       "      <th>headlines</th>\n",
       "      <th>decoder_input</th>\n",
       "      <th>decoder_target</th>\n",
       "    </tr>\n",
       "  </thead>\n",
       "  <tbody>\n",
       "    <tr>\n",
       "      <th>19</th>\n",
       "      <td>union minister dharmendra pradhan wednesday cl...</td>\n",
       "      <td>odisha cm patnaik controls mining mafia union ...</td>\n",
       "      <td>sostoken odisha cm patnaik controls mining maf...</td>\n",
       "      <td>odisha cm patnaik controls mining mafia union ...</td>\n",
       "    </tr>\n",
       "    <tr>\n",
       "      <th>21</th>\n",
       "      <td>indian space research organisation wednesday u...</td>\n",
       "      <td>isro unveils bengaluru centre for manned space...</td>\n",
       "      <td>sostoken isro unveils bengaluru centre for man...</td>\n",
       "      <td>isro unveils bengaluru centre for manned space...</td>\n",
       "    </tr>\n",
       "    <tr>\n",
       "      <th>22</th>\n",
       "      <td>least people killed others injured saudi arabi...</td>\n",
       "      <td>killed injured in saudi arabia floods</td>\n",
       "      <td>sostoken killed injured in saudi arabia floods</td>\n",
       "      <td>killed injured in saudi arabia floods eostoken</td>\n",
       "    </tr>\n",
       "    <tr>\n",
       "      <th>29</th>\n",
       "      <td>investigators searching lost plane carrying ar...</td>\n",
       "      <td>seat cushions from missing plane carrying foot...</td>\n",
       "      <td>sostoken seat cushions from missing plane carr...</td>\n",
       "      <td>seat cushions from missing plane carrying foot...</td>\n",
       "    </tr>\n",
       "    <tr>\n",
       "      <th>36</th>\n",
       "      <td>agustawestland chopper scam co accused rajiv s...</td>\n",
       "      <td>agustawestland scam accused rajiv saxena extra...</td>\n",
       "      <td>sostoken agustawestland scam accused rajiv sax...</td>\n",
       "      <td>agustawestland scam accused rajiv saxena extra...</td>\n",
       "    </tr>\n",
       "  </tbody>\n",
       "</table>\n",
       "</div>"
      ],
      "text/plain": [
       "                                                 text  \\\n",
       "19  union minister dharmendra pradhan wednesday cl...   \n",
       "21  indian space research organisation wednesday u...   \n",
       "22  least people killed others injured saudi arabi...   \n",
       "29  investigators searching lost plane carrying ar...   \n",
       "36  agustawestland chopper scam co accused rajiv s...   \n",
       "\n",
       "                                            headlines  \\\n",
       "19  odisha cm patnaik controls mining mafia union ...   \n",
       "21  isro unveils bengaluru centre for manned space...   \n",
       "22              killed injured in saudi arabia floods   \n",
       "29  seat cushions from missing plane carrying foot...   \n",
       "36  agustawestland scam accused rajiv saxena extra...   \n",
       "\n",
       "                                        decoder_input  \\\n",
       "19  sostoken odisha cm patnaik controls mining maf...   \n",
       "21  sostoken isro unveils bengaluru centre for man...   \n",
       "22     sostoken killed injured in saudi arabia floods   \n",
       "29  sostoken seat cushions from missing plane carr...   \n",
       "36  sostoken agustawestland scam accused rajiv sax...   \n",
       "\n",
       "                                       decoder_target  \n",
       "19  odisha cm patnaik controls mining mafia union ...  \n",
       "21  isro unveils bengaluru centre for manned space...  \n",
       "22     killed injured in saudi arabia floods eostoken  \n",
       "29  seat cushions from missing plane carrying foot...  \n",
       "36  agustawestland scam accused rajiv saxena extra...  "
      ]
     },
     "execution_count": 22,
     "metadata": {},
     "output_type": "execute_result"
    }
   ],
   "source": [
    "# 요약 데이터에는 시작 토큰과 종료 토큰을 추가한다.\n",
    "data['decoder_input'] = data['headlines'].apply(lambda x : 'sostoken '+ x)\n",
    "data['decoder_target'] = data['headlines'].apply(lambda x : x + ' eostoken')\n",
    "data.head()"
   ]
  },
  {
   "cell_type": "markdown",
   "id": "26747a9d",
   "metadata": {},
   "source": [
    "### 인코더 입력, 디코더 입력, 디코더 레이블을 Numpy 타입으로 저장"
   ]
  },
  {
   "cell_type": "code",
   "execution_count": 23,
   "id": "b19a83b1",
   "metadata": {},
   "outputs": [],
   "source": [
    "encoder_input = np.array(data['text']) # 인코더의 입력\n",
    "decoder_input = np.array(data['decoder_input']) # 디코더의 입력\n",
    "decoder_target = np.array(data['decoder_target']) # 디코더의 레이블"
   ]
  },
  {
   "cell_type": "markdown",
   "id": "9b1fb899",
   "metadata": {},
   "source": [
    "### encoder_input의 크기와 형태가 같은 순서로 섞인 정수 시퀀스를 만들어 줌"
   ]
  },
  {
   "cell_type": "code",
   "execution_count": 24,
   "id": "9f1ef7c9",
   "metadata": {},
   "outputs": [
    {
     "name": "stdout",
     "output_type": "stream",
     "text": [
      "[ 2366 16578 16486 ... 16815 26041  8778]\n"
     ]
    }
   ],
   "source": [
    "indices = np.arange(encoder_input.shape[0])\n",
    "np.random.shuffle(indices)\n",
    "print(indices)"
   ]
  },
  {
   "cell_type": "markdown",
   "id": "65afb53f",
   "metadata": {},
   "source": [
    "### 정수 시퀀스를 이용해서 데이터의 샘플 순서를 정의"
   ]
  },
  {
   "cell_type": "code",
   "execution_count": 25,
   "id": "67b32ef4",
   "metadata": {},
   "outputs": [],
   "source": [
    "encoder_input = encoder_input[indices]\n",
    "decoder_input = decoder_input[indices]\n",
    "decoder_target = decoder_target[indices]"
   ]
  },
  {
   "cell_type": "markdown",
   "id": "21e93bb6",
   "metadata": {},
   "source": [
    "### 8:2로 train data와 test data 분리"
   ]
  },
  {
   "cell_type": "code",
   "execution_count": 26,
   "id": "57bc747d",
   "metadata": {},
   "outputs": [
    {
     "name": "stdout",
     "output_type": "stream",
     "text": [
      "테스트 데이터의 수 : 5421\n"
     ]
    }
   ],
   "source": [
    "n_of_val = int(len(encoder_input)*0.2)\n",
    "print('테스트 데이터의 수 :', n_of_val)"
   ]
  },
  {
   "cell_type": "code",
   "execution_count": 27,
   "id": "1385089e",
   "metadata": {},
   "outputs": [
    {
     "name": "stdout",
     "output_type": "stream",
     "text": [
      "훈련 데이터의 개수 : 21684\n",
      "훈련 레이블의 개수 : 21684\n",
      "테스트 데이터의 개수 : 5421\n",
      "테스트 레이블의 개수 : 5421\n"
     ]
    }
   ],
   "source": [
    "encoder_input_train = encoder_input[:-n_of_val]\n",
    "decoder_input_train = decoder_input[:-n_of_val]\n",
    "decoder_target_train = decoder_target[:-n_of_val]\n",
    "\n",
    "encoder_input_test = encoder_input[-n_of_val:]\n",
    "decoder_input_test = decoder_input[-n_of_val:]\n",
    "decoder_target_test = decoder_target[-n_of_val:]\n",
    "\n",
    "print('훈련 데이터의 개수 :', len(encoder_input_train))\n",
    "print('훈련 레이블의 개수 :', len(decoder_input_train))\n",
    "print('테스트 데이터의 개수 :', len(encoder_input_test))\n",
    "print('테스트 레이블의 개수 :', len(decoder_input_test))"
   ]
  },
  {
   "cell_type": "markdown",
   "id": "15494992",
   "metadata": {},
   "source": [
    "### 토크나이저 정의 및 입력된 데이터로 부터 단어 집합 생성"
   ]
  },
  {
   "cell_type": "code",
   "execution_count": 28,
   "id": "9d55e426",
   "metadata": {},
   "outputs": [],
   "source": [
    "src_tokenizer = Tokenizer() # 토크나이저 정의\n",
    "src_tokenizer.fit_on_texts(encoder_input_train) # 입력된 데이터로부터 단어 집합 생성"
   ]
  },
  {
   "cell_type": "markdown",
   "id": "2e6687f1",
   "metadata": {},
   "source": [
    "### 등장 빈도수가 낮은 단어를 확인"
   ]
  },
  {
   "cell_type": "code",
   "execution_count": 29,
   "id": "ba490e56",
   "metadata": {},
   "outputs": [
    {
     "name": "stdout",
     "output_type": "stream",
     "text": [
      "단어 집합(vocabulary)의 크기 : 42408\n",
      "등장 빈도가 6번 이하인 희귀 단어의 수: 30677\n",
      "단어 집합에서 희귀 단어를 제외시킬 경우의 단어 집합의 크기 11731\n",
      "단어 집합에서 희귀 단어의 비율: 72.33776645915864\n",
      "전체 등장 빈도에서 희귀 단어 등장 빈도 비율: 8.277781866739566\n"
     ]
    }
   ],
   "source": [
    "threshold = 7\n",
    "total_cnt = len(src_tokenizer.word_index) # 단어의 수\n",
    "rare_cnt = 0 # 등장 빈도수가 threshold보다 작은 단어의 개수를 카운트\n",
    "total_freq = 0 # 훈련 데이터의 전체 단어 빈도수 총 합\n",
    "rare_freq = 0 # 등장 빈도수가 threshold보다 작은 단어의 등장 빈도수의 총 합\n",
    "\n",
    "# 단어와 빈도수의 쌍(pair)을 key와 value로 받는다.\n",
    "for key, value in src_tokenizer.word_counts.items():\n",
    "    total_freq = total_freq + value\n",
    "\n",
    "    # 단어의 등장 빈도수가 threshold보다 작으면\n",
    "    if(value < threshold):\n",
    "        rare_cnt = rare_cnt + 1\n",
    "        rare_freq = rare_freq + value\n",
    "\n",
    "print('단어 집합(vocabulary)의 크기 :', total_cnt)\n",
    "print('등장 빈도가 %s번 이하인 희귀 단어의 수: %s'%(threshold - 1, rare_cnt))\n",
    "print('단어 집합에서 희귀 단어를 제외시킬 경우의 단어 집합의 크기 %s'%(total_cnt - rare_cnt))\n",
    "print(\"단어 집합에서 희귀 단어의 비율:\", (rare_cnt / total_cnt)*100)\n",
    "print(\"전체 등장 빈도에서 희귀 단어 등장 빈도 비율:\", (rare_freq / total_freq)*100)"
   ]
  },
  {
   "cell_type": "markdown",
   "id": "37b3a67d",
   "metadata": {},
   "source": [
    "### 단어 집합의 크기를 8000으로 제한"
   ]
  },
  {
   "cell_type": "code",
   "execution_count": 30,
   "id": "cac8e7bf",
   "metadata": {
    "scrolled": true
   },
   "outputs": [],
   "source": [
    "src_vocab = 11000\n",
    "src_tokenizer = Tokenizer(num_words=src_vocab) # 단어 집합의 크기를 8,000으로 제한\n",
    "src_tokenizer.fit_on_texts(encoder_input_train) # 단어 집합 재생성"
   ]
  },
  {
   "cell_type": "markdown",
   "id": "f2800bbe",
   "metadata": {},
   "source": [
    "### 텍스트 시퀀스를 정수 시퀀스로 바꾸고 출력"
   ]
  },
  {
   "cell_type": "code",
   "execution_count": 31,
   "id": "c7e45dc0",
   "metadata": {},
   "outputs": [
    {
     "name": "stdout",
     "output_type": "stream",
     "text": [
      "[[160, 15, 2129, 540, 6470, 3962, 4918, 52, 3, 244, 6235, 1900, 7049, 351, 5587, 172, 60, 3605, 965, 1799, 8244, 3519, 1129, 268, 351, 4, 3398, 5067, 60, 3324, 2595, 15, 1], [1029, 15, 6006, 63, 4396, 45, 61, 386, 700, 68, 208, 717, 672, 193, 284, 293, 6738, 3520, 208, 717, 678, 4396, 1, 330, 622, 191, 2737, 271, 39, 315, 26, 771], [902, 2392, 2194, 4634, 1428, 308, 2738, 9283, 91, 4, 393, 6739, 2320, 213, 503, 9, 291, 14, 9283, 6007, 14, 394, 237, 617, 997, 7050, 918, 4529, 9941, 918]]\n"
     ]
    }
   ],
   "source": [
    "# 텍스트 시퀀스를 정수 시퀀스로 변환\n",
    "encoder_input_train = src_tokenizer.texts_to_sequences(encoder_input_train) \n",
    "encoder_input_test = src_tokenizer.texts_to_sequences(encoder_input_test)\n",
    "\n",
    "# 잘 진행되었는지 샘플 출력\n",
    "print(encoder_input_train[:3])"
   ]
  },
  {
   "cell_type": "markdown",
   "id": "88ad0e25",
   "metadata": {},
   "source": [
    "### 토크나이저를 통해 전체 단어 집합과 빈도수를 계산"
   ]
  },
  {
   "cell_type": "code",
   "execution_count": 32,
   "id": "971cd821",
   "metadata": {},
   "outputs": [],
   "source": [
    "tar_tokenizer = Tokenizer()\n",
    "tar_tokenizer.fit_on_texts(decoder_input_train)"
   ]
  },
  {
   "cell_type": "markdown",
   "id": "28e14208",
   "metadata": {},
   "source": [
    "### 빈도수가 6회 미만인 단어의 비중 확인"
   ]
  },
  {
   "cell_type": "code",
   "execution_count": 33,
   "id": "ce869a82",
   "metadata": {},
   "outputs": [
    {
     "name": "stdout",
     "output_type": "stream",
     "text": [
      "단어 집합(vocabulary)의 크기 : 18851\n",
      "등장 빈도가 5번 이하인 희귀 단어의 수: 14198\n",
      "단어 집합에서 희귀 단어를 제외시킬 경우의 단어 집합의 크기 4653\n",
      "단어 집합에서 희귀 단어의 비율: 75.31695931250331\n",
      "전체 등장 빈도에서 희귀 단어 등장 빈도 비율: 14.142459553520197\n"
     ]
    }
   ],
   "source": [
    "threshold = 6\n",
    "total_cnt = len(tar_tokenizer.word_index) # 단어의 수\n",
    "rare_cnt = 0 # 등장 빈도수가 threshold보다 작은 단어의 개수를 카운트\n",
    "total_freq = 0 # 훈련 데이터의 전체 단어 빈도수 총 합\n",
    "rare_freq = 0 # 등장 빈도수가 threshold보다 작은 단어의 등장 빈도수의 총 합\n",
    "\n",
    "# 단어와 빈도수의 쌍(pair)을 key와 value로 받는다.\n",
    "for key, value in tar_tokenizer.word_counts.items():\n",
    "    total_freq = total_freq + value\n",
    "\n",
    "    # 단어의 등장 빈도수가 threshold보다 작으면\n",
    "    if(value < threshold):\n",
    "        rare_cnt = rare_cnt + 1\n",
    "        rare_freq = rare_freq + value\n",
    "\n",
    "print('단어 집합(vocabulary)의 크기 :', total_cnt)\n",
    "print('등장 빈도가 %s번 이하인 희귀 단어의 수: %s'%(threshold - 1, rare_cnt))\n",
    "print('단어 집합에서 희귀 단어를 제외시킬 경우의 단어 집합의 크기 %s'%(total_cnt - rare_cnt))\n",
    "print(\"단어 집합에서 희귀 단어의 비율:\", (rare_cnt / total_cnt)*100)\n",
    "print(\"전체 등장 빈도에서 희귀 단어 등장 빈도 비율:\", (rare_freq / total_freq)*100)"
   ]
  },
  {
   "cell_type": "markdown",
   "id": "507f638e",
   "metadata": {},
   "source": [
    "### 단어 집합의 크기를 제한하고 텍스트 시퀀스를 정수 시퀀스로 변환"
   ]
  },
  {
   "cell_type": "code",
   "execution_count": 34,
   "id": "0b92219e",
   "metadata": {},
   "outputs": [
    {
     "name": "stdout",
     "output_type": "stream",
     "text": [
      "input\n",
      "input  [[1, 8, 186, 2788, 7, 3, 28], [1, 823, 2051, 46, 2052, 151, 146, 766, 1338], [1, 127, 6, 884, 2546, 93, 56], [1, 2209, 11, 42, 5, 2366], [1, 1222, 345, 2367, 2368, 692, 3, 1061]]\n",
      "target\n",
      "decoder  [[8, 186, 2788, 7, 3, 28, 2], [823, 2051, 46, 2052, 151, 146, 766, 1338, 2], [127, 6, 884, 2546, 93, 56, 2], [2209, 11, 42, 5, 2366, 2], [1222, 345, 2367, 2368, 692, 3, 1061, 2]]\n"
     ]
    }
   ],
   "source": [
    "tar_vocab = 4000\n",
    "tar_tokenizer = Tokenizer(num_words=tar_vocab) \n",
    "tar_tokenizer.fit_on_texts(decoder_input_train)\n",
    "tar_tokenizer.fit_on_texts(decoder_target_train)\n",
    "\n",
    "# 텍스트 시퀀스를 정수 시퀀스로 변환\n",
    "decoder_input_train = tar_tokenizer.texts_to_sequences(decoder_input_train) \n",
    "decoder_target_train = tar_tokenizer.texts_to_sequences(decoder_target_train)\n",
    "decoder_input_test = tar_tokenizer.texts_to_sequences(decoder_input_test)\n",
    "decoder_target_test = tar_tokenizer.texts_to_sequences(decoder_target_test)\n",
    "\n",
    "# 잘 변환되었는지 확인\n",
    "print('input')\n",
    "print('input ',decoder_input_train[:5])\n",
    "print('target')\n",
    "print('decoder ',decoder_target_train[:5])"
   ]
  },
  {
   "cell_type": "markdown",
   "id": "0a4ce797",
   "metadata": {},
   "source": [
    "### train data와 test data의 요약문 길이가 1인 인덱스를 drop_train과 drop_test라는 변수에 저장하고 삭제"
   ]
  },
  {
   "cell_type": "code",
   "execution_count": 35,
   "id": "24db5ee6",
   "metadata": {},
   "outputs": [
    {
     "name": "stdout",
     "output_type": "stream",
     "text": [
      "삭제할 훈련 데이터의 개수 : 1\n",
      "삭제할 테스트 데이터의 개수 : 2\n",
      "훈련 데이터의 개수 : 21683\n",
      "훈련 레이블의 개수 : 21683\n",
      "테스트 데이터의 개수 : 5419\n",
      "테스트 레이블의 개수 : 5419\n"
     ]
    }
   ],
   "source": [
    "drop_train = [index for index, sentence in enumerate(decoder_input_train) if len(sentence) == 1]\n",
    "drop_test = [index for index, sentence in enumerate(decoder_input_test) if len(sentence) == 1]\n",
    "\n",
    "print('삭제할 훈련 데이터의 개수 :', len(drop_train))\n",
    "print('삭제할 테스트 데이터의 개수 :', len(drop_test))\n",
    "\n",
    "encoder_input_train = [sentence for index, sentence in enumerate(encoder_input_train) if index not in drop_train]\n",
    "decoder_input_train = [sentence for index, sentence in enumerate(decoder_input_train) if index not in drop_train]\n",
    "decoder_target_train = [sentence for index, sentence in enumerate(decoder_target_train) if index not in drop_train]\n",
    "\n",
    "encoder_input_test = [sentence for index, sentence in enumerate(encoder_input_test) if index not in drop_test]\n",
    "decoder_input_test = [sentence for index, sentence in enumerate(decoder_input_test) if index not in drop_test]\n",
    "decoder_target_test = [sentence for index, sentence in enumerate(decoder_target_test) if index not in drop_test]\n",
    "\n",
    "print('훈련 데이터의 개수 :', len(encoder_input_train))\n",
    "print('훈련 레이블의 개수 :', len(decoder_input_train))\n",
    "print('테스트 데이터의 개수 :', len(encoder_input_test))\n",
    "print('테스트 레이블의 개수 :', len(decoder_input_test))"
   ]
  },
  {
   "cell_type": "markdown",
   "id": "5c31ec78",
   "metadata": {},
   "source": [
    "### 패딩"
   ]
  },
  {
   "cell_type": "code",
   "execution_count": 36,
   "id": "afc28b58",
   "metadata": {},
   "outputs": [],
   "source": [
    "encoder_input_train = pad_sequences(encoder_input_train, maxlen=text_max_len, padding='post')\n",
    "encoder_input_test = pad_sequences(encoder_input_test, maxlen=text_max_len, padding='post')\n",
    "decoder_input_train = pad_sequences(decoder_input_train, maxlen=headlines_max_len, padding='post')\n",
    "decoder_target_train = pad_sequences(decoder_target_train, maxlen=headlines_max_len, padding='post')\n",
    "decoder_input_test = pad_sequences(decoder_input_test, maxlen=headlines_max_len, padding='post')\n",
    "decoder_target_test = pad_sequences(decoder_target_test, maxlen=headlines_max_len, padding='post')"
   ]
  },
  {
   "cell_type": "markdown",
   "id": "039ad0d9",
   "metadata": {},
   "source": [
    "## 모델 설계\n",
    "### 인코더 설계"
   ]
  },
  {
   "cell_type": "code",
   "execution_count": 37,
   "id": "986361d8",
   "metadata": {},
   "outputs": [
    {
     "name": "stdout",
     "output_type": "stream",
     "text": [
      "WARNING:tensorflow:Layer lstm will not use cuDNN kernels since it doesn't meet the criteria. It will use a generic GPU kernel as fallback when running on GPU.\n",
      "WARNING:tensorflow:Layer lstm_1 will not use cuDNN kernels since it doesn't meet the criteria. It will use a generic GPU kernel as fallback when running on GPU.\n",
      "WARNING:tensorflow:Layer lstm_2 will not use cuDNN kernels since it doesn't meet the criteria. It will use a generic GPU kernel as fallback when running on GPU.\n"
     ]
    }
   ],
   "source": [
    "from tensorflow.keras.layers import Input, LSTM, Embedding, Dense, Concatenate, TimeDistributed\n",
    "from tensorflow.keras.models import Model\n",
    "from tensorflow.keras.callbacks import EarlyStopping, ModelCheckpoint\n",
    "\n",
    "\n",
    "# 인코더 설계 시작\n",
    "embedding_dim = 128\n",
    "hidden_size = 256\n",
    "\n",
    "# 인코더\n",
    "encoder_inputs = Input(shape=(text_max_len,))\n",
    "\n",
    "# 인코더의 임베딩 층\n",
    "enc_emb = Embedding(src_vocab, embedding_dim)(encoder_inputs)\n",
    "\n",
    "# 인코더의 LSTM 1\n",
    "encoder_lstm1 = LSTM(hidden_size, return_sequences=True, return_state=True ,dropout = 0.4, recurrent_dropout = 0.4)\n",
    "encoder_output1, state_h1, state_c1 = encoder_lstm1(enc_emb)\n",
    "\n",
    "# 인코더의 LSTM 2\n",
    "encoder_lstm2 = LSTM(hidden_size, return_sequences=True, return_state=True, dropout=0.4, recurrent_dropout=0.4)\n",
    "encoder_output2, state_h2, state_c2 = encoder_lstm2(encoder_output1)\n",
    "\n",
    "# 인코더의 LSTM 3\n",
    "encoder_lstm3 = LSTM(hidden_size, return_state=True, return_sequences=True, dropout=0.4, recurrent_dropout=0.4)\n",
    "encoder_outputs, state_h, state_c= encoder_lstm3(encoder_output2)"
   ]
  },
  {
   "cell_type": "markdown",
   "id": "ca02f327",
   "metadata": {},
   "source": [
    "### 디코더 설계"
   ]
  },
  {
   "cell_type": "code",
   "execution_count": 38,
   "id": "e0bfadd1",
   "metadata": {},
   "outputs": [
    {
     "name": "stdout",
     "output_type": "stream",
     "text": [
      "WARNING:tensorflow:Layer lstm_3 will not use cuDNN kernels since it doesn't meet the criteria. It will use a generic GPU kernel as fallback when running on GPU.\n"
     ]
    }
   ],
   "source": [
    "# 디코더 설계\n",
    "decoder_inputs = Input(shape=(None,))\n",
    "\n",
    "# 디코더의 임베딩 층\n",
    "dec_emb_layer = Embedding(tar_vocab, embedding_dim)\n",
    "dec_emb = dec_emb_layer(decoder_inputs)\n",
    "\n",
    "# 디코더의 LSTM\n",
    "decoder_lstm = LSTM(hidden_size, return_sequences=True, return_state=True, dropout=0.4, recurrent_dropout=0.2)\n",
    "decoder_outputs, _, _ = decoder_lstm(dec_emb, initial_state=[state_h, state_c])"
   ]
  },
  {
   "cell_type": "markdown",
   "id": "27ae16de",
   "metadata": {},
   "source": [
    "### 디코더 출력층"
   ]
  },
  {
   "cell_type": "code",
   "execution_count": 39,
   "id": "2b016dd9",
   "metadata": {},
   "outputs": [
    {
     "name": "stdout",
     "output_type": "stream",
     "text": [
      "WARNING:tensorflow:Layer lstm_4 will not use cuDNN kernels since it doesn't meet the criteria. It will use a generic GPU kernel as fallback when running on GPU.\n"
     ]
    }
   ],
   "source": [
    "# 디코더 설계\n",
    "decoder_inputs = Input(shape=(None,))\n",
    "\n",
    "# 디코더의 임베딩 층\n",
    "dec_emb_layer = Embedding(tar_vocab, embedding_dim)\n",
    "dec_emb = dec_emb_layer(decoder_inputs)\n",
    "\n",
    "# 디코더의 LSTM\n",
    "decoder_lstm = LSTM(hidden_size, return_sequences=True, return_state=True, dropout=0.4, recurrent_dropout=0.2)\n",
    "decoder_outputs, _, _ = decoder_lstm(dec_emb, initial_state=[state_h, state_c])"
   ]
  },
  {
   "cell_type": "markdown",
   "id": "813acb46",
   "metadata": {},
   "source": [
    "### 어텐션 메커니즘"
   ]
  },
  {
   "cell_type": "code",
   "execution_count": 40,
   "id": "d4f821dd",
   "metadata": {},
   "outputs": [
    {
     "name": "stdout",
     "output_type": "stream",
     "text": [
      "Model: \"model\"\n",
      "__________________________________________________________________________________________________\n",
      "Layer (type)                    Output Shape         Param #     Connected to                     \n",
      "==================================================================================================\n",
      "input_1 (InputLayer)            [(None, 50)]         0                                            \n",
      "__________________________________________________________________________________________________\n",
      "embedding (Embedding)           (None, 50, 128)      1408000     input_1[0][0]                    \n",
      "__________________________________________________________________________________________________\n",
      "lstm (LSTM)                     [(None, 50, 256), (N 394240      embedding[0][0]                  \n",
      "__________________________________________________________________________________________________\n",
      "input_3 (InputLayer)            [(None, None)]       0                                            \n",
      "__________________________________________________________________________________________________\n",
      "lstm_1 (LSTM)                   [(None, 50, 256), (N 525312      lstm[0][0]                       \n",
      "__________________________________________________________________________________________________\n",
      "embedding_2 (Embedding)         (None, None, 128)    512000      input_3[0][0]                    \n",
      "__________________________________________________________________________________________________\n",
      "lstm_2 (LSTM)                   [(None, 50, 256), (N 525312      lstm_1[0][0]                     \n",
      "__________________________________________________________________________________________________\n",
      "lstm_4 (LSTM)                   [(None, None, 256),  394240      embedding_2[0][0]                \n",
      "                                                                 lstm_2[0][1]                     \n",
      "                                                                 lstm_2[0][2]                     \n",
      "__________________________________________________________________________________________________\n",
      "attention_layer (AdditiveAttent (None, None, 256)    256         lstm_4[0][0]                     \n",
      "                                                                 lstm_2[0][0]                     \n",
      "__________________________________________________________________________________________________\n",
      "concat_layer (Concatenate)      (None, None, 512)    0           lstm_4[0][0]                     \n",
      "                                                                 attention_layer[0][0]            \n",
      "__________________________________________________________________________________________________\n",
      "dense (Dense)                   (None, None, 4000)   2052000     concat_layer[0][0]               \n",
      "==================================================================================================\n",
      "Total params: 5,811,360\n",
      "Trainable params: 5,811,360\n",
      "Non-trainable params: 0\n",
      "__________________________________________________________________________________________________\n"
     ]
    }
   ],
   "source": [
    "from tensorflow.keras.layers import AdditiveAttention\n",
    "\n",
    "# 어텐션 층(어텐션 함수)\n",
    "attn_layer = AdditiveAttention(name='attention_layer')\n",
    "\n",
    "# 인코더와 디코더의 모든 time step의 hidden state를 어텐션 층에 전달하고 결과를 리턴\n",
    "attn_out = attn_layer([decoder_outputs, encoder_outputs])\n",
    "\n",
    "\n",
    "# 어텐션의 결과와 디코더의 hidden state들을 연결\n",
    "decoder_concat_input = Concatenate(axis=-1, name='concat_layer')([decoder_outputs, attn_out])\n",
    "\n",
    "# 디코더의 출력층\n",
    "decoder_softmax_layer = Dense(tar_vocab, activation='softmax')\n",
    "decoder_softmax_outputs = decoder_softmax_layer(decoder_concat_input)\n",
    "\n",
    "# 모델 정의\n",
    "model = Model([encoder_inputs, decoder_inputs], decoder_softmax_outputs)\n",
    "model.headlines()"
   ]
  },
  {
   "cell_type": "markdown",
   "id": "c5bc85e2",
   "metadata": {},
   "source": [
    "## 모델 훈련"
   ]
  },
  {
   "cell_type": "code",
   "execution_count": 41,
   "id": "80f62501",
   "metadata": {},
   "outputs": [
    {
     "name": "stdout",
     "output_type": "stream",
     "text": [
      "Epoch 1/50\n",
      "85/85 [==============================] - 66s 675ms/step - loss: 5.9954 - val_loss: 5.6713\n",
      "Epoch 2/50\n",
      "85/85 [==============================] - 56s 665ms/step - loss: 5.5706 - val_loss: 5.3439\n",
      "Epoch 3/50\n",
      "85/85 [==============================] - 56s 665ms/step - loss: 5.3412 - val_loss: 5.1947\n",
      "Epoch 4/50\n",
      "85/85 [==============================] - 57s 670ms/step - loss: 5.1798 - val_loss: 5.0443\n",
      "Epoch 5/50\n",
      "85/85 [==============================] - 57s 665ms/step - loss: 5.0200 - val_loss: 4.9022\n",
      "Epoch 6/50\n",
      "85/85 [==============================] - 57s 667ms/step - loss: 4.8508 - val_loss: 4.8081\n",
      "Epoch 7/50\n",
      "85/85 [==============================] - 57s 671ms/step - loss: 4.6921 - val_loss: 4.6870\n",
      "Epoch 8/50\n",
      "85/85 [==============================] - 56s 663ms/step - loss: 4.5455 - val_loss: 4.6144\n",
      "Epoch 9/50\n",
      "85/85 [==============================] - 57s 665ms/step - loss: 4.4116 - val_loss: 4.5297\n",
      "Epoch 10/50\n",
      "85/85 [==============================] - 57s 676ms/step - loss: 4.2851 - val_loss: 4.4737\n",
      "Epoch 11/50\n",
      "85/85 [==============================] - 57s 676ms/step - loss: 4.1672 - val_loss: 4.4207\n",
      "Epoch 12/50\n",
      "85/85 [==============================] - 57s 671ms/step - loss: 4.0542 - val_loss: 4.3888\n",
      "Epoch 13/50\n",
      "85/85 [==============================] - 57s 669ms/step - loss: 3.9511 - val_loss: 4.3423\n",
      "Epoch 14/50\n",
      "85/85 [==============================] - 57s 667ms/step - loss: 3.8491 - val_loss: 4.3151\n",
      "Epoch 15/50\n",
      "85/85 [==============================] - 57s 672ms/step - loss: 3.7534 - val_loss: 4.2825\n",
      "Epoch 16/50\n",
      "85/85 [==============================] - 56s 664ms/step - loss: 3.6572 - val_loss: 4.2640\n",
      "Epoch 17/50\n",
      "85/85 [==============================] - 58s 678ms/step - loss: 3.5683 - val_loss: 4.2469\n",
      "Epoch 18/50\n",
      "85/85 [==============================] - 57s 668ms/step - loss: 3.4788 - val_loss: 4.2310\n",
      "Epoch 19/50\n",
      "85/85 [==============================] - 56s 664ms/step - loss: 3.3963 - val_loss: 4.2173\n",
      "Epoch 20/50\n",
      "85/85 [==============================] - 57s 665ms/step - loss: 3.3136 - val_loss: 4.2060\n",
      "Epoch 21/50\n",
      "85/85 [==============================] - 56s 664ms/step - loss: 3.2330 - val_loss: 4.2080\n",
      "Epoch 22/50\n",
      "85/85 [==============================] - 56s 663ms/step - loss: 3.1585 - val_loss: 4.1965\n",
      "Epoch 23/50\n",
      "85/85 [==============================] - 56s 664ms/step - loss: 3.0827 - val_loss: 4.2009\n",
      "Epoch 24/50\n",
      "85/85 [==============================] - 56s 663ms/step - loss: 3.0101 - val_loss: 4.1878\n",
      "Epoch 25/50\n",
      "85/85 [==============================] - 57s 665ms/step - loss: 2.9414 - val_loss: 4.1954\n",
      "Epoch 26/50\n",
      "85/85 [==============================] - 56s 663ms/step - loss: 2.8756 - val_loss: 4.1996\n",
      "Epoch 00026: early stopping\n"
     ]
    }
   ],
   "source": [
    "model.compile(optimizer='rmsprop', loss='sparse_categorical_crossentropy')\n",
    "es = EarlyStopping(monitor='val_loss', patience=2, verbose=1)\n",
    "history = model.fit(x=[encoder_input_train, decoder_input_train], y=decoder_target_train, \\\n",
    "          validation_data=([encoder_input_test, decoder_input_test], decoder_target_test), \\\n",
    "          batch_size=256, callbacks=[es], epochs=50)"
   ]
  },
  {
   "cell_type": "markdown",
   "id": "0273d8df",
   "metadata": {},
   "source": [
    "### train data loss & validation data loss 시각화"
   ]
  },
  {
   "cell_type": "code",
   "execution_count": 42,
   "id": "d737b29c",
   "metadata": {
    "scrolled": true
   },
   "outputs": [
    {
     "data": {
      "image/png": "[encoded data removed]",
      "text/plain": [
       "<Figure size 432x288 with 1 Axes>"
      ]
     },
     "metadata": {
      "needs_background": "light"
     },
     "output_type": "display_data"
    }
   ],
   "source": [
    "plt.plot(history.history['loss'], label='train')\n",
    "plt.plot(history.history['val_loss'], label='test')\n",
    "plt.legend()\n",
    "plt.show()"
   ]
  },
  {
   "cell_type": "markdown",
   "id": "23140e3f",
   "metadata": {},
   "source": [
    "## 인퍼런스 모델 구현\n",
    "### 사전 3개 준비"
   ]
  },
  {
   "cell_type": "code",
   "execution_count": 43,
   "id": "3d96aa7b",
   "metadata": {},
   "outputs": [],
   "source": [
    "src_index_to_word = src_tokenizer.index_word # 원문 단어 집합에서 정수 -> 단어를 얻음\n",
    "tar_word_to_index = tar_tokenizer.word_index # 요약 단어 집합에서 단어 -> 정수를 얻음\n",
    "tar_index_to_word = tar_tokenizer.index_word # 요약 단어 집합에서 정수 -> 단어를 얻음"
   ]
  },
  {
   "cell_type": "markdown",
   "id": "2714a1f3",
   "metadata": {},
   "source": [
    "### 인퍼런스를 위한 모델 설계\n",
    "### 인코더 설계"
   ]
  },
  {
   "cell_type": "code",
   "execution_count": 56,
   "id": "cc0f505e",
   "metadata": {},
   "outputs": [],
   "source": [
    "# 인코더 설계\n",
    "encoder_model = Model(inputs=encoder_inputs, outputs=[encoder_outputs, state_h, state_c])\n",
    "\n",
    "# 이전 시점의 상태들을 저장하는 텐서\n",
    "decoder_state_input_h = Input(shape=(hidden_size,))\n",
    "decoder_state_input_c = Input(shape=(hidden_size,))\n",
    "\n",
    "dec_emb2 = dec_emb_layer(decoder_inputs)\n",
    "\n",
    "# 문장의 다음 단어를 예측하기 위해서 초기 상태(initial_state)를 이전 시점의 상태로 사용. 이는 뒤의 함수 decode_sequence()에 구현\n",
    "# 훈련 과정에서와 달리 LSTM의 리턴하는 은닉 상태와 셀 상태인 state_h와 state_c를 버리지 않음.\n",
    "decoder_outputs2, state_h2, state_c2 = decoder_lstm(dec_emb2, initial_state=[decoder_state_input_h, decoder_state_input_c])"
   ]
  },
  {
   "cell_type": "markdown",
   "id": "31b483e1",
   "metadata": {},
   "source": [
    "### 어텐션 메커니즘을 사용하는 출력층 설계"
   ]
  },
  {
   "cell_type": "code",
   "execution_count": 57,
   "id": "16fa5132",
   "metadata": {},
   "outputs": [],
   "source": [
    "# 어텐션 함수\n",
    "decoder_hidden_state_input = Input(shape=(text_max_len, hidden_size))\n",
    "attn_out_inf = attn_layer([decoder_outputs2, decoder_hidden_state_input])\n",
    "decoder_inf_concat = Concatenate(axis=-1, name='concat')([decoder_outputs2, attn_out_inf])\n",
    "\n",
    "# 디코더의 출력층\n",
    "decoder_outputs2 = decoder_softmax_layer(decoder_inf_concat) \n",
    "\n",
    "# 최종 디코더 모델\n",
    "decoder_model = Model(\n",
    "    [decoder_inputs] + [decoder_hidden_state_input,decoder_state_input_h, decoder_state_input_c],\n",
    "    [decoder_outputs2] + [state_h2, state_c2])"
   ]
  },
  {
   "cell_type": "markdown",
   "id": "191e402b",
   "metadata": {},
   "source": [
    "### 단어 시퀀스를 완성하는 함수"
   ]
  },
  {
   "cell_type": "code",
   "execution_count": 58,
   "id": "3d513cf3",
   "metadata": {},
   "outputs": [],
   "source": [
    "def decode_sequence(input_seq):\n",
    "    # 입력으로부터 인코더의 상태를 얻음\n",
    "    e_out, e_h, e_c = encoder_model.predict(input_seq)\n",
    "\n",
    "     # <SOS>에 해당하는 토큰 생성\n",
    "    target_seq = np.zeros((1,1))\n",
    "    target_seq[0, 0] = tar_word_to_index['sostoken']\n",
    "\n",
    "    stop_condition = False\n",
    "    decoded_sentence = ''\n",
    "    while not stop_condition: # stop_condition이 True가 될 때까지 루프 반복\n",
    "\n",
    "        output_tokens, h, c = decoder_model.predict([target_seq] + [e_out, e_h, e_c])\n",
    "        sampled_token_index = np.argmax(output_tokens[0, -1, :])\n",
    "        sampled_token = tar_index_to_word[sampled_token_index]\n",
    "\n",
    "        if (sampled_token!='eostoken'):\n",
    "            decoded_sentence += ' '+sampled_token\n",
    "\n",
    "        #  <eos>에 도달하거나 최대 길이를 넘으면 중단.\n",
    "        if (sampled_token == 'eostoken'  or len(decoded_sentence.split()) >= (headlines_max_len-1)):\n",
    "            stop_condition = True\n",
    "\n",
    "        # 길이가 1인 타겟 시퀀스를 업데이트\n",
    "        target_seq = np.zeros((1,1))\n",
    "        target_seq[0, 0] = sampled_token_index\n",
    "\n",
    "        # 상태를 업데이트 합니다.\n",
    "        e_h, e_c = h, c\n",
    "\n",
    "    return decoded_sentence"
   ]
  },
  {
   "cell_type": "markdown",
   "id": "1661be60",
   "metadata": {},
   "source": [
    "## 모델 테스트"
   ]
  },
  {
   "cell_type": "markdown",
   "id": "3867b674",
   "metadata": {},
   "source": [
    "### 정수 시퀀스를 텍스트 시퀀스로 변환하는 함수"
   ]
  },
  {
   "cell_type": "code",
   "execution_count": 59,
   "id": "479bc99c",
   "metadata": {},
   "outputs": [],
   "source": [
    "# 원문의 정수 시퀀스를 텍스트 시퀀스로 변환\n",
    "def seq2text(input_seq):\n",
    "    temp=''\n",
    "    for i in input_seq:\n",
    "        if (i!=0):\n",
    "            temp = temp + src_index_to_word[i]+' '\n",
    "    return temp\n",
    "\n",
    "# 요약문의 정수 시퀀스를 텍스트 시퀀스로 변환\n",
    "def seq2headlines(input_seq):\n",
    "    temp=''\n",
    "    for i in input_seq:\n",
    "        if ((i!=0 and i!=tar_word_to_index['sostoken']) and i!=tar_word_to_index['eostoken']):\n",
    "            temp = temp + tar_index_to_word[i] + ' '\n",
    "    return temp"
   ]
  },
  {
   "cell_type": "markdown",
   "id": "4e419bf9",
   "metadata": {},
   "source": [
    "### test data의 샘플을 실제 요약과 예측 요약을 비교"
   ]
  },
  {
   "cell_type": "code",
   "execution_count": 60,
   "id": "9476809f",
   "metadata": {
    "scrolled": true
   },
   "outputs": [
    {
     "name": "stdout",
     "output_type": "stream",
     "text": [
      "원문 : bengaluru topped list global cities environment digital transformation beating cities like london san francisco beijing report economist intelligence unit said report released tuesday found despite infrastructure deficit pollution poverty indian cities ranked highly terms digital transformation \n",
      "실제 요약 : bengaluru most for digital transformation report \n",
      "예측 요약 :  indian quality to get its first\n",
      "\n",
      "\n",
      "원문 : haryana government included kin bjp leaders list five candidates shortlisted ias meant non state civil service officers three candidates five outstanding annual confidential reports reportedly rejected state education minister ram sharma daughter dr asha sharma shortlisted despite one outstanding \n",
      "실제 요약 : bjp leaders among for ias post \n",
      "예측 요약 :  up cm announces for bjp\n",
      "\n",
      "\n",
      "원문 : arjun tendulkar spotted taking ground behind advertising boards outside boundary england india test lord cricket ground arjun recently played two four day matches india currently part young cricketers training lord earlier arjun also seen helping ground staff lord \n",
      "실제 요약 : arjun tendulkar outside at lord \n",
      "예측 요약 :  australia cricket to become cricket cricket\n",
      "\n",
      "\n",
      "원문 : himachal pradesh cm jairam thakur tuesday announced crore project set cow sanctuary unlike animals kept fed house animals free area meant keep fixed number cows move aims solve problem stray cattle \n",
      "실제 요약 : himachal cm announces crore cow project \n",
      "예측 요약 :  govt announces crore for kerala\n",
      "\n",
      "\n",
      "원문 : technology giant google pixel smartphone facing audio recording quality issues according pixel users google users reported smartphone recording audio high pitched distorted google confirmed audio quality issue said fix rolled next weeks \n",
      "실제 요약 : google pixel faces quality issue \n",
      "예측 요약 :  android unveils android pixel headset\n",
      "\n",
      "\n",
      "원문 : militant group taliban increased amount territory influence control afghanistan past six months according report us special inspector general afghanistan reconstruction august districts afghanistan control influence compared february \n",
      "실제 요약 : taliban control over afghan territory us monitor \n",
      "예측 요약 :  islamic state to taliban\n",
      "\n",
      "\n",
      "원문 : nepal natural area cooperation china india china state councillor wang said inviting india participate connectivity projects three nations wang added nepal development common understanding china india comes indian pm narendra modi sought bilateral ties china \n",
      "실제 요약 : nepal natural for cooperation with india china \n",
      "예측 요약 :  china launches world largest military exercise\n",
      "\n",
      "\n",
      "원문 : iran supreme leader ayatollah ali khamenei listed three demands country continue stay nuclear deal iran demanded eu protect us sanctions safeguard trade pledge seek new agreement ballistic missile programme comes us withdrew nuclear deal \n",
      "실제 요약 : iran lists demands to stay in nuclear deal \n",
      "예측 요약 :  iran accuses iran of iran\n",
      "\n",
      "\n",
      "원문 : triple talaq victim petitioner rani attacked acid uttar pradesh bulandshahr thursday reportedly two people threw acid way register police complaint laws allegedly assaulted day brother law friends suspected behind attack \n",
      "실제 요약 : attacked with acid in up \n",
      "예측 요약 :  stokes acquitted in murder case\n",
      "\n",
      "\n",
      "원문 : medical council india decided allow mbbs admissions categories severely disabled people candidates suffering hearing low vision disability multiple able become doctors earlier allowed candidates disability lower study medicine \n",
      "실제 요약 : of disabled can now become doctors \n",
      "예측 요약 :  kerala university to get gender\n",
      "\n",
      "\n",
      "원문 : three outside best film british academy film awards film also four awards including best british film named best actress gary best actor award hour del named best director shape water \n",
      "실제 요약 : three wins best film at \n",
      "예측 요약 :  salman to play in reports\n",
      "\n",
      "\n",
      "원문 : healthcare home services run organisations like care family member offering senior citizens free people pay someone come talk accompany place read evening go like granddaughter said senior citizen volunteer \n",
      "실제 요약 : service offers to senior citizens for free \n",
      "예측 요약 :  have lakh for\n",
      "\n",
      "\n",
      "원문 : india holds guinness world record fastest time eat drinking glass minute seconds record established tv show guinness world records ab india mumbai march also known eat things plastic \n",
      "실제 요약 : indian holds world record for eating drinking glass \n",
      "예측 요약 :  india sets world record for\n",
      "\n",
      "\n",
      "원문 : us based developed device called radius using area square feet device uses heat free made flowers company claims affect user skin breathing portable device comes usb along \n",
      "실제 요약 : device which using made \n",
      "예측 요약 :  device to monitor battery battery made\n",
      "\n",
      "\n",
      "원문 : us based study discovered two distinct species monkeys park tanzania producing hybrid several years researcher kate examined monkey poop found gene flow red monkeys blue monkeys made population unusual said \n",
      "실제 요약 : african outside their species create \n",
      "예측 요약 :  scientists find of\n",
      "\n",
      "\n",
      "원문 : uber online meal ordering delivery platform uber eats acquired us based food delivery startup founded chef david uber also confirmed deal statement said startup help restaurant technology team founded raised million funding till date \n",
      "실제 요약 : uber eats acquires food delivery startup \n",
      "예측 요약 :  paytm acquires bengaluru based delivery startup\n",
      "\n",
      "\n",
      "원문 : defence minister nirmala sitharaman saturday said every attempt infiltration along line control jammu kashmir keep happening added sitharaman responding query infiltration bids recent elections pakistan \n",
      "실제 요약 : every attempt will be defence minister \n",
      "예측 요약 :  sitharaman of sitharaman are\n",
      "\n",
      "\n",
      "원문 : cbse marks policy adopted bring evaluation process policy students awarded extra marks attempting difficult question additionally students received difficult set question paper given extra marks students falling marks short passing marks also given grace marks \n",
      "실제 요약 : what is the cbse marks policy \n",
      "예측 요약 :  delhi students scholarship for teachers\n",
      "\n",
      "\n",
      "원문 : chinese army conducted hour live fire drill tibet close india border arunachal pradesh practice quick movement troops destroy enemy aircraft chinese state media reported comes amid ongoing month long standoff indian chinese sikkim notably china claims large parts india arunachal southern tibet \n",
      "실제 요약 : china holds live fire drill near arunachal border \n",
      "예측 요약 :  chinese army military along afghanistan\n",
      "\n",
      "\n",
      "원문 : actor aditya pancholi wife sent legal notice citing defamation kangana ranaut sister rangoli aditya recently said rangoli tweeted lot objectionable wife daughter son taking legal earlier also sent similar legal notice kangana \n",
      "실제 요약 : aditya wife send defamation notice to kangana sister \n",
      "예측 요약 :  have file tanushree tanushree tanushree\n",
      "\n",
      "\n",
      "원문 : google employees reportedly discussed ways search results counter us president donald trump travel ban discussed alter search related functions show users contribute pro immigration contact lawmakers government agencies travel ban temporarily barred visitors immigrants seven majority muslim countries \n",
      "실제 요약 : google staff search results report \n",
      "예측 요약 :  trump signs for us\n",
      "\n",
      "\n",
      "원문 : actor akshay kumar talking incident childhood revealed touched inappropriately elevator operator akshay added since good communication parents told incident akshay said father filed complaint man later arrested found offender \n",
      "실제 요약 : was by man as child akshay \n",
      "예측 요약 :  am not have rajinikanth\n",
      "\n",
      "\n",
      "원문 : virgin hyperloop one achieved record speed nearly kmph third phase testing hyperloop test site us record breached previous record kmph achieved high speed transportation technology startup august hyperloop one use electromagnetic magnetic travel near vacuum \n",
      "실제 요약 : virgin hyperloop one record speed of \n",
      "예측 요약 :  world largest man crashes in\n",
      "\n",
      "\n",
      "원문 : shares infrastructure conglomerate associates jumped far however still record high reported profit june quarter first time consecutive quarters notably shares group companies jaypee rose power ventures gained \n",
      "실제 요약 : shares in \n",
      "예측 요약 :  reliance profit rises to crore in\n",
      "\n",
      "\n",
      "원문 : year old delhi police constable posted nagar station found dead monday near railway tracks area southwest delhi police said toddler son also found sitting next body cause death yet ascertained police investigating whether committed suicide accident \n",
      "실제 요약 : delhi police constable found dead near railway tracks \n",
      "예측 요약 :  mumbai bus rescue rescue bus station\n",
      "\n",
      "\n",
      "원문 : us president donald trump said speech saudi arabia sunday india victim terrorism along countries like russia china said countries well us europe suffered repeated attacks horror asked muslim majority countries leaders help defeat terrorism \n",
      "실제 요약 : india victim of terrorism donald trump \n",
      "예측 요약 :  trump calls trump for nato meeting\n",
      "\n",
      "\n",
      "원문 : chhattisgarh police station staff initiative provide free education children cannot afford expensive coaching station ground floor used police administration first utilised teaching purpose officer said students receiving education initiative free books also made available \n",
      "실제 요약 : chhattisgarh police provide free education to local students \n",
      "예측 요약 :  delhi school to get open\n",
      "\n",
      "\n",
      "원문 : main new song upcoming film tubelight sung music track composed lyrics amitabh bhattacharya song features salman khan alongside chinese actress zhu zhu child artiste khan directed kabir khan film scheduled release june \n",
      "실제 요약 : song main from tubelight releases \n",
      "예측 요약 :  release date of comedian dhawan announced\n",
      "\n",
      "\n",
      "원문 : internet suspended section imposed friday hours rajasthan sri done light court hearing rape case dera sacha sauda chief gurmeet ram rahim notably lakhs dera followers reached panchkula haryana support self styled godman \n",
      "실제 요약 : internet suspended sec imposed in parts of rajasthan \n",
      "예측 요약 :  madras court bans warrant against sasikala\n",
      "\n",
      "\n",
      "원문 : former supreme court judge revealed ex tamil nadu cm jayalalithaa found beautiful met first time november raj bhawan chennai went take oath chief justice madras high court chief minister added \n",
      "실제 요약 : had on jayalalithaa \n",
      "예측 요약 :  aiadmk chief passes away aged\n",
      "\n",
      "\n",
      "원문 : least four people died eight others went missing rains triggered landslide kerala thursday five houses also destroyed district official said apart incidents landslides reported state kannur around people three districts shifted relief camps \n",
      "실제 요약 : dead missing as rains landslide in kerala \n",
      "예측 요약 :  dead as boat capsizes in maharashtra\n",
      "\n",
      "\n",
      "원문 : dismissing reports possibility returning aam aadmi party former party leaders yogendra yadav prashant bhushan said party anti corruption movement calling absurd bhushan retweeted report quoted aap leader kumar vishwas yadav bhushan expelled aap following alleged anti party activities \n",
      "실제 요약 : not returning to aap yadav bhushan \n",
      "예측 요약 :  nitish kumar mulayam mulayam to party\n",
      "\n",
      "\n",
      "원문 : union law minister ravi shankar prasad saturday said land theft gandhi family exposed prasad said reference delhi high court verdict ordered national publishers vacate house within two weeks prasad said gandhi family misused public properties \n",
      "실제 요약 : gandhi family land theft ravi prasad \n",
      "예측 요약 :  govt governor to be\n",
      "\n",
      "\n",
      "원문 : us government six bids starting six commission surrounded water accessible boats come keeper quarters one bay five others lakes michigan \n",
      "실제 요약 : united states is off its \n",
      "예측 요약 :  us to be in\n",
      "\n",
      "\n",
      "원문 : hyderabad municipal corporation failed second time trying illegal building monday first attempt bottom floor structure collapsed leaving rest second attempt fourth floor construction still standing moreover three labourers hear warning also injured controlled explosion \n",
      "실제 요약 : bad fails nd time in building \n",
      "예측 요약 :  coaches of express derail in mumbai\n",
      "\n",
      "\n",
      "원문 : central industrial security force wednesday seized foreign currency worth around lakh rajiv gandhi international airport hyderabad passenger currency seized indian national flying dubai caught based random cisf personnel intercepted international departure segment \n",
      "실제 요약 : foreign currency worth lakh seized at hyderabad airport \n",
      "예측 요약 :  kg of kg of crore\n",
      "\n",
      "\n",
      "원문 : airlines flight made emergency landing chinese city monday right side jet cockpit broke china aviation authority said cabin crew member pilot injured passengers landed safely passengers later shifted another aircraft continue journey \n",
      "실제 요약 : plane makes emergency landing as breaks \n",
      "예측 요약 :  indigo flight engine engine landing\n",
      "\n",
      "\n",
      "원문 : bali mount volcano erupted friday morning forcing cancellation nearly flights indonesian island closure rai airport affected passengers said national disaster agency airport closed temporarily pilot flying overhead detected traces volcanic ash high metres \n",
      "실제 요약 : volcano again flights cancelled \n",
      "예측 요약 :  plane carrying plane crashes in mumbai\n",
      "\n",
      "\n",
      "원문 : india top disabled players given contracts physically challenged cricket association india grade players getting annually grade players paid grade cricketers get yearly bcci yet officially recognise disability cricket provision physically challenged among lodha committee recommendations \n",
      "실제 요약 : india disabled cricketers get at \n",
      "예측 요약 :  kumble for cricket cricket captain\n",
      "\n",
      "\n",
      "원문 : british political journalist hasan used phrase speaking debate oxford union phrase used congress leader shashi tharoor dismiss allegations involved wife death use phrase tharoor led several internet memes \n",
      "실제 요약 : tharoor of not original \n",
      "예측 요약 :  am not understand time chief\n",
      "\n",
      "\n",
      "원문 : world largest diamond producer de thursday said tracked high value diamonds cutting manufacturing process final retailer using blockchain technology technology allows de show transactions participants keeping identities values hidden company plans roll blockchain platform later year \n",
      "실제 요약 : biggest diamond producer tracks using blockchain \n",
      "예측 요약 :  reliance jio to launch electric car\n",
      "\n",
      "\n",
      "원문 : brewery denmark made beer using litres recycled urine collected music festival europe beer named contain human waste produced fields urine danish agriculture food council named concept \n",
      "실제 요약 : creates beer using \n",
      "예측 요약 :  video of meteor in\n",
      "\n",
      "\n",
      "원문 : world number one singles tennis player awarded honorary doctorate homeland romania proud honoured receive title doctor west university tweeted first grand slam beating final french open earlier year \n",
      "실제 요약 : world number one tennis player given honorary \n",
      "예측 요약 :  india wins silver at world cup\n",
      "\n",
      "\n",
      "원문 : arrest warrant issued dera sacha sauda chairperson insan connection violence panchkula gurmeet ram rahim conviction august na special investigation team recently conducted two raids arrest investigators said gone hiding panchkula violence claimed lives left nearly injured \n",
      "실제 요약 : arrest warrant issued against dera \n",
      "예측 요약 :  honeypreet bail in dera\n",
      "\n",
      "\n",
      "원문 : uttar pradesh cm yogi adityanath instructed officials set biometric attendance system government offices block level ensure employees reach work time adityanath also called setting board every village panchayat information contact details village pradhan details ongoing works \n",
      "실제 요약 : set up attendance in govt offices adityanath \n",
      "예측 요약 :  himachal pradesh to make compulsory compulsory\n",
      "\n",
      "\n",
      "원문 : actress filmmaker pooja bhatt speaking comeback film said joke making comeback alcoholic cop decided quit alcohol film shot kolkata shooting begin december march pooja revealed began drinking quit year \n",
      "실제 요약 : playing cop after quitting alcohol pooja bhatt \n",
      "예측 요약 :  have very than physical kapoor\n",
      "\n",
      "\n",
      "원문 : venezuelan president nicolas maduro evacuated stage saturday speech authorities said attempted assassination maduro said device exploded right front adding initially thought fireworks video incident showed maduro black bulletproof panels \n",
      "실제 요약 : venezuelan president survives assassination attempt \n",
      "예측 요약 :  venezuela president declares president\n",
      "\n",
      "\n",
      "원문 : nawaz sharif said militant organisations based pakistan responsible mumbai terror attacks political party stated former prime minister statement misinterpreted said sharif needs certificate anybody commitment capacity preserve protect promote pakistan national security \n",
      "실제 요약 : sharif statement party \n",
      "예측 요약 :  nawaz sharif meets sharif in pakistan\n",
      "\n",
      "\n",
      "원문 : two juveniles arrested allegedly raping seven year old girl gone community toilet delhi accused live area took girl place pretext offering ride bicycle police said girl currently admitted hospital stable \n",
      "실제 요약 : two arrested for raping year old girl \n",
      "예측 요약 :  minor girl arrested for raping minor\n",
      "\n",
      "\n",
      "원문 : election commission thursday finalised vk sasikala camp party name aiadmk amma whereas former tamil nadu cm panneerselvam camp party named aiadmk amma sasikala camp allotted hat party symbol panneerselvam camp allotted electric pole party symbol \n",
      "실제 요약 : sasikala camp party named aiadmk \n",
      "예측 요약 :  sc dismisses plea against aiadmk\n",
      "\n",
      "\n"
     ]
    }
   ],
   "source": [
    "for i in range(50, 100):\n",
    "    print(\"원문 :\", seq2text(encoder_input_test[i]))\n",
    "    print(\"실제 요약 :\", seq2headlines(decoder_input_test[i]))\n",
    "    print(\"예측 요약 :\", decode_sequence(encoder_input_test[i].reshape(1, text_max_len)))\n",
    "    print(\"\\n\")"
   ]
  },
  {
   "cell_type": "markdown",
   "id": "0ce6a0eb",
   "metadata": {},
   "source": [
    "## 추출적 요약"
   ]
  },
  {
   "cell_type": "code",
   "execution_count": 61,
   "id": "4c93352e",
   "metadata": {},
   "outputs": [],
   "source": [
    "import requests\n",
    "from summa.summarizer import summarize"
   ]
  },
  {
   "cell_type": "markdown",
   "id": "ca0f7c0c",
   "metadata": {},
   "source": [
    "### 메트릭스 시놉시스 다운로드"
   ]
  },
  {
   "cell_type": "code",
   "execution_count": 62,
   "id": "d61b44db",
   "metadata": {},
   "outputs": [],
   "source": [
    "text = requests.get('http://rare-technologies.com/the_matrix_synopsis.txt').text"
   ]
  },
  {
   "cell_type": "markdown",
   "id": "1ee15726",
   "metadata": {},
   "source": [
    "#### 출력해보기"
   ]
  },
  {
   "cell_type": "code",
   "execution_count": 63,
   "id": "e63b2471",
   "metadata": {
    "scrolled": true
   },
   "outputs": [
    {
     "name": "stdout",
     "output_type": "stream",
     "text": [
      "The screen is filled with green, cascading code which gives way to the title, The Matrix.\r\n",
      "\r\n",
      "A phone rings and text appears on the screen: \"Call trans opt: received. 2-19-98 13:24:18 REC: Log>\" As a conversation takes place between Trinity (Carrie-Anne Moss) and Cypher (Joe Pantoliano), two free humans, a table of random green numbers are being scanned and individual numbers selected, creating a series of digits not unlike an ordinary phone number, as if a code is being deciphered or a call is being traced.\r\n",
      "\r\n",
      "Trinity discusses some unknown person. Cypher taunts Trinity, suggesting she enjoys watching him. Trinity counters that \"Morpheus (Laurence Fishburne) says he may be 'the One',\" just as the sound of a number being selected alerts Trinity that someone may be tracing their call. She ends the call.\r\n",
      "\r\n",
      "Armed policemen move down a darkened, decrepit hallway in the Heart O' the City Hotel, their flashlight beam bouncing just ahead of them. They come to room 303, kick down the door and find a woman dressed in black, facing away from them. It's Trinity. She brings her hands up from the laptop she's working on at their command.\r\n",
      "\r\n",
      "Outside the hotel a car drives up and three agents appear in neatly pressed black suits. They are Agent Smith (Hugo Weaving), Agent Brown (Paul Goddard), and Agent Jones (Robert Taylor). Agent Smith and the presiding police lieutenant argue. Agent Smith admonishes the policeman that they were given specific orders to contact the agents first, for their\n"
     ]
    }
   ],
   "source": [
    "print(text[:1500])"
   ]
  },
  {
   "cell_type": "markdown",
   "id": "e49aa3ae",
   "metadata": {},
   "source": [
    "### summarize 사용"
   ]
  },
  {
   "cell_type": "code",
   "execution_count": 64,
   "id": "569679e7",
   "metadata": {},
   "outputs": [
    {
     "name": "stdout",
     "output_type": "stream",
     "text": [
      "headlines:\n",
      "Morpheus, Trinity, Neo, Apoc, Switch, Mouse and Cypher are jacked into the Matrix.\n",
      "Trinity brings the helicopter down to the floor that Morpheus is on and Neo opens fire on the three Agents.\n"
     ]
    }
   ],
   "source": [
    "print('headlines:')\n",
    "print(summarize(text, ratio=0.005))"
   ]
  },
  {
   "cell_type": "code",
   "execution_count": 65,
   "id": "c8d450e2",
   "metadata": {},
   "outputs": [
    {
     "name": "stdout",
     "output_type": "stream",
     "text": [
      "headlines:\n",
      "['Morpheus, Trinity, Neo, Apoc, Switch, Mouse and Cypher are jacked into the Matrix.', 'Trinity brings the helicopter down to the floor that Morpheus is on and Neo opens fire on the three Agents.']\n"
     ]
    }
   ],
   "source": [
    "print('headlines:')\n",
    "print(summarize(text, ratio=0.005, split=True))"
   ]
  },
  {
   "cell_type": "code",
   "execution_count": 66,
   "id": "76edf56a",
   "metadata": {},
   "outputs": [
    {
     "name": "stdout",
     "output_type": "stream",
     "text": [
      "headlines:\n",
      "Trinity takes Neo to Morpheus.\n",
      "Morpheus, Trinity, Neo, Apoc, Switch, Mouse and Cypher are jacked into the Matrix.\n",
      "Trinity brings the helicopter down to the floor that Morpheus is on and Neo opens fire on the three Agents.\n"
     ]
    }
   ],
   "source": [
    "print('headlines:')\n",
    "print(summarize(text, words=50))"
   ]
  },
  {
   "cell_type": "code",
   "execution_count": null,
   "id": "2e5f488c",
   "metadata": {},
   "outputs": [],
   "source": []
  }
 ],
 "metadata": {
  "kernelspec": {
   "display_name": "Python 3 (ipykernel)",
   "language": "python",
   "name": "python3"
  },
  "language_info": {
   "codemirror_mode": {
    "name": "ipython",
    "version": 3
   },
   "file_extension": ".py",
   "mimetype": "text/x-python",
   "name": "python",
   "nbconvert_exporter": "python",
   "pygments_lexer": "ipython3",
   "version": "3.9.7"
  }
 },
 "nbformat": 4,
 "nbformat_minor": 5
}
