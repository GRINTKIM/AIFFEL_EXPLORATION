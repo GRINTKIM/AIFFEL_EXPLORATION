{
 "cells": [
  {
   "cell_type": "markdown",
   "id": "fce6f49b",
   "metadata": {},
   "source": [
    "<mark>프로젝트 - Movielens 📽영화🎞 추천 실습</mark>\n",
    "==========================\n",
    "***\n",
    "***\n",
    "  #### 1) 데이터 준비와 전처리\n",
    "  #### 2) 분석해 봅시다.\n",
    "  #### 3) 내가 선호하는 영화를 5가지 골라서 ratings에 추가해 줍시다.\n",
    "  #### 4) CSR matrix를 직접 만들어 봅시다.\n",
    "  #### 5) als_model = AlternatingLeastSquares 모델을 직접 구성하여 훈련시켜 봅시다.\n",
    "  #### 6) 내가 선호하는 5가지 영화 중 하나와 그 외의 영화 하나를 골라 훈련된 모델이 예측한 나의 선호도를 파악해 보세요.\n",
    "  #### 7) 내가 좋아하는 영화와 비슷한 영화를 추천받아 봅시다.\n",
    "  #### 8) 내가 가장 좋아할 만한 영화들을 추천받아 봅시다."
   ]
  },
  {
   "cell_type": "markdown",
   "id": "eab584ed",
   "metadata": {},
   "source": [
    "### 1) 데이터 준비와 전처리\n",
    "***"
   ]
  },
  {
   "cell_type": "code",
   "execution_count": 1,
   "id": "e0f0f169",
   "metadata": {},
   "outputs": [
    {
     "data": {
      "text/html": [
       "<div>\n",
       "<style scoped>\n",
       "    .dataframe tbody tr th:only-of-type {\n",
       "        vertical-align: middle;\n",
       "    }\n",
       "\n",
       "    .dataframe tbody tr th {\n",
       "        vertical-align: top;\n",
       "    }\n",
       "\n",
       "    .dataframe thead th {\n",
       "        text-align: right;\n",
       "    }\n",
       "</style>\n",
       "<table border=\"1\" class=\"dataframe\">\n",
       "  <thead>\n",
       "    <tr style=\"text-align: right;\">\n",
       "      <th></th>\n",
       "      <th>user_id</th>\n",
       "      <th>movie_id</th>\n",
       "      <th>ratings</th>\n",
       "      <th>timestamp</th>\n",
       "    </tr>\n",
       "  </thead>\n",
       "  <tbody>\n",
       "    <tr>\n",
       "      <th>0</th>\n",
       "      <td>1</td>\n",
       "      <td>1193</td>\n",
       "      <td>5</td>\n",
       "      <td>978300760</td>\n",
       "    </tr>\n",
       "    <tr>\n",
       "      <th>1</th>\n",
       "      <td>1</td>\n",
       "      <td>661</td>\n",
       "      <td>3</td>\n",
       "      <td>978302109</td>\n",
       "    </tr>\n",
       "    <tr>\n",
       "      <th>2</th>\n",
       "      <td>1</td>\n",
       "      <td>914</td>\n",
       "      <td>3</td>\n",
       "      <td>978301968</td>\n",
       "    </tr>\n",
       "    <tr>\n",
       "      <th>3</th>\n",
       "      <td>1</td>\n",
       "      <td>3408</td>\n",
       "      <td>4</td>\n",
       "      <td>978300275</td>\n",
       "    </tr>\n",
       "    <tr>\n",
       "      <th>4</th>\n",
       "      <td>1</td>\n",
       "      <td>2355</td>\n",
       "      <td>5</td>\n",
       "      <td>978824291</td>\n",
       "    </tr>\n",
       "  </tbody>\n",
       "</table>\n",
       "</div>"
      ],
      "text/plain": [
       "   user_id  movie_id  ratings  timestamp\n",
       "0        1      1193        5  978300760\n",
       "1        1       661        3  978302109\n",
       "2        1       914        3  978301968\n",
       "3        1      3408        4  978300275\n",
       "4        1      2355        5  978824291"
      ]
     },
     "execution_count": 1,
     "metadata": {},
     "output_type": "execute_result"
    }
   ],
   "source": [
    "import pandas as pd\n",
    "import os\n",
    "\n",
    "rating_file_path=os.getenv('HOME') + '/aiffel/recommendata_iu/data/ml-1m/ratings.dat'\n",
    "ratings_cols = ['user_id', 'movie_id', 'ratings', 'timestamp']\n",
    "ratings = pd.read_csv(rating_file_path, sep='::', names=ratings_cols, engine='python', encoding = \"ISO-8859-1\")\n",
    "orginal_data_size = len(ratings)\n",
    "ratings.head()"
   ]
  },
  {
   "cell_type": "markdown",
   "id": "92707c3f",
   "metadata": {},
   "source": [
    "#### 평점 3점 이상만 추출"
   ]
  },
  {
   "cell_type": "code",
   "execution_count": 2,
   "id": "7a08e16e",
   "metadata": {},
   "outputs": [
    {
     "name": "stdout",
     "output_type": "stream",
     "text": [
      "orginal_data_size: 1000209, filtered_data_size: 836478\n",
      "Ratio of Remaining Data is 83.63%\n"
     ]
    }
   ],
   "source": [
    "# 3점 이상만 남깁니다.\n",
    "\n",
    "ratings = ratings[ratings['ratings']>=3]\n",
    "filtered_data_size = len(ratings)\n",
    "\n",
    "print(f'orginal_data_size: {orginal_data_size}, filtered_data_size: {filtered_data_size}')\n",
    "print(f'Ratio of Remaining Data is {filtered_data_size / orginal_data_size:.2%}')"
   ]
  },
  {
   "cell_type": "markdown",
   "id": "a1114dd3",
   "metadata": {},
   "source": [
    "#### ratings의 컬럼 이름을 counts로 변경"
   ]
  },
  {
   "cell_type": "code",
   "execution_count": 3,
   "id": "e11d2217",
   "metadata": {},
   "outputs": [],
   "source": [
    "# ratings 컬럼의 이름을 counts로 바꿉니다.\n",
    "\n",
    "ratings.rename(columns={'ratings':'counts'}, inplace=True)"
   ]
  },
  {
   "cell_type": "code",
   "execution_count": 4,
   "id": "dce1f9d6",
   "metadata": {},
   "outputs": [
    {
     "data": {
      "text/plain": [
       "0          5\n",
       "1          3\n",
       "2          3\n",
       "3          4\n",
       "4          5\n",
       "          ..\n",
       "1000203    3\n",
       "1000205    5\n",
       "1000206    5\n",
       "1000207    4\n",
       "1000208    4\n",
       "Name: counts, Length: 836478, dtype: int64"
      ]
     },
     "execution_count": 4,
     "metadata": {},
     "output_type": "execute_result"
    }
   ],
   "source": [
    "ratings['counts']"
   ]
  },
  {
   "cell_type": "code",
   "execution_count": 5,
   "id": "04360ad1",
   "metadata": {},
   "outputs": [
    {
     "data": {
      "text/html": [
       "<div>\n",
       "<style scoped>\n",
       "    .dataframe tbody tr th:only-of-type {\n",
       "        vertical-align: middle;\n",
       "    }\n",
       "\n",
       "    .dataframe tbody tr th {\n",
       "        vertical-align: top;\n",
       "    }\n",
       "\n",
       "    .dataframe thead th {\n",
       "        text-align: right;\n",
       "    }\n",
       "</style>\n",
       "<table border=\"1\" class=\"dataframe\">\n",
       "  <thead>\n",
       "    <tr style=\"text-align: right;\">\n",
       "      <th></th>\n",
       "      <th>user_id</th>\n",
       "      <th>movie_id</th>\n",
       "      <th>counts</th>\n",
       "      <th>timestamp</th>\n",
       "    </tr>\n",
       "  </thead>\n",
       "  <tbody>\n",
       "    <tr>\n",
       "      <th>0</th>\n",
       "      <td>1</td>\n",
       "      <td>1193</td>\n",
       "      <td>5</td>\n",
       "      <td>978300760</td>\n",
       "    </tr>\n",
       "    <tr>\n",
       "      <th>1</th>\n",
       "      <td>1</td>\n",
       "      <td>661</td>\n",
       "      <td>3</td>\n",
       "      <td>978302109</td>\n",
       "    </tr>\n",
       "    <tr>\n",
       "      <th>2</th>\n",
       "      <td>1</td>\n",
       "      <td>914</td>\n",
       "      <td>3</td>\n",
       "      <td>978301968</td>\n",
       "    </tr>\n",
       "    <tr>\n",
       "      <th>3</th>\n",
       "      <td>1</td>\n",
       "      <td>3408</td>\n",
       "      <td>4</td>\n",
       "      <td>978300275</td>\n",
       "    </tr>\n",
       "    <tr>\n",
       "      <th>4</th>\n",
       "      <td>1</td>\n",
       "      <td>2355</td>\n",
       "      <td>5</td>\n",
       "      <td>978824291</td>\n",
       "    </tr>\n",
       "  </tbody>\n",
       "</table>\n",
       "</div>"
      ],
      "text/plain": [
       "   user_id  movie_id  counts  timestamp\n",
       "0        1      1193       5  978300760\n",
       "1        1       661       3  978302109\n",
       "2        1       914       3  978301968\n",
       "3        1      3408       4  978300275\n",
       "4        1      2355       5  978824291"
      ]
     },
     "execution_count": 5,
     "metadata": {},
     "output_type": "execute_result"
    }
   ],
   "source": [
    "ratings.head()"
   ]
  },
  {
   "cell_type": "markdown",
   "id": "a4fd2907",
   "metadata": {},
   "source": [
    "#### 영화 데이터를 불러오기"
   ]
  },
  {
   "cell_type": "code",
   "execution_count": 6,
   "id": "d98e5e19",
   "metadata": {
    "scrolled": true
   },
   "outputs": [
    {
     "data": {
      "text/html": [
       "<div>\n",
       "<style scoped>\n",
       "    .dataframe tbody tr th:only-of-type {\n",
       "        vertical-align: middle;\n",
       "    }\n",
       "\n",
       "    .dataframe tbody tr th {\n",
       "        vertical-align: top;\n",
       "    }\n",
       "\n",
       "    .dataframe thead th {\n",
       "        text-align: right;\n",
       "    }\n",
       "</style>\n",
       "<table border=\"1\" class=\"dataframe\">\n",
       "  <thead>\n",
       "    <tr style=\"text-align: right;\">\n",
       "      <th></th>\n",
       "      <th>movie_id</th>\n",
       "      <th>title</th>\n",
       "      <th>genre</th>\n",
       "    </tr>\n",
       "  </thead>\n",
       "  <tbody>\n",
       "    <tr>\n",
       "      <th>0</th>\n",
       "      <td>1</td>\n",
       "      <td>Toy Story (1995)</td>\n",
       "      <td>Animation|Children's|Comedy</td>\n",
       "    </tr>\n",
       "    <tr>\n",
       "      <th>1</th>\n",
       "      <td>2</td>\n",
       "      <td>Jumanji (1995)</td>\n",
       "      <td>Adventure|Children's|Fantasy</td>\n",
       "    </tr>\n",
       "    <tr>\n",
       "      <th>2</th>\n",
       "      <td>3</td>\n",
       "      <td>Grumpier Old Men (1995)</td>\n",
       "      <td>Comedy|Romance</td>\n",
       "    </tr>\n",
       "    <tr>\n",
       "      <th>3</th>\n",
       "      <td>4</td>\n",
       "      <td>Waiting to Exhale (1995)</td>\n",
       "      <td>Comedy|Drama</td>\n",
       "    </tr>\n",
       "    <tr>\n",
       "      <th>4</th>\n",
       "      <td>5</td>\n",
       "      <td>Father of the Bride Part II (1995)</td>\n",
       "      <td>Comedy</td>\n",
       "    </tr>\n",
       "  </tbody>\n",
       "</table>\n",
       "</div>"
      ],
      "text/plain": [
       "   movie_id                               title                         genre\n",
       "0         1                    Toy Story (1995)   Animation|Children's|Comedy\n",
       "1         2                      Jumanji (1995)  Adventure|Children's|Fantasy\n",
       "2         3             Grumpier Old Men (1995)                Comedy|Romance\n",
       "3         4            Waiting to Exhale (1995)                  Comedy|Drama\n",
       "4         5  Father of the Bride Part II (1995)                        Comedy"
      ]
     },
     "execution_count": 6,
     "metadata": {},
     "output_type": "execute_result"
    }
   ],
   "source": [
    "# 영화 제목을 보기 위해 메타 데이터를 읽어옵니다.\n",
    "\n",
    "movie_file_path=os.getenv('HOME') + '/aiffel/recommendata_iu/data/ml-1m/movies.dat'\n",
    "cols = ['movie_id', 'title', 'genre'] \n",
    "movies = pd.read_csv(movie_file_path, sep='::', names=cols, engine='python', encoding='ISO-8859-1')\n",
    "movies.head()"
   ]
  },
  {
   "cell_type": "markdown",
   "id": "b4a0a553",
   "metadata": {},
   "source": [
    "#### ratings와 movies 데이터프레임을 병합"
   ]
  },
  {
   "cell_type": "code",
   "execution_count": 7,
   "id": "df60c7a1",
   "metadata": {},
   "outputs": [
    {
     "data": {
      "text/html": [
       "<div>\n",
       "<style scoped>\n",
       "    .dataframe tbody tr th:only-of-type {\n",
       "        vertical-align: middle;\n",
       "    }\n",
       "\n",
       "    .dataframe tbody tr th {\n",
       "        vertical-align: top;\n",
       "    }\n",
       "\n",
       "    .dataframe thead th {\n",
       "        text-align: right;\n",
       "    }\n",
       "</style>\n",
       "<table border=\"1\" class=\"dataframe\">\n",
       "  <thead>\n",
       "    <tr style=\"text-align: right;\">\n",
       "      <th></th>\n",
       "      <th>user_id</th>\n",
       "      <th>movie_id</th>\n",
       "      <th>counts</th>\n",
       "      <th>timestamp</th>\n",
       "      <th>title</th>\n",
       "      <th>genre</th>\n",
       "    </tr>\n",
       "  </thead>\n",
       "  <tbody>\n",
       "    <tr>\n",
       "      <th>0</th>\n",
       "      <td>1</td>\n",
       "      <td>1193</td>\n",
       "      <td>5</td>\n",
       "      <td>978300760</td>\n",
       "      <td>One Flew Over the Cuckoo's Nest (1975)</td>\n",
       "      <td>Drama</td>\n",
       "    </tr>\n",
       "    <tr>\n",
       "      <th>1</th>\n",
       "      <td>2</td>\n",
       "      <td>1193</td>\n",
       "      <td>5</td>\n",
       "      <td>978298413</td>\n",
       "      <td>One Flew Over the Cuckoo's Nest (1975)</td>\n",
       "      <td>Drama</td>\n",
       "    </tr>\n",
       "    <tr>\n",
       "      <th>2</th>\n",
       "      <td>12</td>\n",
       "      <td>1193</td>\n",
       "      <td>4</td>\n",
       "      <td>978220179</td>\n",
       "      <td>One Flew Over the Cuckoo's Nest (1975)</td>\n",
       "      <td>Drama</td>\n",
       "    </tr>\n",
       "    <tr>\n",
       "      <th>3</th>\n",
       "      <td>15</td>\n",
       "      <td>1193</td>\n",
       "      <td>4</td>\n",
       "      <td>978199279</td>\n",
       "      <td>One Flew Over the Cuckoo's Nest (1975)</td>\n",
       "      <td>Drama</td>\n",
       "    </tr>\n",
       "    <tr>\n",
       "      <th>4</th>\n",
       "      <td>17</td>\n",
       "      <td>1193</td>\n",
       "      <td>5</td>\n",
       "      <td>978158471</td>\n",
       "      <td>One Flew Over the Cuckoo's Nest (1975)</td>\n",
       "      <td>Drama</td>\n",
       "    </tr>\n",
       "  </tbody>\n",
       "</table>\n",
       "</div>"
      ],
      "text/plain": [
       "   user_id  movie_id  counts  timestamp  \\\n",
       "0        1      1193       5  978300760   \n",
       "1        2      1193       5  978298413   \n",
       "2       12      1193       4  978220179   \n",
       "3       15      1193       4  978199279   \n",
       "4       17      1193       5  978158471   \n",
       "\n",
       "                                    title  genre  \n",
       "0  One Flew Over the Cuckoo's Nest (1975)  Drama  \n",
       "1  One Flew Over the Cuckoo's Nest (1975)  Drama  \n",
       "2  One Flew Over the Cuckoo's Nest (1975)  Drama  \n",
       "3  One Flew Over the Cuckoo's Nest (1975)  Drama  \n",
       "4  One Flew Over the Cuckoo's Nest (1975)  Drama  "
      ]
     },
     "execution_count": 7,
     "metadata": {},
     "output_type": "execute_result"
    }
   ],
   "source": [
    "data = pd.merge(ratings, movies)\n",
    "data.head()"
   ]
  },
  {
   "cell_type": "markdown",
   "id": "67ef9e3a",
   "metadata": {},
   "source": [
    "#### 분석에 필요한 컬럼만 남기고 사용하지 않는 컬럼을 삭제"
   ]
  },
  {
   "cell_type": "code",
   "execution_count": 8,
   "id": "0df466c5",
   "metadata": {
    "scrolled": true
   },
   "outputs": [
    {
     "data": {
      "text/html": [
       "<div>\n",
       "<style scoped>\n",
       "    .dataframe tbody tr th:only-of-type {\n",
       "        vertical-align: middle;\n",
       "    }\n",
       "\n",
       "    .dataframe tbody tr th {\n",
       "        vertical-align: top;\n",
       "    }\n",
       "\n",
       "    .dataframe thead th {\n",
       "        text-align: right;\n",
       "    }\n",
       "</style>\n",
       "<table border=\"1\" class=\"dataframe\">\n",
       "  <thead>\n",
       "    <tr style=\"text-align: right;\">\n",
       "      <th></th>\n",
       "      <th>user_id</th>\n",
       "      <th>counts</th>\n",
       "      <th>title</th>\n",
       "    </tr>\n",
       "  </thead>\n",
       "  <tbody>\n",
       "    <tr>\n",
       "      <th>0</th>\n",
       "      <td>1</td>\n",
       "      <td>5</td>\n",
       "      <td>One Flew Over the Cuckoo's Nest (1975)</td>\n",
       "    </tr>\n",
       "    <tr>\n",
       "      <th>1</th>\n",
       "      <td>2</td>\n",
       "      <td>5</td>\n",
       "      <td>One Flew Over the Cuckoo's Nest (1975)</td>\n",
       "    </tr>\n",
       "    <tr>\n",
       "      <th>2</th>\n",
       "      <td>12</td>\n",
       "      <td>4</td>\n",
       "      <td>One Flew Over the Cuckoo's Nest (1975)</td>\n",
       "    </tr>\n",
       "    <tr>\n",
       "      <th>3</th>\n",
       "      <td>15</td>\n",
       "      <td>4</td>\n",
       "      <td>One Flew Over the Cuckoo's Nest (1975)</td>\n",
       "    </tr>\n",
       "    <tr>\n",
       "      <th>4</th>\n",
       "      <td>17</td>\n",
       "      <td>5</td>\n",
       "      <td>One Flew Over the Cuckoo's Nest (1975)</td>\n",
       "    </tr>\n",
       "    <tr>\n",
       "      <th>5</th>\n",
       "      <td>18</td>\n",
       "      <td>4</td>\n",
       "      <td>One Flew Over the Cuckoo's Nest (1975)</td>\n",
       "    </tr>\n",
       "    <tr>\n",
       "      <th>6</th>\n",
       "      <td>19</td>\n",
       "      <td>5</td>\n",
       "      <td>One Flew Over the Cuckoo's Nest (1975)</td>\n",
       "    </tr>\n",
       "    <tr>\n",
       "      <th>7</th>\n",
       "      <td>24</td>\n",
       "      <td>5</td>\n",
       "      <td>One Flew Over the Cuckoo's Nest (1975)</td>\n",
       "    </tr>\n",
       "    <tr>\n",
       "      <th>8</th>\n",
       "      <td>28</td>\n",
       "      <td>3</td>\n",
       "      <td>One Flew Over the Cuckoo's Nest (1975)</td>\n",
       "    </tr>\n",
       "    <tr>\n",
       "      <th>9</th>\n",
       "      <td>33</td>\n",
       "      <td>5</td>\n",
       "      <td>One Flew Over the Cuckoo's Nest (1975)</td>\n",
       "    </tr>\n",
       "  </tbody>\n",
       "</table>\n",
       "</div>"
      ],
      "text/plain": [
       "   user_id  counts                                   title\n",
       "0        1       5  One Flew Over the Cuckoo's Nest (1975)\n",
       "1        2       5  One Flew Over the Cuckoo's Nest (1975)\n",
       "2       12       4  One Flew Over the Cuckoo's Nest (1975)\n",
       "3       15       4  One Flew Over the Cuckoo's Nest (1975)\n",
       "4       17       5  One Flew Over the Cuckoo's Nest (1975)\n",
       "5       18       4  One Flew Over the Cuckoo's Nest (1975)\n",
       "6       19       5  One Flew Over the Cuckoo's Nest (1975)\n",
       "7       24       5  One Flew Over the Cuckoo's Nest (1975)\n",
       "8       28       3  One Flew Over the Cuckoo's Nest (1975)\n",
       "9       33       5  One Flew Over the Cuckoo's Nest (1975)"
      ]
     },
     "execution_count": 8,
     "metadata": {},
     "output_type": "execute_result"
    }
   ],
   "source": [
    "# 분석에 필요한 데이터만 남기고 삭제\n",
    "\n",
    "using_cols = ['user_id', 'counts', 'title']\n",
    "data = data[using_cols]\n",
    "data.head(10)"
   ]
  },
  {
   "cell_type": "markdown",
   "id": "45f17219",
   "metadata": {},
   "source": [
    "#### 검색을 쉽게 하기 위해 title 컬럼을 소문자로 바꾸기"
   ]
  },
  {
   "cell_type": "code",
   "execution_count": 9,
   "id": "e80186f1",
   "metadata": {},
   "outputs": [
    {
     "data": {
      "text/html": [
       "<div>\n",
       "<style scoped>\n",
       "    .dataframe tbody tr th:only-of-type {\n",
       "        vertical-align: middle;\n",
       "    }\n",
       "\n",
       "    .dataframe tbody tr th {\n",
       "        vertical-align: top;\n",
       "    }\n",
       "\n",
       "    .dataframe thead th {\n",
       "        text-align: right;\n",
       "    }\n",
       "</style>\n",
       "<table border=\"1\" class=\"dataframe\">\n",
       "  <thead>\n",
       "    <tr style=\"text-align: right;\">\n",
       "      <th></th>\n",
       "      <th>user_id</th>\n",
       "      <th>counts</th>\n",
       "      <th>title</th>\n",
       "    </tr>\n",
       "  </thead>\n",
       "  <tbody>\n",
       "    <tr>\n",
       "      <th>0</th>\n",
       "      <td>1</td>\n",
       "      <td>5</td>\n",
       "      <td>one flew over the cuckoo's nest (1975)</td>\n",
       "    </tr>\n",
       "    <tr>\n",
       "      <th>1</th>\n",
       "      <td>2</td>\n",
       "      <td>5</td>\n",
       "      <td>one flew over the cuckoo's nest (1975)</td>\n",
       "    </tr>\n",
       "    <tr>\n",
       "      <th>2</th>\n",
       "      <td>12</td>\n",
       "      <td>4</td>\n",
       "      <td>one flew over the cuckoo's nest (1975)</td>\n",
       "    </tr>\n",
       "    <tr>\n",
       "      <th>3</th>\n",
       "      <td>15</td>\n",
       "      <td>4</td>\n",
       "      <td>one flew over the cuckoo's nest (1975)</td>\n",
       "    </tr>\n",
       "    <tr>\n",
       "      <th>4</th>\n",
       "      <td>17</td>\n",
       "      <td>5</td>\n",
       "      <td>one flew over the cuckoo's nest (1975)</td>\n",
       "    </tr>\n",
       "    <tr>\n",
       "      <th>5</th>\n",
       "      <td>18</td>\n",
       "      <td>4</td>\n",
       "      <td>one flew over the cuckoo's nest (1975)</td>\n",
       "    </tr>\n",
       "    <tr>\n",
       "      <th>6</th>\n",
       "      <td>19</td>\n",
       "      <td>5</td>\n",
       "      <td>one flew over the cuckoo's nest (1975)</td>\n",
       "    </tr>\n",
       "    <tr>\n",
       "      <th>7</th>\n",
       "      <td>24</td>\n",
       "      <td>5</td>\n",
       "      <td>one flew over the cuckoo's nest (1975)</td>\n",
       "    </tr>\n",
       "    <tr>\n",
       "      <th>8</th>\n",
       "      <td>28</td>\n",
       "      <td>3</td>\n",
       "      <td>one flew over the cuckoo's nest (1975)</td>\n",
       "    </tr>\n",
       "    <tr>\n",
       "      <th>9</th>\n",
       "      <td>33</td>\n",
       "      <td>5</td>\n",
       "      <td>one flew over the cuckoo's nest (1975)</td>\n",
       "    </tr>\n",
       "  </tbody>\n",
       "</table>\n",
       "</div>"
      ],
      "text/plain": [
       "   user_id  counts                                   title\n",
       "0        1       5  one flew over the cuckoo's nest (1975)\n",
       "1        2       5  one flew over the cuckoo's nest (1975)\n",
       "2       12       4  one flew over the cuckoo's nest (1975)\n",
       "3       15       4  one flew over the cuckoo's nest (1975)\n",
       "4       17       5  one flew over the cuckoo's nest (1975)\n",
       "5       18       4  one flew over the cuckoo's nest (1975)\n",
       "6       19       5  one flew over the cuckoo's nest (1975)\n",
       "7       24       5  one flew over the cuckoo's nest (1975)\n",
       "8       28       3  one flew over the cuckoo's nest (1975)\n",
       "9       33       5  one flew over the cuckoo's nest (1975)"
      ]
     },
     "execution_count": 9,
     "metadata": {},
     "output_type": "execute_result"
    }
   ],
   "source": [
    "# title 열을 소문자로 바꿔준다.\n",
    "\n",
    "data['title'] = data['title'].str.lower()\n",
    "data.head(10)"
   ]
  },
  {
   "cell_type": "markdown",
   "id": "1e9145b2",
   "metadata": {},
   "source": [
    "### 2) 분석해 봅시다.\n",
    "***\n",
    "* ratings에 있는 유니크한 영화 개수\n",
    "* ratings에 있는 유니크한 사용자 수\n",
    "* 가장 인기 있는 영화 30개(인기순)"
   ]
  },
  {
   "cell_type": "markdown",
   "id": "74b672a0",
   "metadata": {},
   "source": [
    "#### ratings에 있는 유니크한 사용자 수"
   ]
  },
  {
   "cell_type": "code",
   "execution_count": 10,
   "id": "c5bd9dc5",
   "metadata": {},
   "outputs": [
    {
     "data": {
      "text/plain": [
       "6039"
      ]
     },
     "execution_count": 10,
     "metadata": {},
     "output_type": "execute_result"
    }
   ],
   "source": [
    "# 유저 수\n",
    "ratings['user_id'].nunique()"
   ]
  },
  {
   "cell_type": "markdown",
   "id": "59d4b055",
   "metadata": {},
   "source": [
    "#### ratings에 있는 유니크한 영화 개수"
   ]
  },
  {
   "cell_type": "code",
   "execution_count": 11,
   "id": "c224d6ab",
   "metadata": {},
   "outputs": [
    {
     "data": {
      "text/plain": [
       "3883"
      ]
     },
     "execution_count": 11,
     "metadata": {},
     "output_type": "execute_result"
    }
   ],
   "source": [
    "# 영화 수\n",
    "movies['movie_id'].nunique()"
   ]
  },
  {
   "cell_type": "markdown",
   "id": "8462d95f",
   "metadata": {},
   "source": [
    "#### 가장 인기 있는 영화 30개(인기순)"
   ]
  },
  {
   "cell_type": "code",
   "execution_count": 12,
   "id": "7105182e",
   "metadata": {
    "scrolled": true
   },
   "outputs": [
    {
     "data": {
      "text/plain": [
       "title\n",
       "american beauty (1999)                                   3211\n",
       "star wars: episode iv - a new hope (1977)                2910\n",
       "star wars: episode v - the empire strikes back (1980)    2885\n",
       "star wars: episode vi - return of the jedi (1983)        2716\n",
       "saving private ryan (1998)                               2561\n",
       "terminator 2: judgment day (1991)                        2509\n",
       "silence of the lambs, the (1991)                         2498\n",
       "raiders of the lost ark (1981)                           2473\n",
       "back to the future (1985)                                2460\n",
       "matrix, the (1999)                                       2434\n",
       "jurassic park (1993)                                     2413\n",
       "sixth sense, the (1999)                                  2385\n",
       "fargo (1996)                                             2371\n",
       "braveheart (1995)                                        2314\n",
       "men in black (1997)                                      2297\n",
       "schindler's list (1993)                                  2257\n",
       "princess bride, the (1987)                               2252\n",
       "shakespeare in love (1998)                               2213\n",
       "l.a. confidential (1997)                                 2210\n",
       "shawshank redemption, the (1994)                         2194\n",
       "godfather, the (1972)                                    2167\n",
       "groundhog day (1993)                                     2121\n",
       "e.t. the extra-terrestrial (1982)                        2102\n",
       "being john malkovich (1999)                              2066\n",
       "ghostbusters (1984)                                      2051\n",
       "pulp fiction (1994)                                      2030\n",
       "forrest gump (1994)                                      2022\n",
       "terminator, the (1984)                                   2019\n",
       "toy story (1995)                                         2000\n",
       "fugitive, the (1993)                                     1941\n",
       "Name: user_id, dtype: int64"
      ]
     },
     "execution_count": 12,
     "metadata": {},
     "output_type": "execute_result"
    }
   ],
   "source": [
    "# 인기 많은 영화\n",
    "\n",
    "movie_count = data.groupby('title')['user_id'].count()\n",
    "movie_count.sort_values(ascending=False).head(30)"
   ]
  },
  {
   "cell_type": "code",
   "execution_count": 13,
   "id": "d0fe2e89",
   "metadata": {
    "scrolled": true
   },
   "outputs": [
    {
     "data": {
      "text/plain": [
       "count    6039.000000\n",
       "mean      138.512668\n",
       "std       156.241599\n",
       "min         1.000000\n",
       "25%        38.000000\n",
       "50%        81.000000\n",
       "75%       177.000000\n",
       "max      1968.000000\n",
       "Name: title, dtype: float64"
      ]
     },
     "execution_count": 13,
     "metadata": {},
     "output_type": "execute_result"
    }
   ],
   "source": [
    "# 유저별 몇 개의 영화를 봤는지에 대한 통계\n",
    "user_count = data.groupby('user_id')['title'].count()\n",
    "user_count.describe()"
   ]
  },
  {
   "cell_type": "markdown",
   "id": "17e18153",
   "metadata": {},
   "source": [
    "### 3) 내가 선호하는 영화를 5가지 골라서 ratings에 추가해 줍시다.\n",
    "***"
   ]
  },
  {
   "cell_type": "code",
   "execution_count": 14,
   "id": "0e81e6c6",
   "metadata": {
    "scrolled": true
   },
   "outputs": [
    {
     "data": {
      "text/html": [
       "<div>\n",
       "<style scoped>\n",
       "    .dataframe tbody tr th:only-of-type {\n",
       "        vertical-align: middle;\n",
       "    }\n",
       "\n",
       "    .dataframe tbody tr th {\n",
       "        vertical-align: top;\n",
       "    }\n",
       "\n",
       "    .dataframe thead th {\n",
       "        text-align: right;\n",
       "    }\n",
       "</style>\n",
       "<table border=\"1\" class=\"dataframe\">\n",
       "  <thead>\n",
       "    <tr style=\"text-align: right;\">\n",
       "      <th></th>\n",
       "      <th>user_id</th>\n",
       "      <th>counts</th>\n",
       "      <th>title</th>\n",
       "    </tr>\n",
       "  </thead>\n",
       "  <tbody>\n",
       "    <tr>\n",
       "      <th>836473</th>\n",
       "      <td>5851</td>\n",
       "      <td>5</td>\n",
       "      <td>one little indian (1973)</td>\n",
       "    </tr>\n",
       "    <tr>\n",
       "      <th>836474</th>\n",
       "      <td>5854</td>\n",
       "      <td>4</td>\n",
       "      <td>slaughterhouse (1987)</td>\n",
       "    </tr>\n",
       "    <tr>\n",
       "      <th>836475</th>\n",
       "      <td>5854</td>\n",
       "      <td>3</td>\n",
       "      <td>promise, the (versprechen, das) (1994)</td>\n",
       "    </tr>\n",
       "    <tr>\n",
       "      <th>836476</th>\n",
       "      <td>5938</td>\n",
       "      <td>4</td>\n",
       "      <td>five wives, three secretaries and me (1998)</td>\n",
       "    </tr>\n",
       "    <tr>\n",
       "      <th>836477</th>\n",
       "      <td>5948</td>\n",
       "      <td>5</td>\n",
       "      <td>identification of a woman (identificazione di ...</td>\n",
       "    </tr>\n",
       "    <tr>\n",
       "      <th>0</th>\n",
       "      <td>grint</td>\n",
       "      <td>5</td>\n",
       "      <td>american beauty (1999)</td>\n",
       "    </tr>\n",
       "    <tr>\n",
       "      <th>1</th>\n",
       "      <td>grint</td>\n",
       "      <td>5</td>\n",
       "      <td>forrest gump (1994)</td>\n",
       "    </tr>\n",
       "    <tr>\n",
       "      <th>2</th>\n",
       "      <td>grint</td>\n",
       "      <td>5</td>\n",
       "      <td>toy story (1995)</td>\n",
       "    </tr>\n",
       "    <tr>\n",
       "      <th>3</th>\n",
       "      <td>grint</td>\n",
       "      <td>5</td>\n",
       "      <td>jurassic park (1993)</td>\n",
       "    </tr>\n",
       "    <tr>\n",
       "      <th>4</th>\n",
       "      <td>grint</td>\n",
       "      <td>5</td>\n",
       "      <td>matrix, the (1999)</td>\n",
       "    </tr>\n",
       "  </tbody>\n",
       "</table>\n",
       "</div>"
      ],
      "text/plain": [
       "       user_id  counts                                              title\n",
       "836473    5851       5                           one little indian (1973)\n",
       "836474    5854       4                              slaughterhouse (1987)\n",
       "836475    5854       3             promise, the (versprechen, das) (1994)\n",
       "836476    5938       4        five wives, three secretaries and me (1998)\n",
       "836477    5948       5  identification of a woman (identificazione di ...\n",
       "0        grint       5                             american beauty (1999)\n",
       "1        grint       5                                forrest gump (1994)\n",
       "2        grint       5                                   toy story (1995)\n",
       "3        grint       5                               jurassic park (1993)\n",
       "4        grint       5                                 matrix, the (1999)"
      ]
     },
     "execution_count": 14,
     "metadata": {},
     "output_type": "execute_result"
    }
   ],
   "source": [
    "# 검증 과정을 위한 사용자 초기 정보 추가\n",
    "my_favorite = ['american beauty (1999)', \n",
    "               'forrest gump (1994)', \n",
    "               'toy story (1995)',\n",
    "              'jurassic park (1993)',\n",
    "              'matrix, the (1999)']\n",
    "\n",
    "# 'grint'라는 user_id가 위 영화를 5회씩 봤다고 가정\n",
    "my_movie = pd.DataFrame({'user_id': ['grint']*5, 'title': my_favorite, 'counts':[5]*5})\n",
    "\n",
    "if not data.isin({'user_id': ['grint']})['user_id'].any():\n",
    "    data = data.append(my_movie)\n",
    "    \n",
    "data.tail(10)"
   ]
  },
  {
   "cell_type": "markdown",
   "id": "3938a589",
   "metadata": {},
   "source": [
    "#### indexing 작업을 위해서 pandas.DataFrame.unique()를 이용하여 특정 컬럼에 포함된 유니크한 데이터만 모아 줍니다."
   ]
  },
  {
   "cell_type": "code",
   "execution_count": 15,
   "id": "3f48a551",
   "metadata": {},
   "outputs": [],
   "source": [
    "# 고유한 유저, 영화를 찾아내는 코드\n",
    "user_unique = data['user_id'].unique()\n",
    "movie_unique = data['title'].unique()\n",
    "\n",
    "# 유저, 영화 indexing \n",
    "user_to_idx = {v:k for k,v in enumerate(user_unique)}\n",
    "movie_to_idx = {v:k for k,v in enumerate(movie_unique)}"
   ]
  },
  {
   "cell_type": "code",
   "execution_count": 16,
   "id": "5752a07e",
   "metadata": {},
   "outputs": [
    {
     "name": "stdout",
     "output_type": "stream",
     "text": [
      "6039\n",
      "40\n"
     ]
    }
   ],
   "source": [
    "# 인덱싱이 잘 됐는지 확인\n",
    "print(user_to_idx['grint'])  # 6040명의 유저 중 마지막으로 추가된 유저이니 6039가 나와야 합니다.\n",
    "print(movie_to_idx['toy story (1995)'])"
   ]
  },
  {
   "cell_type": "code",
   "execution_count": 17,
   "id": "9b63cc5e",
   "metadata": {},
   "outputs": [
    {
     "name": "stdout",
     "output_type": "stream",
     "text": [
      "user_id column indexing OK!!\n",
      "title column indexing OK!!\n"
     ]
    },
    {
     "data": {
      "text/html": [
       "<div>\n",
       "<style scoped>\n",
       "    .dataframe tbody tr th:only-of-type {\n",
       "        vertical-align: middle;\n",
       "    }\n",
       "\n",
       "    .dataframe tbody tr th {\n",
       "        vertical-align: top;\n",
       "    }\n",
       "\n",
       "    .dataframe thead th {\n",
       "        text-align: right;\n",
       "    }\n",
       "</style>\n",
       "<table border=\"1\" class=\"dataframe\">\n",
       "  <thead>\n",
       "    <tr style=\"text-align: right;\">\n",
       "      <th></th>\n",
       "      <th>user_id</th>\n",
       "      <th>counts</th>\n",
       "      <th>title</th>\n",
       "    </tr>\n",
       "  </thead>\n",
       "  <tbody>\n",
       "    <tr>\n",
       "      <th>0</th>\n",
       "      <td>0</td>\n",
       "      <td>5</td>\n",
       "      <td>0</td>\n",
       "    </tr>\n",
       "    <tr>\n",
       "      <th>1</th>\n",
       "      <td>1</td>\n",
       "      <td>5</td>\n",
       "      <td>0</td>\n",
       "    </tr>\n",
       "    <tr>\n",
       "      <th>2</th>\n",
       "      <td>2</td>\n",
       "      <td>4</td>\n",
       "      <td>0</td>\n",
       "    </tr>\n",
       "    <tr>\n",
       "      <th>3</th>\n",
       "      <td>3</td>\n",
       "      <td>4</td>\n",
       "      <td>0</td>\n",
       "    </tr>\n",
       "    <tr>\n",
       "      <th>4</th>\n",
       "      <td>4</td>\n",
       "      <td>5</td>\n",
       "      <td>0</td>\n",
       "    </tr>\n",
       "    <tr>\n",
       "      <th>...</th>\n",
       "      <td>...</td>\n",
       "      <td>...</td>\n",
       "      <td>...</td>\n",
       "    </tr>\n",
       "    <tr>\n",
       "      <th>0</th>\n",
       "      <td>6039</td>\n",
       "      <td>5</td>\n",
       "      <td>99</td>\n",
       "    </tr>\n",
       "    <tr>\n",
       "      <th>1</th>\n",
       "      <td>6039</td>\n",
       "      <td>5</td>\n",
       "      <td>160</td>\n",
       "    </tr>\n",
       "    <tr>\n",
       "      <th>2</th>\n",
       "      <td>6039</td>\n",
       "      <td>5</td>\n",
       "      <td>40</td>\n",
       "    </tr>\n",
       "    <tr>\n",
       "      <th>3</th>\n",
       "      <td>6039</td>\n",
       "      <td>5</td>\n",
       "      <td>107</td>\n",
       "    </tr>\n",
       "    <tr>\n",
       "      <th>4</th>\n",
       "      <td>6039</td>\n",
       "      <td>5</td>\n",
       "      <td>124</td>\n",
       "    </tr>\n",
       "  </tbody>\n",
       "</table>\n",
       "<p>836483 rows × 3 columns</p>\n",
       "</div>"
      ],
      "text/plain": [
       "    user_id  counts  title\n",
       "0         0       5      0\n",
       "1         1       5      0\n",
       "2         2       4      0\n",
       "3         3       4      0\n",
       "4         4       5      0\n",
       "..      ...     ...    ...\n",
       "0      6039       5     99\n",
       "1      6039       5    160\n",
       "2      6039       5     40\n",
       "3      6039       5    107\n",
       "4      6039       5    124\n",
       "\n",
       "[836483 rows x 3 columns]"
      ]
     },
     "execution_count": 17,
     "metadata": {},
     "output_type": "execute_result"
    }
   ],
   "source": [
    "# indexing을 통해 데이터 컬럼 내 값을 바꾸는 코드\n",
    "# dictionary 자료형의 get 함수는 https://wikidocs.net/16 을 참고하세요.\n",
    "\n",
    "# user_to_idx.get을 통해 user_id 컬럼의 모든 값을 인덱싱한 Series를 구해 봅시다. \n",
    "# 혹시 정상적으로 인덱싱되지 않은 row가 있다면 인덱스가 NaN이 될 테니 dropna()로 제거합니다. \n",
    "temp_user_data = data['user_id'].map(user_to_idx.get).dropna()\n",
    "if len(temp_user_data) == len(data):   # 모든 row가 정상적으로 인덱싱되었다면\n",
    "    print('user_id column indexing OK!!')\n",
    "    data['user_id'] = temp_user_data   # data['user_id']을 인덱싱된 Series로 교체해 줍니다. \n",
    "else:\n",
    "    print('user_id column indexing Fail!!')\n",
    "\n",
    "# artist_to_idx을 통해 artist 컬럼도 동일한 방식으로 인덱싱해 줍니다. \n",
    "temp_movie_data = data['title'].map(movie_to_idx.get).dropna()\n",
    "if len(temp_movie_data) == len(data):\n",
    "    print('title column indexing OK!!')\n",
    "    data['title'] = temp_movie_data\n",
    "else:\n",
    "    print('title column indexing Fail!!')\n",
    "\n",
    "data"
   ]
  },
  {
   "cell_type": "markdown",
   "id": "e1111cc2",
   "metadata": {},
   "source": [
    "### 4) CSR matrix를 직접 만들어 봅시다.\n",
    "***"
   ]
  },
  {
   "cell_type": "code",
   "execution_count": 18,
   "id": "9003f0e4",
   "metadata": {},
   "outputs": [
    {
     "data": {
      "text/plain": [
       "<6040x3628 sparse matrix of type '<class 'numpy.int64'>'\n",
       "\twith 836483 stored elements in Compressed Sparse Row format>"
      ]
     },
     "execution_count": 18,
     "metadata": {},
     "output_type": "execute_result"
    }
   ],
   "source": [
    "from scipy.sparse import csr_matrix\n",
    "\n",
    "num_user = data['user_id'].nunique()\n",
    "num_title = data['title'].nunique()\n",
    "\n",
    "csr_data = csr_matrix((data.counts, (data.user_id, data.title)), shape= (num_user, num_title))\n",
    "csr_data"
   ]
  },
  {
   "cell_type": "markdown",
   "id": "c1d9489d",
   "metadata": {},
   "source": [
    "### 5) als_model = AlternatingLeastSquares 모델을 직접 구성하여 훈련시켜 봅시다.\n",
    "***"
   ]
  },
  {
   "cell_type": "code",
   "execution_count": 19,
   "id": "71755dba",
   "metadata": {},
   "outputs": [],
   "source": [
    "from implicit.als import AlternatingLeastSquares\n",
    "import numpy as np\n",
    "\n",
    "# Implicit AlternatingLeastSquares 모델의 선언\n",
    "\n",
    "als_model = AlternatingLeastSquares(factors=100, regularization=0.01, use_gpu=False, iterations=15, dtype=np.float32)"
   ]
  },
  {
   "cell_type": "code",
   "execution_count": 20,
   "id": "c9266eb3",
   "metadata": {},
   "outputs": [
    {
     "data": {
      "text/plain": [
       "<3628x6040 sparse matrix of type '<class 'numpy.int64'>'\n",
       "\twith 836483 stored elements in Compressed Sparse Column format>"
      ]
     },
     "execution_count": 20,
     "metadata": {},
     "output_type": "execute_result"
    }
   ],
   "source": [
    "# als 모델은 input으로 (item X user 꼴의 matrix를 받기 때문에 Transpose해줍니다.)\n",
    "\n",
    "csr_data_transpose = csr_data.T\n",
    "csr_data_transpose"
   ]
  },
  {
   "cell_type": "code",
   "execution_count": 21,
   "id": "fbef7643",
   "metadata": {},
   "outputs": [
    {
     "data": {
      "application/vnd.jupyter.widget-view+json": {
       "model_id": "8e6f1c3340f3401ca19dbb7a7f2fd86e",
       "version_major": 2,
       "version_minor": 0
      },
      "text/plain": [
       "  0%|          | 0/15 [00:00<?, ?it/s]"
      ]
     },
     "metadata": {},
     "output_type": "display_data"
    }
   ],
   "source": [
    "# 모델 훈련\n",
    "als_model.fit(csr_data_transpose)"
   ]
  },
  {
   "cell_type": "code",
   "execution_count": 22,
   "id": "cafd7060",
   "metadata": {
    "scrolled": false
   },
   "outputs": [],
   "source": [
    "grint, toy_story = user_to_idx['grint'], movie_to_idx['toy story (1995)']\n",
    "grint_vector, toy_story_vector = als_model.user_factors[grint], als_model.item_factors[toy_story]"
   ]
  },
  {
   "cell_type": "code",
   "execution_count": 23,
   "id": "0f594e19",
   "metadata": {},
   "outputs": [
    {
     "data": {
      "text/plain": [
       "array([ 8.3902556e-01,  2.8075713e-01, -6.2950450e-01, -8.3324260e-01,\n",
       "       -1.0247378e+00,  3.8496661e-01, -3.0156221e-02,  1.2362537e+00,\n",
       "       -3.3096122e-03, -1.4622669e-02,  5.7384282e-02,  5.0698125e-01,\n",
       "       -2.1646243e-01, -4.8294896e-01,  2.7867708e-02,  4.6456581e-01,\n",
       "       -3.2754576e-01,  4.8161852e-01,  4.2507015e-03, -3.0349828e-02,\n",
       "        1.1161643e-01,  5.0918126e-01,  8.1481703e-02, -7.5027543e-01,\n",
       "        3.4015503e-02, -1.9635959e-01,  4.7084719e-01,  2.3340395e-01,\n",
       "        3.7158528e-01, -5.9922487e-01,  6.0551548e-01, -3.6025107e-02,\n",
       "        3.9377615e-01, -5.5479750e-02,  3.8324067e-01, -2.9090506e-01,\n",
       "        4.0029030e-02,  3.1947955e-01, -8.4602165e-01,  4.9062562e-01,\n",
       "       -3.6030203e-01,  4.4830531e-01, -7.0187312e-01, -4.9465150e-04,\n",
       "       -7.5941819e-01, -8.7352639e-01,  5.1977569e-01, -5.1258796e-01,\n",
       "       -3.4402457e-01, -3.2664287e-01,  7.3498952e-01, -2.9076844e-01,\n",
       "        4.0702054e-01,  3.0324993e-01,  4.2638114e-01, -6.7605209e-01,\n",
       "        6.0864810e-02,  7.8604323e-01, -5.1409715e-01,  4.0803105e-02,\n",
       "        5.1338947e-01, -1.9859628e-01, -3.7676677e-01, -7.4552011e-01,\n",
       "        6.6273063e-01,  1.4721020e-01,  7.5020909e-01,  1.0724589e-02,\n",
       "       -3.9031494e-01, -5.0849855e-01,  8.8634384e-01,  4.5658156e-01,\n",
       "        5.3846532e-01, -3.5364246e-01,  7.7064432e-02,  1.2303579e+00,\n",
       "        4.1164894e-02, -3.2777563e-01,  7.2011209e-01, -2.4047790e-01,\n",
       "       -3.7994757e-01, -8.5522407e-01,  5.4080027e-01,  4.5491305e-01,\n",
       "       -6.4610147e-01, -9.1474801e-01,  4.2596114e-01, -6.3012265e-02,\n",
       "        8.2757604e-01, -2.7216876e-01,  7.0868701e-01, -1.2200732e+00,\n",
       "       -5.7934612e-01,  8.7151900e-02, -3.1152764e-01,  6.9512315e-02,\n",
       "        2.4641155e-01,  3.6625519e-01,  1.1695154e+00, -9.0475267e-01],\n",
       "      dtype=float32)"
      ]
     },
     "execution_count": 23,
     "metadata": {},
     "output_type": "execute_result"
    }
   ],
   "source": [
    "grint_vector"
   ]
  },
  {
   "cell_type": "code",
   "execution_count": 24,
   "id": "291cc838",
   "metadata": {},
   "outputs": [
    {
     "data": {
      "text/plain": [
       "array([-0.01211995,  0.0109512 ,  0.01074005, -0.01516482, -0.00719069,\n",
       "        0.02613608, -0.02004433,  0.02819634, -0.02640413,  0.01246646,\n",
       "       -0.00448715,  0.01064998, -0.01946263, -0.01324074, -0.01102937,\n",
       "        0.03274656,  0.01096178,  0.01069774,  0.01986231,  0.00494709,\n",
       "        0.02708036,  0.00659937, -0.01352386,  0.00349173,  0.00319658,\n",
       "       -0.00305896,  0.04577035,  0.00738884,  0.0157051 , -0.00781641,\n",
       "        0.01882585,  0.00083619,  0.02021739,  0.00795026, -0.02001147,\n",
       "        0.01055289,  0.01444529, -0.00048977,  0.00603488,  0.04515371,\n",
       "       -0.02302783,  0.01791559, -0.00010702, -0.00352085, -0.01007585,\n",
       "       -0.02114804, -0.00476483, -0.01904383,  0.03684773,  0.00759067,\n",
       "        0.05010354,  0.01446106, -0.00459925,  0.01458531,  0.01256415,\n",
       "        0.01976478, -0.00057752,  0.02906838, -0.02457304,  0.01863265,\n",
       "        0.03053399,  0.03258698, -0.0257713 , -0.0079325 ,  0.00728569,\n",
       "        0.01669998,  0.01186815,  0.0093853 , -0.03464783,  0.01259544,\n",
       "        0.02691482, -0.00144653,  0.0174982 ,  0.00375176,  0.01182394,\n",
       "        0.0289264 ,  0.02569326, -0.00348261,  0.01869076, -0.00515777,\n",
       "        0.01424449, -0.03810751,  0.00698741,  0.01634835,  0.02492562,\n",
       "       -0.00376126, -0.02401743,  0.02649262,  0.0087945 ,  0.01250086,\n",
       "        0.01821578, -0.0197856 ,  0.01819012,  0.00188149,  0.00613242,\n",
       "       -0.00593196, -0.01451174,  0.03527873,  0.05326329, -0.03524399],\n",
       "      dtype=float32)"
      ]
     },
     "execution_count": 24,
     "metadata": {},
     "output_type": "execute_result"
    }
   ],
   "source": [
    "toy_story_vector"
   ]
  },
  {
   "cell_type": "code",
   "execution_count": 25,
   "id": "92769a80",
   "metadata": {},
   "outputs": [
    {
     "data": {
      "text/plain": [
       "0.5230593"
      ]
     },
     "execution_count": 25,
     "metadata": {},
     "output_type": "execute_result"
    }
   ],
   "source": [
    "# grint와 Toy_Story_vector를 내적하는 코드\n",
    "np.dot(grint_vector, toy_story_vector)"
   ]
  },
  {
   "cell_type": "markdown",
   "id": "b4336b1d",
   "metadata": {},
   "source": [
    "### 6) 내가 선호하는 5가지 영화 중 하나와 그 외의 영화 하나를 골라 훈련된 모델이 예측한 나의 선호도를 파악해 보세요.\n",
    "***"
   ]
  },
  {
   "cell_type": "code",
   "execution_count": 26,
   "id": "a2cc37d5",
   "metadata": {},
   "outputs": [
    {
     "data": {
      "text/plain": [
       "0.65979093"
      ]
     },
     "execution_count": 26,
     "metadata": {},
     "output_type": "execute_result"
    }
   ],
   "source": [
    "forrest_gump = movie_to_idx['forrest gump (1994)']\n",
    "forrest_gump_vector = als_model.item_factors[forrest_gump]\n",
    "np.dot(grint_vector, forrest_gump_vector)"
   ]
  },
  {
   "cell_type": "code",
   "execution_count": 27,
   "id": "92e79631",
   "metadata": {},
   "outputs": [
    {
     "data": {
      "text/plain": [
       "0.0004406448"
      ]
     },
     "execution_count": 27,
     "metadata": {},
     "output_type": "execute_result"
    }
   ],
   "source": [
    "one_little_indian = movie_to_idx['one little indian (1973)']\n",
    "one_little_indian_vector = als_model.item_factors[one_little_indian]\n",
    "np.dot(grint_vector, one_little_indian_vector)"
   ]
  },
  {
   "cell_type": "markdown",
   "id": "b84711f5",
   "metadata": {},
   "source": [
    "### 7) 내가 좋아하는 영화와 비슷한 영화를 추천받아 봅시다.\n",
    "***"
   ]
  },
  {
   "cell_type": "code",
   "execution_count": 28,
   "id": "ef61917f",
   "metadata": {},
   "outputs": [],
   "source": [
    "#artist_to_idx 를 뒤집어, index로부터 artist 이름을 얻는 dict를 생성합니다. \n",
    "\n",
    "idx_to_movie = {v:k for k,v in movie_to_idx.items()}\n",
    "\n",
    "def get_similar_movie(movie_title: str):\n",
    "    movie_id = movie_to_idx[movie_title]\n",
    "    similar_movie = als_model.similar_items(movie_id)\n",
    "    similar_movie = [idx_to_movie[i[0]] for i in similar_movie]\n",
    "    return similar_movie"
   ]
  },
  {
   "cell_type": "code",
   "execution_count": 29,
   "id": "d5fc6d55",
   "metadata": {},
   "outputs": [
    {
     "data": {
      "text/plain": [
       "['toy story (1995)',\n",
       " 'toy story 2 (1999)',\n",
       " 'aladdin (1992)',\n",
       " \"bug's life, a (1998)\",\n",
       " 'babe (1995)',\n",
       " 'groundhog day (1993)',\n",
       " 'lion king, the (1994)',\n",
       " 'beauty and the beast (1991)',\n",
       " 'pleasantville (1998)',\n",
       " \"there's something about mary (1998)\"]"
      ]
     },
     "execution_count": 29,
     "metadata": {},
     "output_type": "execute_result"
    }
   ],
   "source": [
    "get_similar_movie('toy story (1995)')"
   ]
  },
  {
   "cell_type": "code",
   "execution_count": 30,
   "id": "7ca6b324",
   "metadata": {},
   "outputs": [
    {
     "data": {
      "text/plain": [
       "['forrest gump (1994)',\n",
       " 'groundhog day (1993)',\n",
       " 'as good as it gets (1997)',\n",
       " 'clueless (1995)',\n",
       " 'pretty woman (1990)',\n",
       " 'four weddings and a funeral (1994)',\n",
       " 'sleepless in seattle (1993)',\n",
       " 'ghost (1990)',\n",
       " 'dave (1993)',\n",
       " 'small wonders (1996)']"
      ]
     },
     "execution_count": 30,
     "metadata": {},
     "output_type": "execute_result"
    }
   ],
   "source": [
    "get_similar_movie('forrest gump (1994)')"
   ]
  },
  {
   "cell_type": "markdown",
   "id": "098ff7bc",
   "metadata": {},
   "source": [
    "### 8) 내가 가장 좋아할 만한 영화들을 추천받아 봅시다.\n",
    "***"
   ]
  },
  {
   "cell_type": "code",
   "execution_count": 31,
   "id": "91117f64",
   "metadata": {
    "scrolled": true
   },
   "outputs": [
    {
     "data": {
      "text/plain": [
       "[(92, 0.5708084),\n",
       " (175, 0.45912185),\n",
       " (110, 0.4530189),\n",
       " (64, 0.4377558),\n",
       " (50, 0.43548074),\n",
       " (87, 0.3884011),\n",
       " (38, 0.38138747),\n",
       " (126, 0.36946228),\n",
       " (48, 0.36331555),\n",
       " (170, 0.32160303),\n",
       " (141, 0.29951936),\n",
       " (62, 0.2942831),\n",
       " (22, 0.2921079),\n",
       " (322, 0.28187263),\n",
       " (117, 0.27576318),\n",
       " (60, 0.27353325),\n",
       " (27, 0.25553194),\n",
       " (44, 0.25106737),\n",
       " (4, 0.23425196),\n",
       " (255, 0.2227214)]"
      ]
     },
     "execution_count": 31,
     "metadata": {},
     "output_type": "execute_result"
    }
   ],
   "source": [
    "user = user_to_idx['grint']\n",
    "\n",
    "# recommend에서는 user*item CSR Matrix를 받습니다.\n",
    "\n",
    "movie_recommended = als_model.recommend(user, csr_data, N=20, filter_already_liked_items=True)\n",
    "movie_recommended"
   ]
  },
  {
   "cell_type": "code",
   "execution_count": 32,
   "id": "7406b2c0",
   "metadata": {},
   "outputs": [
    {
     "data": {
      "text/plain": [
       "['terminator 2: judgment day (1991)',\n",
       " 'men in black (1997)',\n",
       " 'groundhog day (1993)',\n",
       " 'star wars: episode vi - return of the jedi (1983)',\n",
       " 'toy story 2 (1999)',\n",
       " 'braveheart (1995)',\n",
       " 'sixth sense, the (1999)',\n",
       " 'shakespeare in love (1998)',\n",
       " 'saving private ryan (1998)',\n",
       " 'being john malkovich (1999)',\n",
       " 'fugitive, the (1993)',\n",
       " 'total recall (1990)',\n",
       " 'back to the future (1985)',\n",
       " 'babe (1995)',\n",
       " 'star wars: episode v - the empire strikes back (1980)',\n",
       " 'star wars: episode i - the phantom menace (1999)',\n",
       " 'titanic (1997)',\n",
       " 'star wars: episode iv - a new hope (1977)',\n",
       " \"bug's life, a (1998)\",\n",
       " \"there's something about mary (1998)\"]"
      ]
     },
     "execution_count": 32,
     "metadata": {},
     "output_type": "execute_result"
    }
   ],
   "source": [
    "[idx_to_movie[i[0]] for i in movie_recommended]"
   ]
  },
  {
   "cell_type": "code",
   "execution_count": 33,
   "id": "84f161b4",
   "metadata": {},
   "outputs": [
    {
     "name": "stdout",
     "output_type": "stream",
     "text": [
      "terminator 2: judgment day (1991) : 0.571\n",
      "men in black (1997) : 0.459\n",
      "groundhog day (1993) : 0.453\n",
      "star wars: episode vi - return of the jedi (1983) : 0.438\n",
      "toy story 2 (1999) : 0.435\n",
      "braveheart (1995) : 0.388\n",
      "sixth sense, the (1999) : 0.381\n",
      "shakespeare in love (1998) : 0.369\n",
      "saving private ryan (1998) : 0.363\n",
      "being john malkovich (1999) : 0.322\n",
      "fugitive, the (1993) : 0.300\n",
      "total recall (1990) : 0.294\n",
      "back to the future (1985) : 0.292\n",
      "babe (1995) : 0.282\n",
      "star wars: episode v - the empire strikes back (1980) : 0.276\n",
      "star wars: episode i - the phantom menace (1999) : 0.274\n",
      "titanic (1997) : 0.256\n",
      "star wars: episode iv - a new hope (1977) : 0.251\n",
      "bug's life, a (1998) : 0.234\n",
      "there's something about mary (1998) : 0.223\n"
     ]
    }
   ],
   "source": [
    "for i in movie_recommended:\n",
    "    print(\"{} : {:04.3f}\".format(idx_to_movie[i[0]], i[1]))"
   ]
  },
  {
   "cell_type": "markdown",
   "id": "ad5d215c",
   "metadata": {},
   "source": [
    "#### explain 메서드를 통해 추천에 기여한 정도를 확인"
   ]
  },
  {
   "cell_type": "code",
   "execution_count": 34,
   "id": "11aa02fd",
   "metadata": {},
   "outputs": [],
   "source": [
    "terminator_2 = movie_to_idx['terminator 2: judgment day (1991)']\n",
    "explain = als_model.explain(user, csr_data, itemid=terminator_2)"
   ]
  },
  {
   "cell_type": "code",
   "execution_count": 35,
   "id": "0f054fef",
   "metadata": {},
   "outputs": [
    {
     "data": {
      "text/plain": [
       "[('matrix, the (1999)', 0.2746371574610917),\n",
       " ('jurassic park (1993)', 0.21891592794426165),\n",
       " ('toy story (1995)', 0.02941573154182588),\n",
       " ('american beauty (1999)', 0.02851221787695947),\n",
       " ('forrest gump (1994)', 0.009515127467247569)]"
      ]
     },
     "execution_count": 35,
     "metadata": {},
     "output_type": "execute_result"
    }
   ],
   "source": [
    "[(idx_to_movie[i[0]], i[1]) for i in explain[1]]"
   ]
  },
  {
   "cell_type": "markdown",
   "id": "47bc10d3",
   "metadata": {},
   "source": [
    "<kbd>회고</kbd>\n",
    "=========\n",
    "***\n",
    "사용한 영화 데이터가 오래된 것들이라 영화 리스트를 만들때가 가장 힘들었다.<br>\n",
    "다 꽤나 오래된 영화들이었고 좋아하는 영화는 없었기 때문이다.\n",
    "\n",
    "그래도 영화 추천이라는 것을 경험해볼 수 있어서 좋았다.<br>\n",
    "요즘 많은 사람들이 넷플릭스에서 영화를 추천받고, 유튜브의 알고리즘에 이끌려 동영상을 보는데 그것의 기초를 경험해볼 수 있었다.\n",
    "\n",
    "힘내자!"
   ]
  }
 ],
 "metadata": {
  "kernelspec": {
   "display_name": "Python 3 (ipykernel)",
   "language": "python",
   "name": "python3"
  },
  "language_info": {
   "codemirror_mode": {
    "name": "ipython",
    "version": 3
   },
   "file_extension": ".py",
   "mimetype": "text/x-python",
   "name": "python",
   "nbconvert_exporter": "python",
   "pygments_lexer": "ipython3",
   "version": "3.9.7"
  }
 },
 "nbformat": 4,
 "nbformat_minor": 5
}
