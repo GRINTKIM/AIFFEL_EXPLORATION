{
 "cells": [
  {
   "cell_type": "markdown",
   "id": "53923287",
   "metadata": {},
   "source": [
    "# Kaggle\n",
    "\n",
    "## 더 좋은 성능을 내기 위해서 하이퍼 파라미터를 수정해야 합니다.\n",
    "\n",
    "하이퍼 파라미터는 모델 학습을 위해서 사람이 직접 지정해주는 파라미터입니다.\n",
    "\n",
    "### 먼저 사용할 라이브러리들을 import 합니다."
   ]
  },
  {
   "cell_type": "code",
   "execution_count": 1,
   "id": "fa821a68",
   "metadata": {},
   "outputs": [],
   "source": [
    "import warnings\n",
    "warnings.filterwarnings(\"ignore\")\n",
    "\n",
    "import os\n",
    "from os.path import join\n",
    "\n",
    "import pandas as pd\n",
    "import numpy as np\n",
    "\n",
    "import missingno as msno\n",
    "\n",
    "from sklearn.ensemble import GradientBoostingRegressor\n",
    "from sklearn.model_selection import KFold, cross_val_score\n",
    "import xgboost as xgb\n",
    "import lightgbm as lgb\n",
    "\n",
    "import matplotlib.pyplot as plt\n",
    "import seaborn as sns"
   ]
  },
  {
   "cell_type": "markdown",
   "id": "0ff69ca0",
   "metadata": {},
   "source": [
    "### 데이터를 준비합니다."
   ]
  },
  {
   "cell_type": "code",
   "execution_count": 2,
   "id": "2421c830",
   "metadata": {},
   "outputs": [
    {
     "data": {
      "text/html": [
       "<div>\n",
       "<style scoped>\n",
       "    .dataframe tbody tr th:only-of-type {\n",
       "        vertical-align: middle;\n",
       "    }\n",
       "\n",
       "    .dataframe tbody tr th {\n",
       "        vertical-align: top;\n",
       "    }\n",
       "\n",
       "    .dataframe thead th {\n",
       "        text-align: right;\n",
       "    }\n",
       "</style>\n",
       "<table border=\"1\" class=\"dataframe\">\n",
       "  <thead>\n",
       "    <tr style=\"text-align: right;\">\n",
       "      <th></th>\n",
       "      <th>id</th>\n",
       "      <th>date</th>\n",
       "      <th>price</th>\n",
       "      <th>bedrooms</th>\n",
       "      <th>bathrooms</th>\n",
       "      <th>sqft_living</th>\n",
       "      <th>sqft_lot</th>\n",
       "      <th>floors</th>\n",
       "      <th>waterfront</th>\n",
       "      <th>view</th>\n",
       "      <th>...</th>\n",
       "      <th>grade</th>\n",
       "      <th>sqft_above</th>\n",
       "      <th>sqft_basement</th>\n",
       "      <th>yr_built</th>\n",
       "      <th>yr_renovated</th>\n",
       "      <th>zipcode</th>\n",
       "      <th>lat</th>\n",
       "      <th>long</th>\n",
       "      <th>sqft_living15</th>\n",
       "      <th>sqft_lot15</th>\n",
       "    </tr>\n",
       "  </thead>\n",
       "  <tbody>\n",
       "    <tr>\n",
       "      <th>0</th>\n",
       "      <td>0</td>\n",
       "      <td>20141013T000000</td>\n",
       "      <td>221900.0</td>\n",
       "      <td>3</td>\n",
       "      <td>1.00</td>\n",
       "      <td>1180</td>\n",
       "      <td>5650</td>\n",
       "      <td>1.0</td>\n",
       "      <td>0</td>\n",
       "      <td>0</td>\n",
       "      <td>...</td>\n",
       "      <td>7</td>\n",
       "      <td>1180</td>\n",
       "      <td>0</td>\n",
       "      <td>1955</td>\n",
       "      <td>0</td>\n",
       "      <td>98178</td>\n",
       "      <td>47.5112</td>\n",
       "      <td>-122.257</td>\n",
       "      <td>1340</td>\n",
       "      <td>5650</td>\n",
       "    </tr>\n",
       "    <tr>\n",
       "      <th>1</th>\n",
       "      <td>1</td>\n",
       "      <td>20150225T000000</td>\n",
       "      <td>180000.0</td>\n",
       "      <td>2</td>\n",
       "      <td>1.00</td>\n",
       "      <td>770</td>\n",
       "      <td>10000</td>\n",
       "      <td>1.0</td>\n",
       "      <td>0</td>\n",
       "      <td>0</td>\n",
       "      <td>...</td>\n",
       "      <td>6</td>\n",
       "      <td>770</td>\n",
       "      <td>0</td>\n",
       "      <td>1933</td>\n",
       "      <td>0</td>\n",
       "      <td>98028</td>\n",
       "      <td>47.7379</td>\n",
       "      <td>-122.233</td>\n",
       "      <td>2720</td>\n",
       "      <td>8062</td>\n",
       "    </tr>\n",
       "    <tr>\n",
       "      <th>2</th>\n",
       "      <td>2</td>\n",
       "      <td>20150218T000000</td>\n",
       "      <td>510000.0</td>\n",
       "      <td>3</td>\n",
       "      <td>2.00</td>\n",
       "      <td>1680</td>\n",
       "      <td>8080</td>\n",
       "      <td>1.0</td>\n",
       "      <td>0</td>\n",
       "      <td>0</td>\n",
       "      <td>...</td>\n",
       "      <td>8</td>\n",
       "      <td>1680</td>\n",
       "      <td>0</td>\n",
       "      <td>1987</td>\n",
       "      <td>0</td>\n",
       "      <td>98074</td>\n",
       "      <td>47.6168</td>\n",
       "      <td>-122.045</td>\n",
       "      <td>1800</td>\n",
       "      <td>7503</td>\n",
       "    </tr>\n",
       "    <tr>\n",
       "      <th>3</th>\n",
       "      <td>3</td>\n",
       "      <td>20140627T000000</td>\n",
       "      <td>257500.0</td>\n",
       "      <td>3</td>\n",
       "      <td>2.25</td>\n",
       "      <td>1715</td>\n",
       "      <td>6819</td>\n",
       "      <td>2.0</td>\n",
       "      <td>0</td>\n",
       "      <td>0</td>\n",
       "      <td>...</td>\n",
       "      <td>7</td>\n",
       "      <td>1715</td>\n",
       "      <td>0</td>\n",
       "      <td>1995</td>\n",
       "      <td>0</td>\n",
       "      <td>98003</td>\n",
       "      <td>47.3097</td>\n",
       "      <td>-122.327</td>\n",
       "      <td>2238</td>\n",
       "      <td>6819</td>\n",
       "    </tr>\n",
       "    <tr>\n",
       "      <th>4</th>\n",
       "      <td>4</td>\n",
       "      <td>20150115T000000</td>\n",
       "      <td>291850.0</td>\n",
       "      <td>3</td>\n",
       "      <td>1.50</td>\n",
       "      <td>1060</td>\n",
       "      <td>9711</td>\n",
       "      <td>1.0</td>\n",
       "      <td>0</td>\n",
       "      <td>0</td>\n",
       "      <td>...</td>\n",
       "      <td>7</td>\n",
       "      <td>1060</td>\n",
       "      <td>0</td>\n",
       "      <td>1963</td>\n",
       "      <td>0</td>\n",
       "      <td>98198</td>\n",
       "      <td>47.4095</td>\n",
       "      <td>-122.315</td>\n",
       "      <td>1650</td>\n",
       "      <td>9711</td>\n",
       "    </tr>\n",
       "  </tbody>\n",
       "</table>\n",
       "<p>5 rows × 21 columns</p>\n",
       "</div>"
      ],
      "text/plain": [
       "   id             date     price  bedrooms  bathrooms  sqft_living  sqft_lot  \\\n",
       "0   0  20141013T000000  221900.0         3       1.00         1180      5650   \n",
       "1   1  20150225T000000  180000.0         2       1.00          770     10000   \n",
       "2   2  20150218T000000  510000.0         3       2.00         1680      8080   \n",
       "3   3  20140627T000000  257500.0         3       2.25         1715      6819   \n",
       "4   4  20150115T000000  291850.0         3       1.50         1060      9711   \n",
       "\n",
       "   floors  waterfront  view  ...  grade  sqft_above  sqft_basement  yr_built  \\\n",
       "0     1.0           0     0  ...      7        1180              0      1955   \n",
       "1     1.0           0     0  ...      6         770              0      1933   \n",
       "2     1.0           0     0  ...      8        1680              0      1987   \n",
       "3     2.0           0     0  ...      7        1715              0      1995   \n",
       "4     1.0           0     0  ...      7        1060              0      1963   \n",
       "\n",
       "   yr_renovated  zipcode      lat     long  sqft_living15  sqft_lot15  \n",
       "0             0    98178  47.5112 -122.257           1340        5650  \n",
       "1             0    98028  47.7379 -122.233           2720        8062  \n",
       "2             0    98074  47.6168 -122.045           1800        7503  \n",
       "3             0    98003  47.3097 -122.327           2238        6819  \n",
       "4             0    98198  47.4095 -122.315           1650        9711  \n",
       "\n",
       "[5 rows x 21 columns]"
      ]
     },
     "execution_count": 2,
     "metadata": {},
     "output_type": "execute_result"
    }
   ],
   "source": [
    "data_dir = os.getenv('HOME')+'/aiffel/kaggle_kakr_housing/data'\n",
    "\n",
    "train_data_path = join(data_dir, 'train.csv')\n",
    "test_data_path = join(data_dir, 'test.csv') \n",
    "\n",
    "train = pd.read_csv(train_data_path)\n",
    "test = pd.read_csv(test_data_path)\n",
    "\n",
    "train.head()"
   ]
  },
  {
   "cell_type": "markdown",
   "id": "e633aa43",
   "metadata": {},
   "source": [
    "### data 컬럼을 보면 T000000이라고 필요 없는 정보가 있습니다.\n",
    "### 연월 외의 것들은 없애줍시다!\n",
    "int로 처리해줌으로써 date를 예측을 할 수 있는 특성으로 활용해봅시다."
   ]
  },
  {
   "cell_type": "code",
   "execution_count": 3,
   "id": "28514df6",
   "metadata": {
    "scrolled": false
   },
   "outputs": [
    {
     "data": {
      "text/html": [
       "<div>\n",
       "<style scoped>\n",
       "    .dataframe tbody tr th:only-of-type {\n",
       "        vertical-align: middle;\n",
       "    }\n",
       "\n",
       "    .dataframe tbody tr th {\n",
       "        vertical-align: top;\n",
       "    }\n",
       "\n",
       "    .dataframe thead th {\n",
       "        text-align: right;\n",
       "    }\n",
       "</style>\n",
       "<table border=\"1\" class=\"dataframe\">\n",
       "  <thead>\n",
       "    <tr style=\"text-align: right;\">\n",
       "      <th></th>\n",
       "      <th>id</th>\n",
       "      <th>date</th>\n",
       "      <th>price</th>\n",
       "      <th>bedrooms</th>\n",
       "      <th>bathrooms</th>\n",
       "      <th>sqft_living</th>\n",
       "      <th>sqft_lot</th>\n",
       "      <th>floors</th>\n",
       "      <th>waterfront</th>\n",
       "      <th>view</th>\n",
       "      <th>...</th>\n",
       "      <th>grade</th>\n",
       "      <th>sqft_above</th>\n",
       "      <th>sqft_basement</th>\n",
       "      <th>yr_built</th>\n",
       "      <th>yr_renovated</th>\n",
       "      <th>zipcode</th>\n",
       "      <th>lat</th>\n",
       "      <th>long</th>\n",
       "      <th>sqft_living15</th>\n",
       "      <th>sqft_lot15</th>\n",
       "    </tr>\n",
       "  </thead>\n",
       "  <tbody>\n",
       "    <tr>\n",
       "      <th>0</th>\n",
       "      <td>0</td>\n",
       "      <td>201410</td>\n",
       "      <td>221900.0</td>\n",
       "      <td>3</td>\n",
       "      <td>1.00</td>\n",
       "      <td>1180</td>\n",
       "      <td>5650</td>\n",
       "      <td>1.0</td>\n",
       "      <td>0</td>\n",
       "      <td>0</td>\n",
       "      <td>...</td>\n",
       "      <td>7</td>\n",
       "      <td>1180</td>\n",
       "      <td>0</td>\n",
       "      <td>1955</td>\n",
       "      <td>0</td>\n",
       "      <td>98178</td>\n",
       "      <td>47.5112</td>\n",
       "      <td>-122.257</td>\n",
       "      <td>1340</td>\n",
       "      <td>5650</td>\n",
       "    </tr>\n",
       "    <tr>\n",
       "      <th>1</th>\n",
       "      <td>1</td>\n",
       "      <td>201502</td>\n",
       "      <td>180000.0</td>\n",
       "      <td>2</td>\n",
       "      <td>1.00</td>\n",
       "      <td>770</td>\n",
       "      <td>10000</td>\n",
       "      <td>1.0</td>\n",
       "      <td>0</td>\n",
       "      <td>0</td>\n",
       "      <td>...</td>\n",
       "      <td>6</td>\n",
       "      <td>770</td>\n",
       "      <td>0</td>\n",
       "      <td>1933</td>\n",
       "      <td>0</td>\n",
       "      <td>98028</td>\n",
       "      <td>47.7379</td>\n",
       "      <td>-122.233</td>\n",
       "      <td>2720</td>\n",
       "      <td>8062</td>\n",
       "    </tr>\n",
       "    <tr>\n",
       "      <th>2</th>\n",
       "      <td>2</td>\n",
       "      <td>201502</td>\n",
       "      <td>510000.0</td>\n",
       "      <td>3</td>\n",
       "      <td>2.00</td>\n",
       "      <td>1680</td>\n",
       "      <td>8080</td>\n",
       "      <td>1.0</td>\n",
       "      <td>0</td>\n",
       "      <td>0</td>\n",
       "      <td>...</td>\n",
       "      <td>8</td>\n",
       "      <td>1680</td>\n",
       "      <td>0</td>\n",
       "      <td>1987</td>\n",
       "      <td>0</td>\n",
       "      <td>98074</td>\n",
       "      <td>47.6168</td>\n",
       "      <td>-122.045</td>\n",
       "      <td>1800</td>\n",
       "      <td>7503</td>\n",
       "    </tr>\n",
       "    <tr>\n",
       "      <th>3</th>\n",
       "      <td>3</td>\n",
       "      <td>201406</td>\n",
       "      <td>257500.0</td>\n",
       "      <td>3</td>\n",
       "      <td>2.25</td>\n",
       "      <td>1715</td>\n",
       "      <td>6819</td>\n",
       "      <td>2.0</td>\n",
       "      <td>0</td>\n",
       "      <td>0</td>\n",
       "      <td>...</td>\n",
       "      <td>7</td>\n",
       "      <td>1715</td>\n",
       "      <td>0</td>\n",
       "      <td>1995</td>\n",
       "      <td>0</td>\n",
       "      <td>98003</td>\n",
       "      <td>47.3097</td>\n",
       "      <td>-122.327</td>\n",
       "      <td>2238</td>\n",
       "      <td>6819</td>\n",
       "    </tr>\n",
       "    <tr>\n",
       "      <th>4</th>\n",
       "      <td>4</td>\n",
       "      <td>201501</td>\n",
       "      <td>291850.0</td>\n",
       "      <td>3</td>\n",
       "      <td>1.50</td>\n",
       "      <td>1060</td>\n",
       "      <td>9711</td>\n",
       "      <td>1.0</td>\n",
       "      <td>0</td>\n",
       "      <td>0</td>\n",
       "      <td>...</td>\n",
       "      <td>7</td>\n",
       "      <td>1060</td>\n",
       "      <td>0</td>\n",
       "      <td>1963</td>\n",
       "      <td>0</td>\n",
       "      <td>98198</td>\n",
       "      <td>47.4095</td>\n",
       "      <td>-122.315</td>\n",
       "      <td>1650</td>\n",
       "      <td>9711</td>\n",
       "    </tr>\n",
       "  </tbody>\n",
       "</table>\n",
       "<p>5 rows × 21 columns</p>\n",
       "</div>"
      ],
      "text/plain": [
       "   id    date     price  bedrooms  bathrooms  sqft_living  sqft_lot  floors  \\\n",
       "0   0  201410  221900.0         3       1.00         1180      5650     1.0   \n",
       "1   1  201502  180000.0         2       1.00          770     10000     1.0   \n",
       "2   2  201502  510000.0         3       2.00         1680      8080     1.0   \n",
       "3   3  201406  257500.0         3       2.25         1715      6819     2.0   \n",
       "4   4  201501  291850.0         3       1.50         1060      9711     1.0   \n",
       "\n",
       "   waterfront  view  ...  grade  sqft_above  sqft_basement  yr_built  \\\n",
       "0           0     0  ...      7        1180              0      1955   \n",
       "1           0     0  ...      6         770              0      1933   \n",
       "2           0     0  ...      8        1680              0      1987   \n",
       "3           0     0  ...      7        1715              0      1995   \n",
       "4           0     0  ...      7        1060              0      1963   \n",
       "\n",
       "   yr_renovated  zipcode      lat     long  sqft_living15  sqft_lot15  \n",
       "0             0    98178  47.5112 -122.257           1340        5650  \n",
       "1             0    98028  47.7379 -122.233           2720        8062  \n",
       "2             0    98074  47.6168 -122.045           1800        7503  \n",
       "3             0    98003  47.3097 -122.327           2238        6819  \n",
       "4             0    98198  47.4095 -122.315           1650        9711  \n",
       "\n",
       "[5 rows x 21 columns]"
      ]
     },
     "execution_count": 3,
     "metadata": {},
     "output_type": "execute_result"
    }
   ],
   "source": [
    "train['date'] = train['date'].apply(lambda i: i[:6]).astype(int)\n",
    "train.head()"
   ]
  },
  {
   "cell_type": "markdown",
   "id": "c4a71dcf",
   "metadata": {},
   "source": [
    "### price 컬럼도 정리합니다.\n",
    "y 변수에 price를 넣고, train에서 price를 없앱니다."
   ]
  },
  {
   "cell_type": "code",
   "execution_count": 4,
   "id": "494a0de8",
   "metadata": {
    "scrolled": true
   },
   "outputs": [
    {
     "name": "stdout",
     "output_type": "stream",
     "text": [
      "Index(['id', 'date', 'bedrooms', 'bathrooms', 'sqft_living', 'sqft_lot',\n",
      "       'floors', 'waterfront', 'view', 'condition', 'grade', 'sqft_above',\n",
      "       'sqft_basement', 'yr_built', 'yr_renovated', 'zipcode', 'lat', 'long',\n",
      "       'sqft_living15', 'sqft_lot15'],\n",
      "      dtype='object')\n"
     ]
    }
   ],
   "source": [
    "y = train['price']\n",
    "del train['price']\n",
    "\n",
    "print(train.columns)"
   ]
  },
  {
   "cell_type": "markdown",
   "id": "376619c9",
   "metadata": {},
   "source": [
    "### id 컬럼을 삭제함으로 train data의 전처리를 끝냅니다.\n",
    "\n",
    "id 컬럼은 필요가 없습니다!"
   ]
  },
  {
   "cell_type": "code",
   "execution_count": 5,
   "id": "f9d4d905",
   "metadata": {
    "scrolled": true
   },
   "outputs": [
    {
     "name": "stdout",
     "output_type": "stream",
     "text": [
      "Index(['date', 'bedrooms', 'bathrooms', 'sqft_living', 'sqft_lot', 'floors',\n",
      "       'waterfront', 'view', 'condition', 'grade', 'sqft_above',\n",
      "       'sqft_basement', 'yr_built', 'yr_renovated', 'zipcode', 'lat', 'long',\n",
      "       'sqft_living15', 'sqft_lot15'],\n",
      "      dtype='object')\n"
     ]
    }
   ],
   "source": [
    "del train['id']\n",
    "\n",
    "print(train.columns)"
   ]
  },
  {
   "cell_type": "markdown",
   "id": "a68d4548",
   "metadata": {},
   "source": [
    "### train data에서 했던 것과 같이 test data를 전처리 합니다.\n",
    "\n",
    "#### date 컬럼에서 연월을 제외한 것들을 없애고,\n",
    "#### id 컬럼을 지워줍니다.\n",
    "\n",
    "test data에서 price에 대한 전처리는 하지 않아도 됩니다.\n",
    "\n",
    "맞춰야 하는 타겟 데이터니까~"
   ]
  },
  {
   "cell_type": "code",
   "execution_count": 6,
   "id": "4c59f48f",
   "metadata": {},
   "outputs": [
    {
     "name": "stdout",
     "output_type": "stream",
     "text": [
      "Index(['date', 'bedrooms', 'bathrooms', 'sqft_living', 'sqft_lot', 'floors',\n",
      "       'waterfront', 'view', 'condition', 'grade', 'sqft_above',\n",
      "       'sqft_basement', 'yr_built', 'yr_renovated', 'zipcode', 'lat', 'long',\n",
      "       'sqft_living15', 'sqft_lot15'],\n",
      "      dtype='object')\n"
     ]
    }
   ],
   "source": [
    "test['date'] = test['date'].apply(lambda i: i[:6]).astype(int)\n",
    "\n",
    "del test['id']\n",
    "\n",
    "print(test.columns)"
   ]
  },
  {
   "cell_type": "markdown",
   "id": "38930fff",
   "metadata": {},
   "source": [
    "#### 타겟 데이터인 y를 확인해봅시다."
   ]
  },
  {
   "cell_type": "code",
   "execution_count": 7,
   "id": "20389c03",
   "metadata": {
    "scrolled": true
   },
   "outputs": [
    {
     "data": {
      "text/plain": [
       "0         221900.0\n",
       "1         180000.0\n",
       "2         510000.0\n",
       "3         257500.0\n",
       "4         291850.0\n",
       "           ...    \n",
       "15030     610685.0\n",
       "15031    1007500.0\n",
       "15032     360000.0\n",
       "15033     400000.0\n",
       "15034     325000.0\n",
       "Name: price, Length: 15035, dtype: float64"
      ]
     },
     "execution_count": 7,
     "metadata": {},
     "output_type": "execute_result"
    }
   ],
   "source": [
    "y"
   ]
  },
  {
   "cell_type": "markdown",
   "id": "e6cd02d8",
   "metadata": {},
   "source": [
    "### y의 가격 데이터 분포를 확인합시다."
   ]
  },
  {
   "cell_type": "code",
   "execution_count": 8,
   "id": "9725551a",
   "metadata": {
    "scrolled": true
   },
   "outputs": [
    {
     "data": {
      "image/png": "[encoded data removed]",
      "text/plain": [
       "<Figure size 432x288 with 1 Axes>"
      ]
     },
     "metadata": {
      "needs_background": "light"
     },
     "output_type": "display_data"
    }
   ],
   "source": [
    "sns.kdeplot(y)\n",
    "plt.show()"
   ]
  },
  {
   "cell_type": "markdown",
   "id": "a14a26a9",
   "metadata": {},
   "source": [
    "### y의 price data는 한 쪽으로 치우친 형태를 띄고 있는 것을 확인했습니다.\n",
    "\n",
    "np.log1p() 함수로 로그 변환을 합니다.\n",
    "\n",
    "나중에 모델이 price의 값을 예측한 다음 다시 np.expml()을 통해 되돌려주겠습니다."
   ]
  },
  {
   "cell_type": "code",
   "execution_count": 9,
   "id": "d0cd9c2d",
   "metadata": {
    "scrolled": true
   },
   "outputs": [
    {
     "data": {
      "text/plain": [
       "0        12.309987\n",
       "1        12.100718\n",
       "2        13.142168\n",
       "3        12.458779\n",
       "4        12.583999\n",
       "           ...    \n",
       "15030    13.322338\n",
       "15031    13.822984\n",
       "15032    12.793862\n",
       "15033    12.899222\n",
       "15034    12.691584\n",
       "Name: price, Length: 15035, dtype: float64"
      ]
     },
     "execution_count": 9,
     "metadata": {},
     "output_type": "execute_result"
    }
   ],
   "source": [
    "y = np.log1p(y)\n",
    "y"
   ]
  },
  {
   "cell_type": "markdown",
   "id": "5b173424",
   "metadata": {},
   "source": [
    "#### 로그 변환을 한 y의 분포를 확인해줍니다.\n",
    "\n",
    "분포가 고르게 잘 된 것을 알 수 있습니다!"
   ]
  },
  {
   "cell_type": "code",
   "execution_count": 10,
   "id": "04fa262f",
   "metadata": {
    "scrolled": true
   },
   "outputs": [
    {
     "data": {
      "image/png": "[encoded data removed]",
      "text/plain": [
       "<Figure size 432x288 with 1 Axes>"
      ]
     },
     "metadata": {
      "needs_background": "light"
     },
     "output_type": "display_data"
    }
   ],
   "source": [
    "sns.kdeplot(y)\n",
    "plt.show()"
   ]
  },
  {
   "cell_type": "markdown",
   "id": "423a4128",
   "metadata": {},
   "source": [
    "### y의 전체 데이터 자료형을 확인해봅시다.\n",
    "\n",
    "int와 float 자료형이기에 모델 학습에 활용할 수 있습니다."
   ]
  },
  {
   "cell_type": "code",
   "execution_count": 11,
   "id": "f7621128",
   "metadata": {
    "scrolled": true
   },
   "outputs": [
    {
     "name": "stdout",
     "output_type": "stream",
     "text": [
      "<class 'pandas.core.frame.DataFrame'>\n",
      "RangeIndex: 15035 entries, 0 to 15034\n",
      "Data columns (total 19 columns):\n",
      " #   Column         Non-Null Count  Dtype  \n",
      "---  ------         --------------  -----  \n",
      " 0   date           15035 non-null  int64  \n",
      " 1   bedrooms       15035 non-null  int64  \n",
      " 2   bathrooms      15035 non-null  float64\n",
      " 3   sqft_living    15035 non-null  int64  \n",
      " 4   sqft_lot       15035 non-null  int64  \n",
      " 5   floors         15035 non-null  float64\n",
      " 6   waterfront     15035 non-null  int64  \n",
      " 7   view           15035 non-null  int64  \n",
      " 8   condition      15035 non-null  int64  \n",
      " 9   grade          15035 non-null  int64  \n",
      " 10  sqft_above     15035 non-null  int64  \n",
      " 11  sqft_basement  15035 non-null  int64  \n",
      " 12  yr_built       15035 non-null  int64  \n",
      " 13  yr_renovated   15035 non-null  int64  \n",
      " 14  zipcode        15035 non-null  int64  \n",
      " 15  lat            15035 non-null  float64\n",
      " 16  long           15035 non-null  float64\n",
      " 17  sqft_living15  15035 non-null  int64  \n",
      " 18  sqft_lot15     15035 non-null  int64  \n",
      "dtypes: float64(4), int64(15)\n",
      "memory usage: 2.2 MB\n"
     ]
    }
   ],
   "source": [
    "train.info()"
   ]
  },
  {
   "cell_type": "markdown",
   "id": "ead7b2ae",
   "metadata": {},
   "source": [
    "### RMSE 계산을 합니다.\n",
    "\n",
    "#### RMSE 계산에 필요한 라이브러리를 불러오고,\n",
    "#### rmse 함수를 정의합니다.\n",
    "\n",
    "y_test, y_pred는 로그 변환이 된 값이기에 np.expml()을 추가해서 다시 변환해줍니다."
   ]
  },
  {
   "cell_type": "code",
   "execution_count": 12,
   "id": "d68e540d",
   "metadata": {},
   "outputs": [],
   "source": [
    "from sklearn.model_selection import train_test_split\n",
    "from sklearn.metrics import mean_squared_error\n",
    "\n",
    "def rmse(y_test, y_pred):\n",
    "    return np.sqrt(mean_squared_error(np.expm1(y_test), np.expm1(y_pred)))"
   ]
  },
  {
   "cell_type": "markdown",
   "id": "b9e0ba22",
   "metadata": {},
   "source": [
    "### 사용할 모델을 가져옵니다.\n",
    "\n",
    "#### XGBRegressor\n",
    "#### LGBMRegressor\n",
    "#### GradientBoostingRegressor\n",
    "#### RandomForestRegressor\n",
    "\n",
    "모델 인스턴스를 만들어줍니다.\n",
    "\n",
    "이후 models 리스트에 모델 인스턴스를 넣었습니다."
   ]
  },
  {
   "cell_type": "code",
   "execution_count": 13,
   "id": "56720876",
   "metadata": {},
   "outputs": [],
   "source": [
    "from xgboost import XGBRegressor\n",
    "from lightgbm import LGBMRegressor\n",
    "from sklearn.ensemble import GradientBoostingRegressor, RandomForestRegressor\n",
    "  \n",
    "random_state=2020 # 랜덤 시드값\n",
    "\n",
    "gboost = GradientBoostingRegressor(random_state=random_state)\n",
    "xgboost = XGBRegressor(random_state=random_state)\n",
    "lightgbm = LGBMRegressor(random_state=random_state)\n",
    "rdforest = RandomForestRegressor(random_state=random_state)\n",
    "\n",
    "models = [gboost, xgboost, lightgbm, rdforest]"
   ]
  },
  {
   "cell_type": "markdown",
   "id": "e60c0ba3",
   "metadata": {},
   "source": [
    "클래스의 __name__ 속성에 접근하여 모델의 이름을 출력할 수 있습니다."
   ]
  },
  {
   "cell_type": "code",
   "execution_count": 14,
   "id": "f5cf40c9",
   "metadata": {
    "scrolled": false
   },
   "outputs": [
    {
     "name": "stdout",
     "output_type": "stream",
     "text": [
      "GradientBoostingRegressor\n",
      "XGBRegressor\n",
      "LGBMRegressor\n",
      "RandomForestRegressor\n"
     ]
    }
   ],
   "source": [
    "print(gboost.__class__.__name__)\n",
    "print(xgboost.__class__.__name__)\n",
    "print(lightgbm.__class__.__name__)\n",
    "print(rdforest.__class__.__name__)"
   ]
  },
  {
   "cell_type": "markdown",
   "id": "8a8caaad",
   "metadata": {},
   "source": [
    "### 모델의 이름에 접근할 수 있기에 for 문에서 각 모델 별 학습을 할 수 있고 예측도 해볼 수 있습니다."
   ]
  },
  {
   "cell_type": "code",
   "execution_count": 15,
   "id": "d0dcb80a",
   "metadata": {},
   "outputs": [
    {
     "data": {
      "text/plain": [
       "{'GradientBoostingRegressor': 128360.19649691365,\n",
       " 'XGBRegressor': 110318.66956616656,\n",
       " 'LGBMRegressor': 111920.36735892233,\n",
       " 'RandomForestRegressor': 125487.07102453562}"
      ]
     },
     "execution_count": 15,
     "metadata": {},
     "output_type": "execute_result"
    }
   ],
   "source": [
    "df = {}\n",
    "\n",
    "for model in models:\n",
    "    model_name = model.__class__.__name__\n",
    "\n",
    "    X_train, X_test, y_train, y_test = train_test_split(train, \n",
    "                                                        y, \n",
    "                                                        random_state=random_state, \n",
    "                                                        test_size=0.2)\n",
    "\n",
    "    # 모델 학습\n",
    "    model.fit(X_train, y_train)\n",
    "    \n",
    "    # 예측\n",
    "    y_pred = model.predict(X_test)\n",
    "\n",
    "    # 예측 결과의 rmse값 저장\n",
    "    df[model_name] = rmse(y_test, y_pred)\n",
    "    \n",
    "    # data frame에 저장\n",
    "    score_df = pd.DataFrame(df, index=['RMSE']).T.sort_values('RMSE', ascending=False)\n",
    "    \n",
    "df"
   ]
  },
  {
   "cell_type": "markdown",
   "id": "165bda03",
   "metadata": {},
   "source": [
    "### 방금 for문으로 수행했던 과정을 함수로 만들었습니다.\n",
    "#### get_scores(models, train, y)"
   ]
  },
  {
   "cell_type": "code",
   "execution_count": 16,
   "id": "52e6a171",
   "metadata": {},
   "outputs": [],
   "source": [
    "def get_scores(models, train, y):\n",
    "    df = {}\n",
    "    \n",
    "    for model in models:\n",
    "        model_name = model.__class__.__name__\n",
    "        \n",
    "        X_train, X_test, y_train, y_test = train_test_split(train,\n",
    "                                                           y,\n",
    "                                                           random_state=random_state,\n",
    "                                                           test_size=0.2)\n",
    "        model.fit(X_train, y_train)\n",
    "        y_pred = model.predict(X_test)\n",
    "        \n",
    "        df[model_name] = rmse(y_test, y_pred)\n",
    "        score_df = pd.DataFrame(df, index=['RMSE']).T.sort_values('RMSE', ascending=False)\n",
    "        \n",
    "        return score_df"
   ]
  },
  {
   "cell_type": "markdown",
   "id": "6246bc42",
   "metadata": {},
   "source": [
    "### 하이퍼 파라미터 튜닝을 하기 위해서 그리드 탐색을 사용합니다.\n",
    "#### 그리드 탐색을 사용하기 위해서 라이브러리를 불러옵니다.\n",
    "#### param_grid에 xgboost 관련 하이퍼 파라미터를 준비합니다."
   ]
  },
  {
   "cell_type": "code",
   "execution_count": 17,
   "id": "16ff00bf",
   "metadata": {},
   "outputs": [],
   "source": [
    "from sklearn.model_selection import GridSearchCV\n",
    "\n",
    "param_grid = {\n",
    "    'n_estimators': [50, 100],\n",
    "    'max_depth': [1, 10],\n",
    "}"
   ]
  },
  {
   "cell_type": "markdown",
   "id": "6686c4bf",
   "metadata": {},
   "source": [
    "#### LightGBM 모델을 사용합니다."
   ]
  },
  {
   "cell_type": "code",
   "execution_count": 18,
   "id": "6f831241",
   "metadata": {},
   "outputs": [],
   "source": [
    "model = LGBMRegressor(random_state=random_state)"
   ]
  },
  {
   "cell_type": "markdown",
   "id": "be964e19",
   "metadata": {},
   "source": [
    "#### GridSearchCV로 grid_model을 초기화해주고, \n",
    "#### grid모델을 train, y로 학습시킵니다."
   ]
  },
  {
   "cell_type": "code",
   "execution_count": 19,
   "id": "a9b03a35",
   "metadata": {},
   "outputs": [
    {
     "name": "stdout",
     "output_type": "stream",
     "text": [
      "Fitting 5 folds for each of 4 candidates, totalling 20 fits\n"
     ]
    },
    {
     "data": {
      "text/plain": [
       "GridSearchCV(cv=5, estimator=LGBMRegressor(random_state=2020), n_jobs=5,\n",
       "             param_grid={'max_depth': [1, 10], 'n_estimators': [50, 100]},\n",
       "             scoring='neg_mean_squared_error', verbose=1)"
      ]
     },
     "execution_count": 19,
     "metadata": {},
     "output_type": "execute_result"
    }
   ],
   "source": [
    "grid_model = GridSearchCV(model, param_grid=param_grid, \\\n",
    "                         scoring='neg_mean_squared_error', \\\n",
    "                         cv=5, verbose=1, n_jobs=5)\n",
    "\n",
    "grid_model.fit(train, y)"
   ]
  },
  {
   "cell_type": "markdown",
   "id": "d8845ef7",
   "metadata": {},
   "source": [
    "#### 결과는 grid_model.cv_results_ 에 저장되었고 출력해봅니다."
   ]
  },
  {
   "cell_type": "code",
   "execution_count": 20,
   "id": "dd63f9d6",
   "metadata": {
    "scrolled": true
   },
   "outputs": [
    {
     "data": {
      "text/plain": [
       "{'mean_fit_time': array([0.15471015, 0.22198687, 0.44730129, 0.60838871]),\n",
       " 'std_fit_time': array([0.05791349, 0.05627203, 0.12307556, 0.08771227]),\n",
       " 'mean_score_time': array([0.00938215, 0.02168293, 0.01973987, 0.03798108]),\n",
       " 'std_score_time': array([0.00382782, 0.01737911, 0.00391392, 0.01361282]),\n",
       " 'param_max_depth': masked_array(data=[1, 1, 10, 10],\n",
       "              mask=[False, False, False, False],\n",
       "        fill_value='?',\n",
       "             dtype=object),\n",
       " 'param_n_estimators': masked_array(data=[50, 100, 50, 100],\n",
       "              mask=[False, False, False, False],\n",
       "        fill_value='?',\n",
       "             dtype=object),\n",
       " 'params': [{'max_depth': 1, 'n_estimators': 50},\n",
       "  {'max_depth': 1, 'n_estimators': 100},\n",
       "  {'max_depth': 10, 'n_estimators': 50},\n",
       "  {'max_depth': 10, 'n_estimators': 100}],\n",
       " 'split0_test_score': array([-0.0756974 , -0.05555652, -0.02885847, -0.02665428]),\n",
       " 'split1_test_score': array([-0.07666447, -0.057876  , -0.03041465, -0.02795896]),\n",
       " 'split2_test_score': array([-0.07354904, -0.05546079, -0.03068533, -0.02834112]),\n",
       " 'split3_test_score': array([-0.07510863, -0.05582109, -0.02987609, -0.02774809]),\n",
       " 'split4_test_score': array([-0.06595281, -0.05038773, -0.02605217, -0.02443328]),\n",
       " 'mean_test_score': array([-0.07339447, -0.05502043, -0.02917734, -0.02702714]),\n",
       " 'std_test_score': array([0.00385583, 0.00247946, 0.00168295, 0.00141292]),\n",
       " 'rank_test_score': array([4, 3, 2, 1], dtype=int32)}"
      ]
     },
     "execution_count": 20,
     "metadata": {},
     "output_type": "execute_result"
    }
   ],
   "source": [
    "grid_model.cv_results_"
   ]
  },
  {
   "cell_type": "markdown",
   "id": "cd31e6f7",
   "metadata": {},
   "source": [
    "#### 원하는 값인 params와 score만 따로 출력해봅니다."
   ]
  },
  {
   "cell_type": "code",
   "execution_count": 21,
   "id": "47b5c4d1",
   "metadata": {},
   "outputs": [
    {
     "data": {
      "text/plain": [
       "[{'max_depth': 1, 'n_estimators': 50},\n",
       " {'max_depth': 1, 'n_estimators': 100},\n",
       " {'max_depth': 10, 'n_estimators': 50},\n",
       " {'max_depth': 10, 'n_estimators': 100}]"
      ]
     },
     "execution_count": 21,
     "metadata": {},
     "output_type": "execute_result"
    }
   ],
   "source": [
    "params = grid_model.cv_results_['params']\n",
    "params"
   ]
  },
  {
   "cell_type": "code",
   "execution_count": 22,
   "id": "cd3af57d",
   "metadata": {},
   "outputs": [
    {
     "data": {
      "text/plain": [
       "array([-0.07339447, -0.05502043, -0.02917734, -0.02702714])"
      ]
     },
     "execution_count": 22,
     "metadata": {},
     "output_type": "execute_result"
    }
   ],
   "source": [
    "score = grid_model.cv_results_['mean_test_score']\n",
    "score"
   ]
  },
  {
   "cell_type": "markdown",
   "id": "f6d96eab",
   "metadata": {},
   "source": [
    "#### 뽑아낸 params와 score로 데이터 프레임을 만듭니다."
   ]
  },
  {
   "cell_type": "code",
   "execution_count": 23,
   "id": "01fe59f2",
   "metadata": {},
   "outputs": [
    {
     "data": {
      "text/html": [
       "<div>\n",
       "<style scoped>\n",
       "    .dataframe tbody tr th:only-of-type {\n",
       "        vertical-align: middle;\n",
       "    }\n",
       "\n",
       "    .dataframe tbody tr th {\n",
       "        vertical-align: top;\n",
       "    }\n",
       "\n",
       "    .dataframe thead th {\n",
       "        text-align: right;\n",
       "    }\n",
       "</style>\n",
       "<table border=\"1\" class=\"dataframe\">\n",
       "  <thead>\n",
       "    <tr style=\"text-align: right;\">\n",
       "      <th></th>\n",
       "      <th>max_depth</th>\n",
       "      <th>n_estimators</th>\n",
       "      <th>score</th>\n",
       "    </tr>\n",
       "  </thead>\n",
       "  <tbody>\n",
       "    <tr>\n",
       "      <th>0</th>\n",
       "      <td>1</td>\n",
       "      <td>50</td>\n",
       "      <td>-0.073394</td>\n",
       "    </tr>\n",
       "    <tr>\n",
       "      <th>1</th>\n",
       "      <td>1</td>\n",
       "      <td>100</td>\n",
       "      <td>-0.055020</td>\n",
       "    </tr>\n",
       "    <tr>\n",
       "      <th>2</th>\n",
       "      <td>10</td>\n",
       "      <td>50</td>\n",
       "      <td>-0.029177</td>\n",
       "    </tr>\n",
       "    <tr>\n",
       "      <th>3</th>\n",
       "      <td>10</td>\n",
       "      <td>100</td>\n",
       "      <td>-0.027027</td>\n",
       "    </tr>\n",
       "  </tbody>\n",
       "</table>\n",
       "</div>"
      ],
      "text/plain": [
       "   max_depth  n_estimators     score\n",
       "0          1            50 -0.073394\n",
       "1          1           100 -0.055020\n",
       "2         10            50 -0.029177\n",
       "3         10           100 -0.027027"
      ]
     },
     "execution_count": 23,
     "metadata": {},
     "output_type": "execute_result"
    }
   ],
   "source": [
    "results = pd.DataFrame(params)\n",
    "results['score'] = score\n",
    "\n",
    "results"
   ]
  },
  {
   "cell_type": "markdown",
   "id": "4247e78f",
   "metadata": {},
   "source": [
    "#### 데이터 프레임에 RMSE를 추가합니다.\n",
    "\n",
    "음수로 된 MSE이니 -1을 곱하고 np.sqrt로 루트 연산을 합니다."
   ]
  },
  {
   "cell_type": "code",
   "execution_count": 24,
   "id": "5a594a3c",
   "metadata": {
    "scrolled": true
   },
   "outputs": [
    {
     "data": {
      "text/html": [
       "<div>\n",
       "<style scoped>\n",
       "    .dataframe tbody tr th:only-of-type {\n",
       "        vertical-align: middle;\n",
       "    }\n",
       "\n",
       "    .dataframe tbody tr th {\n",
       "        vertical-align: top;\n",
       "    }\n",
       "\n",
       "    .dataframe thead th {\n",
       "        text-align: right;\n",
       "    }\n",
       "</style>\n",
       "<table border=\"1\" class=\"dataframe\">\n",
       "  <thead>\n",
       "    <tr style=\"text-align: right;\">\n",
       "      <th></th>\n",
       "      <th>max_depth</th>\n",
       "      <th>n_estimators</th>\n",
       "      <th>score</th>\n",
       "      <th>RMSE</th>\n",
       "    </tr>\n",
       "  </thead>\n",
       "  <tbody>\n",
       "    <tr>\n",
       "      <th>0</th>\n",
       "      <td>1</td>\n",
       "      <td>50</td>\n",
       "      <td>-0.073394</td>\n",
       "      <td>0.270914</td>\n",
       "    </tr>\n",
       "    <tr>\n",
       "      <th>1</th>\n",
       "      <td>1</td>\n",
       "      <td>100</td>\n",
       "      <td>-0.055020</td>\n",
       "      <td>0.234564</td>\n",
       "    </tr>\n",
       "    <tr>\n",
       "      <th>2</th>\n",
       "      <td>10</td>\n",
       "      <td>50</td>\n",
       "      <td>-0.029177</td>\n",
       "      <td>0.170814</td>\n",
       "    </tr>\n",
       "    <tr>\n",
       "      <th>3</th>\n",
       "      <td>10</td>\n",
       "      <td>100</td>\n",
       "      <td>-0.027027</td>\n",
       "      <td>0.164399</td>\n",
       "    </tr>\n",
       "  </tbody>\n",
       "</table>\n",
       "</div>"
      ],
      "text/plain": [
       "   max_depth  n_estimators     score      RMSE\n",
       "0          1            50 -0.073394  0.270914\n",
       "1          1           100 -0.055020  0.234564\n",
       "2         10            50 -0.029177  0.170814\n",
       "3         10           100 -0.027027  0.164399"
      ]
     },
     "execution_count": 24,
     "metadata": {},
     "output_type": "execute_result"
    }
   ],
   "source": [
    "results['RMSE'] = np.sqrt(-1 * results['score'])\n",
    "results"
   ]
  },
  {
   "cell_type": "markdown",
   "id": "91347174",
   "metadata": {},
   "source": [
    "#### 데이터 프레임에 나온 RMSE 값은 log를 취한 값이기에 RMSLE로 rename 합니다."
   ]
  },
  {
   "cell_type": "code",
   "execution_count": 25,
   "id": "961dd1ac",
   "metadata": {
    "scrolled": true
   },
   "outputs": [
    {
     "data": {
      "text/html": [
       "<div>\n",
       "<style scoped>\n",
       "    .dataframe tbody tr th:only-of-type {\n",
       "        vertical-align: middle;\n",
       "    }\n",
       "\n",
       "    .dataframe tbody tr th {\n",
       "        vertical-align: top;\n",
       "    }\n",
       "\n",
       "    .dataframe thead th {\n",
       "        text-align: right;\n",
       "    }\n",
       "</style>\n",
       "<table border=\"1\" class=\"dataframe\">\n",
       "  <thead>\n",
       "    <tr style=\"text-align: right;\">\n",
       "      <th></th>\n",
       "      <th>max_depth</th>\n",
       "      <th>n_estimators</th>\n",
       "      <th>score</th>\n",
       "      <th>RMSLE</th>\n",
       "    </tr>\n",
       "  </thead>\n",
       "  <tbody>\n",
       "    <tr>\n",
       "      <th>0</th>\n",
       "      <td>1</td>\n",
       "      <td>50</td>\n",
       "      <td>-0.073394</td>\n",
       "      <td>0.270914</td>\n",
       "    </tr>\n",
       "    <tr>\n",
       "      <th>1</th>\n",
       "      <td>1</td>\n",
       "      <td>100</td>\n",
       "      <td>-0.055020</td>\n",
       "      <td>0.234564</td>\n",
       "    </tr>\n",
       "    <tr>\n",
       "      <th>2</th>\n",
       "      <td>10</td>\n",
       "      <td>50</td>\n",
       "      <td>-0.029177</td>\n",
       "      <td>0.170814</td>\n",
       "    </tr>\n",
       "    <tr>\n",
       "      <th>3</th>\n",
       "      <td>10</td>\n",
       "      <td>100</td>\n",
       "      <td>-0.027027</td>\n",
       "      <td>0.164399</td>\n",
       "    </tr>\n",
       "  </tbody>\n",
       "</table>\n",
       "</div>"
      ],
      "text/plain": [
       "   max_depth  n_estimators     score     RMSLE\n",
       "0          1            50 -0.073394  0.270914\n",
       "1          1           100 -0.055020  0.234564\n",
       "2         10            50 -0.029177  0.170814\n",
       "3         10           100 -0.027027  0.164399"
      ]
     },
     "execution_count": 25,
     "metadata": {},
     "output_type": "execute_result"
    }
   ],
   "source": [
    "results = results.rename(columns={'RMSE': 'RMSLE'})\n",
    "results"
   ]
  },
  {
   "cell_type": "markdown",
   "id": "64b9826a",
   "metadata": {},
   "source": [
    "#### RMSLE가 낮은 순서대로 정렬합니다."
   ]
  },
  {
   "cell_type": "code",
   "execution_count": 26,
   "id": "b48fe5fa",
   "metadata": {
    "scrolled": false
   },
   "outputs": [
    {
     "data": {
      "text/html": [
       "<div>\n",
       "<style scoped>\n",
       "    .dataframe tbody tr th:only-of-type {\n",
       "        vertical-align: middle;\n",
       "    }\n",
       "\n",
       "    .dataframe tbody tr th {\n",
       "        vertical-align: top;\n",
       "    }\n",
       "\n",
       "    .dataframe thead th {\n",
       "        text-align: right;\n",
       "    }\n",
       "</style>\n",
       "<table border=\"1\" class=\"dataframe\">\n",
       "  <thead>\n",
       "    <tr style=\"text-align: right;\">\n",
       "      <th></th>\n",
       "      <th>max_depth</th>\n",
       "      <th>n_estimators</th>\n",
       "      <th>score</th>\n",
       "      <th>RMSLE</th>\n",
       "    </tr>\n",
       "  </thead>\n",
       "  <tbody>\n",
       "    <tr>\n",
       "      <th>3</th>\n",
       "      <td>10</td>\n",
       "      <td>100</td>\n",
       "      <td>-0.027027</td>\n",
       "      <td>0.164399</td>\n",
       "    </tr>\n",
       "    <tr>\n",
       "      <th>2</th>\n",
       "      <td>10</td>\n",
       "      <td>50</td>\n",
       "      <td>-0.029177</td>\n",
       "      <td>0.170814</td>\n",
       "    </tr>\n",
       "    <tr>\n",
       "      <th>1</th>\n",
       "      <td>1</td>\n",
       "      <td>100</td>\n",
       "      <td>-0.055020</td>\n",
       "      <td>0.234564</td>\n",
       "    </tr>\n",
       "    <tr>\n",
       "      <th>0</th>\n",
       "      <td>1</td>\n",
       "      <td>50</td>\n",
       "      <td>-0.073394</td>\n",
       "      <td>0.270914</td>\n",
       "    </tr>\n",
       "  </tbody>\n",
       "</table>\n",
       "</div>"
      ],
      "text/plain": [
       "   max_depth  n_estimators     score     RMSLE\n",
       "3         10           100 -0.027027  0.164399\n",
       "2         10            50 -0.029177  0.170814\n",
       "1          1           100 -0.055020  0.234564\n",
       "0          1            50 -0.073394  0.270914"
      ]
     },
     "execution_count": 26,
     "metadata": {},
     "output_type": "execute_result"
    }
   ],
   "source": [
    "results = results.sort_values('RMSLE')\n",
    "results"
   ]
  },
  {
   "cell_type": "markdown",
   "id": "918da830",
   "metadata": {},
   "source": [
    "### 그리드 탐색을 수행하고 결과를 확인하는 과정을 함수로 만듭니다."
   ]
  },
  {
   "cell_type": "code",
   "execution_count": 27,
   "id": "a1889f64",
   "metadata": {},
   "outputs": [],
   "source": [
    "\"\"\"\n",
    "다음과 같은 과정을 진행할 수 있는 `my_GridSearch(model, train, y, param_grid, verbose=2, n_jobs=5)` 함수를 구현해 보세요.\n",
    "\n",
    "1. GridSearchCV 모델로 `model`을 초기화합니다.\n",
    "2. 모델을 fitting 합니다.\n",
    "3. params, score에 각 조합에 대한 결과를 저장합니다. \n",
    "4. 데이터 프레임을 생성하고, RMSLE 값을 추가한 후 점수가 높은 순서로 정렬한 `results`를 반환합니다.\n",
    "\"\"\"\n",
    "\n",
    "# 코드 입력\n",
    "def my_GridSearch(model, train, y, param_grid, verbose=2, n_jobs=5):\n",
    "    # GridSearchCV 모델로 초기화\n",
    "    grid_model = GridSearchCV(model, param_grid=param_grid, scoring='neg_mean_squared_error', \\\n",
    "                              cv=5, verbose=verbose, n_jobs=n_jobs)\n",
    "    \n",
    "    # 모델 fitting\n",
    "    grid_model.fit(train, y)\n",
    "\n",
    "    # 결과값 저장\n",
    "    params = grid_model.cv_results_['params']\n",
    "    score = grid_model.cv_results_['mean_test_score']\n",
    "    \n",
    "    # 데이터 프레임 생성\n",
    "    results = pd.DataFrame(params)\n",
    "    results['score'] = score\n",
    "    \n",
    "    # RMSLE 값 계산 후 정렬\n",
    "    results['RMSLE'] = np.sqrt(-1 * results['score'])\n",
    "    results = results.sort_values('RMSLE')\n",
    "\n",
    "    return results"
   ]
  },
  {
   "cell_type": "markdown",
   "id": "05586eb0",
   "metadata": {},
   "source": [
    "#### 함수를 사용해서 동일한 결과가 나오는 것을 확인할 수 있습니다."
   ]
  },
  {
   "cell_type": "code",
   "execution_count": 28,
   "id": "81083a36",
   "metadata": {
    "scrolled": true
   },
   "outputs": [
    {
     "name": "stdout",
     "output_type": "stream",
     "text": [
      "Fitting 5 folds for each of 4 candidates, totalling 20 fits\n"
     ]
    },
    {
     "data": {
      "text/html": [
       "<div>\n",
       "<style scoped>\n",
       "    .dataframe tbody tr th:only-of-type {\n",
       "        vertical-align: middle;\n",
       "    }\n",
       "\n",
       "    .dataframe tbody tr th {\n",
       "        vertical-align: top;\n",
       "    }\n",
       "\n",
       "    .dataframe thead th {\n",
       "        text-align: right;\n",
       "    }\n",
       "</style>\n",
       "<table border=\"1\" class=\"dataframe\">\n",
       "  <thead>\n",
       "    <tr style=\"text-align: right;\">\n",
       "      <th></th>\n",
       "      <th>max_depth</th>\n",
       "      <th>n_estimators</th>\n",
       "      <th>score</th>\n",
       "      <th>RMSLE</th>\n",
       "    </tr>\n",
       "  </thead>\n",
       "  <tbody>\n",
       "    <tr>\n",
       "      <th>3</th>\n",
       "      <td>10</td>\n",
       "      <td>100</td>\n",
       "      <td>-0.027027</td>\n",
       "      <td>0.164399</td>\n",
       "    </tr>\n",
       "    <tr>\n",
       "      <th>2</th>\n",
       "      <td>10</td>\n",
       "      <td>50</td>\n",
       "      <td>-0.029177</td>\n",
       "      <td>0.170814</td>\n",
       "    </tr>\n",
       "    <tr>\n",
       "      <th>1</th>\n",
       "      <td>1</td>\n",
       "      <td>100</td>\n",
       "      <td>-0.055020</td>\n",
       "      <td>0.234564</td>\n",
       "    </tr>\n",
       "    <tr>\n",
       "      <th>0</th>\n",
       "      <td>1</td>\n",
       "      <td>50</td>\n",
       "      <td>-0.073394</td>\n",
       "      <td>0.270914</td>\n",
       "    </tr>\n",
       "  </tbody>\n",
       "</table>\n",
       "</div>"
      ],
      "text/plain": [
       "   max_depth  n_estimators     score     RMSLE\n",
       "3         10           100 -0.027027  0.164399\n",
       "2         10            50 -0.029177  0.170814\n",
       "1          1           100 -0.055020  0.234564\n",
       "0          1            50 -0.073394  0.270914"
      ]
     },
     "execution_count": 28,
     "metadata": {},
     "output_type": "execute_result"
    }
   ],
   "source": [
    "param_grid = {\n",
    "    'n_estimators': [50, 100],\n",
    "    'max_depth': [1, 10],\n",
    "}\n",
    "\n",
    "model = LGBMRegressor(random_state=random_state)\n",
    "my_GridSearch(model, train, y, param_grid, verbose=2, n_jobs=5)"
   ]
  },
  {
   "cell_type": "markdown",
   "id": "929763eb",
   "metadata": {},
   "source": [
    "#### 위의 출력값에서 보면 max_depth=10, n_estimators=100이 가장 좋은 조합입니다.\n",
    "\n",
    "#### 좋은 조합인 파라미터를 이용해서 모델을 준비하고 학습합니다.\n",
    "\n",
    "#### 이후 예측 결과를 만듭니다."
   ]
  },
  {
   "cell_type": "code",
   "execution_count": 29,
   "id": "cd72277a",
   "metadata": {},
   "outputs": [
    {
     "data": {
      "text/plain": [
       "array([13.13580793, 13.08051399, 14.11202067, ..., 13.01592878,\n",
       "       12.69894979, 12.96297768])"
      ]
     },
     "execution_count": 29,
     "metadata": {},
     "output_type": "execute_result"
    }
   ],
   "source": [
    "model = LGBMRegressor(max_depth=10, n_estimators=100, random_state=random_state)\n",
    "model.fit(train, y)\n",
    "prediction = model.predict(test)\n",
    "prediction"
   ]
  },
  {
   "cell_type": "markdown",
   "id": "fbc67f59",
   "metadata": {},
   "source": [
    "#### 예측 결과에 np.expml() 을 통해 원래 스케일로 돌려줍니다."
   ]
  },
  {
   "cell_type": "code",
   "execution_count": 30,
   "id": "a13f0161",
   "metadata": {
    "scrolled": true
   },
   "outputs": [
    {
     "data": {
      "text/plain": [
       "array([ 506766.66784595,  479506.10405112, 1345155.15609376, ...,\n",
       "        449515.92243642,  327402.87855805,  426332.71354302])"
      ]
     },
     "execution_count": 30,
     "metadata": {},
     "output_type": "execute_result"
    }
   ],
   "source": [
    "prediction = np.expm1(prediction)\n",
    "prediction"
   ]
  },
  {
   "cell_type": "markdown",
   "id": "ad2988da",
   "metadata": {},
   "source": [
    "#### sample_submission.csv 파일을 가져옵니다."
   ]
  },
  {
   "cell_type": "code",
   "execution_count": 31,
   "id": "489fc34c",
   "metadata": {
    "scrolled": true
   },
   "outputs": [
    {
     "data": {
      "text/html": [
       "<div>\n",
       "<style scoped>\n",
       "    .dataframe tbody tr th:only-of-type {\n",
       "        vertical-align: middle;\n",
       "    }\n",
       "\n",
       "    .dataframe tbody tr th {\n",
       "        vertical-align: top;\n",
       "    }\n",
       "\n",
       "    .dataframe thead th {\n",
       "        text-align: right;\n",
       "    }\n",
       "</style>\n",
       "<table border=\"1\" class=\"dataframe\">\n",
       "  <thead>\n",
       "    <tr style=\"text-align: right;\">\n",
       "      <th></th>\n",
       "      <th>id</th>\n",
       "      <th>price</th>\n",
       "    </tr>\n",
       "  </thead>\n",
       "  <tbody>\n",
       "    <tr>\n",
       "      <th>0</th>\n",
       "      <td>15035</td>\n",
       "      <td>100000</td>\n",
       "    </tr>\n",
       "    <tr>\n",
       "      <th>1</th>\n",
       "      <td>15036</td>\n",
       "      <td>100000</td>\n",
       "    </tr>\n",
       "    <tr>\n",
       "      <th>2</th>\n",
       "      <td>15037</td>\n",
       "      <td>100000</td>\n",
       "    </tr>\n",
       "    <tr>\n",
       "      <th>3</th>\n",
       "      <td>15038</td>\n",
       "      <td>100000</td>\n",
       "    </tr>\n",
       "    <tr>\n",
       "      <th>4</th>\n",
       "      <td>15039</td>\n",
       "      <td>100000</td>\n",
       "    </tr>\n",
       "  </tbody>\n",
       "</table>\n",
       "</div>"
      ],
      "text/plain": [
       "      id   price\n",
       "0  15035  100000\n",
       "1  15036  100000\n",
       "2  15037  100000\n",
       "3  15038  100000\n",
       "4  15039  100000"
      ]
     },
     "execution_count": 31,
     "metadata": {},
     "output_type": "execute_result"
    }
   ],
   "source": [
    "data_dir = os.getenv('HOME')+'/aiffel/kaggle_kakr_housing/data'\n",
    "\n",
    "submission_path = join(data_dir, 'sample_submission.csv')\n",
    "submission = pd.read_csv(submission_path)\n",
    "submission.head()"
   ]
  },
  {
   "cell_type": "markdown",
   "id": "9e06de61",
   "metadata": {},
   "source": [
    "#### 위에서 보이는 데이터 프레임에 모델이 예측한 price를 넣어줍시다."
   ]
  },
  {
   "cell_type": "code",
   "execution_count": 32,
   "id": "be9fea22",
   "metadata": {
    "scrolled": true
   },
   "outputs": [
    {
     "data": {
      "text/html": [
       "<div>\n",
       "<style scoped>\n",
       "    .dataframe tbody tr th:only-of-type {\n",
       "        vertical-align: middle;\n",
       "    }\n",
       "\n",
       "    .dataframe tbody tr th {\n",
       "        vertical-align: top;\n",
       "    }\n",
       "\n",
       "    .dataframe thead th {\n",
       "        text-align: right;\n",
       "    }\n",
       "</style>\n",
       "<table border=\"1\" class=\"dataframe\">\n",
       "  <thead>\n",
       "    <tr style=\"text-align: right;\">\n",
       "      <th></th>\n",
       "      <th>id</th>\n",
       "      <th>price</th>\n",
       "    </tr>\n",
       "  </thead>\n",
       "  <tbody>\n",
       "    <tr>\n",
       "      <th>0</th>\n",
       "      <td>15035</td>\n",
       "      <td>5.067667e+05</td>\n",
       "    </tr>\n",
       "    <tr>\n",
       "      <th>1</th>\n",
       "      <td>15036</td>\n",
       "      <td>4.795061e+05</td>\n",
       "    </tr>\n",
       "    <tr>\n",
       "      <th>2</th>\n",
       "      <td>15037</td>\n",
       "      <td>1.345155e+06</td>\n",
       "    </tr>\n",
       "    <tr>\n",
       "      <th>3</th>\n",
       "      <td>15038</td>\n",
       "      <td>3.122579e+05</td>\n",
       "    </tr>\n",
       "    <tr>\n",
       "      <th>4</th>\n",
       "      <td>15039</td>\n",
       "      <td>3.338645e+05</td>\n",
       "    </tr>\n",
       "  </tbody>\n",
       "</table>\n",
       "</div>"
      ],
      "text/plain": [
       "      id         price\n",
       "0  15035  5.067667e+05\n",
       "1  15036  4.795061e+05\n",
       "2  15037  1.345155e+06\n",
       "3  15038  3.122579e+05\n",
       "4  15039  3.338645e+05"
      ]
     },
     "execution_count": 32,
     "metadata": {},
     "output_type": "execute_result"
    }
   ],
   "source": [
    "submission['price'] = prediction\n",
    "submission.head()"
   ]
  },
  {
   "cell_type": "markdown",
   "id": "cb8060b5",
   "metadata": {},
   "source": [
    "#### 모델이 예측한 price를 넣은 데이터 프레임을 csv 파일로 저장합니다."
   ]
  },
  {
   "cell_type": "code",
   "execution_count": 33,
   "id": "3da7970e",
   "metadata": {},
   "outputs": [
    {
     "name": "stdout",
     "output_type": "stream",
     "text": [
      "/aiffel/aiffel/kaggle_kakr_housing/data/submission_lgbm_RMSLE_0.164399.csv\n"
     ]
    }
   ],
   "source": [
    "submission_csv_path = '{}/submission_{}_RMSLE_{}.csv'.format(data_dir, 'lgbm', '0.164399')\n",
    "submission.to_csv(submission_csv_path, index=False)\n",
    "print(submission_csv_path)"
   ]
  },
  {
   "cell_type": "markdown",
   "id": "251759c6",
   "metadata": {},
   "source": [
    "#### 위에서 했던 과정들을 함수로 정리해줍니다.\n",
    "\n",
    "모델을 학습시키고,\n",
    "\n",
    "test를 예측합니다.\n",
    "\n",
    "예측값을 np.expml으로 바꾸고,\n",
    "\n",
    "csv 파일로 저장합니다."
   ]
  },
  {
   "cell_type": "code",
   "execution_count": 34,
   "id": "3e870293",
   "metadata": {},
   "outputs": [],
   "source": [
    "def save_submission(model, train, y, test, model_name, rmsle=None):\n",
    "    model.fit(train, y)\n",
    "    prediction = model.predict(test)\n",
    "    prediction = np.expm1(prediction)\n",
    "    data_dir = os.getenv('HOME')+'/aiffel/kaggle_kakr_housing/data'\n",
    "    submission_path = join(data_dir, 'sample_submission.csv')\n",
    "    submission = pd.read_csv(submission_path)\n",
    "    submission['price'] = prediction\n",
    "    submission_csv_path = '{}/submission_{}_RMSLE_{}.csv'.format(data_dir, model_name, rmsle)\n",
    "    submission.to_csv(submission_csv_path, index=False)\n",
    "    print('{} saved!'.format(submission_csv_path))"
   ]
  },
  {
   "cell_type": "code",
   "execution_count": 35,
   "id": "c7546445",
   "metadata": {
    "scrolled": true
   },
   "outputs": [
    {
     "name": "stdout",
     "output_type": "stream",
     "text": [
      "/aiffel/aiffel/kaggle_kakr_housing/data/submission_lgbm_RMSLE_0.0168.csv saved!\n"
     ]
    }
   ],
   "source": [
    "save_submission(model, train, y, test, 'lgbm', rmsle='0.0168')"
   ]
  },
  {
   "cell_type": "markdown",
   "id": "79be60b9",
   "metadata": {},
   "source": [
    "### LGBMRegressor 모델을 이용한 예측"
   ]
  },
  {
   "cell_type": "code",
   "execution_count": 54,
   "id": "ef36eefe",
   "metadata": {},
   "outputs": [
    {
     "name": "stdout",
     "output_type": "stream",
     "text": [
      "Fitting 5 folds for each of 4 candidates, totalling 20 fits\n"
     ]
    },
    {
     "data": {
      "text/html": [
       "<div>\n",
       "<style scoped>\n",
       "    .dataframe tbody tr th:only-of-type {\n",
       "        vertical-align: middle;\n",
       "    }\n",
       "\n",
       "    .dataframe tbody tr th {\n",
       "        vertical-align: top;\n",
       "    }\n",
       "\n",
       "    .dataframe thead th {\n",
       "        text-align: right;\n",
       "    }\n",
       "</style>\n",
       "<table border=\"1\" class=\"dataframe\">\n",
       "  <thead>\n",
       "    <tr style=\"text-align: right;\">\n",
       "      <th></th>\n",
       "      <th>max_depth</th>\n",
       "      <th>n_estimators</th>\n",
       "      <th>score</th>\n",
       "      <th>RMSLE</th>\n",
       "    </tr>\n",
       "  </thead>\n",
       "  <tbody>\n",
       "    <tr>\n",
       "      <th>3</th>\n",
       "      <td>10</td>\n",
       "      <td>100</td>\n",
       "      <td>-0.027027</td>\n",
       "      <td>0.164399</td>\n",
       "    </tr>\n",
       "    <tr>\n",
       "      <th>2</th>\n",
       "      <td>10</td>\n",
       "      <td>50</td>\n",
       "      <td>-0.029177</td>\n",
       "      <td>0.170814</td>\n",
       "    </tr>\n",
       "    <tr>\n",
       "      <th>1</th>\n",
       "      <td>1</td>\n",
       "      <td>100</td>\n",
       "      <td>-0.055020</td>\n",
       "      <td>0.234564</td>\n",
       "    </tr>\n",
       "    <tr>\n",
       "      <th>0</th>\n",
       "      <td>1</td>\n",
       "      <td>50</td>\n",
       "      <td>-0.073394</td>\n",
       "      <td>0.270914</td>\n",
       "    </tr>\n",
       "  </tbody>\n",
       "</table>\n",
       "</div>"
      ],
      "text/plain": [
       "   max_depth  n_estimators     score     RMSLE\n",
       "3         10           100 -0.027027  0.164399\n",
       "2         10            50 -0.029177  0.170814\n",
       "1          1           100 -0.055020  0.234564\n",
       "0          1            50 -0.073394  0.270914"
      ]
     },
     "execution_count": 54,
     "metadata": {},
     "output_type": "execute_result"
    }
   ],
   "source": [
    "param_grid = {\n",
    "    'n_estimators': [50, 100],\n",
    "    'max_depth': [1, 10],\n",
    "}\n",
    "\n",
    "model = LGBMRegressor(random_state=random_state)\n",
    "my_GridSearch(model, train, y, param_grid, verbose=2, n_jobs=5)"
   ]
  },
  {
   "cell_type": "code",
   "execution_count": 55,
   "id": "db76f281",
   "metadata": {
    "scrolled": false
   },
   "outputs": [
    {
     "name": "stdout",
     "output_type": "stream",
     "text": [
      "Fitting 5 folds for each of 4 candidates, totalling 20 fits\n"
     ]
    },
    {
     "data": {
      "text/html": [
       "<div>\n",
       "<style scoped>\n",
       "    .dataframe tbody tr th:only-of-type {\n",
       "        vertical-align: middle;\n",
       "    }\n",
       "\n",
       "    .dataframe tbody tr th {\n",
       "        vertical-align: top;\n",
       "    }\n",
       "\n",
       "    .dataframe thead th {\n",
       "        text-align: right;\n",
       "    }\n",
       "</style>\n",
       "<table border=\"1\" class=\"dataframe\">\n",
       "  <thead>\n",
       "    <tr style=\"text-align: right;\">\n",
       "      <th></th>\n",
       "      <th>max_depth</th>\n",
       "      <th>n_estimators</th>\n",
       "      <th>score</th>\n",
       "      <th>RMSLE</th>\n",
       "    </tr>\n",
       "  </thead>\n",
       "  <tbody>\n",
       "    <tr>\n",
       "      <th>3</th>\n",
       "      <td>20</td>\n",
       "      <td>200</td>\n",
       "      <td>-0.026245</td>\n",
       "      <td>0.162003</td>\n",
       "    </tr>\n",
       "    <tr>\n",
       "      <th>2</th>\n",
       "      <td>20</td>\n",
       "      <td>50</td>\n",
       "      <td>-0.029198</td>\n",
       "      <td>0.170875</td>\n",
       "    </tr>\n",
       "    <tr>\n",
       "      <th>1</th>\n",
       "      <td>1</td>\n",
       "      <td>200</td>\n",
       "      <td>-0.045195</td>\n",
       "      <td>0.212591</td>\n",
       "    </tr>\n",
       "    <tr>\n",
       "      <th>0</th>\n",
       "      <td>1</td>\n",
       "      <td>50</td>\n",
       "      <td>-0.073394</td>\n",
       "      <td>0.270914</td>\n",
       "    </tr>\n",
       "  </tbody>\n",
       "</table>\n",
       "</div>"
      ],
      "text/plain": [
       "   max_depth  n_estimators     score     RMSLE\n",
       "3         20           200 -0.026245  0.162003\n",
       "2         20            50 -0.029198  0.170875\n",
       "1          1           200 -0.045195  0.212591\n",
       "0          1            50 -0.073394  0.270914"
      ]
     },
     "execution_count": 55,
     "metadata": {},
     "output_type": "execute_result"
    }
   ],
   "source": [
    "param_grid = {\n",
    "    'n_estimators': [50, 200],\n",
    "    'max_depth': [1, 20],}\n",
    "\n",
    "model = LGBMRegressor(random_state=random_state)\n",
    "my_GridSearch(model, train, y, param_grid, verbose=2, n_jobs=5)"
   ]
  },
  {
   "cell_type": "markdown",
   "id": "0a4039bc",
   "metadata": {},
   "source": [
    "LGBMRegressor 모델을 사용했을때 하이퍼 파라미터의 값들을 높였을때 RMSLE 값이 더 낮게 나옴을 확인했습니다.\n"
   ]
  },
  {
   "cell_type": "code",
   "execution_count": 56,
   "id": "6f240c0e",
   "metadata": {},
   "outputs": [
    {
     "name": "stdout",
     "output_type": "stream",
     "text": [
      "/aiffel/aiffel/kaggle_kakr_housing/data/submission_lgbm_RMSLE_0.162003.csv saved!\n"
     ]
    }
   ],
   "source": [
    "model = LGBMRegressor(max_depth=20, n_estimators=200,random_state=random_state)\n",
    "\n",
    "save_submission(model, train, y, test, 'lgbm', rmsle='0.162003')"
   ]
  },
  {
   "cell_type": "markdown",
   "id": "2c82a112",
   "metadata": {},
   "source": [
    "LGBMRegressor(max_depth=20, n_estimators=200,random_state=random_state)으로 돌렸을 때 나온 결과를 csv로 캐글에 제출하니 \n",
    "\n",
    "score는 108796.88358이었습니다."
   ]
  },
  {
   "cell_type": "markdown",
   "id": "26c5e8c6",
   "metadata": {},
   "source": [
    "### GradientBoostingRegressor 모델을 이용한 예측"
   ]
  },
  {
   "cell_type": "code",
   "execution_count": 36,
   "id": "0de4b8cb",
   "metadata": {
    "scrolled": true
   },
   "outputs": [
    {
     "name": "stdout",
     "output_type": "stream",
     "text": [
      "Fitting 5 folds for each of 4 candidates, totalling 20 fits\n"
     ]
    },
    {
     "data": {
      "text/html": [
       "<div>\n",
       "<style scoped>\n",
       "    .dataframe tbody tr th:only-of-type {\n",
       "        vertical-align: middle;\n",
       "    }\n",
       "\n",
       "    .dataframe tbody tr th {\n",
       "        vertical-align: top;\n",
       "    }\n",
       "\n",
       "    .dataframe thead th {\n",
       "        text-align: right;\n",
       "    }\n",
       "</style>\n",
       "<table border=\"1\" class=\"dataframe\">\n",
       "  <thead>\n",
       "    <tr style=\"text-align: right;\">\n",
       "      <th></th>\n",
       "      <th>max_depth</th>\n",
       "      <th>n_estimators</th>\n",
       "      <th>score</th>\n",
       "      <th>RMSLE</th>\n",
       "    </tr>\n",
       "  </thead>\n",
       "  <tbody>\n",
       "    <tr>\n",
       "      <th>3</th>\n",
       "      <td>10</td>\n",
       "      <td>100</td>\n",
       "      <td>-0.029483</td>\n",
       "      <td>0.171707</td>\n",
       "    </tr>\n",
       "    <tr>\n",
       "      <th>2</th>\n",
       "      <td>10</td>\n",
       "      <td>50</td>\n",
       "      <td>-0.029899</td>\n",
       "      <td>0.172913</td>\n",
       "    </tr>\n",
       "    <tr>\n",
       "      <th>1</th>\n",
       "      <td>1</td>\n",
       "      <td>100</td>\n",
       "      <td>-0.055036</td>\n",
       "      <td>0.234597</td>\n",
       "    </tr>\n",
       "    <tr>\n",
       "      <th>0</th>\n",
       "      <td>1</td>\n",
       "      <td>50</td>\n",
       "      <td>-0.073253</td>\n",
       "      <td>0.270653</td>\n",
       "    </tr>\n",
       "  </tbody>\n",
       "</table>\n",
       "</div>"
      ],
      "text/plain": [
       "   max_depth  n_estimators     score     RMSLE\n",
       "3         10           100 -0.029483  0.171707\n",
       "2         10            50 -0.029899  0.172913\n",
       "1          1           100 -0.055036  0.234597\n",
       "0          1            50 -0.073253  0.270653"
      ]
     },
     "execution_count": 36,
     "metadata": {},
     "output_type": "execute_result"
    }
   ],
   "source": [
    "param_grid = {\n",
    "    'n_estimators': [50, 100],\n",
    "    'max_depth': [1, 10],}\n",
    "\n",
    "model = GradientBoostingRegressor(random_state=random_state)\n",
    "my_GridSearch(model, train, y, param_grid, verbose=2, n_jobs=5)"
   ]
  },
  {
   "cell_type": "code",
   "execution_count": 49,
   "id": "b1759cbd",
   "metadata": {
    "scrolled": true
   },
   "outputs": [
    {
     "name": "stdout",
     "output_type": "stream",
     "text": [
      "Fitting 5 folds for each of 4 candidates, totalling 20 fits\n"
     ]
    },
    {
     "data": {
      "text/html": [
       "<div>\n",
       "<style scoped>\n",
       "    .dataframe tbody tr th:only-of-type {\n",
       "        vertical-align: middle;\n",
       "    }\n",
       "\n",
       "    .dataframe tbody tr th {\n",
       "        vertical-align: top;\n",
       "    }\n",
       "\n",
       "    .dataframe thead th {\n",
       "        text-align: right;\n",
       "    }\n",
       "</style>\n",
       "<table border=\"1\" class=\"dataframe\">\n",
       "  <thead>\n",
       "    <tr style=\"text-align: right;\">\n",
       "      <th></th>\n",
       "      <th>max_depth</th>\n",
       "      <th>n_estimators</th>\n",
       "      <th>score</th>\n",
       "      <th>RMSLE</th>\n",
       "    </tr>\n",
       "  </thead>\n",
       "  <tbody>\n",
       "    <tr>\n",
       "      <th>3</th>\n",
       "      <td>5</td>\n",
       "      <td>100</td>\n",
       "      <td>-0.028615</td>\n",
       "      <td>0.169161</td>\n",
       "    </tr>\n",
       "    <tr>\n",
       "      <th>2</th>\n",
       "      <td>5</td>\n",
       "      <td>50</td>\n",
       "      <td>-0.031385</td>\n",
       "      <td>0.177158</td>\n",
       "    </tr>\n",
       "    <tr>\n",
       "      <th>1</th>\n",
       "      <td>1</td>\n",
       "      <td>100</td>\n",
       "      <td>-0.055036</td>\n",
       "      <td>0.234597</td>\n",
       "    </tr>\n",
       "    <tr>\n",
       "      <th>0</th>\n",
       "      <td>1</td>\n",
       "      <td>50</td>\n",
       "      <td>-0.073253</td>\n",
       "      <td>0.270653</td>\n",
       "    </tr>\n",
       "  </tbody>\n",
       "</table>\n",
       "</div>"
      ],
      "text/plain": [
       "   max_depth  n_estimators     score     RMSLE\n",
       "3          5           100 -0.028615  0.169161\n",
       "2          5            50 -0.031385  0.177158\n",
       "1          1           100 -0.055036  0.234597\n",
       "0          1            50 -0.073253  0.270653"
      ]
     },
     "execution_count": 49,
     "metadata": {},
     "output_type": "execute_result"
    }
   ],
   "source": [
    "param_grid = {\n",
    "    'n_estimators': [50, 100],\n",
    "    'max_depth': [1, 5],}\n",
    "\n",
    "model = GradientBoostingRegressor(random_state=random_state)\n",
    "my_GridSearch(model, train, y, param_grid, verbose=2, n_jobs=5)"
   ]
  },
  {
   "cell_type": "markdown",
   "id": "704df8a9",
   "metadata": {},
   "source": [
    "GradientBoostingRegressor 모델은 n_estimator의 최대 크기를 높이고 max_depth도 깊게 하니 오히려 RMSLE가 높게 나왔습니다.\n",
    "\n",
    "max_depth의 깊이를 5로 낮추니 RMSLE가 0.169161로 이전보다 줄어들었음을 확인했습니다."
   ]
  },
  {
   "cell_type": "code",
   "execution_count": 50,
   "id": "e298eea7",
   "metadata": {},
   "outputs": [
    {
     "name": "stdout",
     "output_type": "stream",
     "text": [
      "/aiffel/aiffel/kaggle_kakr_housing/data/submission_gbr_RMSLE_0.169161.csv saved!\n"
     ]
    }
   ],
   "source": [
    "model = GradientBoostingRegressor(max_depth=5, n_estimators=100,random_state=random_state)\n",
    "\n",
    "save_submission(model, train, y, test, 'gbr', rmsle='0.169161')"
   ]
  },
  {
   "cell_type": "markdown",
   "id": "cab85ca8",
   "metadata": {},
   "source": [
    "### XGBRegressor 모델을 이용한 예측"
   ]
  },
  {
   "cell_type": "code",
   "execution_count": 57,
   "id": "a210aa57",
   "metadata": {
    "scrolled": true
   },
   "outputs": [
    {
     "name": "stdout",
     "output_type": "stream",
     "text": [
      "Fitting 5 folds for each of 4 candidates, totalling 20 fits\n"
     ]
    },
    {
     "name": "stderr",
     "output_type": "stream",
     "text": [
      "/opt/conda/lib/python3.9/site-packages/pkg_resources/__init__.py:116: PkgResourcesDeprecationWarning: 0.996-ko-0.9.2 is an invalid version and will not be supported in a future release\n",
      "  warnings.warn(\n",
      "/opt/conda/lib/python3.9/site-packages/pkg_resources/__init__.py:116: PkgResourcesDeprecationWarning: 0.996-ko-0.9.2 is an invalid version and will not be supported in a future release\n",
      "  warnings.warn(\n",
      "/opt/conda/lib/python3.9/site-packages/pkg_resources/__init__.py:116: PkgResourcesDeprecationWarning: 0.996-ko-0.9.2 is an invalid version and will not be supported in a future release\n",
      "  warnings.warn(\n",
      "/opt/conda/lib/python3.9/site-packages/pkg_resources/__init__.py:116: PkgResourcesDeprecationWarning: 0.996-ko-0.9.2 is an invalid version and will not be supported in a future release\n",
      "  warnings.warn(\n",
      "/opt/conda/lib/python3.9/site-packages/pkg_resources/__init__.py:116: PkgResourcesDeprecationWarning: 0.996-ko-0.9.2 is an invalid version and will not be supported in a future release\n",
      "  warnings.warn(\n"
     ]
    },
    {
     "data": {
      "text/html": [
       "<div>\n",
       "<style scoped>\n",
       "    .dataframe tbody tr th:only-of-type {\n",
       "        vertical-align: middle;\n",
       "    }\n",
       "\n",
       "    .dataframe tbody tr th {\n",
       "        vertical-align: top;\n",
       "    }\n",
       "\n",
       "    .dataframe thead th {\n",
       "        text-align: right;\n",
       "    }\n",
       "</style>\n",
       "<table border=\"1\" class=\"dataframe\">\n",
       "  <thead>\n",
       "    <tr style=\"text-align: right;\">\n",
       "      <th></th>\n",
       "      <th>max_depth</th>\n",
       "      <th>n_estimators</th>\n",
       "      <th>score</th>\n",
       "      <th>RMSLE</th>\n",
       "    </tr>\n",
       "  </thead>\n",
       "  <tbody>\n",
       "    <tr>\n",
       "      <th>2</th>\n",
       "      <td>10</td>\n",
       "      <td>50</td>\n",
       "      <td>-0.030349</td>\n",
       "      <td>0.174210</td>\n",
       "    </tr>\n",
       "    <tr>\n",
       "      <th>3</th>\n",
       "      <td>10</td>\n",
       "      <td>100</td>\n",
       "      <td>-0.030470</td>\n",
       "      <td>0.174557</td>\n",
       "    </tr>\n",
       "    <tr>\n",
       "      <th>1</th>\n",
       "      <td>1</td>\n",
       "      <td>100</td>\n",
       "      <td>-0.043046</td>\n",
       "      <td>0.207475</td>\n",
       "    </tr>\n",
       "    <tr>\n",
       "      <th>0</th>\n",
       "      <td>1</td>\n",
       "      <td>50</td>\n",
       "      <td>-0.048745</td>\n",
       "      <td>0.220782</td>\n",
       "    </tr>\n",
       "  </tbody>\n",
       "</table>\n",
       "</div>"
      ],
      "text/plain": [
       "   max_depth  n_estimators     score     RMSLE\n",
       "2         10            50 -0.030349  0.174210\n",
       "3         10           100 -0.030470  0.174557\n",
       "1          1           100 -0.043046  0.207475\n",
       "0          1            50 -0.048745  0.220782"
      ]
     },
     "execution_count": 57,
     "metadata": {},
     "output_type": "execute_result"
    }
   ],
   "source": [
    "param_grid = {\n",
    "    'n_estimators': [50, 100],\n",
    "    'max_depth': [1, 10],}\n",
    "\n",
    "model = XGBRegressor(random_state=random_state)\n",
    "my_GridSearch(model, train, y, param_grid, verbose=2, n_jobs=5)"
   ]
  },
  {
   "cell_type": "code",
   "execution_count": 58,
   "id": "ab08565d",
   "metadata": {
    "scrolled": true
   },
   "outputs": [
    {
     "name": "stdout",
     "output_type": "stream",
     "text": [
      "/aiffel/aiffel/kaggle_kakr_housing/data/submission_xgboost_RMSLE_0.174210.csv saved!\n",
      "[CV] END .......................max_depth=1, n_estimators=50; total time=   0.9s\n",
      "[CV] END ......................max_depth=1, n_estimators=200; total time=   4.1s\n",
      "[CV] END ......................max_depth=20, n_estimators=50; total time=  17.5s\n",
      "[CV] END .....................max_depth=20, n_estimators=200; total time= 1.0min\n",
      "[CV] END .......................max_depth=1, n_estimators=50; total time=   1.3s\n",
      "[CV] END ......................max_depth=1, n_estimators=100; total time=   1.8s\n",
      "[CV] END ......................max_depth=20, n_estimators=50; total time=  15.7s\n",
      "[CV] END .....................max_depth=20, n_estimators=100; total time=  34.8s\n",
      "[CV] END .......................max_depth=1, n_estimators=50; total time=   0.9s\n",
      "[CV] END ......................max_depth=1, n_estimators=100; total time=   1.8s\n",
      "[CV] END .......................max_depth=5, n_estimators=50; total time=   4.8s\n",
      "[CV] END ......................max_depth=5, n_estimators=100; total time=  10.9s\n",
      "[CV] END .......................max_depth=1, n_estimators=50; total time=   0.9s\n",
      "[CV] END ......................max_depth=1, n_estimators=100; total time=   1.9s\n",
      "[CV] END .......................max_depth=5, n_estimators=50; total time=   7.0s\n",
      "[CV] END ......................max_depth=5, n_estimators=100; total time=   9.6s\n",
      "[CV] END .......................max_depth=1, n_estimators=50; total time=   0.2s\n",
      "[CV] END ......................max_depth=1, n_estimators=100; total time=   0.2s\n",
      "[CV] END .......................max_depth=5, n_estimators=50; total time=   0.3s\n",
      "[CV] END ......................max_depth=5, n_estimators=100; total time=   0.5s\n",
      "[CV] END .......................max_depth=1, n_estimators=50; total time=   0.1s\n",
      "[CV] END ......................max_depth=1, n_estimators=100; total time=   0.3s\n",
      "[CV] END ......................max_depth=20, n_estimators=50; total time=   0.7s\n",
      "[CV] END ......................max_depth=20, n_estimators=50; total time=   0.4s\n",
      "[CV] END .......................max_depth=1, n_estimators=50; total time=   0.1s\n",
      "[CV] END ......................max_depth=1, n_estimators=100; total time=   0.2s\n",
      "[CV] END ......................max_depth=10, n_estimators=50; total time=   0.4s\n",
      "[CV] END ......................max_depth=10, n_estimators=50; total time=   0.5s\n",
      "[CV] END .......................max_depth=1, n_estimators=50; total time=   0.1s\n",
      "[CV] END ......................max_depth=1, n_estimators=200; total time=   0.4s\n",
      "[CV] END ......................max_depth=20, n_estimators=50; total time=   0.4s\n",
      "[CV] END ......................max_depth=20, n_estimators=50; total time=   0.4s\n",
      "[CV] END .......................max_depth=1, n_estimators=50; total time=  13.5s\n",
      "[CV] END ......................max_depth=1, n_estimators=100; total time=  23.6s\n",
      "[CV] END ......................max_depth=10, n_estimators=50; total time= 3.0min\n",
      "[CV] END .....................max_depth=10, n_estimators=100; total time= 6.0min\n",
      "[CV] END .......................max_depth=1, n_estimators=50; total time=   0.9s\n",
      "[CV] END ......................max_depth=1, n_estimators=200; total time=   5.0s\n",
      "[CV] END ......................max_depth=20, n_estimators=50; total time=  19.5s\n",
      "[CV] END .....................max_depth=20, n_estimators=200; total time=  56.7s\n",
      "[CV] END .......................max_depth=1, n_estimators=50; total time=   0.9s\n",
      "[CV] END ......................max_depth=1, n_estimators=100; total time=   2.9s\n",
      "[CV] END ......................max_depth=20, n_estimators=50; total time=  16.5s\n",
      "[CV] END .....................max_depth=20, n_estimators=100; total time=  36.8s\n",
      "[CV] END .......................max_depth=1, n_estimators=50; total time=   0.9s\n",
      "[CV] END ......................max_depth=1, n_estimators=100; total time=   2.3s\n",
      "[CV] END .......................max_depth=5, n_estimators=50; total time=   7.8s\n",
      "[CV] END ......................max_depth=5, n_estimators=100; total time=   8.9s\n",
      "[CV] END .......................max_depth=1, n_estimators=50; total time=   1.9s\n",
      "[CV] END ......................max_depth=1, n_estimators=100; total time=   2.4s\n",
      "[CV] END .......................max_depth=5, n_estimators=50; total time=   4.6s\n",
      "[CV] END ......................max_depth=5, n_estimators=100; total time=  10.9s\n",
      "[CV] END .......................max_depth=1, n_estimators=50; total time=   0.2s\n",
      "[CV] END ......................max_depth=1, n_estimators=100; total time=   0.2s\n",
      "[CV] END .......................max_depth=5, n_estimators=50; total time=   0.3s\n",
      "[CV] END ......................max_depth=5, n_estimators=100; total time=   0.5s\n",
      "[CV] END .......................max_depth=1, n_estimators=50; total time=   0.1s\n",
      "[CV] END ......................max_depth=1, n_estimators=100; total time=   0.3s\n",
      "[CV] END ......................max_depth=20, n_estimators=50; total time=   0.7s\n",
      "[CV] END .....................max_depth=20, n_estimators=100; total time=   0.6s\n",
      "[CV] END .......................max_depth=1, n_estimators=50; total time=   0.3s\n",
      "[CV] END ......................max_depth=1, n_estimators=100; total time=   0.4s\n",
      "[CV] END .....................max_depth=10, n_estimators=100; total time=   0.7s\n",
      "[CV] END .....................max_depth=10, n_estimators=100; total time=   0.3s\n",
      "[CV] END .......................max_depth=1, n_estimators=50; total time=   0.2s\n",
      "[CV] END ......................max_depth=1, n_estimators=200; total time=   0.3s\n",
      "[CV] END ......................max_depth=20, n_estimators=50; total time=   0.4s\n",
      "[CV] END ......................max_depth=20, n_estimators=50; total time=   0.4s\n",
      "[CV] END .......................max_depth=1, n_estimators=50; total time=  13.9s\n",
      "[CV] END ......................max_depth=1, n_estimators=100; total time=  23.6s\n",
      "[CV] END ......................max_depth=10, n_estimators=50; total time= 3.0min\n",
      "[CV] END .....................max_depth=10, n_estimators=100; total time= 6.1min\n",
      "[CV] END .......................max_depth=1, n_estimators=50; total time=   0.9s\n",
      "[CV] END ......................max_depth=1, n_estimators=200; total time=   4.4s\n",
      "[CV] END ......................max_depth=20, n_estimators=50; total time=  21.3s\n",
      "[CV] END .....................max_depth=20, n_estimators=200; total time= 1.0min\n",
      "[CV] END .......................max_depth=1, n_estimators=50; total time=   1.3s\n",
      "[CV] END ......................max_depth=1, n_estimators=100; total time=   1.8s\n",
      "[CV] END ......................max_depth=20, n_estimators=50; total time=  21.6s\n",
      "[CV] END .....................max_depth=20, n_estimators=100; total time=  32.4s\n",
      "[CV] END .......................max_depth=1, n_estimators=50; total time=   0.9s\n",
      "[CV] END ......................max_depth=1, n_estimators=100; total time=   2.5s\n",
      "[CV] END .......................max_depth=5, n_estimators=50; total time=   4.8s\n",
      "[CV] END ......................max_depth=5, n_estimators=100; total time=  10.4s\n",
      "[CV] END .......................max_depth=1, n_estimators=50; total time=   1.0s\n",
      "[CV] END ......................max_depth=1, n_estimators=100; total time=   1.9s\n",
      "[CV] END .......................max_depth=5, n_estimators=50; total time=   5.1s\n",
      "[CV] END ......................max_depth=5, n_estimators=100; total time=  10.0s\n",
      "[CV] END .......................max_depth=1, n_estimators=50; total time=   0.2s\n",
      "[CV] END ......................max_depth=1, n_estimators=100; total time=   0.4s\n",
      "[CV] END .......................max_depth=5, n_estimators=50; total time=   0.4s\n",
      "[CV] END ......................max_depth=5, n_estimators=100; total time=   0.4s\n",
      "[CV] END .......................max_depth=1, n_estimators=50; total time=   0.2s\n",
      "[CV] END ......................max_depth=1, n_estimators=100; total time=   0.2s\n",
      "[CV] END .....................max_depth=20, n_estimators=100; total time=   0.7s\n",
      "[CV] END .....................max_depth=20, n_estimators=100; total time=   0.6s\n",
      "[CV] END .......................max_depth=1, n_estimators=50; total time=   0.1s\n",
      "[CV] END ......................max_depth=1, n_estimators=100; total time=   0.2s\n",
      "[CV] END ......................max_depth=10, n_estimators=50; total time=   0.4s\n",
      "[CV] END .....................max_depth=10, n_estimators=100; total time=   0.6s\n",
      "[CV] END .......................max_depth=1, n_estimators=50; total time=   0.2s\n",
      "[CV] END ......................max_depth=1, n_estimators=200; total time=   0.4s\n",
      "[CV] END ......................max_depth=20, n_estimators=50; total time=   0.7s\n",
      "[CV] END .....................max_depth=20, n_estimators=200; total time=   0.5s\n",
      "[CV] END .......................max_depth=1, n_estimators=50; total time=  13.0s\n",
      "[CV] END ......................max_depth=1, n_estimators=100; total time=  24.5s\n",
      "[CV] END ......................max_depth=10, n_estimators=50; total time= 3.1min\n",
      "[CV] END .....................max_depth=10, n_estimators=100; total time= 6.2min\n",
      "[CV] END .......................max_depth=1, n_estimators=50; total time=   0.9s\n",
      "[CV] END ......................max_depth=1, n_estimators=200; total time=   3.9s\n",
      "[CV] END ......................max_depth=20, n_estimators=50; total time=  17.2s\n",
      "[CV] END .....................max_depth=20, n_estimators=200; total time= 1.1min\n",
      "[CV] END .......................max_depth=1, n_estimators=50; total time=   0.9s\n",
      "[CV] END ......................max_depth=1, n_estimators=100; total time=   2.8s\n",
      "[CV] END ......................max_depth=20, n_estimators=50; total time=  19.5s\n",
      "[CV] END .....................max_depth=20, n_estimators=100; total time=  34.4s\n",
      "[CV] END .......................max_depth=1, n_estimators=50; total time=   1.4s\n",
      "[CV] END ......................max_depth=1, n_estimators=100; total time=   2.5s\n",
      "[CV] END .......................max_depth=5, n_estimators=50; total time=   4.9s\n",
      "[CV] END ......................max_depth=5, n_estimators=100; total time=  10.1s\n",
      "[CV] END .......................max_depth=1, n_estimators=50; total time=   1.1s\n",
      "[CV] END ......................max_depth=1, n_estimators=100; total time=   3.4s\n",
      "[CV] END .......................max_depth=5, n_estimators=50; total time=   7.2s\n",
      "[CV] END ......................max_depth=5, n_estimators=100; total time=   8.7s\n",
      "[CV] END .......................max_depth=1, n_estimators=50; total time=   0.1s\n",
      "[CV] END ......................max_depth=1, n_estimators=100; total time=   0.2s\n",
      "[CV] END .......................max_depth=5, n_estimators=50; total time=   0.3s\n",
      "[CV] END ......................max_depth=5, n_estimators=100; total time=   0.4s\n",
      "[CV] END .......................max_depth=1, n_estimators=50; total time=   0.1s\n",
      "[CV] END ......................max_depth=1, n_estimators=100; total time=   0.2s\n",
      "[CV] END ......................max_depth=20, n_estimators=50; total time=   0.4s\n",
      "[CV] END ......................max_depth=20, n_estimators=50; total time=   0.4s\n",
      "[CV] END .......................max_depth=1, n_estimators=50; total time=   0.1s\n",
      "[CV] END ......................max_depth=1, n_estimators=100; total time=   0.2s\n",
      "[CV] END ......................max_depth=10, n_estimators=50; total time=   0.4s\n",
      "[CV] END ......................max_depth=10, n_estimators=50; total time=   0.3s\n",
      "[CV] END .......................max_depth=1, n_estimators=50; total time=   0.1s\n",
      "[CV] END ......................max_depth=1, n_estimators=200; total time=   0.5s\n",
      "[CV] END .....................max_depth=20, n_estimators=200; total time=   0.9s\n",
      "[CV] END .....................max_depth=20, n_estimators=200; total time=   0.6s\n",
      "[CV] END .......................max_depth=1, n_estimators=50; total time=  13.3s\n",
      "[CV] END ......................max_depth=1, n_estimators=100; total time=  24.8s\n",
      "[CV] END ......................max_depth=10, n_estimators=50; total time= 3.1min\n",
      "[CV] END .....................max_depth=10, n_estimators=100; total time= 6.2min\n",
      "[CV] END .......................max_depth=1, n_estimators=50; total time=   1.8s\n",
      "[CV] END ......................max_depth=1, n_estimators=200; total time=   4.6s\n",
      "[CV] END ......................max_depth=20, n_estimators=50; total time=  15.8s\n",
      "[CV] END .....................max_depth=20, n_estimators=200; total time=  59.8s\n",
      "[CV] END .......................max_depth=1, n_estimators=50; total time=   1.0s\n",
      "[CV] END ......................max_depth=1, n_estimators=100; total time=   1.9s\n",
      "[CV] END ......................max_depth=20, n_estimators=50; total time=  17.6s\n",
      "[CV] END .....................max_depth=20, n_estimators=100; total time=  37.4s\n",
      "[CV] END .......................max_depth=1, n_estimators=50; total time=   1.8s\n",
      "[CV] END ......................max_depth=1, n_estimators=100; total time=   2.1s\n",
      "[CV] END .......................max_depth=5, n_estimators=50; total time=   5.7s\n",
      "[CV] END ......................max_depth=5, n_estimators=100; total time=  10.3s\n",
      "[CV] END .......................max_depth=1, n_estimators=50; total time=   1.3s\n",
      "[CV] END ......................max_depth=1, n_estimators=100; total time=   1.9s\n",
      "[CV] END .......................max_depth=5, n_estimators=50; total time=   4.6s\n",
      "[CV] END ......................max_depth=5, n_estimators=100; total time=   9.9s\n",
      "[CV] END .......................max_depth=1, n_estimators=50; total time=   0.2s\n",
      "[CV] END ......................max_depth=1, n_estimators=100; total time=   0.2s\n",
      "[CV] END .......................max_depth=5, n_estimators=50; total time=   0.5s\n",
      "[CV] END ......................max_depth=5, n_estimators=100; total time=   0.6s\n",
      "[CV] END .......................max_depth=1, n_estimators=50; total time=   0.2s\n",
      "[CV] END ......................max_depth=1, n_estimators=100; total time=   0.2s\n",
      "[CV] END .....................max_depth=20, n_estimators=100; total time=   0.6s\n",
      "[CV] END .....................max_depth=20, n_estimators=100; total time=   0.5s\n",
      "[CV] END .......................max_depth=1, n_estimators=50; total time=   0.2s\n",
      "[CV] END ......................max_depth=1, n_estimators=100; total time=   0.4s\n",
      "[CV] END .....................max_depth=10, n_estimators=100; total time=   0.7s\n",
      "[CV] END .....................max_depth=10, n_estimators=100; total time=   0.3s\n",
      "[CV] END .......................max_depth=1, n_estimators=50; total time=   0.1s\n",
      "[CV] END ......................max_depth=1, n_estimators=200; total time=   0.6s\n",
      "[CV] END .....................max_depth=20, n_estimators=200; total time=   1.1s\n",
      "[CV] END .....................max_depth=20, n_estimators=200; total time=   0.5s\n",
      "[CV] END .......................max_depth=1, n_estimators=50; total time=  12.8s\n",
      "[CV] END ......................max_depth=1, n_estimators=100; total time=  25.7s\n",
      "[CV] END ......................max_depth=10, n_estimators=50; total time= 3.1min\n",
      "[CV] END .....................max_depth=10, n_estimators=100; total time= 6.3min\n"
     ]
    }
   ],
   "source": [
    "model = XGBRegressor(max_depth=10, n_estimators=50,random_state=random_state)\n",
    "\n",
    "save_submission(model, train, y, test, 'xgboost', rmsle='0.174210')"
   ]
  },
  {
   "cell_type": "markdown",
   "id": "ca3190d5",
   "metadata": {},
   "source": [
    "XGBRegressor 모델을 사용하니 다른 모델들에 비해서 시간이 너무 오래걸려서 n_estimators': [50, 100],\n",
    "    'max_depth': [1, 10] 로 돌린 값만 봤습니다.\n",
    "    \n",
    "LGBMRegressor 모델의 RMSLE의 값이 훨씬 잘 나와서 더 이상 모델을 돌리지 않았습니다."
   ]
  },
  {
   "cell_type": "markdown",
   "id": "28c8d5a4",
   "metadata": {},
   "source": [
    "### RandomForestRegressor 모델을 이용한 예측"
   ]
  },
  {
   "cell_type": "code",
   "execution_count": 43,
   "id": "31a2f4c8",
   "metadata": {
    "scrolled": false
   },
   "outputs": [
    {
     "name": "stdout",
     "output_type": "stream",
     "text": [
      "Fitting 5 folds for each of 4 candidates, totalling 20 fits\n"
     ]
    },
    {
     "data": {
      "text/html": [
       "<div>\n",
       "<style scoped>\n",
       "    .dataframe tbody tr th:only-of-type {\n",
       "        vertical-align: middle;\n",
       "    }\n",
       "\n",
       "    .dataframe tbody tr th {\n",
       "        vertical-align: top;\n",
       "    }\n",
       "\n",
       "    .dataframe thead th {\n",
       "        text-align: right;\n",
       "    }\n",
       "</style>\n",
       "<table border=\"1\" class=\"dataframe\">\n",
       "  <thead>\n",
       "    <tr style=\"text-align: right;\">\n",
       "      <th></th>\n",
       "      <th>max_depth</th>\n",
       "      <th>n_estimators</th>\n",
       "      <th>score</th>\n",
       "      <th>RMSLE</th>\n",
       "    </tr>\n",
       "  </thead>\n",
       "  <tbody>\n",
       "    <tr>\n",
       "      <th>3</th>\n",
       "      <td>10</td>\n",
       "      <td>100</td>\n",
       "      <td>-0.035232</td>\n",
       "      <td>0.187702</td>\n",
       "    </tr>\n",
       "    <tr>\n",
       "      <th>2</th>\n",
       "      <td>10</td>\n",
       "      <td>50</td>\n",
       "      <td>-0.035439</td>\n",
       "      <td>0.188252</td>\n",
       "    </tr>\n",
       "    <tr>\n",
       "      <th>1</th>\n",
       "      <td>1</td>\n",
       "      <td>100</td>\n",
       "      <td>-0.179128</td>\n",
       "      <td>0.423235</td>\n",
       "    </tr>\n",
       "    <tr>\n",
       "      <th>0</th>\n",
       "      <td>1</td>\n",
       "      <td>50</td>\n",
       "      <td>-0.179746</td>\n",
       "      <td>0.423965</td>\n",
       "    </tr>\n",
       "  </tbody>\n",
       "</table>\n",
       "</div>"
      ],
      "text/plain": [
       "   max_depth  n_estimators     score     RMSLE\n",
       "3         10           100 -0.035232  0.187702\n",
       "2         10            50 -0.035439  0.188252\n",
       "1          1           100 -0.179128  0.423235\n",
       "0          1            50 -0.179746  0.423965"
      ]
     },
     "execution_count": 43,
     "metadata": {},
     "output_type": "execute_result"
    }
   ],
   "source": [
    "param_grid = {\n",
    "    'n_estimators': [50, 100],\n",
    "    'max_depth': [1, 10],}\n",
    "\n",
    "model = RandomForestRegressor(random_state=random_state)\n",
    "my_GridSearch(model, train, y, param_grid, verbose=2, n_jobs=5)"
   ]
  },
  {
   "cell_type": "code",
   "execution_count": 45,
   "id": "4acad406",
   "metadata": {
    "scrolled": true
   },
   "outputs": [
    {
     "name": "stdout",
     "output_type": "stream",
     "text": [
      "/aiffel/aiffel/kaggle_kakr_housing/data/submission_rdforest_RMSLE_0.187702.csv saved!\n",
      "[CV] END .......................max_depth=1, n_estimators=50; total time=   0.7s\n",
      "[CV] END ......................max_depth=1, n_estimators=100; total time=   1.4s\n",
      "[CV] END ......................max_depth=1, n_estimators=100; total time=   1.5s\n",
      "[CV] END ......................max_depth=10, n_estimators=50; total time=   5.5s\n",
      "[CV] END .....................max_depth=10, n_estimators=100; total time=  10.9s\n",
      "[CV] END .......................max_depth=1, n_estimators=50; total time=   1.4s\n",
      "[CV] END ......................max_depth=10, n_estimators=50; total time=   6.0s\n",
      "[CV] END .....................max_depth=10, n_estimators=100; total time=  12.0s\n",
      "[CV] END .......................max_depth=1, n_estimators=50; total time=   0.7s\n",
      "[CV] END ......................max_depth=1, n_estimators=100; total time=   1.4s\n",
      "[CV] END ......................max_depth=10, n_estimators=50; total time=   6.8s\n",
      "[CV] END .....................max_depth=10, n_estimators=100; total time=  13.2s\n",
      "[CV] END .......................max_depth=1, n_estimators=50; total time=   1.4s\n",
      "[CV] END ......................max_depth=10, n_estimators=50; total time=   7.3s\n",
      "[CV] END .....................max_depth=10, n_estimators=100; total time=  12.2s\n",
      "[CV] END .......................max_depth=1, n_estimators=50; total time=   0.7s\n",
      "[CV] END ......................max_depth=1, n_estimators=100; total time=   1.4s\n",
      "[CV] END ......................max_depth=1, n_estimators=100; total time=   1.4s\n",
      "[CV] END ......................max_depth=10, n_estimators=50; total time=  10.5s\n",
      "[CV] END .....................max_depth=10, n_estimators=100; total time=  10.2s\n"
     ]
    }
   ],
   "source": [
    "model = RandomForestRegressor(max_depth=10, n_estimators=100,random_state=random_state)\n",
    "\n",
    "save_submission(model, train, y, test, 'rdforest', rmsle='0.187702')"
   ]
  },
  {
   "cell_type": "markdown",
   "id": "52a8859d",
   "metadata": {},
   "source": [
    "RandomRorestRegressor 모델은 같은 하이퍼 파라미터를 지정하고 모델을 돌렸는데 RMSLE가 다른 모델들에 비해서 높게 나와서 그냥 냅뒀습니다."
   ]
  },
  {
   "cell_type": "markdown",
   "id": "ef82f86f",
   "metadata": {},
   "source": [
    "# 회고\n",
    "\n",
    "캐글에 도전해 볼 수 있어서 영광이었습니다.\n",
    "\n",
    "무언가 집 값을 예측한다는 것이 과연 내가 할 수 있는 것일까 하는 생각도 했습니다만 결국 꾸역꾸역 진행을 하니 10만 점대 스코어도 나오더군요.\n",
    "\n",
    "여러 모델을 학습시키고 결과가 전부 다르게 나오는 점은 좀 흥미로웠습니다.\n",
    "\n",
    "동일한 하이퍼 파라미터를 지정했는데 어떤 모델은 잘 나오고 어떤 모델은 너무 잘 안나와서 좀 궁금해지기도 했구요.\n",
    "\n",
    "그러나 BUT 갑자기 난이도가 올라가서 좀 힘들었습니다.\n",
    "\n",
    "뭔가 광야에 던져진 느낌이랄까요...?\n",
    "\n",
    "사자가 새끼를 강하게 키우기 위해 새끼를 절벽에서 떨어트린다고 했었나요...?\n",
    "\n",
    "그런 느낌이겠죠?\n",
    "\n",
    "그런 이유에서 어려워 진 것이라면 찬성입니다....\n",
    "\n",
    "갈아넣어보겠어요...\n",
    "\n",
    "아무튼 화이팅하시고 저도 힘내겠습니다.\n",
    "\n",
    "\n",
    "### 쉽지 않았다.\n",
    "\n"
   ]
  },
  {
   "attachments": {
    "%E1%84%89%E1%85%B3%E1%84%8F%E1%85%B3%E1%84%85%E1%85%B5%E1%86%AB%E1%84%89%E1%85%A3%E1%86%BA%202022-01-25%20%E1%84%8B%E1%85%A9%E1%84%92%E1%85%AE%2012.18.08.png": {
     "image/png": "[encoded data removed]"
    }
   },
   "cell_type": "markdown",
   "id": "9e9ff99a",
   "metadata": {},
   "source": [
    "![%E1%84%89%E1%85%B3%E1%84%8F%E1%85%B3%E1%84%85%E1%85%B5%E1%86%AB%E1%84%89%E1%85%A3%E1%86%BA%202022-01-25%20%E1%84%8B%E1%85%A9%E1%84%92%E1%85%AE%2012.18.08.png](attachment:%E1%84%89%E1%85%B3%E1%84%8F%E1%85%B3%E1%84%85%E1%85%B5%E1%86%AB%E1%84%89%E1%85%A3%E1%86%BA%202022-01-25%20%E1%84%8B%E1%85%A9%E1%84%92%E1%85%AE%2012.18.08.png)"
   ]
  }
 ],
 "metadata": {
  "kernelspec": {
   "display_name": "Python 3 (ipykernel)",
   "language": "python",
   "name": "python3"
  },
  "language_info": {
   "codemirror_mode": {
    "name": "ipython",
    "version": 3
   },
   "file_extension": ".py",
   "mimetype": "text/x-python",
   "name": "python",
   "nbconvert_exporter": "python",
   "pygments_lexer": "ipython3",
   "version": "3.9.7"
  }
 },
 "nbformat": 4,
 "nbformat_minor": 5
}
