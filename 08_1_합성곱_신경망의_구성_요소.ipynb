{
  "nbformat": 4,
  "nbformat_minor": 0,
  "metadata": {
    "colab": {
      "provenance": [],
      "authorship_tag": "ABX9TyMxHG6AlWIHsISEQVBa4V+R",
      "include_colab_link": true
    },
    "kernelspec": {
      "name": "python3",
      "display_name": "Python 3"
    },
    "language_info": {
      "name": "python"
    }
  },
  "cells": [
    {
      "cell_type": "markdown",
      "metadata": {
        "id": "view-in-github",
        "colab_type": "text"
      },
      "source": [
        "<a href=\"https://colab.research.google.com/github/GRINTKIM/AIFFEL_EXPLORATION/blob/master/08_1_%ED%95%A9%EC%84%B1%EA%B3%B1_%EC%8B%A0%EA%B2%BD%EB%A7%9D%EC%9D%98_%EA%B5%AC%EC%84%B1_%EC%9A%94%EC%86%8C.ipynb\" target=\"_parent\"><img src=\"https://colab.research.google.com/assets/colab-badge.svg\" alt=\"Open In Colab\"/></a>"
      ]
    },
    {
      "cell_type": "markdown",
      "source": [
        "## 합성곱\n",
        "\n",
        "#### 인공 신경망 모델 훈련\n",
        "- 처음에 가중시 $w_1$ ~ $w_n$과 절편 b를 랜덤하게 초기화\n",
        "- 에포크 반복\n",
        "- 경사 하강법을 사용\n",
        "- 손실이 낮아지도록 최적의 가중치와 절편을 찾음\n",
        "\n",
        "입력 개수에 상관 없이 밀집층의 뉴런 개수에 따라 출력 개수가 정해짐\n",
        "- ex. 패션 MNIST 이미지(28x28)의 784개의 픽셀을 입력받는 은닉층의 뉴런 개수가 100개이면 뉴련마다 하나씩 출력도 100개임"
      ],
      "metadata": {
        "id": "TnTp_MZwldwE"
      }
    },
    {
      "cell_type": "markdown",
      "source": [
        "#### 합성곱\n",
        "\n",
        "- 입력 데이터 전체에 가중치를 적용하는 것이 아니라 일부에 가중치를 곱함\n",
        "- 뉴런이 3개의 가중치를 가지고 10개의 입력이 있다고 가정하면\n",
        "- 가중치 $w_1$ ~ $w_3$이 입력의 처음 3개(1~3) 특성과 곱해져 1개의 출력을 만듦\n",
        "- 다음은 두 번째부터 네 번째 특성과 가중치가 곱해져 1개의 출력을 만듦\n",
        "- 이런 식으로 총 8개의 출력을 생성\n",
        "- 이런 식으로 한 칸씩 아래로 이동하며 출력을 만드는 것이 합성곱\n"
      ],
      "metadata": {
        "id": "rcP-2IA5l108"
      }
    },
    {
      "cell_type": "markdown",
      "source": [
        "**합성곱 신경망(Convolutional Neural Network, CNN)**에서는 뉴런을 **필터(filter)** 혹은 **커널(kernel)**이라고 부름\n",
        "\n",
        "Keras API\n",
        "- 필터: 뉴런 개수\n",
        "- 커널: 입력에 곱해지는 가중치"
      ],
      "metadata": {
        "id": "-N4WHSbXqvWV"
      }
    },
    {
      "cell_type": "markdown",
      "source": [
        "- 합성곱은 2차원 입력에도 적용 가능\n",
        "- 입력이 2차원 배열이면 필터도 2차원이어야 함\n",
        "\n"
      ],
      "metadata": {
        "id": "qaxQiPfFrofn"
      }
    },
    {
      "cell_type": "markdown",
      "source": [
        "입력이 4x4이고 커널 사이즈는 3x3인 경우\n",
        "- 입력의 좌상단 9개 원소와 커널의 가중치 9개를 곱해 1개의 출력을 만듦\n",
        "- 오른쪽으로 한 칸 이동하여 합성곱 수행하여 1개의 출력을 만듦\n",
        "- 오른쪽으로 더 이상 이동할 수 없기 때문에 한 칸 아래로 이동하여 다시 왼쪽부터 합성곱 수행\n",
        "- 오른쪽으로 이동하여 합성곱 수행\n",
        "- 출력: (2x2)\n",
        "\n",
        "합성곱은 왼쪽 위에서 오른쪽 맨 아래까지 이동하면서 출력을 생성함\n",
        "합성곱 계산을 통해 얻은 출력을 **특성 맵(feature map)**이라고 부름\n",
        "\n",
        "여러개의 필터를 사용하여 만들어진 특성 맵은 순서대로 쌓여 3차원 배열이 됨\n",
        "- (2, 2, n)\n"
      ],
      "metadata": {
        "id": "7qK_S45duT3G"
      }
    },
    {
      "cell_type": "markdown",
      "source": [
        "## 케라스 합성곱 층"
      ],
      "metadata": {
        "id": "NxgF7Hzaw352"
      }
    },
    {
      "cell_type": "code",
      "source": [
        "from tensorflow import keras\n",
        "\n",
        "keras.layers.Conv2D(10, kernel_size=(3, 3), activation='relu')"
      ],
      "metadata": {
        "colab": {
          "base_uri": "https://localhost:8080/"
        },
        "id": "mFn503Vcw9yH",
        "outputId": "e28f1fa6-b06a-450b-b61d-0bcb291432ca"
      },
      "execution_count": null,
      "outputs": [
        {
          "output_type": "execute_result",
          "data": {
            "text/plain": [
              "<keras.src.layers.convolutional.conv2d.Conv2D at 0x7901d5862fb0>"
            ]
          },
          "metadata": {},
          "execution_count": 1
        }
      ]
    },
    {
      "cell_type": "markdown",
      "source": [
        "합성곱 신경망의 정의\n",
        "- 1개 이상의 합성곱 층을 쓴 인공 신경망\n",
        "- 꼭 합성곱 층만 사용한 신경망을 합성곱 신경망이라고 부르는 것은 아님"
      ],
      "metadata": {
        "id": "vL5hUX_exKy5"
      }
    },
    {
      "cell_type": "markdown",
      "source": [
        "### 패딩과 스트라이드\n",
        "\n",
        "패딩(padding)\n",
        "- 입력 배열의 주위를 가상의 원소로 채우는 것\n",
        "- 출력(특성 맵)의 크기를 입력과 동일하게 만들어 주기 위해 사용함\n",
        "- 패딩의 역할은 특성 맵의 크기를 늘려주는 것 밖에 없음\n",
        "- 실제 값은 0으로 채워져 있기 때문에 계산에 영향을 주지 않음\n",
        "\n",
        "입력과 특성 맵의 크기를 동일하게 만들기 위해 입력 주위에 0으로 패딩하는 것을 **세임 패딩(same padding)**이라고 부름\n",
        "- 합성곱 신경망에서는 세임 패딩이 많이 사용됨\n",
        "\n",
        "패딩 없이 순수한 입력 배열에서만 합성곱을 하여 특성 맵을 만드는 경우를 **밸리드 패딩(valid padding)**이라고 함\n",
        "- 특성 맵의 크기가 줄어들 수 밖에 없음\n",
        "\n",
        "#### 패딩을 사용하는 이유\n",
        "- 패딩을 사용하지 않으면 특성 맵에 모서리에 있는 정보가 전달되지 않을 가능성이 높음\n",
        "- 반면에 가운데 있는 정보는 두드러지게 표현됨\n",
        "- 적절한 패딩은 이미지의 주변에 있는 정보를 잃어버리지 않게 도와줌"
      ],
      "metadata": {
        "id": "zIdS0NSM7DYL"
      }
    },
    {
      "cell_type": "code",
      "source": [
        "keras.layers.Conv2D(10, kernel_size=(3, 3), activation='relu', padding='same')"
      ],
      "metadata": {
        "id": "h3-QSpyw7Gw6",
        "colab": {
          "base_uri": "https://localhost:8080/"
        },
        "outputId": "2793a4c8-6c89-4f71-c985-43cbc8b3a045"
      },
      "execution_count": null,
      "outputs": [
        {
          "output_type": "execute_result",
          "data": {
            "text/plain": [
              "<keras.src.layers.convolutional.conv2d.Conv2D at 0x79014d1d03a0>"
            ]
          },
          "metadata": {},
          "execution_count": 2
        }
      ]
    },
    {
      "cell_type": "markdown",
      "source": [
        "**스트라이드**는 필터가 이동하는 칸의 개수"
      ],
      "metadata": {
        "id": "cPFuevJ1-FAk"
      }
    },
    {
      "cell_type": "code",
      "source": [
        "keras.layers.Conv2D(10, kernel_size=(3, 3), activation='relu', padding='same', strides=1)"
      ],
      "metadata": {
        "colab": {
          "base_uri": "https://localhost:8080/"
        },
        "id": "nwtYiWOd-bXp",
        "outputId": "848a95e5-6743-4ed8-c87d-4023762afe6a"
      },
      "execution_count": null,
      "outputs": [
        {
          "output_type": "execute_result",
          "data": {
            "text/plain": [
              "<keras.src.layers.convolutional.conv2d.Conv2D at 0x79014d1d6fb0>"
            ]
          },
          "metadata": {},
          "execution_count": 3
        }
      ]
    },
    {
      "cell_type": "markdown",
      "source": [
        "### 풀링\n",
        "**풀링**은 합성곱 층에서 만든 특성 맵의 가로세로 크기를 줄이는 역할을 수행함  \n",
        "하지만 특성 맵의 개수를 줄이지는 않음  \n",
        "\n",
        "예시\n",
        "- 풀링 적용 전 특성 맵 : (2, 2, 3)\n",
        "- 풀링 적용 후 특성 맵 : (1, 1, 3)\n",
        "- 마지막 차원인 개수는 그대로 유지하고 너비와 높이만 줄어듦\n",
        "\n",
        "풀링에는 가중치가 없음  \n",
        "특성 맵에서 가장 큰 값(**최대 풀링, max pooling**)을 고르거나 평균값(**평균 풀링, average pooling**)을 계산함  \n",
        "- 평균 풀링의 경우 특성 맵에 있는 중요한 정볼르 평균하여 희석시킬 수 있음\n",
        "- 그렇기에 많은 경우 평균 풀링 보다 최대 풀링을 많이 사용함\n",
        "\n",
        "풀링은 합성곱과 달리 겹치지 않고 이동함  \n",
        "\n",
        "풀링의 특징\n",
        "- 가중치 없음\n",
        "- 풀링 크기와 스트라이드 같음 (겹치지 않고 이동)\n",
        "- 패딩 없음"
      ],
      "metadata": {
        "id": "dB-bcU7G-fLD"
      }
    },
    {
      "cell_type": "code",
      "source": [
        "keras.layers.MaxPooling2D(2)"
      ],
      "metadata": {
        "colab": {
          "base_uri": "https://localhost:8080/"
        },
        "id": "Ds2g4Kc3AYH1",
        "outputId": "bfe6bc2a-f861-49ef-ca29-d5b17a43101a"
      },
      "execution_count": null,
      "outputs": [
        {
          "output_type": "execute_result",
          "data": {
            "text/plain": [
              "<keras.src.layers.pooling.max_pooling2d.MaxPooling2D at 0x7901c4ab4820>"
            ]
          },
          "metadata": {},
          "execution_count": 4
        }
      ]
    },
    {
      "cell_type": "markdown",
      "source": [
        "## 합성곱 신경망의 전체 구조\n",
        "- 합성곱 층\n",
        "- 풀링 층\n",
        "- 밀집 층"
      ],
      "metadata": {
        "id": "IHUYSrulAuR2"
      }
    },
    {
      "cell_type": "markdown",
      "source": [
        "### 컬러 이미지를 사용한 합성곱\n",
        "\n",
        "- 컬러 이미지는 RGB 채널(3차원)로 구성되어 있음\n",
        "- 너비와 높이 차원 외에 깊이 차원(채널 차원)이 있음\n",
        "\n",
        "- 입력: (4, 4) -> (4, 4, 3)\n",
        "  - 마지막의 3이 깊이 차원\n",
        "- 필터의 커널 크기: (3, 3) -> (3, 3, 3)\n",
        "- 커널 배열의 깊이는 항상 입력의 깊이와 같음\n",
        "- 입력이나 필터의 차원이 몇 개인지 상관없이 항상 출력은 하나의 값\n",
        "  - 입력: (4, 4, 4), 커널: (3, 3, 3)\n",
        "  - 출력(특성맵): (2, 2)\n"
      ],
      "metadata": {
        "id": "XwpnKvd6BZjg"
      }
    },
    {
      "cell_type": "markdown",
      "source": [
        "합성곱 층 - 풀링 층 - 합성곱 층\n",
        "\n",
        "- 첫 번째 합성곱 층의 필터 개수: 5개\n",
        "- 첫 번째 풀링 층을 통과한 특성 맵의 크기: (4, 4, 5)\n",
        "\n",
        "\n",
        "- 두 번째 합성곱 층의 필터의의 너비와 높이가 각각 3\n",
        "- 필터의 커널 크기: (3, 3, 5)\n",
        "- 두 번째 합성곱 층의 필터 개수가 10개라면\n",
        "- 특성 맵의 크기는 (2, 2, 10)"
      ],
      "metadata": {
        "id": "t3nXUnaIGVxj"
      }
    },
    {
      "cell_type": "markdown",
      "source": [
        "합성곱 신경망에서 필터는 이미지에 있는 어떤 특징을 찾는다고 생각할 수 있음  \n",
        "처음에는 간단한 기본적인 특징(직선, 곡선 등)을 찾고 깊어질수록 다양하고 구체적인 특징을 감지할 수 있도록 필터의 개수를 늘림  \n",
        "또한 어떤 특징이 이미지의 어느 위치에 놓이더라도 쉽게 감지할 수 있도록 너비와 높이 차원을 점점 줄여가는 것임"
      ],
      "metadata": {
        "id": "__X_KivNHSHI"
      }
    }
  ]
}